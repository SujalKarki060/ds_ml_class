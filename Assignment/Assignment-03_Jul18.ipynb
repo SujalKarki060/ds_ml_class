{
 "cells": [
  {
   "cell_type": "markdown",
   "id": "119ef6a9",
   "metadata": {},
   "source": [
    "### Math Tutor Using Random, Arithmetic Operators, and OOP\n",
    "\n",
    "*Scenario:*\n",
    "Create a `MathTutor` class that generates random math questions using `random` and `math operators`.\n",
    "\n",
    "* Track correct and incorrect answers.\n",
    "* Provide a score at the end.\n",
    "* Handle invalid input using exception handling.\n",
    "\n",
    "> Concepts: Random, Math, Exception Handling, Classes"
   ]
  },
  {
   "cell_type": "code",
   "execution_count": 4,
   "id": "77dc396f",
   "metadata": {},
   "outputs": [
    {
     "name": "stdin",
     "output_type": "stream",
     "text": [
      "Enter number of questions:  -1\n"
     ]
    },
    {
     "name": "stdout",
     "output_type": "stream",
     "text": [
      "Invalid input: Number must be positive.. Defaulting to 5 questions.\n",
      "Welcome to Math Tutor!\n",
      "\n"
     ]
    },
    {
     "name": "stdin",
     "output_type": "stream",
     "text": [
      "Q1: What is 3 - 11?  6\n"
     ]
    },
    {
     "name": "stdout",
     "output_type": "stream",
     "text": [
      "Incorrect. The correct answer was -8.\n",
      "\n"
     ]
    },
    {
     "name": "stdin",
     "output_type": "stream",
     "text": [
      "Q2: What is 18 + 9?  27\n"
     ]
    },
    {
     "name": "stdout",
     "output_type": "stream",
     "text": [
      "Correct!\n",
      "\n"
     ]
    },
    {
     "name": "stdin",
     "output_type": "stream",
     "text": [
      "Q3: What is 16 - 20?  -4\n"
     ]
    },
    {
     "name": "stdout",
     "output_type": "stream",
     "text": [
      "Correct!\n",
      "\n"
     ]
    },
    {
     "name": "stdin",
     "output_type": "stream",
     "text": [
      "Q4: What is 8 + 15?  23\n"
     ]
    },
    {
     "name": "stdout",
     "output_type": "stream",
     "text": [
      "Correct!\n",
      "\n"
     ]
    },
    {
     "name": "stdin",
     "output_type": "stream",
     "text": [
      "Q5: What is 144 / 18?  5\n"
     ]
    },
    {
     "name": "stdout",
     "output_type": "stream",
     "text": [
      "Incorrect. The correct answer was 8.\n",
      "\n",
      "Quiz Finished!\n",
      "Correct Answers: 3\n",
      "Incorrect Answers: 2\n",
      "Final Score: 3 / 5\n"
     ]
    }
   ],
   "source": [
    "# Your Solution Here\n",
    "import random\n",
    "\n",
    "class InvalidInputError(Exception):\n",
    "    \"\"\"Custom exception for invalid user input.\"\"\"\n",
    "    pass\n",
    "\n",
    "class MathTutor:\n",
    "    def __init__(self, num_questions: int = 5):\n",
    "        self.num_questions = num_questions\n",
    "        self.score = 0\n",
    "        self.correct = 0\n",
    "        self.incorrect = 0\n",
    "\n",
    "    def generate_question(self) -> tuple[str, int]:\n",
    "        \"\"\"Generate a random arithmetic question and answer.\"\"\"\n",
    "        num1 = random.randint(1, 20)\n",
    "        num2 = random.randint(1, 20)\n",
    "        operator = random.choice(['+', '-', '*', '/'])\n",
    "\n",
    "        if operator == '+':\n",
    "            answer = num1 + num2\n",
    "        elif operator == '-':\n",
    "            answer = num1 - num2\n",
    "        elif operator == '*':\n",
    "            answer = num1 * num2\n",
    "        elif operator == '/':\n",
    "            num1 = num1 * num2  # ensure clean division\n",
    "            answer = num1 // num2\n",
    "\n",
    "        question = f\"{num1} {operator} {num2}\"\n",
    "        return question, answer\n",
    "\n",
    "    def get_user_input(self, prompt: str) -> int:\n",
    "        \"\"\"Get and validate user input.\"\"\"\n",
    "        user_input = input(prompt)\n",
    "        if not user_input.strip().lstrip('-').isdigit():\n",
    "            raise InvalidInputError(\"Input must be an integer.\")\n",
    "        return int(user_input)\n",
    "\n",
    "    def run_quiz(self):\n",
    "        print(\"Welcome to Math Tutor!\\n\")\n",
    "        for i in range(1, self.num_questions + 1):\n",
    "            question, correct_answer = self.generate_question()\n",
    "\n",
    "            while True:\n",
    "                try:\n",
    "                    user_answer = self.get_user_input(f\"Q{i}: What is {question}? \")\n",
    "                    break\n",
    "                except InvalidInputError as e:\n",
    "                    print(f\"Error: {e}. Please try again.\\n\")\n",
    "\n",
    "            if user_answer == correct_answer:\n",
    "                print(\"Correct!\\n\")\n",
    "                self.score += 1\n",
    "                self.correct += 1\n",
    "            else:\n",
    "                print(f\"Incorrect. The correct answer was {correct_answer}.\\n\")\n",
    "                self.incorrect += 1\n",
    "\n",
    "        self.show_result()\n",
    "\n",
    "    def show_result(self):\n",
    "        \"\"\"Display final score and summary.\"\"\"\n",
    "        print(\"Quiz Finished!\")\n",
    "        print(f\"Correct Answers: {self.correct}\")\n",
    "        print(f\"Incorrect Answers: {self.incorrect}\")\n",
    "        print(f\"Final Score: {self.score} / {self.num_questions}\")\n",
    "\n",
    "\n",
    "if __name__ == \"__main__\":\n",
    "    try:\n",
    "        total_questions = int(input(\"Enter number of questions: \"))\n",
    "        if total_questions <= 0:\n",
    "            raise ValueError(\"Number must be positive.\")\n",
    "    except ValueError as e:\n",
    "        print(f\"Invalid input: {e}. Defaulting to 5 questions.\")\n",
    "        total_questions = 5\n",
    "\n",
    "    tutor = MathTutor(num_questions=total_questions)\n",
    "    tutor.run_quiz()\n"
   ]
  },
  {
   "cell_type": "markdown",
   "id": "360b4034",
   "metadata": {},
   "source": [
    "### Multi-file Project Using Modules and Packages\n",
    "\n",
    "*Scenario:*\n",
    "You're building a small finance app.\n",
    "\n",
    "* Create a package `finance_tools` with modules: `tax.py` and `loan.py`.\n",
    "* Each module contains utility functions like `calculate_tax()` and `calculate_emi()`.\n",
    "* Import and use them in a main script that takes user input to do both.\n",
    "\n",
    "> Concepts: Packages, Modules, Importing, Separation of Concerns\n"
   ]
  },
  {
   "cell_type": "code",
   "execution_count": 3,
   "id": "fbf73825",
   "metadata": {},
   "outputs": [
    {
     "name": "stdout",
     "output_type": "stream",
     "text": [
      "Welcome to the Finance App\n"
     ]
    },
    {
     "name": "stdin",
     "output_type": "stream",
     "text": [
      "Enter your annual income:  51000\n"
     ]
    },
    {
     "name": "stdout",
     "output_type": "stream",
     "text": [
      "Calculated Tax: 7650.00\n"
     ]
    },
    {
     "name": "stdin",
     "output_type": "stream",
     "text": [
      "\n",
      "Enter loan amount:  53000\n",
      "Enter annual interest rate (%):  12\n",
      "Enter loan duration (years):  3\n"
     ]
    },
    {
     "name": "stdout",
     "output_type": "stream",
     "text": [
      "Calculated EMI: 1760.36\n"
     ]
    }
   ],
   "source": [
    "# Your Solution Here\n",
    "import sys\n",
    "import os\n",
    "\n",
    "# Change working directory to 'finance_app' if not already there\n",
    "if 'finance_tools' not in sys.modules:\n",
    "    sys.path.append(os.path.abspath(\"finance_app\"))\n",
    "\n",
    "from finance_tools.tax import calculate_tax\n",
    "from finance_tools.loan import calculate_emi\n",
    "\n",
    "def main():\n",
    "    print(\"Welcome to the Finance App\")\n",
    "\n",
    "    # Tax Calculation\n",
    "    try:\n",
    "        income = float(input(\"Enter your annual income: \"))\n",
    "        tax = calculate_tax(income)\n",
    "        print(f\"Calculated Tax: {tax:.2f}\")\n",
    "    except ValueError as e:\n",
    "        print(f\"Error in tax calculation: {e}\")\n",
    "\n",
    "    # EMI Calculation\n",
    "    try:\n",
    "        principal = float(input(\"\\nEnter loan amount: \"))\n",
    "        annual_rate = float(input(\"Enter annual interest rate (%): \"))\n",
    "        years = int(input(\"Enter loan duration (years): \"))\n",
    "        emi = calculate_emi(principal, annual_rate, years)\n",
    "        print(f\"Calculated EMI: {emi}\")\n",
    "    except ValueError as e:\n",
    "        print(f\"Error in EMI calculation: {e}\")\n",
    "\n",
    "if __name__ == \"__main__\":\n",
    "    main()\n"
   ]
  },
  {
   "cell_type": "markdown",
   "id": "1ecd8aa7",
   "metadata": {},
   "source": [
    "### Exception Handling Scenario: Online Age-Restricted Service\n",
    "\n",
    "**Scenario:**\n",
    "You’re building a sign-up system for an online movie rental platform. Some movies are age-restricted (18+). You need to ensure proper validation and error handling during user registration.\n",
    "\n",
    "**Task:**\n",
    "\n",
    "1. Create a custom exception class called `UnderageError` that inherits from `Exception`.\n",
    "2. Write a function `register_user()` that:\n",
    "\n",
    "   * Takes a user’s `name` and `age` as input.\n",
    "   * Raises `UnderageError` if the user is under 18.\n",
    "   * Otherwise, prints a welcome message.\n",
    "3. Wrap the function call in a `try` block and handle the exception.\n",
    "4. Use `else` to confirm successful registration and `finally` to always print **“Thank you for using MovieTime!”** regardless of outcome.\n",
    "\n",
    "Also try to validate if the age input is numeric. Raise a `ValueError` if not, and handle it separately.\n",
    "\n"
   ]
  },
  {
   "cell_type": "code",
   "execution_count": 3,
   "id": "3fd54170",
   "metadata": {},
   "outputs": [
    {
     "name": "stdin",
     "output_type": "stream",
     "text": [
      "Enter your name:  Sujal\n",
      "Enter your age:  21\n"
     ]
    },
    {
     "name": "stdout",
     "output_type": "stream",
     "text": [
      "Welcome to MovieTime, Sujal!\n",
      "Registration completed successfully.\n",
      "Thank you for using MovieTime!\n"
     ]
    }
   ],
   "source": [
    "# Your Solution Here\n",
    "# 1. Custom Exception Class\n",
    "class UnderageError(Exception):\n",
    "    \"\"\"Raised when the user is under 18.\"\"\"\n",
    "    pass\n",
    "\n",
    "# 2. Function for User Registration\n",
    "def register_user():\n",
    "    name = input(\"Enter your name: \")\n",
    "    age_input = input(\"Enter your age: \")\n",
    "\n",
    "    # 2a. Validate if input is numeric\n",
    "    if not age_input.isdigit():\n",
    "        raise ValueError(\"Age must be a numeric value.\")\n",
    "\n",
    "    age = int(age_input)\n",
    "\n",
    "    # 2b. Check age restriction\n",
    "    if age < 18:\n",
    "        raise UnderageError(\"You must be 18 or older to register.\")\n",
    "\n",
    "    # If all is good\n",
    "    print(f\"Welcome to MovieTime, {name}!\")\n",
    "\n",
    "# 3. Exception Handling Logic\n",
    "try:\n",
    "    register_user()\n",
    "except ValueError as ve:\n",
    "    print(f\"Invalid input: {ve}\")\n",
    "except UnderageError as ue:\n",
    "    print(f\"Registration failed: {ue}\")\n",
    "else:\n",
    "    print(\"Registration completed successfully.\")\n",
    "finally:\n",
    "    print(\"Thank you for using MovieTime!\")\n"
   ]
  },
  {
   "cell_type": "markdown",
   "id": "7e76d9b4",
   "metadata": {},
   "source": [
    "# Problem Statement\n",
    "\n",
    "We want to build an online shopping cart system that allows users to add products to their cart, calculate the total cost, apply discounts, and generate an invoice. The system should include the following functionalities:\n",
    "\n",
    "- Adding products to the cart\n",
    "- Removing products from the cart\n",
    "- Calculating the total cost\n",
    "- Applying discounts based on user type\n",
    "- Generating an invoice\n",
    "\n",
    "### 1. Create the Product class\n",
    "\n",
    "We create a basic `Product` class with attributes for the product name and price."
   ]
  },
  {
   "cell_type": "code",
   "execution_count": 5,
   "id": "a286f01a",
   "metadata": {},
   "outputs": [],
   "source": [
    "# Your Solution Here\n",
    "class Product:\n",
    "    def __init__(self, name: str, price: float):\n",
    "        self.name = name\n",
    "        self.price = price\n",
    "\n",
    "    def __str__(self):\n",
    "        return f\"{self.name} - ${self.price:}\"\n"
   ]
  },
  {
   "cell_type": "markdown",
   "id": "0c9aa397",
   "metadata": {},
   "source": [
    "### 2.  Implement the User class\n",
    "\n",
    "In this step, we create a `User` class with attributes for the user's name and whether they are a premium member."
   ]
  },
  {
   "cell_type": "code",
   "execution_count": 6,
   "id": "3393e953",
   "metadata": {},
   "outputs": [],
   "source": [
    "# Your Solution Here\n",
    "class User:\n",
    "    def __init__(self, name: str, is_premium: bool = False):\n",
    "        self.name = name\n",
    "        self.is_premium = is_premium\n",
    "\n",
    "    def __repr__(self):\n",
    "        status = \"Premium\" if self.is_premium else \"Standard\"\n",
    "        return f\"User(name='{self.name}', status='{status}')\"\n"
   ]
  },
  {
   "cell_type": "markdown",
   "id": "3b7e070b",
   "metadata": {},
   "source": [
    "### 3. Create the ShoppingCart class\n",
    "\n",
    "In this step, we create a `ShoppingCart` class with methods for adding and removing products from the cart, as well as calculating the total cost of the items in the cart.\n",
    "\n",
    "**Note**: Define `calculate_total_cost` method in the `ShoppingCart` class, that applies a `10%` discount to the total cost if you are `premium` User."
   ]
  },
  {
   "cell_type": "code",
   "execution_count": 7,
   "id": "c0b5196d",
   "metadata": {},
   "outputs": [],
   "source": [
    "# Your Solution Here\n",
    "class ShoppingCart:\n",
    "    def __init__(self, user: User):\n",
    "        self.user = user\n",
    "        self.products = []  # list to hold products added to the cart\n",
    "\n",
    "    def add_product(self, product):\n",
    "        self.products.append(product)\n",
    "\n",
    "    def remove_product(self, product):\n",
    "        try:\n",
    "            self.products.remove(product)\n",
    "        except ValueError:\n",
    "            print(\"Product not found in the cart.\")\n",
    "\n",
    "    def calculate_total_cost(self) -> float:\n",
    "        total = sum(product.price for product in self.products)\n",
    "        if self.user.is_premium:\n",
    "            total *= 0.9  # Apply 10% discount for premium users\n",
    "        return total\n",
    "\n",
    "    def __repr__(self):\n",
    "        return f\"ShoppingCart(user={self.user}, products={self.products})\"\n"
   ]
  },
  {
   "cell_type": "markdown",
   "id": "afc26053",
   "metadata": {},
   "source": [
    "### 4. Testing the functionality\n",
    "\n",
    "Now that we have implemented the necessary classes and methods, let's test our online shopping cart system:"
   ]
  },
  {
   "cell_type": "code",
   "execution_count": 9,
   "id": "6186bdcb",
   "metadata": {},
   "outputs": [
    {
     "name": "stdout",
     "output_type": "stream",
     "text": [
      "Standard Total: $1545\n",
      "Premium Total (10% off): $1390.5\n"
     ]
    }
   ],
   "source": [
    "# Your Solution Here\n",
    "def test_cart():\n",
    "    user_std = User(\"John\")\n",
    "    user_prem = User(\"Jane\", is_premium=True)\n",
    "\n",
    "    p1 = Product(\"Laptop\", 1500)\n",
    "    p2 = Product(\"Mouse\", 25)\n",
    "    p3 = Product(\"Keyboard\", 45)\n",
    "\n",
    "    cart_std = ShoppingCart(user_std)\n",
    "    cart_prem = ShoppingCart(user_prem)\n",
    "\n",
    "    cart_std.add_product(p1)\n",
    "    cart_std.add_product(p2)\n",
    "    cart_std.add_product(p3)\n",
    "    cart_std.remove_product(p2)  # remove Mouse\n",
    "\n",
    "    cart_prem.add_product(p1)\n",
    "    cart_prem.add_product(p3)\n",
    "\n",
    "    print(f\"Standard Total: ${cart_std.calculate_total_cost():}\")\n",
    "    print(f\"Premium Total (10% off): ${cart_prem.calculate_total_cost():}\")\n",
    "\n",
    "test_cart()\n"
   ]
  },
  {
   "cell_type": "markdown",
   "id": "7ea7c96e",
   "metadata": {},
   "source": [
    "### 5. Generating Invoice for a given cart"
   ]
  },
  {
   "cell_type": "code",
   "execution_count": 11,
   "id": "c727607d-74ed-4609-bc88-3a14049c162f",
   "metadata": {},
   "outputs": [
    {
     "name": "stdout",
     "output_type": "stream",
     "text": [
      "Invoice for Sujal\n",
      "------------------------------\n",
      "Laptop               $ 1500.00\n",
      "Mouse                $   25.00\n",
      "------------------------------\n",
      "Subtotal:           $ 1525.00\n",
      "Premium Discount:  -$  152.50\n",
      "------------------------------\n",
      "Total:              $ 1372.50\n"
     ]
    }
   ],
   "source": [
    "# Your Solution Here\n",
    "class InvoiceGenerator:\n",
    "    def __init__(self, cart: ShoppingCart):\n",
    "        self.cart = cart\n",
    "\n",
    "    def generate(self) -> str:\n",
    "        lines = [f\"Invoice for {self.cart.user.name}\", \"-\" * 30]\n",
    "        total = 0.0\n",
    "        for product in self.cart.products:\n",
    "            lines.append(f\"{product.name:20} ${product.price:8.2f}\")\n",
    "            total += product.price\n",
    "\n",
    "        discount = 0.0\n",
    "        if self.cart.user.is_premium:\n",
    "            discount = total * 0.1\n",
    "            lines.append(\"-\" * 30)\n",
    "            lines.append(f\"Subtotal:           ${total:8.2f}\")\n",
    "            lines.append(f\"Premium Discount:  -${discount:8.2f}\")\n",
    "\n",
    "        final_total = total - discount\n",
    "        lines.append(\"-\" * 30)\n",
    "        lines.append(f\"Total:              ${final_total:8.2f}\")\n",
    "\n",
    "        return \"\\n\".join(lines)\n",
    "\n",
    "user = User(\"Sujal\", is_premium=True)\n",
    "cart = ShoppingCart(user)\n",
    "\n",
    "cart.add_product(Product(\"Laptop\", 1500))\n",
    "cart.add_product(Product(\"Mouse\", 25))\n",
    "\n",
    "invoice_gen = InvoiceGenerator(cart)\n",
    "print(invoice_gen.generate())"
   ]
  },
  {
   "cell_type": "code",
   "execution_count": null,
   "id": "59e0bc19-36f6-4f4f-9d96-994e0dc19b59",
   "metadata": {},
   "outputs": [],
   "source": []
  }
 ],
 "metadata": {
  "kernelspec": {
   "display_name": "Python 3 (ipykernel)",
   "language": "python",
   "name": "python3"
  },
  "language_info": {
   "codemirror_mode": {
    "name": "ipython",
    "version": 3
   },
   "file_extension": ".py",
   "mimetype": "text/x-python",
   "name": "python",
   "nbconvert_exporter": "python",
   "pygments_lexer": "ipython3",
   "version": "3.13.5"
  }
 },
 "nbformat": 4,
 "nbformat_minor": 5
}
