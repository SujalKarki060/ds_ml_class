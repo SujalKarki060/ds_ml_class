{
 "cells": [
  {
   "cell_type": "code",
   "execution_count": 1,
   "id": "9365ce45-a6b3-42da-bf3a-c5b69dc4d1a9",
   "metadata": {},
   "outputs": [],
   "source": [
    "import re"
   ]
  },
  {
   "cell_type": "code",
   "execution_count": 41,
   "id": "9c88f0c0-52c8-48e6-bce0-19338e39c59c",
   "metadata": {},
   "outputs": [],
   "source": [
    "string = \"The quick brown fox jumps over the lazy dog.\"\n",
    "pattern = r\"he\"\n",
    "match = re.search(pattern, string)"
   ]
  },
  {
   "cell_type": "code",
   "execution_count": 42,
   "id": "376eb924-af33-4361-8b54-a574545336d7",
   "metadata": {},
   "outputs": [
    {
     "data": {
      "text/plain": [
       "<re.Match object; span=(1, 3), match='he'>"
      ]
     },
     "execution_count": 42,
     "metadata": {},
     "output_type": "execute_result"
    }
   ],
   "source": [
    "match"
   ]
  },
  {
   "cell_type": "code",
   "execution_count": 43,
   "id": "3580b05b-27d0-4ce7-9329-1572173c727e",
   "metadata": {},
   "outputs": [
    {
     "data": {
      "text/plain": [
       "'he'"
      ]
     },
     "execution_count": 43,
     "metadata": {},
     "output_type": "execute_result"
    }
   ],
   "source": [
    "match.group()"
   ]
  },
  {
   "cell_type": "code",
   "execution_count": 44,
   "id": "2d3a0ce2-af87-42d2-af4e-e50f9fd4c12c",
   "metadata": {},
   "outputs": [
    {
     "name": "stdout",
     "output_type": "stream",
     "text": [
      "Match Object: <re.Match object; span=(1, 3), match='he'>\n",
      "Match Group: he\n",
      "Match Start: 1\n",
      "Match End: 3\n",
      "Match Span: (1, 3)\n"
     ]
    }
   ],
   "source": [
    "#Using re.search() with conditional expressions\n",
    "if match:\n",
    "    print(\"Match Object:\",match)\n",
    "    print(\"Match Group:\",match.group())\n",
    "    print(\"Match Start:\",match.start())\n",
    "    print(\"Match End:\",match.end())\n",
    "    print(\"Match Span:\",match.span())\n",
    "else:\n",
    "    print(\"No match found!\")"
   ]
  },
  {
   "cell_type": "code",
   "execution_count": 45,
   "id": "8dba1430-e8bc-4d62-8ea7-4efaaf0e9035",
   "metadata": {},
   "outputs": [],
   "source": [
    "string = \"The quick brown fox jumps over the lazy dog.\"\n",
    "pattern = r\"[A-z]he\"\n",
    "match = re.findall(pattern, string)"
   ]
  },
  {
   "cell_type": "code",
   "execution_count": 46,
   "id": "ee11ae21-b0b2-4e91-b508-eaf5fde6cdea",
   "metadata": {},
   "outputs": [
    {
     "data": {
      "text/plain": [
       "['The', 'the']"
      ]
     },
     "execution_count": 46,
     "metadata": {},
     "output_type": "execute_result"
    }
   ],
   "source": [
    "match"
   ]
  },
  {
   "cell_type": "code",
   "execution_count": 47,
   "id": "37fc911d-8022-421f-ba94-748fd2f02e3c",
   "metadata": {},
   "outputs": [],
   "source": [
    "string = \"The quick brown fox jumps over the 40 m tall lazy dog.\"\n",
    "pattern = r\"[0-9]+\"\n",
    "repl = \"--\"\n",
    "match = re.sub(pattern, repl, string, count=1)"
   ]
  },
  {
   "cell_type": "code",
   "execution_count": 48,
   "id": "adebb796-c8fa-413b-8a25-7b788ed8a52a",
   "metadata": {},
   "outputs": [
    {
     "data": {
      "text/plain": [
       "'The quick brown fox jumps over the -- m tall lazy dog.'"
      ]
     },
     "execution_count": 48,
     "metadata": {},
     "output_type": "execute_result"
    }
   ],
   "source": [
    "match"
   ]
  },
  {
   "cell_type": "code",
   "execution_count": 49,
   "id": "1ab344eb-c243-4369-9bad-13fd950d61c8",
   "metadata": {},
   "outputs": [],
   "source": [
    "string = \"The quick brown fox jumps over the 40 m tall lazy dog.\"\n",
    "pattern = r\"[0-9]+\"\n",
    "\n",
    "segments = re.split(pattern, string)"
   ]
  },
  {
   "cell_type": "code",
   "execution_count": 50,
   "id": "e3e4fbb7-4b1b-40cf-9896-2afbe97eea64",
   "metadata": {},
   "outputs": [
    {
     "data": {
      "text/plain": [
       "['The quick brown fox jumps over the ', ' m tall lazy dog.']"
      ]
     },
     "execution_count": 50,
     "metadata": {},
     "output_type": "execute_result"
    }
   ],
   "source": [
    "segments"
   ]
  },
  {
   "cell_type": "code",
   "execution_count": null,
   "id": "d2d1a220-5082-4844-83c4-e1461af3b212",
   "metadata": {},
   "outputs": [],
   "source": []
  }
 ],
 "metadata": {
  "kernelspec": {
   "display_name": "Python 3 (ipykernel)",
   "language": "python",
   "name": "python3"
  },
  "language_info": {
   "codemirror_mode": {
    "name": "ipython",
    "version": 3
   },
   "file_extension": ".py",
   "mimetype": "text/x-python",
   "name": "python",
   "nbconvert_exporter": "python",
   "pygments_lexer": "ipython3",
   "version": "3.13.5"
  }
 },
 "nbformat": 4,
 "nbformat_minor": 5
}
