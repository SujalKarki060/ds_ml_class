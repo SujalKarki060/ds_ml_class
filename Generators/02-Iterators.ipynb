{
 "cells": [
  {
   "cell_type": "code",
   "execution_count": 9,
   "id": "8d39954b-2f3e-4f9a-aec7-461f6e3985ce",
   "metadata": {},
   "outputs": [],
   "source": [
    "class Fibonacci:\n",
    "    def __init__(self,limit):\n",
    "        self.limit = limit\n",
    "\n",
    "        self.current = 0\n",
    "        self.next = 1\n",
    "        self.step = 0\n",
    "\n",
    "    def __iter__(self):\n",
    "        return self\n",
    "\n",
    "    def __next__(self):\n",
    "        if self.step >= self.limit +1:\n",
    "            raise StopIteration\n",
    "        \n",
    "        result = self.current\n",
    "        self.current, self.next= self.next , self.current + self.next\n",
    "        self.step += 1\n",
    "\n",
    "        return result"
   ]
  },
  {
   "cell_type": "code",
   "execution_count": 10,
   "id": "6bfd859c-6d65-4c6f-a867-9860cfa0b480",
   "metadata": {},
   "outputs": [],
   "source": [
    "fib = Fibonacci(10)"
   ]
  },
  {
   "cell_type": "code",
   "execution_count": 11,
   "id": "abb3ff28-24ba-4b36-9c25-af97dd536708",
   "metadata": {},
   "outputs": [
    {
     "name": "stdout",
     "output_type": "stream",
     "text": [
      "0\n",
      "1\n",
      "1\n",
      "2\n",
      "3\n",
      "5\n",
      "8\n",
      "13\n",
      "21\n",
      "34\n",
      "55\n"
     ]
    }
   ],
   "source": [
    "for num in fib:\n",
    "    print(num)"
   ]
  },
  {
   "cell_type": "code",
   "execution_count": null,
   "id": "bc40ac55-de3f-484e-810d-c94f239f256f",
   "metadata": {},
   "outputs": [],
   "source": []
  }
 ],
 "metadata": {
  "kernelspec": {
   "display_name": "Python 3 (ipykernel)",
   "language": "python",
   "name": "python3"
  },
  "language_info": {
   "codemirror_mode": {
    "name": "ipython",
    "version": 3
   },
   "file_extension": ".py",
   "mimetype": "text/x-python",
   "name": "python",
   "nbconvert_exporter": "python",
   "pygments_lexer": "ipython3",
   "version": "3.13.5"
  }
 },
 "nbformat": 4,
 "nbformat_minor": 5
}
