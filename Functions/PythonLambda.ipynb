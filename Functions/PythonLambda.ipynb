{
 "cells": [
  {
   "cell_type": "code",
   "execution_count": 1,
   "id": "0f9a39ed-8fb3-498d-b11b-8ec0a3f99121",
   "metadata": {},
   "outputs": [],
   "source": [
    "#usual way\n",
    "def add(x,y):\n",
    "    return x+y\n",
    "    "
   ]
  },
  {
   "cell_type": "code",
   "execution_count": 2,
   "id": "8b5ff0ef-4b94-4950-97ef-5bb0e2951784",
   "metadata": {},
   "outputs": [
    {
     "data": {
      "text/plain": [
       "9"
      ]
     },
     "execution_count": 2,
     "metadata": {},
     "output_type": "execute_result"
    }
   ],
   "source": [
    "add(4,5)"
   ]
  },
  {
   "cell_type": "code",
   "execution_count": 3,
   "id": "96fbe01f-4020-4dfe-83da-a209f15f68da",
   "metadata": {},
   "outputs": [],
   "source": [
    "add_lambda = lambda x,y:x+y\n"
   ]
  },
  {
   "cell_type": "code",
   "execution_count": 4,
   "id": "9522d7dc-983d-401d-8e6e-0a7a27aee923",
   "metadata": {},
   "outputs": [
    {
     "data": {
      "text/plain": [
       "function"
      ]
     },
     "execution_count": 4,
     "metadata": {},
     "output_type": "execute_result"
    }
   ],
   "source": [
    "type(add_lambda)"
   ]
  },
  {
   "cell_type": "code",
   "execution_count": 5,
   "id": "10ad0a86-2b2f-4ed5-adf6-82e4a3699fa3",
   "metadata": {},
   "outputs": [
    {
     "data": {
      "text/plain": [
       "10"
      ]
     },
     "execution_count": 5,
     "metadata": {},
     "output_type": "execute_result"
    }
   ],
   "source": [
    "add_lambda(4,6)"
   ]
  },
  {
   "cell_type": "code",
   "execution_count": 9,
   "id": "caf90015-7817-48f6-8639-ddd13bd7a3f8",
   "metadata": {},
   "outputs": [],
   "source": [
    "calculate_area = lambda l,b,h: 2 *(l*b + b*h + h*l)\n"
   ]
  },
  {
   "cell_type": "code",
   "execution_count": 11,
   "id": "8a594ab1-461b-4015-98e1-651ec6bb9b0d",
   "metadata": {},
   "outputs": [
    {
     "name": "stdout",
     "output_type": "stream",
     "text": [
      "The total surface area of the cuboid is: 94\n"
     ]
    }
   ],
   "source": [
    "total_area = calculate_area(3,4,5)\n",
    "print(f\"The total surface area of the cuboid is: {total_area}\")"
   ]
  },
  {
   "cell_type": "code",
   "execution_count": 12,
   "id": "b773ae73-cd56-44b4-9d09-ae6259c7083f",
   "metadata": {},
   "outputs": [],
   "source": [
    "def get_discount(x):\n",
    "    return x*0.9 if x > 100 else x\n",
    "        "
   ]
  },
  {
   "cell_type": "code",
   "execution_count": 13,
   "id": "2148f951-bf28-4294-84b7-acf2c7686134",
   "metadata": {},
   "outputs": [
    {
     "data": {
      "text/plain": [
       "100"
      ]
     },
     "execution_count": 13,
     "metadata": {},
     "output_type": "execute_result"
    }
   ],
   "source": [
    "get_discount(100)"
   ]
  },
  {
   "cell_type": "code",
   "execution_count": 14,
   "id": "2f0397d7-13ef-4d08-bb97-fc8ab070bf8c",
   "metadata": {},
   "outputs": [],
   "source": [
    "prices = [45, 120, 200, 75, 150]"
   ]
  },
  {
   "cell_type": "code",
   "execution_count": 29,
   "id": "34241498-77c1-4e27-91cf-e12490cdb0a3",
   "metadata": {},
   "outputs": [
    {
     "name": "stdout",
     "output_type": "stream",
     "text": [
      "CPU times: total: 0 ns\n",
      "Wall time: 2.5 ms\n"
     ]
    },
    {
     "data": {
      "text/plain": [
       "[45, 108.0, 180.0, 75, 135.0]"
      ]
     },
     "execution_count": 29,
     "metadata": {},
     "output_type": "execute_result"
    }
   ],
   "source": [
    "%%time\n",
    "\n",
    "get_discount = lambda x:x*0.9 if x>100 else x\n",
    "prices = [45, 120, 200, 75, 150]\n",
    "discount_list = map(get_discount,prices)\n",
    "list(discount_list)\n"
   ]
  },
  {
   "cell_type": "code",
   "execution_count": null,
   "id": "d886a7c8-30e0-4055-ba4c-419a1cda0778",
   "metadata": {},
   "outputs": [],
   "source": []
  },
  {
   "cell_type": "code",
   "execution_count": null,
   "id": "edd59965-5eb7-4df9-8bec-c8b46ba21d86",
   "metadata": {},
   "outputs": [],
   "source": []
  },
  {
   "cell_type": "code",
   "execution_count": null,
   "id": "f5ac214b-02d3-46fe-9a9c-bc67142e312e",
   "metadata": {},
   "outputs": [],
   "source": []
  }
 ],
 "metadata": {
  "kernelspec": {
   "display_name": "Python 3 (ipykernel)",
   "language": "python",
   "name": "python3"
  },
  "language_info": {
   "codemirror_mode": {
    "name": "ipython",
    "version": 3
   },
   "file_extension": ".py",
   "mimetype": "text/x-python",
   "name": "python",
   "nbconvert_exporter": "python",
   "pygments_lexer": "ipython3",
   "version": "3.13.5"
  }
 },
 "nbformat": 4,
 "nbformat_minor": 5
}
