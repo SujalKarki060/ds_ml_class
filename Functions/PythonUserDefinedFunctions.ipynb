{
 "cells": [
  {
   "cell_type": "code",
   "execution_count": 5,
   "id": "c586a7e2-173e-48d4-a6de-fd9758f72c3d",
   "metadata": {},
   "outputs": [
    {
     "name": "stdout",
     "output_type": "stream",
     "text": [
      "CPU times: total: 0 ns\n",
      "Wall time: 2.37 ms\n"
     ]
    },
    {
     "data": {
      "text/plain": [
       "20"
      ]
     },
     "execution_count": 5,
     "metadata": {},
     "output_type": "execute_result"
    }
   ],
   "source": [
    "%%time\n",
    "def sum_of_list(inp_list):\n",
    "    result = 0\n",
    "\n",
    "    for x in inp_list:\n",
    "        result += x\n",
    "\n",
    "    return result\n",
    "\n",
    "sum_of_list([2,4,6,8])"
   ]
  },
  {
   "cell_type": "code",
   "execution_count": 6,
   "id": "3a42e94f-1d05-42eb-b1c5-f60abc87520a",
   "metadata": {},
   "outputs": [],
   "source": [
    "def greet(name, greetings = \"Morning\"):\n",
    "    return f\"{greetings}, {name}\""
   ]
  },
  {
   "cell_type": "code",
   "execution_count": 7,
   "id": "addc29f2-5094-45da-856e-fc0e6ee97cfc",
   "metadata": {},
   "outputs": [
    {
     "data": {
      "text/plain": [
       "'Morning, Rohit'"
      ]
     },
     "execution_count": 7,
     "metadata": {},
     "output_type": "execute_result"
    }
   ],
   "source": [
    "greet(\"Rohit\")"
   ]
  },
  {
   "cell_type": "code",
   "execution_count": 8,
   "id": "05f5ccf4-23de-42c2-b9dd-20513e06eedf",
   "metadata": {},
   "outputs": [
    {
     "data": {
      "text/plain": [
       "'hi, Bob'"
      ]
     },
     "execution_count": 8,
     "metadata": {},
     "output_type": "execute_result"
    }
   ],
   "source": [
    "greet(\"Bob\", \"hi\")"
   ]
  },
  {
   "cell_type": "code",
   "execution_count": 9,
   "id": "83245636-87ce-49ea-92cf-dd6700edb422",
   "metadata": {},
   "outputs": [],
   "source": [
    "def print_args(*args):\n",
    "    print(\"Positional args\")\n",
    "    for arg in args:\n",
    "        print(arg)"
   ]
  },
  {
   "cell_type": "code",
   "execution_count": 10,
   "id": "e6cc7aac-e688-4b06-88b7-3409b8056563",
   "metadata": {},
   "outputs": [
    {
     "name": "stdout",
     "output_type": "stream",
     "text": [
      "Positional args\n",
      "1\n",
      "2\n",
      "3\n",
      "4\n",
      "5\n",
      "6\n",
      "[7, 8]\n",
      "ram\n"
     ]
    }
   ],
   "source": [
    "print_args(1,2,3,4,5,6,[7,8],\"ram\")"
   ]
  },
  {
   "cell_type": "code",
   "execution_count": 21,
   "id": "4826f041-d054-467f-bc8e-f7a01114b3d2",
   "metadata": {},
   "outputs": [],
   "source": [
    "def print_kargs(**kwargs):\n",
    "    print(\"Keyword args\")\n",
    "    print( kwargs)\n",
    "    length = kwargs.get(\"length\")"
   ]
  },
  {
   "cell_type": "code",
   "execution_count": 23,
   "id": "1ffa39b8-066b-4b67-9c30-386e7fe921ed",
   "metadata": {},
   "outputs": [
    {
     "name": "stdout",
     "output_type": "stream",
     "text": [
      "Keyword args\n",
      "{'length': 4, 'breadth': 5}\n"
     ]
    }
   ],
   "source": [
    "print_kargs(length=4,breadth=5)"
   ]
  },
  {
   "cell_type": "code",
   "execution_count": 25,
   "id": "17f9b235-19e7-4cd3-8be7-2b4a165a03be",
   "metadata": {},
   "outputs": [],
   "source": [
    "def print_arguments(*args, **kwargs):\n",
    "    print(\"Positional\")\n",
    "    print(args)\n",
    "    print(\"-\"*50)\n",
    "    print(\"Keywords\")\n",
    "    print(kwargs)"
   ]
  },
  {
   "cell_type": "code",
   "execution_count": 26,
   "id": "f7065350-a859-47df-b86b-3b4589cdd288",
   "metadata": {},
   "outputs": [
    {
     "name": "stdout",
     "output_type": "stream",
     "text": [
      "Positional\n",
      "('ram', 1, True)\n",
      "--------------------------------------------------\n",
      "Keywords\n",
      "{'score': [1, 4, 6], 'greet': 'Hello'}\n"
     ]
    }
   ],
   "source": [
    "print_arguments(\"ram\", 1, True, score =[1,4,6], greet=\"Hello\")"
   ]
  },
  {
   "cell_type": "code",
   "execution_count": 37,
   "id": "ef4265bd-82d1-48b7-b1c6-cbb4813ed333",
   "metadata": {},
   "outputs": [],
   "source": [
    "def square(n:int) -> int:\n",
    "    \"\"\"_summary_\n",
    "\n",
    "    Args:\n",
    "        n (int): Enter a number, int or float\n",
    "\n",
    "    Returns:\n",
    "        int: Returns back square of number\n",
    "    \"\"\"\n",
    "    return n ** 2"
   ]
  },
  {
   "cell_type": "code",
   "execution_count": 38,
   "id": "97388806-7cae-4347-a79d-7133d741d677",
   "metadata": {},
   "outputs": [
    {
     "data": {
      "text/plain": [
       "49"
      ]
     },
     "execution_count": 38,
     "metadata": {},
     "output_type": "execute_result"
    }
   ],
   "source": [
    "square(7)"
   ]
  },
  {
   "cell_type": "code",
   "execution_count": 16,
   "id": "47cf2769-d6d5-4432-a301-11bf175c42ba",
   "metadata": {},
   "outputs": [
    {
     "name": "stdout",
     "output_type": "stream",
     "text": [
      "2.6339134382131846\n"
     ]
    }
   ],
   "source": [
    "\n",
    "def calculate_standard_deviation(*numbers: int)->float:\n",
    "    \"\"\"Function to calculate standard deviation from list\"\"\"\n",
    "    n=len(numbers)\n",
    "    if n == 0:\n",
    "        return 0\n",
    "\n",
    "    mean= sum(numbers)/n\n",
    "    squared_diffs = [(x - mean) ** 2 for x in numbers]\n",
    "    variance= sum(squared_diffs)/n\n",
    "    std_deviation = variance ** 0.5\n",
    "    return std_deviation\n",
    "\n",
    "result = calculate_standard_deviation(5, 7, 3, 7, 10, 12, 8, 6)\n",
    "print(result)"
   ]
  },
  {
   "cell_type": "code",
   "execution_count": null,
   "id": "8bda41cb-22dd-48f1-89c7-7642b6cba297",
   "metadata": {},
   "outputs": [],
   "source": []
  },
  {
   "cell_type": "code",
   "execution_count": null,
   "id": "92324b58-2b14-468f-8952-f871bd6c98e0",
   "metadata": {},
   "outputs": [],
   "source": []
  }
 ],
 "metadata": {
  "kernelspec": {
   "display_name": ".venv",
   "language": "python",
   "name": "python3"
  },
  "language_info": {
   "codemirror_mode": {
    "name": "ipython",
    "version": 3
   },
   "file_extension": ".py",
   "mimetype": "text/x-python",
   "name": "python",
   "nbconvert_exporter": "python",
   "pygments_lexer": "ipython3",
   "version": "3.13.5"
  }
 },
 "nbformat": 4,
 "nbformat_minor": 5
}
