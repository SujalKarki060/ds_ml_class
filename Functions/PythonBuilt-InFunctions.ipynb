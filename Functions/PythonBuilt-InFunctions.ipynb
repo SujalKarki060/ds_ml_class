{
 "cells": [
  {
   "cell_type": "code",
   "execution_count": 2,
   "id": "522682e1-fb97-499b-9b16-b3be5ffec04f",
   "metadata": {},
   "outputs": [
    {
     "name": "stdout",
     "output_type": "stream",
     "text": [
      "4,5\n"
     ]
    }
   ],
   "source": [
    "print(4,5, sep =\",\" )"
   ]
  },
  {
   "cell_type": "code",
   "execution_count": 5,
   "id": "6c8c058d-2e7f-4e66-8bc2-5e37921ebbae",
   "metadata": {},
   "outputs": [
    {
     "name": "stdout",
     "output_type": "stream",
     "text": [
      "Hello-World\n",
      "Welcome."
     ]
    }
   ],
   "source": [
    "print(\"Hello\",\"World\", sep=\"-\", end = \"\\n\")\n",
    "print(\"Welcome\", end=\".\")"
   ]
  },
  {
   "cell_type": "code",
   "execution_count": 6,
   "id": "1329aa14-d97f-4261-94c6-6a3dfd028874",
   "metadata": {},
   "outputs": [
    {
     "name": "stdin",
     "output_type": "stream",
     "text": [
      "What is your name? Sujal\n"
     ]
    }
   ],
   "source": [
    "name = input(\"What is your name?\")\n"
   ]
  },
  {
   "cell_type": "code",
   "execution_count": 7,
   "id": "f4e7e213-5edb-4ad1-a987-ba18f436d98f",
   "metadata": {},
   "outputs": [
    {
     "data": {
      "text/plain": [
       "'Sujal'"
      ]
     },
     "execution_count": 7,
     "metadata": {},
     "output_type": "execute_result"
    }
   ],
   "source": [
    "name"
   ]
  },
  {
   "cell_type": "code",
   "execution_count": 8,
   "id": "320573f5-502c-49a0-a3e3-62b73ba6315e",
   "metadata": {},
   "outputs": [
    {
     "name": "stdin",
     "output_type": "stream",
     "text": [
      "Enter your age 21\n"
     ]
    }
   ],
   "source": [
    "age = int(input(\"Enter your age\"))\n"
   ]
  },
  {
   "cell_type": "code",
   "execution_count": 9,
   "id": "13759d79-3129-4bc7-9af0-e5791c6c9136",
   "metadata": {},
   "outputs": [
    {
     "data": {
      "text/plain": [
       "21"
      ]
     },
     "execution_count": 9,
     "metadata": {},
     "output_type": "execute_result"
    }
   ],
   "source": [
    "age"
   ]
  },
  {
   "cell_type": "code",
   "execution_count": 10,
   "id": "b32702d3-7ae7-43c8-9ee8-d996e7f8df97",
   "metadata": {},
   "outputs": [
    {
     "data": {
      "text/plain": [
       "int"
      ]
     },
     "execution_count": 10,
     "metadata": {},
     "output_type": "execute_result"
    }
   ],
   "source": [
    "type(1)"
   ]
  },
  {
   "cell_type": "code",
   "execution_count": 12,
   "id": "7927522c-a0cf-4c56-a085-276211a89a01",
   "metadata": {},
   "outputs": [
    {
     "data": {
      "text/plain": [
       "dict"
      ]
     },
     "execution_count": 12,
     "metadata": {},
     "output_type": "execute_result"
    }
   ],
   "source": [
    "type({})"
   ]
  },
  {
   "cell_type": "code",
   "execution_count": 14,
   "id": "f43e848b-b07b-47a0-9eb6-fc3be7afab79",
   "metadata": {},
   "outputs": [
    {
     "data": {
      "text/plain": [
       "builtin_function_or_method"
      ]
     },
     "execution_count": 14,
     "metadata": {},
     "output_type": "execute_result"
    }
   ],
   "source": [
    "type(sum)"
   ]
  },
  {
   "cell_type": "code",
   "execution_count": 15,
   "id": "822c05ef-4a8c-4e6d-96ae-b3a263b502f8",
   "metadata": {},
   "outputs": [
    {
     "data": {
      "text/plain": [
       "5"
      ]
     },
     "execution_count": 15,
     "metadata": {},
     "output_type": "execute_result"
    }
   ],
   "source": [
    "len(\"apple\")"
   ]
  },
  {
   "cell_type": "code",
   "execution_count": 16,
   "id": "8f8a8adb-4df6-4034-bddf-4ab009a135a2",
   "metadata": {},
   "outputs": [
    {
     "data": {
      "text/plain": [
       "4"
      ]
     },
     "execution_count": 16,
     "metadata": {},
     "output_type": "execute_result"
    }
   ],
   "source": [
    "len([\"hari\",\"ram\",\"shyam\", \"john\"])"
   ]
  },
  {
   "cell_type": "code",
   "execution_count": 17,
   "id": "3383146e-b382-4927-b5ed-2b0e7e19ade9",
   "metadata": {},
   "outputs": [
    {
     "data": {
      "text/plain": [
       "2"
      ]
     },
     "execution_count": 17,
     "metadata": {},
     "output_type": "execute_result"
    }
   ],
   "source": [
    "len({1:\"apple\",2:\"banana\"})"
   ]
  },
  {
   "cell_type": "code",
   "execution_count": 20,
   "id": "1cd807d8-a08c-40ae-8a1e-52aa8740c0e3",
   "metadata": {},
   "outputs": [
    {
     "data": {
      "text/plain": [
       "(2, 1)"
      ]
     },
     "execution_count": 20,
     "metadata": {},
     "output_type": "execute_result"
    }
   ],
   "source": [
    "divmod(5,2)"
   ]
  },
  {
   "cell_type": "code",
   "execution_count": 22,
   "id": "fbb982f4-08e7-437d-b698-2dd1e8fd59d6",
   "metadata": {},
   "outputs": [
    {
     "name": "stdout",
     "output_type": "stream",
     "text": [
      "Help on built-in function sum in module builtins:\n",
      "\n",
      "sum(iterable, /, start=0)\n",
      "    Return the sum of a 'start' value (default: 0) plus an iterable of numbers\n",
      "\n",
      "    When the iterable is empty, return the start value.\n",
      "    This function is intended specifically for use with numeric values and may\n",
      "    reject non-numeric types.\n",
      "\n"
     ]
    }
   ],
   "source": [
    "help(sum)"
   ]
  },
  {
   "cell_type": "code",
   "execution_count": 23,
   "id": "8153b297-b1e8-45f7-a229-4220d46a9fd6",
   "metadata": {},
   "outputs": [
    {
     "data": {
      "text/plain": [
       "False"
      ]
     },
     "execution_count": 23,
     "metadata": {},
     "output_type": "execute_result"
    }
   ],
   "source": [
    "True and False and True"
   ]
  },
  {
   "cell_type": "code",
   "execution_count": 1,
   "id": "563233d5-223f-4ea8-9b70-c934737cae74",
   "metadata": {},
   "outputs": [
    {
     "data": {
      "text/plain": [
       "5"
      ]
     },
     "execution_count": 1,
     "metadata": {},
     "output_type": "execute_result"
    }
   ],
   "source": [
    "len(\"apple\")"
   ]
  },
  {
   "cell_type": "code",
   "execution_count": 2,
   "id": "243e0990-5af1-4b3b-973f-1b48bd002fb7",
   "metadata": {},
   "outputs": [
    {
     "data": {
      "text/plain": [
       "4"
      ]
     },
     "execution_count": 2,
     "metadata": {},
     "output_type": "execute_result"
    }
   ],
   "source": [
    "len([\"Hari\",\"Ram\",\"Shyam\",\"John\"])"
   ]
  },
  {
   "cell_type": "code",
   "execution_count": 3,
   "id": "53a67ca9-e27f-4c64-9213-d900e86a4d71",
   "metadata": {},
   "outputs": [
    {
     "data": {
      "text/plain": [
       "2"
      ]
     },
     "execution_count": 3,
     "metadata": {},
     "output_type": "execute_result"
    }
   ],
   "source": [
    "len({1:\"apple\",2:\"ball\"})"
   ]
  },
  {
   "cell_type": "code",
   "execution_count": 5,
   "id": "fe468565-d3aa-4b2d-9bd9-05426c53d432",
   "metadata": {},
   "outputs": [
    {
     "name": "stdout",
     "output_type": "stream",
     "text": [
      "Hello world\n"
     ]
    }
   ],
   "source": [
    "file = open(\"log.txt\", mode=\"r\")\n",
    "print(file.read())\n",
    "file.close()"
   ]
  },
  {
   "cell_type": "code",
   "execution_count": 11,
   "id": "b2d492db-a44a-4d65-bbb6-59f433f3d092",
   "metadata": {},
   "outputs": [],
   "source": [
    "file = open(\"message.txt\", mode=\"w\")\n",
    "file.write(\"Welcome to DSML class \\n\")\n",
    "file.close()"
   ]
  },
  {
   "cell_type": "code",
   "execution_count": 12,
   "id": "75c6df28-ea62-4236-a63e-f2fd32fa0c56",
   "metadata": {},
   "outputs": [
    {
     "name": "stdout",
     "output_type": "stream",
     "text": [
      "Welcome to DSML class \n",
      "\n"
     ]
    }
   ],
   "source": [
    "#Context Manager\n",
    "with open(\"message.txt\", mode=\"r+\") as file:\n",
    "    print(file.read())\n",
    "    file.write(\"This is first message. \\n\")"
   ]
  },
  {
   "cell_type": "code",
   "execution_count": 16,
   "id": "ed0e36c6-beef-49e9-9c91-a2d7e0c1c100",
   "metadata": {},
   "outputs": [
    {
     "name": "stdout",
     "output_type": "stream",
     "text": [
      "\n"
     ]
    }
   ],
   "source": [
    "with open(\"message.txt\", mode=\"a+\") as file:\n",
    "    print(file.read())\n",
    "    file.write(\"This is second message.\")"
   ]
  },
  {
   "cell_type": "code",
   "execution_count": 18,
   "id": "3324e2cd-2c1d-40f4-b5b4-72bde13c140e",
   "metadata": {},
   "outputs": [
    {
     "name": "stdout",
     "output_type": "stream",
     "text": [
      "\n"
     ]
    }
   ],
   "source": [
    "with open(\"message.txt\", mode=\"w+\") as file:\n",
    "    print(file.read())\n",
    "    file.write(\"In The Beginning. \\n\")"
   ]
  },
  {
   "cell_type": "code",
   "execution_count": 19,
   "id": "f1c62b8b-9513-414b-96b4-ab578333aa32",
   "metadata": {},
   "outputs": [
    {
     "name": "stdout",
     "output_type": "stream",
     "text": [
      "\n"
     ]
    }
   ],
   "source": [
    "with open(\"message.txt\", mode=\"a+\") as file:\n",
    "    print(file.read())\n",
    "    file.write(\"This is second message.\")"
   ]
  },
  {
   "cell_type": "code",
   "execution_count": 21,
   "id": "99358868-e7f8-435a-9ca1-40afd40591f9",
   "metadata": {},
   "outputs": [
    {
     "name": "stdout",
     "output_type": "stream",
     "text": [
      "['__add__', '__class__', '__contains__', '__delattr__', '__dir__', '__doc__', '__eq__', '__format__', '__ge__', '__getattribute__', '__getitem__', '__getnewargs__', '__getstate__', '__gt__', '__hash__', '__init__', '__init_subclass__', '__iter__', '__le__', '__len__', '__lt__', '__mod__', '__mul__', '__ne__', '__new__', '__reduce__', '__reduce_ex__', '__repr__', '__rmod__', '__rmul__', '__setattr__', '__sizeof__', '__str__', '__subclasshook__', 'capitalize', 'casefold', 'center', 'count', 'encode', 'endswith', 'expandtabs', 'find', 'format', 'format_map', 'index', 'isalnum', 'isalpha', 'isascii', 'isdecimal', 'isdigit', 'isidentifier', 'islower', 'isnumeric', 'isprintable', 'isspace', 'istitle', 'isupper', 'join', 'ljust', 'lower', 'lstrip', 'maketrans', 'partition', 'removeprefix', 'removesuffix', 'replace', 'rfind', 'rindex', 'rjust', 'rpartition', 'rsplit', 'rstrip', 'split', 'splitlines', 'startswith', 'strip', 'swapcase', 'title', 'translate', 'upper', 'zfill']\n"
     ]
    }
   ],
   "source": [
    "x = \"Ram\"\n",
    "print(dir(x))"
   ]
  },
  {
   "cell_type": "code",
   "execution_count": 22,
   "id": "5aaa3850-e128-4b9d-b748-b92f9c152ba5",
   "metadata": {},
   "outputs": [
    {
     "name": "stdout",
     "output_type": "stream",
     "text": [
      "['__abs__', '__add__', '__and__', '__bool__', '__ceil__', '__class__', '__delattr__', '__dir__', '__divmod__', '__doc__', '__eq__', '__float__', '__floor__', '__floordiv__', '__format__', '__ge__', '__getattribute__', '__getnewargs__', '__getstate__', '__gt__', '__hash__', '__index__', '__init__', '__init_subclass__', '__int__', '__invert__', '__le__', '__lshift__', '__lt__', '__mod__', '__mul__', '__ne__', '__neg__', '__new__', '__or__', '__pos__', '__pow__', '__radd__', '__rand__', '__rdivmod__', '__reduce__', '__reduce_ex__', '__repr__', '__rfloordiv__', '__rlshift__', '__rmod__', '__rmul__', '__ror__', '__round__', '__rpow__', '__rrshift__', '__rshift__', '__rsub__', '__rtruediv__', '__rxor__', '__setattr__', '__sizeof__', '__str__', '__sub__', '__subclasshook__', '__truediv__', '__trunc__', '__xor__', 'as_integer_ratio', 'bit_count', 'bit_length', 'conjugate', 'denominator', 'from_bytes', 'imag', 'is_integer', 'numerator', 'real', 'to_bytes']\n"
     ]
    }
   ],
   "source": [
    "i =1\n",
    "print(dir(i))"
   ]
  },
  {
   "cell_type": "code",
   "execution_count": 24,
   "id": "11c503b8-9da0-4673-bf26-98f28fb9aacc",
   "metadata": {},
   "outputs": [
    {
     "data": {
      "text/plain": [
       "'#%Danish'"
      ]
     },
     "execution_count": 24,
     "metadata": {},
     "output_type": "execute_result"
    }
   ],
   "source": [
    "\"#%Danish\".rstrip(\"#%\")"
   ]
  },
  {
   "cell_type": "code",
   "execution_count": 26,
   "id": "96242c16-b7ec-4b0e-ac14-5b371c603266",
   "metadata": {},
   "outputs": [
    {
     "data": {
      "text/plain": [
       "[(0, 'Alice'), (1, 'Bob'), (2, 'Harry')]"
      ]
     },
     "execution_count": 26,
     "metadata": {},
     "output_type": "execute_result"
    }
   ],
   "source": [
    "names = [\"Alice\",\"Bob\",\"Harry\"]\n",
    "list(enumerate(names))"
   ]
  },
  {
   "cell_type": "code",
   "execution_count": 27,
   "id": "b2eee495-f988-45d5-8601-e754d177edca",
   "metadata": {},
   "outputs": [
    {
     "name": "stdout",
     "output_type": "stream",
     "text": [
      "Alice: Roll 0\n",
      "Bob: Roll 1\n",
      "Harry: Roll 2\n"
     ]
    }
   ],
   "source": [
    "for (i,name) in enumerate(names):\n",
    "    print(f\"{name}: Roll {i}\")"
   ]
  },
  {
   "cell_type": "code",
   "execution_count": 28,
   "id": "5dcf64fe-6aef-4713-baca-32ad3d102f6f",
   "metadata": {},
   "outputs": [
    {
     "name": "stdout",
     "output_type": "stream",
     "text": [
      "Alice: Roll 1\n",
      "Bob: Roll 2\n",
      "Harry: Roll 3\n"
     ]
    }
   ],
   "source": [
    "for (i,name) in enumerate(names,start=1):\n",
    "    print(f\"{name}: Roll {i}\")"
   ]
  },
  {
   "cell_type": "code",
   "execution_count": 38,
   "id": "311f6db8-bf31-4ca3-8c80-6a62d33d90e6",
   "metadata": {},
   "outputs": [],
   "source": [
    "names = [\"Ronaldo\", \"Messi\", \"Neymar Jr.\", \"Ronaldinho\", \"Mbappe\"]\n",
    "score= [25,50,10,81,23]\n"
   ]
  },
  {
   "cell_type": "code",
   "execution_count": 39,
   "id": "6809d373-fc57-4317-8f3e-7994efbb38aa",
   "metadata": {},
   "outputs": [
    {
     "data": {
      "text/plain": [
       "<zip at 0x2573bdc0e80>"
      ]
     },
     "execution_count": 39,
     "metadata": {},
     "output_type": "execute_result"
    }
   ],
   "source": [
    "zip(names,score)"
   ]
  },
  {
   "cell_type": "code",
   "execution_count": 40,
   "id": "c53e0354-d348-4eb0-b886-5eda1109f773",
   "metadata": {},
   "outputs": [
    {
     "data": {
      "text/plain": [
       "[('Ronaldo', 25),\n",
       " ('Messi', 50),\n",
       " ('Neymar Jr.', 10),\n",
       " ('Ronaldinho', 81),\n",
       " ('Mbappe', 23)]"
      ]
     },
     "execution_count": 40,
     "metadata": {},
     "output_type": "execute_result"
    }
   ],
   "source": [
    "list(zip(names,score))"
   ]
  },
  {
   "cell_type": "code",
   "execution_count": 41,
   "id": "a077dbcc-3a0a-452b-a23d-3b10844f42f3",
   "metadata": {},
   "outputs": [
    {
     "name": "stdout",
     "output_type": "stream",
     "text": [
      "Ronaldo->25\n",
      "Messi->50\n",
      "Neymar Jr.->10\n",
      "Ronaldinho->81\n",
      "Mbappe->23\n"
     ]
    }
   ],
   "source": [
    "for (player, s) in zip(names,score):\n",
    "    print(player, s, sep = \"->\")"
   ]
  },
  {
   "cell_type": "code",
   "execution_count": 44,
   "id": "a6d1a415-a40c-489e-8a45-39012de1f17c",
   "metadata": {},
   "outputs": [],
   "source": [
    "name = \"Hari\"\n",
    "list1 = [2,5,6]\n",
    "set1= set(\"aeiou\")"
   ]
  },
  {
   "cell_type": "code",
   "execution_count": 45,
   "id": "5aecdac2-35b9-4b94-b435-1ef10b404703",
   "metadata": {},
   "outputs": [
    {
     "data": {
      "text/plain": [
       "[('H', 2, 'i'), ('a', 5, 'o'), ('r', 6, 'a')]"
      ]
     },
     "execution_count": 45,
     "metadata": {},
     "output_type": "execute_result"
    }
   ],
   "source": [
    "list(zip(name,list1,set1))"
   ]
  },
  {
   "cell_type": "code",
   "execution_count": 46,
   "id": "31d97b77-f6e0-4385-b5bb-f20dd1369a7a",
   "metadata": {},
   "outputs": [],
   "source": [
    "def mult(x):\n",
    "    return x * 2"
   ]
  },
  {
   "cell_type": "code",
   "execution_count": 48,
   "id": "d55a550c-ae0b-4d56-a669-315fdef26e80",
   "metadata": {},
   "outputs": [],
   "source": [
    "numbers = [2,4,6,8,10]\n",
    "map_obj = map(mult, numbers)"
   ]
  },
  {
   "cell_type": "code",
   "execution_count": 49,
   "id": "fb7c98b9-f183-4192-b25a-0a1145302d63",
   "metadata": {},
   "outputs": [
    {
     "data": {
      "text/plain": [
       "<map at 0x2573b9413c0>"
      ]
     },
     "execution_count": 49,
     "metadata": {},
     "output_type": "execute_result"
    }
   ],
   "source": [
    "map_obj"
   ]
  },
  {
   "cell_type": "code",
   "execution_count": 50,
   "id": "1876ce52-d8e8-4d71-b8eb-e24878431bdd",
   "metadata": {},
   "outputs": [
    {
     "data": {
      "text/plain": [
       "[4, 8, 12, 16, 20]"
      ]
     },
     "execution_count": 50,
     "metadata": {},
     "output_type": "execute_result"
    }
   ],
   "source": [
    "[a for a in map_obj]"
   ]
  },
  {
   "cell_type": "code",
   "execution_count": 51,
   "id": "a7a3e0ce-9961-44a3-ac16-a24d8c1bdcd3",
   "metadata": {},
   "outputs": [],
   "source": [
    "def even(num):\n",
    "    return num % 2 == 0"
   ]
  },
  {
   "cell_type": "code",
   "execution_count": 53,
   "id": "38cdb997-79c5-423f-bd75-5782810453dc",
   "metadata": {},
   "outputs": [
    {
     "data": {
      "text/plain": [
       "[4, 6, 8]"
      ]
     },
     "execution_count": 53,
     "metadata": {},
     "output_type": "execute_result"
    }
   ],
   "source": [
    "f_obj = filter(even, [1,3,4,6,8,9])\n",
    "list(f_obj)"
   ]
  },
  {
   "cell_type": "code",
   "execution_count": 54,
   "id": "926edbd6-a27d-48d4-b39a-e011a6167df2",
   "metadata": {},
   "outputs": [],
   "source": [
    "from functools import reduce"
   ]
  },
  {
   "cell_type": "code",
   "execution_count": 55,
   "id": "41e4208a-2ff7-4f2d-ae84-7bbc587efcc3",
   "metadata": {},
   "outputs": [],
   "source": [
    "mylist = [1,2,3,4,5]"
   ]
  },
  {
   "cell_type": "code",
   "execution_count": 56,
   "id": "e4661835-829b-47e9-a51a-f1555629f07c",
   "metadata": {},
   "outputs": [],
   "source": [
    "def add(x,y):\n",
    "    return x+y"
   ]
  },
  {
   "cell_type": "code",
   "execution_count": 57,
   "id": "e56d03ba-a5f1-45a1-9f96-3966b1635c6f",
   "metadata": {},
   "outputs": [],
   "source": [
    "red_obj = reduce(add, mylist)"
   ]
  },
  {
   "cell_type": "code",
   "execution_count": 58,
   "id": "af1f2c7e-0b1b-4b14-8969-760f202db836",
   "metadata": {},
   "outputs": [
    {
     "data": {
      "text/plain": [
       "15"
      ]
     },
     "execution_count": 58,
     "metadata": {},
     "output_type": "execute_result"
    }
   ],
   "source": [
    "red_obj"
   ]
  },
  {
   "cell_type": "code",
   "execution_count": 65,
   "id": "4872b6dd-8cda-4b23-a4dc-6263d6372736",
   "metadata": {},
   "outputs": [],
   "source": [
    "team_a = [10,20,30]\n",
    "team_b = [15,25,35]\n",
    "def add(a,b):\n",
    "    return a+b"
   ]
  },
  {
   "cell_type": "code",
   "execution_count": 66,
   "id": "fdb33c26-86e8-41e7-aa37-3638545a3c78",
   "metadata": {},
   "outputs": [
    {
     "data": {
      "text/plain": [
       "[25, 45, 65]"
      ]
     },
     "execution_count": 66,
     "metadata": {},
     "output_type": "execute_result"
    }
   ],
   "source": [
    "list(map(add, team_a, team_b))"
   ]
  },
  {
   "cell_type": "code",
   "execution_count": 67,
   "id": "2ad508a8-9d4f-40cd-a96a-6cd9c89ed613",
   "metadata": {},
   "outputs": [],
   "source": [
    "team_tasks = [\n",
    "    [True, True, True],       # Alice\n",
    "    [True, False, True],      # Bob\n",
    "    [False, True, True]        # Carol\n",
    "]"
   ]
  },
  {
   "cell_type": "code",
   "execution_count": 68,
   "id": "6b224b54-7ab4-4a1d-a12e-2a9204e04c54",
   "metadata": {},
   "outputs": [
    {
     "data": {
      "text/plain": [
       "[True, True, True, True, False, True, False, True, True]"
      ]
     },
     "execution_count": 68,
     "metadata": {},
     "output_type": "execute_result"
    }
   ],
   "source": [
    "all_tasks = [task for member in team_tasks for task in member]\n",
    "all_tasks"
   ]
  },
  {
   "cell_type": "code",
   "execution_count": 70,
   "id": "4ccb2287-9315-4646-9cea-45ce7386da9f",
   "metadata": {},
   "outputs": [
    {
     "data": {
      "text/plain": [
       "False"
      ]
     },
     "execution_count": 70,
     "metadata": {},
     "output_type": "execute_result"
    }
   ],
   "source": [
    "all_done = all(all_tasks)\n",
    "all_done"
   ]
  },
  {
   "cell_type": "code",
   "execution_count": 71,
   "id": "951ae2cf-d181-4deb-a783-e0d54e1bf8f0",
   "metadata": {},
   "outputs": [
    {
     "data": {
      "text/plain": [
       "True"
      ]
     },
     "execution_count": 71,
     "metadata": {},
     "output_type": "execute_result"
    }
   ],
   "source": [
    "any_missed = not all(all_tasks)\n",
    "any_missed"
   ]
  },
  {
   "cell_type": "code",
   "execution_count": 72,
   "id": "cf24e761-23aa-4240-99bc-7fe3070abd72",
   "metadata": {},
   "outputs": [
    {
     "name": "stdout",
     "output_type": "stream",
     "text": [
      "any_missed = True\n",
      "all_done = False\n"
     ]
    }
   ],
   "source": [
    "print(\"any_missed =\", any_missed)\n",
    "print(\"all_done =\", all_done)"
   ]
  },
  {
   "cell_type": "code",
   "execution_count": null,
   "id": "0e5c2c7a-81bb-46cb-adfc-4ce01caa9210",
   "metadata": {},
   "outputs": [],
   "source": []
  }
 ],
 "metadata": {
  "kernelspec": {
   "display_name": "Python 3 (ipykernel)",
   "language": "python",
   "name": "python3"
  },
  "language_info": {
   "codemirror_mode": {
    "name": "ipython",
    "version": 3
   },
   "file_extension": ".py",
   "mimetype": "text/x-python",
   "name": "python",
   "nbconvert_exporter": "python",
   "pygments_lexer": "ipython3",
   "version": "3.13.5"
  }
 },
 "nbformat": 4,
 "nbformat_minor": 5
}
