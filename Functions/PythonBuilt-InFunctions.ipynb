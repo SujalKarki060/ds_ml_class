{
 "cells": [
  {
   "cell_type": "code",
   "execution_count": 2,
   "id": "522682e1-fb97-499b-9b16-b3be5ffec04f",
   "metadata": {},
   "outputs": [
    {
     "name": "stdout",
     "output_type": "stream",
     "text": [
      "4,5\n"
     ]
    }
   ],
   "source": [
    "print(4,5, sep =\",\" )"
   ]
  },
  {
   "cell_type": "code",
   "execution_count": 5,
   "id": "6c8c058d-2e7f-4e66-8bc2-5e37921ebbae",
   "metadata": {},
   "outputs": [
    {
     "name": "stdout",
     "output_type": "stream",
     "text": [
      "Hello-World\n",
      "Welcome."
     ]
    }
   ],
   "source": [
    "print(\"Hello\",\"World\", sep=\"-\", end = \"\\n\")\n",
    "print(\"Welcome\", end=\".\")"
   ]
  },
  {
   "cell_type": "code",
   "execution_count": 6,
   "id": "1329aa14-d97f-4261-94c6-6a3dfd028874",
   "metadata": {},
   "outputs": [
    {
     "name": "stdin",
     "output_type": "stream",
     "text": [
      "What is your name? Sujal\n"
     ]
    }
   ],
   "source": [
    "name = input(\"What is your name?\")\n"
   ]
  },
  {
   "cell_type": "code",
   "execution_count": 7,
   "id": "f4e7e213-5edb-4ad1-a987-ba18f436d98f",
   "metadata": {},
   "outputs": [
    {
     "data": {
      "text/plain": [
       "'Sujal'"
      ]
     },
     "execution_count": 7,
     "metadata": {},
     "output_type": "execute_result"
    }
   ],
   "source": [
    "name"
   ]
  },
  {
   "cell_type": "code",
   "execution_count": 8,
   "id": "320573f5-502c-49a0-a3e3-62b73ba6315e",
   "metadata": {},
   "outputs": [
    {
     "name": "stdin",
     "output_type": "stream",
     "text": [
      "Enter your age 21\n"
     ]
    }
   ],
   "source": [
    "age = int(input(\"Enter your age\"))\n"
   ]
  },
  {
   "cell_type": "code",
   "execution_count": 9,
   "id": "13759d79-3129-4bc7-9af0-e5791c6c9136",
   "metadata": {},
   "outputs": [
    {
     "data": {
      "text/plain": [
       "21"
      ]
     },
     "execution_count": 9,
     "metadata": {},
     "output_type": "execute_result"
    }
   ],
   "source": [
    "age"
   ]
  },
  {
   "cell_type": "code",
   "execution_count": 10,
   "id": "b32702d3-7ae7-43c8-9ee8-d996e7f8df97",
   "metadata": {},
   "outputs": [
    {
     "data": {
      "text/plain": [
       "int"
      ]
     },
     "execution_count": 10,
     "metadata": {},
     "output_type": "execute_result"
    }
   ],
   "source": [
    "type(1)"
   ]
  },
  {
   "cell_type": "code",
   "execution_count": 12,
   "id": "7927522c-a0cf-4c56-a085-276211a89a01",
   "metadata": {},
   "outputs": [
    {
     "data": {
      "text/plain": [
       "dict"
      ]
     },
     "execution_count": 12,
     "metadata": {},
     "output_type": "execute_result"
    }
   ],
   "source": [
    "type({})"
   ]
  },
  {
   "cell_type": "code",
   "execution_count": 14,
   "id": "f43e848b-b07b-47a0-9eb6-fc3be7afab79",
   "metadata": {},
   "outputs": [
    {
     "data": {
      "text/plain": [
       "builtin_function_or_method"
      ]
     },
     "execution_count": 14,
     "metadata": {},
     "output_type": "execute_result"
    }
   ],
   "source": [
    "type(sum)"
   ]
  },
  {
   "cell_type": "code",
   "execution_count": 15,
   "id": "822c05ef-4a8c-4e6d-96ae-b3a263b502f8",
   "metadata": {},
   "outputs": [
    {
     "data": {
      "text/plain": [
       "5"
      ]
     },
     "execution_count": 15,
     "metadata": {},
     "output_type": "execute_result"
    }
   ],
   "source": [
    "len(\"apple\")"
   ]
  },
  {
   "cell_type": "code",
   "execution_count": 16,
   "id": "8f8a8adb-4df6-4034-bddf-4ab009a135a2",
   "metadata": {},
   "outputs": [
    {
     "data": {
      "text/plain": [
       "4"
      ]
     },
     "execution_count": 16,
     "metadata": {},
     "output_type": "execute_result"
    }
   ],
   "source": [
    "len([\"hari\",\"ram\",\"shyam\", \"john\"])"
   ]
  },
  {
   "cell_type": "code",
   "execution_count": 17,
   "id": "3383146e-b382-4927-b5ed-2b0e7e19ade9",
   "metadata": {},
   "outputs": [
    {
     "data": {
      "text/plain": [
       "2"
      ]
     },
     "execution_count": 17,
     "metadata": {},
     "output_type": "execute_result"
    }
   ],
   "source": [
    "len({1:\"apple\",2:\"banana\"})"
   ]
  },
  {
   "cell_type": "code",
   "execution_count": 20,
   "id": "1cd807d8-a08c-40ae-8a1e-52aa8740c0e3",
   "metadata": {},
   "outputs": [
    {
     "data": {
      "text/plain": [
       "(2, 1)"
      ]
     },
     "execution_count": 20,
     "metadata": {},
     "output_type": "execute_result"
    }
   ],
   "source": [
    "divmod(5,2)"
   ]
  },
  {
   "cell_type": "code",
   "execution_count": 22,
   "id": "fbb982f4-08e7-437d-b698-2dd1e8fd59d6",
   "metadata": {},
   "outputs": [
    {
     "name": "stdout",
     "output_type": "stream",
     "text": [
      "Help on built-in function sum in module builtins:\n",
      "\n",
      "sum(iterable, /, start=0)\n",
      "    Return the sum of a 'start' value (default: 0) plus an iterable of numbers\n",
      "\n",
      "    When the iterable is empty, return the start value.\n",
      "    This function is intended specifically for use with numeric values and may\n",
      "    reject non-numeric types.\n",
      "\n"
     ]
    }
   ],
   "source": [
    "help(sum)"
   ]
  },
  {
   "cell_type": "code",
   "execution_count": 23,
   "id": "8153b297-b1e8-45f7-a229-4220d46a9fd6",
   "metadata": {},
   "outputs": [
    {
     "data": {
      "text/plain": [
       "False"
      ]
     },
     "execution_count": 23,
     "metadata": {},
     "output_type": "execute_result"
    }
   ],
   "source": [
    "True and False and True"
   ]
  },
  {
   "cell_type": "code",
   "execution_count": null,
   "id": "563233d5-223f-4ea8-9b70-c934737cae74",
   "metadata": {},
   "outputs": [],
   "source": []
  }
 ],
 "metadata": {
  "kernelspec": {
   "display_name": "Python 3 (ipykernel)",
   "language": "python",
   "name": "python3"
  },
  "language_info": {
   "codemirror_mode": {
    "name": "ipython",
    "version": 3
   },
   "file_extension": ".py",
   "mimetype": "text/x-python",
   "name": "python",
   "nbconvert_exporter": "python",
   "pygments_lexer": "ipython3",
   "version": "3.13.5"
  }
 },
 "nbformat": 4,
 "nbformat_minor": 5
}
