{
 "cells": [
  {
   "cell_type": "code",
   "execution_count": 14,
   "id": "a5026a89-353b-4d47-a215-86afe667f292",
   "metadata": {},
   "outputs": [],
   "source": [
    "class Person:\n",
    "    def __init__(self,name):\n",
    "        self.__name = name\n",
    "\n",
    "    @property\n",
    "    def name(self):\n",
    "        print(\"Getting Name\")\n",
    "        return self.__name"
   ]
  },
  {
   "cell_type": "code",
   "execution_count": 15,
   "id": "aa4a1ace-4056-45ec-b2c1-8fc3f9227f2b",
   "metadata": {},
   "outputs": [],
   "source": [
    "person = Person(\"Sujal Karki\")"
   ]
  },
  {
   "cell_type": "code",
   "execution_count": 16,
   "id": "18f48694-ed04-43fe-8fdd-17b2a8696a99",
   "metadata": {},
   "outputs": [
    {
     "name": "stdout",
     "output_type": "stream",
     "text": [
      "Getting Name\n"
     ]
    },
    {
     "data": {
      "text/plain": [
       "'Sujal Karki'"
      ]
     },
     "execution_count": 16,
     "metadata": {},
     "output_type": "execute_result"
    }
   ],
   "source": [
    "person.name"
   ]
  },
  {
   "cell_type": "code",
   "execution_count": 27,
   "id": "60a669dc-f6f0-4398-92b1-a4da90312ebf",
   "metadata": {},
   "outputs": [],
   "source": [
    "class Person:\n",
    "    def __init__(self,name):\n",
    "        self.__fullname = name\n",
    "\n",
    "    @property\n",
    "    def name(self):\n",
    "        print(\"Getting Name\")\n",
    "        return self.__fullname\n",
    "\n",
    "    @name.setter\n",
    "    def name(self,value):\n",
    "        print(\"Setting Name\")\n",
    "        self.__fullname = value\n",
    "\n",
    "        "
   ]
  },
  {
   "cell_type": "code",
   "execution_count": 23,
   "id": "1cb68265-4788-4d81-aad5-dcd13fe1703e",
   "metadata": {},
   "outputs": [],
   "source": [
    "person = Person(\"Optimus Prime\")"
   ]
  },
  {
   "cell_type": "code",
   "execution_count": 24,
   "id": "d8c4a2c3-6724-4991-a672-06c9c54e6433",
   "metadata": {},
   "outputs": [
    {
     "name": "stdout",
     "output_type": "stream",
     "text": [
      "Getting Name\n"
     ]
    },
    {
     "data": {
      "text/plain": [
       "'Optimus Prime'"
      ]
     },
     "execution_count": 24,
     "metadata": {},
     "output_type": "execute_result"
    }
   ],
   "source": [
    "person.name"
   ]
  },
  {
   "cell_type": "code",
   "execution_count": 25,
   "id": "7667b301-d5fc-4653-9227-91f5a44ff7c4",
   "metadata": {},
   "outputs": [
    {
     "name": "stdout",
     "output_type": "stream",
     "text": [
      "Setting Name\n"
     ]
    }
   ],
   "source": [
    "person.name = \"Megatron\""
   ]
  },
  {
   "cell_type": "code",
   "execution_count": 26,
   "id": "fe1a2b09-8fba-4fb7-ba8b-7c5e6609d083",
   "metadata": {},
   "outputs": [
    {
     "name": "stdout",
     "output_type": "stream",
     "text": [
      "Getting Name\n"
     ]
    },
    {
     "data": {
      "text/plain": [
       "'Megatron'"
      ]
     },
     "execution_count": 26,
     "metadata": {},
     "output_type": "execute_result"
    }
   ],
   "source": [
    "person.name"
   ]
  },
  {
   "cell_type": "code",
   "execution_count": 28,
   "id": "b0197652-c920-4e90-9504-1eb46b463c93",
   "metadata": {},
   "outputs": [],
   "source": [
    "class Person:\n",
    "    def __init__(self,name):\n",
    "        self.__fullname = name\n",
    "\n",
    "    @property\n",
    "    def name(self):\n",
    "        print(\"Getting Name\")\n",
    "        return self.__fullname\n",
    "\n",
    "    @name.setter\n",
    "    def name(self,value):\n",
    "        print(\"Setting Name\")\n",
    "        self.__fullname = value\n",
    "\n",
    "    @name.deleter\n",
    "    def name(self):\n",
    "        print(\"Deleting Name\")\n",
    "        del self.__fullname"
   ]
  },
  {
   "cell_type": "code",
   "execution_count": 34,
   "id": "de2152e9-434d-483e-9cf7-f5d496323355",
   "metadata": {},
   "outputs": [],
   "source": [
    "person = Person(\"Randy Orton\")"
   ]
  },
  {
   "cell_type": "code",
   "execution_count": 31,
   "id": "df05dd6b-5839-4791-aa83-3dbe02eea0bb",
   "metadata": {},
   "outputs": [
    {
     "name": "stdout",
     "output_type": "stream",
     "text": [
      "Getting Name\n"
     ]
    },
    {
     "data": {
      "text/plain": [
       "'Randy Orton'"
      ]
     },
     "execution_count": 31,
     "metadata": {},
     "output_type": "execute_result"
    }
   ],
   "source": [
    "person.name"
   ]
  },
  {
   "cell_type": "code",
   "execution_count": 36,
   "id": "fc5033c4-4ae8-4690-b294-6be9dda71d4c",
   "metadata": {},
   "outputs": [
    {
     "name": "stdout",
     "output_type": "stream",
     "text": [
      "Deleting Name\n"
     ]
    }
   ],
   "source": [
    "del person.name"
   ]
  },
  {
   "cell_type": "code",
   "execution_count": 37,
   "id": "cd6d89b3-45ef-43ec-b0aa-8e38f067a3eb",
   "metadata": {},
   "outputs": [
    {
     "name": "stdout",
     "output_type": "stream",
     "text": [
      "Getting Name\n"
     ]
    },
    {
     "ename": "AttributeError",
     "evalue": "'Person' object has no attribute '_Person__fullname'",
     "output_type": "error",
     "traceback": [
      "\u001b[31m---------------------------------------------------------------------------\u001b[39m",
      "\u001b[31mAttributeError\u001b[39m                            Traceback (most recent call last)",
      "\u001b[36mCell\u001b[39m\u001b[36m \u001b[39m\u001b[32mIn[37]\u001b[39m\u001b[32m, line 1\u001b[39m\n\u001b[32m----> \u001b[39m\u001b[32m1\u001b[39m \u001b[43mperson\u001b[49m\u001b[43m.\u001b[49m\u001b[43mname\u001b[49m\n",
      "\u001b[36mCell\u001b[39m\u001b[36m \u001b[39m\u001b[32mIn[28]\u001b[39m\u001b[32m, line 8\u001b[39m, in \u001b[36mPerson.name\u001b[39m\u001b[34m(self)\u001b[39m\n\u001b[32m      5\u001b[39m \u001b[38;5;129m@property\u001b[39m\n\u001b[32m      6\u001b[39m \u001b[38;5;28;01mdef\u001b[39;00m\u001b[38;5;250m \u001b[39m\u001b[34mname\u001b[39m(\u001b[38;5;28mself\u001b[39m):\n\u001b[32m      7\u001b[39m     \u001b[38;5;28mprint\u001b[39m(\u001b[33m\"\u001b[39m\u001b[33mGetting Name\u001b[39m\u001b[33m\"\u001b[39m)\n\u001b[32m----> \u001b[39m\u001b[32m8\u001b[39m     \u001b[38;5;28;01mreturn\u001b[39;00m \u001b[38;5;28;43mself\u001b[39;49m\u001b[43m.\u001b[49m\u001b[43m__fullname\u001b[49m\n",
      "\u001b[31mAttributeError\u001b[39m: 'Person' object has no attribute '_Person__fullname'"
     ]
    }
   ],
   "source": [
    "person.name"
   ]
  },
  {
   "cell_type": "code",
   "execution_count": 40,
   "id": "d9b90ef9-de33-4e0b-8450-5812d39b40d0",
   "metadata": {},
   "outputs": [
    {
     "name": "stdout",
     "output_type": "stream",
     "text": [
      "Time taken by 'takes_time': 4.000406980514526 seconds\n"
     ]
    }
   ],
   "source": [
    "import time\n",
    "\n",
    "def timeit(func):\n",
    "    def wrapper(*args,**kwargs):\n",
    "        start = time.time()\n",
    "        result = func(*args,**kwargs)\n",
    "        end = time.time()\n",
    "        print(f\"Time taken by '{func.__name__}': {end - start:} seconds\")\n",
    "        return result\n",
    "    return wrapper\n",
    "\n",
    "@timeit\n",
    "def takes_time():\n",
    "    time.sleep(4)\n",
    "\n",
    "takes_time()"
   ]
  },
  {
   "cell_type": "code",
   "execution_count": null,
   "id": "4e3098bf-96e0-49d1-89ea-ded4f1c67ec1",
   "metadata": {},
   "outputs": [],
   "source": []
  },
  {
   "cell_type": "code",
   "execution_count": null,
   "id": "f9091f09-5f7a-4691-941e-623b5ab1004e",
   "metadata": {},
   "outputs": [],
   "source": []
  },
  {
   "cell_type": "code",
   "execution_count": null,
   "id": "75afdd9d-fcbd-4074-bc85-dab39f14dfbf",
   "metadata": {},
   "outputs": [],
   "source": []
  },
  {
   "cell_type": "code",
   "execution_count": null,
   "id": "b781711e-b6cd-4853-8f8c-8f9bec64d82d",
   "metadata": {},
   "outputs": [],
   "source": []
  }
 ],
 "metadata": {
  "kernelspec": {
   "display_name": "Python 3 (ipykernel)",
   "language": "python",
   "name": "python3"
  },
  "language_info": {
   "codemirror_mode": {
    "name": "ipython",
    "version": 3
   },
   "file_extension": ".py",
   "mimetype": "text/x-python",
   "name": "python",
   "nbconvert_exporter": "python",
   "pygments_lexer": "ipython3",
   "version": "3.13.5"
  }
 },
 "nbformat": 4,
 "nbformat_minor": 5
}
