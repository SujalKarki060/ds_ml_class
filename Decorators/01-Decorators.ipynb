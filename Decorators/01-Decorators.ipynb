{
 "cells": [
  {
   "cell_type": "code",
   "execution_count": 1,
   "id": "e6dbd860-bf1a-4211-9321-547346563929",
   "metadata": {},
   "outputs": [],
   "source": [
    "class Test:\n",
    "\n",
    "    @staticmethod\n",
    "    def something():\n",
    "        print(1)"
   ]
  },
  {
   "cell_type": "code",
   "execution_count": 5,
   "id": "549632e2-34c0-4d40-87f0-910f0991730d",
   "metadata": {},
   "outputs": [],
   "source": [
    "#Simple Decorator Function\n",
    "def decorator(func): #> Func as argument\n",
    "    #Inner Function\n",
    "    def wrapper():\n",
    "        print(\"Before Function Call\")\n",
    "        func() #> Calling actual function\n",
    "        print(\"After Function Call\")\n",
    "\n",
    "    return wrapper #> Returning faunction as value\n",
    "    \n"
   ]
  },
  {
   "cell_type": "code",
   "execution_count": 6,
   "id": "1189d2a7-7d87-42a4-882b-1ee5316e2c45",
   "metadata": {},
   "outputs": [],
   "source": [
    "@decorator\n",
    "def greet():\n",
    "    print(\"Hello,World\")"
   ]
  },
  {
   "cell_type": "code",
   "execution_count": 7,
   "id": "19e6720f-1002-4d2d-bc6d-20054f0f39bd",
   "metadata": {},
   "outputs": [
    {
     "name": "stdout",
     "output_type": "stream",
     "text": [
      "Before Function Call\n",
      "Hello,World\n",
      "After Function Call\n"
     ]
    }
   ],
   "source": [
    "greet()"
   ]
  },
  {
   "cell_type": "markdown",
   "id": "e6a30429-9ea8-4713-80cf-c2c37fc9f21b",
   "metadata": {},
   "source": [
    "### Check email using decorator"
   ]
  },
  {
   "cell_type": "code",
   "execution_count": 13,
   "id": "c676b980-c856-4a7e-b26a-8213edd2e190",
   "metadata": {},
   "outputs": [],
   "source": [
    "def validate_email(func):\n",
    "    def wrapper(email,password):\n",
    "        if email.endswith(\"@itsnp.org\"):\n",
    "            func(email,password)\n",
    "        else:\n",
    "            print(\"Only supported for ITSNP\")\n",
    "\n",
    "    return wrapper\n",
    "        "
   ]
  },
  {
   "cell_type": "code",
   "execution_count": 14,
   "id": "75cac00f-574f-4fa0-9128-476a42f016d0",
   "metadata": {},
   "outputs": [],
   "source": [
    "@validate_email\n",
    "def login_user(email,password):\n",
    "    #Check password validity\n",
    "    print(\"Logged in\")"
   ]
  },
  {
   "cell_type": "code",
   "execution_count": 17,
   "id": "4d1a8517-2dcb-4f28-be1e-1fa7ccb84cf6",
   "metadata": {},
   "outputs": [
    {
     "name": "stdout",
     "output_type": "stream",
     "text": [
      "Logged in\n"
     ]
    }
   ],
   "source": [
    "login_user(\"sujal@itsnp.org\",\"abcd\")"
   ]
  },
  {
   "cell_type": "code",
   "execution_count": null,
   "id": "00a60c7c-1f1e-473e-9ba7-bc8d2b0e2039",
   "metadata": {},
   "outputs": [],
   "source": []
  }
 ],
 "metadata": {
  "kernelspec": {
   "display_name": "Python 3 (ipykernel)",
   "language": "python",
   "name": "python3"
  },
  "language_info": {
   "codemirror_mode": {
    "name": "ipython",
    "version": 3
   },
   "file_extension": ".py",
   "mimetype": "text/x-python",
   "name": "python",
   "nbconvert_exporter": "python",
   "pygments_lexer": "ipython3",
   "version": "3.13.5"
  }
 },
 "nbformat": 4,
 "nbformat_minor": 5
}
