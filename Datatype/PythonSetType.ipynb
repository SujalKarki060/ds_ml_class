{
 "cells": [
  {
   "cell_type": "code",
   "execution_count": 3,
   "id": "0d8fda4a-5b38-44de-8224-6bda2611c860",
   "metadata": {},
   "outputs": [
    {
     "data": {
      "text/plain": [
       "set"
      ]
     },
     "execution_count": 3,
     "metadata": {},
     "output_type": "execute_result"
    }
   ],
   "source": [
    "setA = {4,5,6,3,1,1,2,1}\n",
    "type(setA)"
   ]
  },
  {
   "cell_type": "code",
   "execution_count": 4,
   "id": "e3f837d6-d312-49ec-b426-5a93e0dea2e6",
   "metadata": {},
   "outputs": [
    {
     "data": {
      "text/plain": [
       "{1, 2, 3, 4, 5, 6}"
      ]
     },
     "execution_count": 4,
     "metadata": {},
     "output_type": "execute_result"
    }
   ],
   "source": [
    "setA"
   ]
  },
  {
   "cell_type": "code",
   "execution_count": 5,
   "id": "b36e4c23-0c25-439f-9237-cc549d6e24b4",
   "metadata": {},
   "outputs": [
    {
     "data": {
      "text/plain": [
       "{'M', 'i', 'p', 's'}"
      ]
     },
     "execution_count": 5,
     "metadata": {},
     "output_type": "execute_result"
    }
   ],
   "source": [
    "set(\"Mississippi\")"
   ]
  },
  {
   "cell_type": "code",
   "execution_count": 15,
   "id": "b27cbdbf-c1d1-4bb4-975c-ee20f391a852",
   "metadata": {},
   "outputs": [],
   "source": [
    "A = {1,2,3,4,5,6,7}\n",
    "B = {3,4,5,6}"
   ]
  },
  {
   "cell_type": "code",
   "execution_count": 16,
   "id": "2c40e4d3-21a2-49ea-bb31-dbf05ad56631",
   "metadata": {},
   "outputs": [
    {
     "data": {
      "text/plain": [
       "{1, 2, 3, 4, 5, 6, 7}"
      ]
     },
     "execution_count": 16,
     "metadata": {},
     "output_type": "execute_result"
    }
   ],
   "source": [
    "aUb = A.union(B)\n",
    "aUb"
   ]
  },
  {
   "cell_type": "code",
   "execution_count": 17,
   "id": "f6bfabb5-586e-4185-b7f0-a1516ab99c3e",
   "metadata": {},
   "outputs": [
    {
     "data": {
      "text/plain": [
       "{3, 4, 5, 6}"
      ]
     },
     "execution_count": 17,
     "metadata": {},
     "output_type": "execute_result"
    }
   ],
   "source": [
    "aNb = A.intersection(B)\n",
    "aNb"
   ]
  },
  {
   "cell_type": "code",
   "execution_count": 18,
   "id": "1df86401-2f7f-4bc5-9d64-321cab09bac1",
   "metadata": {},
   "outputs": [
    {
     "data": {
      "text/plain": [
       "{1, 2, 7}"
      ]
     },
     "execution_count": 18,
     "metadata": {},
     "output_type": "execute_result"
    }
   ],
   "source": [
    "A_B = A.difference(B)\n",
    "A_B"
   ]
  },
  {
   "cell_type": "code",
   "execution_count": 19,
   "id": "4796a682-927f-4e5e-b7c8-3be9854e4f12",
   "metadata": {},
   "outputs": [
    {
     "data": {
      "text/plain": [
       "False"
      ]
     },
     "execution_count": 19,
     "metadata": {},
     "output_type": "execute_result"
    }
   ],
   "source": [
    "A.isdisjoint(B)"
   ]
  },
  {
   "cell_type": "code",
   "execution_count": 20,
   "id": "c897dbc1-2f4e-4902-9d64-eca994688a08",
   "metadata": {},
   "outputs": [
    {
     "data": {
      "text/plain": [
       "True"
      ]
     },
     "execution_count": 20,
     "metadata": {},
     "output_type": "execute_result"
    }
   ],
   "source": [
    "A >= B"
   ]
  },
  {
   "cell_type": "code",
   "execution_count": 21,
   "id": "d17594e1-4f56-472e-9c6e-98fc0c5d52c4",
   "metadata": {},
   "outputs": [],
   "source": [
    "A.add(8)"
   ]
  },
  {
   "cell_type": "code",
   "execution_count": 22,
   "id": "204f4383-e0e7-4161-bf50-d92a99fdbb62",
   "metadata": {},
   "outputs": [
    {
     "data": {
      "text/plain": [
       "{1, 2, 3, 4, 5, 6, 7, 8}"
      ]
     },
     "execution_count": 22,
     "metadata": {},
     "output_type": "execute_result"
    }
   ],
   "source": [
    "A"
   ]
  },
  {
   "cell_type": "code",
   "execution_count": 23,
   "id": "f68ee26d-35e4-4aaf-8425-535bb4c564d5",
   "metadata": {},
   "outputs": [
    {
     "data": {
      "text/plain": [
       "{1, 2, 3, 4, 5, 6, 7}"
      ]
     },
     "execution_count": 23,
     "metadata": {},
     "output_type": "execute_result"
    }
   ],
   "source": [
    "A.discard(8)\n",
    "A"
   ]
  },
  {
   "cell_type": "code",
   "execution_count": 24,
   "id": "91caf3a3-3e09-4fe4-9e1b-c53b57c095ea",
   "metadata": {},
   "outputs": [
    {
     "data": {
      "text/plain": [
       "{1, 2, 3, 4, 5, 6, 7, 8}"
      ]
     },
     "execution_count": 24,
     "metadata": {},
     "output_type": "execute_result"
    }
   ],
   "source": [
    "A.add(8)\n",
    "A"
   ]
  },
  {
   "cell_type": "code",
   "execution_count": 25,
   "id": "ce73954c-8e97-404a-b3b4-4d1a19412d11",
   "metadata": {},
   "outputs": [
    {
     "data": {
      "text/plain": [
       "1"
      ]
     },
     "execution_count": 25,
     "metadata": {},
     "output_type": "execute_result"
    }
   ],
   "source": [
    "A.pop()"
   ]
  },
  {
   "cell_type": "code",
   "execution_count": 26,
   "id": "765cb7e7-be3b-4e96-b5ed-c690a0811011",
   "metadata": {},
   "outputs": [
    {
     "data": {
      "text/plain": [
       "{2, 3, 4, 5, 6, 7, 8}"
      ]
     },
     "execution_count": 26,
     "metadata": {},
     "output_type": "execute_result"
    }
   ],
   "source": [
    "A\n"
   ]
  },
  {
   "cell_type": "code",
   "execution_count": null,
   "id": "a158df36-79e1-424b-a672-6c98fe22c047",
   "metadata": {},
   "outputs": [],
   "source": []
  }
 ],
 "metadata": {
  "kernelspec": {
   "display_name": "Python 3 (ipykernel)",
   "language": "python",
   "name": "python3"
  },
  "language_info": {
   "codemirror_mode": {
    "name": "ipython",
    "version": 3
   },
   "file_extension": ".py",
   "mimetype": "text/x-python",
   "name": "python",
   "nbconvert_exporter": "python",
   "pygments_lexer": "ipython3",
   "version": "3.13.5"
  }
 },
 "nbformat": 4,
 "nbformat_minor": 5
}
