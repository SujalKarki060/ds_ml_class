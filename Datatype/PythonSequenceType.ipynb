{
 "cells": [
  {
   "cell_type": "code",
   "execution_count": 102,
   "id": "39985574-4b59-4b84-8621-76427aa95aa0",
   "metadata": {},
   "outputs": [
    {
     "data": {
      "text/plain": [
       "[1, 3, 5, 7, 11, 13, 17, 19, 23]"
      ]
     },
     "execution_count": 102,
     "metadata": {},
     "output_type": "execute_result"
    }
   ],
   "source": [
    "prime = [1,3,5, 7,11,13,17,19,23]\n",
    "prime"
   ]
  },
  {
   "cell_type": "code",
   "execution_count": 103,
   "id": "dea1c9fb-542e-47dc-8ef6-c7df9fad87b5",
   "metadata": {},
   "outputs": [
    {
     "data": {
      "text/plain": [
       "list"
      ]
     },
     "execution_count": 103,
     "metadata": {},
     "output_type": "execute_result"
    }
   ],
   "source": [
    "type(prime)\n"
   ]
  },
  {
   "cell_type": "code",
   "execution_count": 104,
   "id": "88dc2917-07af-47d9-923f-57bb8ad0fb8d",
   "metadata": {},
   "outputs": [],
   "source": [
    "z=[\"apple\", 11.24, \"John45\", -9, True]"
   ]
  },
  {
   "cell_type": "code",
   "execution_count": 105,
   "id": "97a1a3c1-c96b-4e70-8322-2e69184133f8",
   "metadata": {},
   "outputs": [
    {
     "data": {
      "text/plain": [
       "['apple', 11.24, 'John45', -9, True]"
      ]
     },
     "execution_count": 105,
     "metadata": {},
     "output_type": "execute_result"
    }
   ],
   "source": [
    "z"
   ]
  },
  {
   "cell_type": "code",
   "execution_count": 106,
   "id": "acca2923-3d9a-4bff-9d0e-e0fda5ca4c7c",
   "metadata": {},
   "outputs": [
    {
     "data": {
      "text/plain": [
       "5"
      ]
     },
     "execution_count": 106,
     "metadata": {},
     "output_type": "execute_result"
    }
   ],
   "source": [
    "len(z)"
   ]
  },
  {
   "cell_type": "code",
   "execution_count": 107,
   "id": "89f6d225-dafa-4760-8349-88f8d8b3f5db",
   "metadata": {},
   "outputs": [
    {
     "data": {
      "text/plain": [
       "11.24"
      ]
     },
     "execution_count": 107,
     "metadata": {},
     "output_type": "execute_result"
    }
   ],
   "source": [
    "z[1]"
   ]
  },
  {
   "cell_type": "code",
   "execution_count": 108,
   "id": "87eb6456-bb83-4a43-be6e-dadc47c34f52",
   "metadata": {},
   "outputs": [
    {
     "data": {
      "text/plain": [
       "'John45'"
      ]
     },
     "execution_count": 108,
     "metadata": {},
     "output_type": "execute_result"
    }
   ],
   "source": [
    "z[-3]"
   ]
  },
  {
   "cell_type": "code",
   "execution_count": 109,
   "id": "0a9adb3a-51ed-4cdd-bbe7-1ac95e24a373",
   "metadata": {},
   "outputs": [
    {
     "data": {
      "text/plain": [
       "[5, 11, 17, 23]"
      ]
     },
     "execution_count": 109,
     "metadata": {},
     "output_type": "execute_result"
    }
   ],
   "source": [
    "prime[2::2]"
   ]
  },
  {
   "cell_type": "code",
   "execution_count": 110,
   "id": "49bd4b18-a26c-41de-9895-f5cb6672854d",
   "metadata": {},
   "outputs": [
    {
     "data": {
      "text/plain": [
       "[23, 19, 17, 13, 11, 7, 5, 3, 1]"
      ]
     },
     "execution_count": 110,
     "metadata": {},
     "output_type": "execute_result"
    }
   ],
   "source": [
    "prime[::-1]"
   ]
  },
  {
   "cell_type": "code",
   "execution_count": 111,
   "id": "fe813c3f-d6b8-49fb-801a-81266d981087",
   "metadata": {},
   "outputs": [],
   "source": [
    "prime.append(29)"
   ]
  },
  {
   "cell_type": "code",
   "execution_count": 112,
   "id": "08586ca3-f639-4cd7-b973-c8703fb67576",
   "metadata": {},
   "outputs": [
    {
     "data": {
      "text/plain": [
       "[1, 3, 5, 7, 11, 13, 17, 19, 23, 29]"
      ]
     },
     "execution_count": 112,
     "metadata": {},
     "output_type": "execute_result"
    }
   ],
   "source": [
    "prime"
   ]
  },
  {
   "cell_type": "code",
   "execution_count": 113,
   "id": "24b971a2-db7e-48b1-96dd-5632df4b2ce8",
   "metadata": {},
   "outputs": [
    {
     "data": {
      "text/plain": [
       "29"
      ]
     },
     "execution_count": 113,
     "metadata": {},
     "output_type": "execute_result"
    }
   ],
   "source": [
    "prime.pop(9)"
   ]
  },
  {
   "cell_type": "code",
   "execution_count": 114,
   "id": "bdbdec76-12a1-4b81-8627-45ebe13637d8",
   "metadata": {},
   "outputs": [
    {
     "data": {
      "text/plain": [
       "[1, 3, 5, 7, 11, 13, 17, 19, 23]"
      ]
     },
     "execution_count": 114,
     "metadata": {},
     "output_type": "execute_result"
    }
   ],
   "source": [
    "prime"
   ]
  },
  {
   "cell_type": "code",
   "execution_count": 115,
   "id": "2599a5e5-d254-4ed8-9f60-c6468a1e00b0",
   "metadata": {},
   "outputs": [
    {
     "data": {
      "text/plain": [
       "99"
      ]
     },
     "execution_count": 115,
     "metadata": {},
     "output_type": "execute_result"
    }
   ],
   "source": [
    "sum(prime)"
   ]
  },
  {
   "cell_type": "code",
   "execution_count": 116,
   "id": "81fc8251-6211-4a68-808b-35ea31380341",
   "metadata": {},
   "outputs": [],
   "source": [
    "z[2] = \"John\""
   ]
  },
  {
   "cell_type": "code",
   "execution_count": 117,
   "id": "dc6dc1ad-9ade-4dbc-9e40-5e5fe4d89486",
   "metadata": {},
   "outputs": [
    {
     "data": {
      "text/plain": [
       "['apple', 11.24, 'John', -9, True]"
      ]
     },
     "execution_count": 117,
     "metadata": {},
     "output_type": "execute_result"
    }
   ],
   "source": [
    "z"
   ]
  },
  {
   "cell_type": "code",
   "execution_count": 118,
   "id": "d6eb7456-de34-49d2-9672-610af0ce89e0",
   "metadata": {},
   "outputs": [
    {
     "data": {
      "text/plain": [
       "['apple', 11.24, 'John', -9, True, 66]"
      ]
     },
     "execution_count": 118,
     "metadata": {},
     "output_type": "execute_result"
    }
   ],
   "source": [
    "z.append(66)\n",
    "z"
   ]
  },
  {
   "cell_type": "code",
   "execution_count": 119,
   "id": "2fec1524-c646-4cbe-8717-491e4d8d109e",
   "metadata": {},
   "outputs": [],
   "source": [
    "z.insert(1, \"cow\")"
   ]
  },
  {
   "cell_type": "code",
   "execution_count": 120,
   "id": "e0a62138-2a99-4ff7-83a9-e92b0c3351e1",
   "metadata": {},
   "outputs": [
    {
     "data": {
      "text/plain": [
       "['apple', 'cow', 11.24, 'John', -9, True, 66]"
      ]
     },
     "execution_count": 120,
     "metadata": {},
     "output_type": "execute_result"
    }
   ],
   "source": [
    "z"
   ]
  },
  {
   "cell_type": "code",
   "execution_count": 121,
   "id": "1a0ec83e-0463-42d8-8180-65c4f82885e0",
   "metadata": {},
   "outputs": [],
   "source": [
    "z.extend(prime)"
   ]
  },
  {
   "cell_type": "code",
   "execution_count": 122,
   "id": "6ec89546-3390-49bb-bb4e-db97795abc59",
   "metadata": {},
   "outputs": [
    {
     "data": {
      "text/plain": [
       "['apple', 'cow', 11.24, 'John', -9, True, 66, 1, 3, 5, 7, 11, 13, 17, 19, 23]"
      ]
     },
     "execution_count": 122,
     "metadata": {},
     "output_type": "execute_result"
    }
   ],
   "source": [
    "z"
   ]
  },
  {
   "cell_type": "code",
   "execution_count": 123,
   "id": "c762af97-7c38-40de-98d4-6f1d7c043532",
   "metadata": {},
   "outputs": [
    {
     "data": {
      "text/plain": [
       "[1, 3, 5, 7, 11, 13, 17, 19, 23]"
      ]
     },
     "execution_count": 123,
     "metadata": {},
     "output_type": "execute_result"
    }
   ],
   "source": [
    "prime"
   ]
  },
  {
   "cell_type": "code",
   "execution_count": 124,
   "id": "42f7c80e-3ff1-4417-8840-65b5e2146c5d",
   "metadata": {},
   "outputs": [
    {
     "data": {
      "text/plain": [
       "['apple', 'cow', 11.24, 'John', -9, True, 66, 1, 3, 5, 7, 11, 13, 17, 19, 23]"
      ]
     },
     "execution_count": 124,
     "metadata": {},
     "output_type": "execute_result"
    }
   ],
   "source": [
    "z"
   ]
  },
  {
   "cell_type": "code",
   "execution_count": 125,
   "id": "18d60fc8-e823-4268-88ed-070a010637bf",
   "metadata": {},
   "outputs": [],
   "source": [
    "z.remove(-9)"
   ]
  },
  {
   "cell_type": "code",
   "execution_count": 126,
   "id": "cd4da927-d1ff-4820-a100-7939d0bd1863",
   "metadata": {},
   "outputs": [
    {
     "data": {
      "text/plain": [
       "['apple', 'cow', 11.24, 'John', True, 66, 1, 3, 5, 7, 11, 13, 17, 19, 23]"
      ]
     },
     "execution_count": 126,
     "metadata": {},
     "output_type": "execute_result"
    }
   ],
   "source": [
    "z\n"
   ]
  },
  {
   "cell_type": "code",
   "execution_count": 127,
   "id": "e54b99c4-933d-4edb-a478-32ccdb2e51aa",
   "metadata": {},
   "outputs": [
    {
     "data": {
      "text/plain": [
       "23"
      ]
     },
     "execution_count": 127,
     "metadata": {},
     "output_type": "execute_result"
    }
   ],
   "source": [
    "z.pop()"
   ]
  },
  {
   "cell_type": "code",
   "execution_count": 128,
   "id": "59f29234-d248-4cde-aa05-9eb274793aff",
   "metadata": {},
   "outputs": [
    {
     "data": {
      "text/plain": [
       "['apple', 'cow', 11.24, 'John', True, 66, 1, 3, 5, 7, 11, 13, 17, 19]"
      ]
     },
     "execution_count": 128,
     "metadata": {},
     "output_type": "execute_result"
    }
   ],
   "source": [
    "z"
   ]
  },
  {
   "cell_type": "code",
   "execution_count": 129,
   "id": "2805d040-ac57-496f-b0cc-b99bfe9c9b48",
   "metadata": {},
   "outputs": [],
   "source": [
    "z.clear()"
   ]
  },
  {
   "cell_type": "code",
   "execution_count": 130,
   "id": "613cec4f-87f9-40ed-8919-0c427ad33dbb",
   "metadata": {},
   "outputs": [
    {
     "data": {
      "text/plain": [
       "[]"
      ]
     },
     "execution_count": 130,
     "metadata": {},
     "output_type": "execute_result"
    }
   ],
   "source": [
    "z"
   ]
  },
  {
   "cell_type": "code",
   "execution_count": 131,
   "id": "d5db3648-0289-4452-aeb2-17774a904456",
   "metadata": {},
   "outputs": [],
   "source": [
    "name = [\"Ram\", \"Hari\", \"Shyam\"]"
   ]
  },
  {
   "cell_type": "code",
   "execution_count": 132,
   "id": "74dcc3c1-21a6-4973-ba15-af2182351416",
   "metadata": {},
   "outputs": [],
   "source": [
    "name_new = name.copy()"
   ]
  },
  {
   "cell_type": "code",
   "execution_count": 133,
   "id": "f5ab5cf6-9b09-4a19-8af1-00667c32906f",
   "metadata": {},
   "outputs": [
    {
     "data": {
      "text/plain": [
       "['Ram', 'Hari', 'Shyam']"
      ]
     },
     "execution_count": 133,
     "metadata": {},
     "output_type": "execute_result"
    }
   ],
   "source": [
    "name_new"
   ]
  },
  {
   "cell_type": "code",
   "execution_count": 134,
   "id": "8488c3fd-c74d-4ac6-ad41-c80ca73f3185",
   "metadata": {},
   "outputs": [],
   "source": [
    "name_new.append(\"Krishna\")"
   ]
  },
  {
   "cell_type": "code",
   "execution_count": 135,
   "id": "f11c1c75-3b2a-4315-8513-8acfe6063324",
   "metadata": {},
   "outputs": [
    {
     "data": {
      "text/plain": [
       "['Ram', 'Hari', 'Shyam', 'Krishna']"
      ]
     },
     "execution_count": 135,
     "metadata": {},
     "output_type": "execute_result"
    }
   ],
   "source": [
    "name_new"
   ]
  },
  {
   "cell_type": "code",
   "execution_count": 136,
   "id": "fa6cad4e-a35c-4842-ae61-c36de0cefdcd",
   "metadata": {},
   "outputs": [
    {
     "data": {
      "text/plain": [
       "['Ram', 'Hari', 'Shyam']"
      ]
     },
     "execution_count": 136,
     "metadata": {},
     "output_type": "execute_result"
    }
   ],
   "source": [
    "name"
   ]
  },
  {
   "cell_type": "code",
   "execution_count": 152,
   "id": "2f6ea771-41fe-4494-bf91-cd6cfac34c5c",
   "metadata": {},
   "outputs": [
    {
     "data": {
      "text/plain": [
       "[3, 1, 99, 5, 1]"
      ]
     },
     "execution_count": 152,
     "metadata": {},
     "output_type": "execute_result"
    }
   ],
   "source": [
    "mylist = [3,1,99,5,1]\n",
    "mylist"
   ]
  },
  {
   "cell_type": "code",
   "execution_count": 153,
   "id": "5f62e580-18d1-4dc6-bb49-8cb14e85eaa3",
   "metadata": {},
   "outputs": [],
   "source": [
    "mylist.sort(reverse=True)"
   ]
  },
  {
   "cell_type": "code",
   "execution_count": 154,
   "id": "c097cfb0-385e-42bc-9992-7c2b9af10729",
   "metadata": {},
   "outputs": [
    {
     "data": {
      "text/plain": [
       "[99, 5, 3, 1, 1]"
      ]
     },
     "execution_count": 154,
     "metadata": {},
     "output_type": "execute_result"
    }
   ],
   "source": [
    "mylist"
   ]
  },
  {
   "cell_type": "code",
   "execution_count": 155,
   "id": "4ef977bd-9c32-4dd4-a271-68d45268dea2",
   "metadata": {},
   "outputs": [],
   "source": [
    "mylist.reverse()"
   ]
  },
  {
   "cell_type": "code",
   "execution_count": 156,
   "id": "ec176893-5ff3-468e-92cc-f02515484f53",
   "metadata": {},
   "outputs": [
    {
     "data": {
      "text/plain": [
       "[1, 1, 3, 5, 99]"
      ]
     },
     "execution_count": 156,
     "metadata": {},
     "output_type": "execute_result"
    }
   ],
   "source": [
    "mylist"
   ]
  },
  {
   "cell_type": "code",
   "execution_count": 157,
   "id": "252b2665-e89b-4169-b4cc-cd5be0de6874",
   "metadata": {},
   "outputs": [
    {
     "data": {
      "text/plain": [
       "2"
      ]
     },
     "execution_count": 157,
     "metadata": {},
     "output_type": "execute_result"
    }
   ],
   "source": [
    "mylist.count(1)\n"
   ]
  },
  {
   "cell_type": "code",
   "execution_count": 158,
   "id": "7118083c-59a5-4dba-bbcd-649c68701953",
   "metadata": {},
   "outputs": [
    {
     "data": {
      "text/plain": [
       "0"
      ]
     },
     "execution_count": 158,
     "metadata": {},
     "output_type": "execute_result"
    }
   ],
   "source": [
    "mylist.index(1)"
   ]
  },
  {
   "cell_type": "code",
   "execution_count": 159,
   "id": "054166d0-d051-40a5-bbdf-40c6e70b91e0",
   "metadata": {},
   "outputs": [],
   "source": [
    "mytuple = (720,1280,66)"
   ]
  },
  {
   "cell_type": "code",
   "execution_count": 160,
   "id": "81c5ebf3-d5a2-4105-939a-d88428a0a5d8",
   "metadata": {},
   "outputs": [
    {
     "data": {
      "text/plain": [
       "(720, 1280, 66)"
      ]
     },
     "execution_count": 160,
     "metadata": {},
     "output_type": "execute_result"
    }
   ],
   "source": [
    "mytuple\n"
   ]
  },
  {
   "cell_type": "code",
   "execution_count": 161,
   "id": "886d6fb5-5734-4f22-9da8-82c4a49eba57",
   "metadata": {},
   "outputs": [
    {
     "data": {
      "text/plain": [
       "tuple"
      ]
     },
     "execution_count": 161,
     "metadata": {},
     "output_type": "execute_result"
    }
   ],
   "source": [
    "type(mytuple)"
   ]
  },
  {
   "cell_type": "code",
   "execution_count": 162,
   "id": "c586403e-b5f0-40b6-b0c4-bf2938fefcee",
   "metadata": {},
   "outputs": [
    {
     "data": {
      "text/plain": [
       "720"
      ]
     },
     "execution_count": 162,
     "metadata": {},
     "output_type": "execute_result"
    }
   ],
   "source": [
    "mytuple[0]"
   ]
  },
  {
   "cell_type": "code",
   "execution_count": 163,
   "id": "365466b1-9a48-4197-9c00-6416a4428c8b",
   "metadata": {},
   "outputs": [
    {
     "data": {
      "text/plain": [
       "66"
      ]
     },
     "execution_count": 163,
     "metadata": {},
     "output_type": "execute_result"
    }
   ],
   "source": [
    "mytuple[-1]"
   ]
  },
  {
   "cell_type": "code",
   "execution_count": 164,
   "id": "13499b2c-c129-4bbe-a5bd-944e359b40cc",
   "metadata": {},
   "outputs": [
    {
     "data": {
      "text/plain": [
       "(1, 2, 56, 33, 66, 0)"
      ]
     },
     "execution_count": 164,
     "metadata": {},
     "output_type": "execute_result"
    }
   ],
   "source": [
    "longtuple = (1,2,56,33,66,0)\n",
    "longtuple"
   ]
  },
  {
   "cell_type": "code",
   "execution_count": 165,
   "id": "15e05bf7-41fd-447b-9b6e-61a83e293839",
   "metadata": {},
   "outputs": [
    {
     "data": {
      "text/plain": [
       "(56, 33, 66, 0)"
      ]
     },
     "execution_count": 165,
     "metadata": {},
     "output_type": "execute_result"
    }
   ],
   "source": [
    "longtuple[2:6]"
   ]
  },
  {
   "cell_type": "code",
   "execution_count": 166,
   "id": "a9b0f2f4-ef3a-4b51-8543-9529ff43d615",
   "metadata": {},
   "outputs": [
    {
     "ename": "TypeError",
     "evalue": "'tuple' object does not support item assignment",
     "output_type": "error",
     "traceback": [
      "\u001b[31m---------------------------------------------------------------------------\u001b[39m",
      "\u001b[31mTypeError\u001b[39m                                 Traceback (most recent call last)",
      "\u001b[36mCell\u001b[39m\u001b[36m \u001b[39m\u001b[32mIn[166]\u001b[39m\u001b[32m, line 1\u001b[39m\n\u001b[32m----> \u001b[39m\u001b[32m1\u001b[39m \u001b[43mlongtuple\u001b[49m\u001b[43m[\u001b[49m\u001b[32;43m0\u001b[39;49m\u001b[43m]\u001b[49m =\u001b[32m4\u001b[39m\n",
      "\u001b[31mTypeError\u001b[39m: 'tuple' object does not support item assignment"
     ]
    }
   ],
   "source": [
    "longtuple[0] =4"
   ]
  },
  {
   "cell_type": "code",
   "execution_count": null,
   "id": "cd4770fa-fd16-433f-ad75-910347defbfc",
   "metadata": {},
   "outputs": [
    {
     "data": {
      "text/plain": [
       "1"
      ]
     },
     "execution_count": 134,
     "metadata": {},
     "output_type": "execute_result"
    }
   ],
   "source": [
    "longtuple.count(0)"
   ]
  },
  {
   "cell_type": "code",
   "execution_count": null,
   "id": "105008d4-7056-41b3-9874-d44da5324c19",
   "metadata": {},
   "outputs": [
    {
     "data": {
      "text/plain": [
       "[0, 1, 2, 33, 56, 66]"
      ]
     },
     "execution_count": 135,
     "metadata": {},
     "output_type": "execute_result"
    }
   ],
   "source": [
    "sorted(longtuple)\n"
   ]
  },
  {
   "cell_type": "code",
   "execution_count": null,
   "id": "6a6d0b24-6311-4e78-92e9-49ab6e2ee1f9",
   "metadata": {},
   "outputs": [
    {
     "data": {
      "text/plain": [
       "[1, 2, 56, 33, 66, 0]"
      ]
     },
     "execution_count": 137,
     "metadata": {},
     "output_type": "execute_result"
    }
   ],
   "source": [
    "list(longtuple) ##type conversion\n"
   ]
  },
  {
   "cell_type": "code",
   "execution_count": null,
   "id": "645fdb33-1a24-48e5-9142-28834578d620",
   "metadata": {},
   "outputs": [
    {
     "data": {
      "text/plain": [
       "tuple"
      ]
     },
     "execution_count": 138,
     "metadata": {},
     "output_type": "execute_result"
    }
   ],
   "source": [
    "type(longtuple)"
   ]
  },
  {
   "cell_type": "code",
   "execution_count": 167,
   "id": "0370737e-0a37-436f-b8a4-53711c7e0683",
   "metadata": {},
   "outputs": [
    {
     "data": {
      "text/plain": [
       "(1, 1, 3, 5, 99)"
      ]
     },
     "execution_count": 167,
     "metadata": {},
     "output_type": "execute_result"
    }
   ],
   "source": [
    "tuple(mylist)"
   ]
  },
  {
   "cell_type": "code",
   "execution_count": null,
   "id": "ba2e2d29-e84b-49d8-ad6c-99a814bf2952",
   "metadata": {},
   "outputs": [],
   "source": []
  },
  {
   "cell_type": "code",
   "execution_count": null,
   "id": "36adf098",
   "metadata": {},
   "outputs": [],
   "source": []
  },
  {
   "cell_type": "code",
   "execution_count": null,
   "id": "cb82beda",
   "metadata": {},
   "outputs": [],
   "source": []
  }
 ],
 "metadata": {
  "kernelspec": {
   "display_name": "Python 3 (ipykernel)",
   "language": "python",
   "name": "python3"
  },
  "language_info": {
   "codemirror_mode": {
    "name": "ipython",
    "version": 3
   },
   "file_extension": ".py",
   "mimetype": "text/x-python",
   "name": "python",
   "nbconvert_exporter": "python",
   "pygments_lexer": "ipython3",
   "version": "3.13.5"
  }
 },
 "nbformat": 4,
 "nbformat_minor": 5
}
