{
 "cells": [
  {
   "cell_type": "code",
   "execution_count": 1,
   "id": "adc1e8c1-90ca-45d8-8eae-6463b8457f8d",
   "metadata": {},
   "outputs": [],
   "source": [
    "fruits = [\"apple\",\"banana\",\"orange\"]"
   ]
  },
  {
   "cell_type": "code",
   "execution_count": 2,
   "id": "164199a4-d9aa-4222-847a-b632ca275eac",
   "metadata": {},
   "outputs": [
    {
     "name": "stdout",
     "output_type": "stream",
     "text": [
      "Fruit apple\n",
      "Fruit banana\n",
      "Fruit orange\n",
      "completed\n"
     ]
    }
   ],
   "source": [
    "for each in fruits:\n",
    "    print(f\"Fruit {each}\")\n",
    "\n",
    "print(\"completed\")"
   ]
  },
  {
   "cell_type": "code",
   "execution_count": 3,
   "id": "bc45b521-2dce-43eb-8419-e7894b5e3742",
   "metadata": {},
   "outputs": [
    {
     "name": "stdout",
     "output_type": "stream",
     "text": [
      "H\n",
      "e\n",
      "l\n",
      "l\n",
      "o\n"
     ]
    }
   ],
   "source": [
    "for ch in \"Hello\":\n",
    "    print(ch)"
   ]
  },
  {
   "cell_type": "code",
   "execution_count": 4,
   "id": "28800112-b2cc-4c45-bcb6-29378067fecf",
   "metadata": {},
   "outputs": [
    {
     "data": {
      "text/plain": [
       "[0, 1, 2, 3, 4, 5, 6, 7, 8, 9]"
      ]
     },
     "execution_count": 4,
     "metadata": {},
     "output_type": "execute_result"
    }
   ],
   "source": [
    "list(range(10))"
   ]
  },
  {
   "cell_type": "code",
   "execution_count": 5,
   "id": "dc7b730f-9d58-4196-a499-bdc7ee18c1f8",
   "metadata": {},
   "outputs": [
    {
     "data": {
      "text/plain": [
       "[10, 15, 20, 25, 30, 35, 40, 45, 50, 55, 60, 65, 70, 75, 80, 85, 90, 95]"
      ]
     },
     "execution_count": 5,
     "metadata": {},
     "output_type": "execute_result"
    }
   ],
   "source": [
    "list(range(10,100,5))"
   ]
  },
  {
   "cell_type": "code",
   "execution_count": 6,
   "id": "df7ebc2f-35af-4de9-8d1a-1ef22808c92e",
   "metadata": {},
   "outputs": [
    {
     "name": "stdout",
     "output_type": "stream",
     "text": [
      "0\n",
      "1\n",
      "2\n",
      "3\n",
      "4\n",
      "5\n",
      "6\n",
      "7\n",
      "8\n",
      "9\n"
     ]
    }
   ],
   "source": [
    "for i in range(10):\n",
    "    print(i)"
   ]
  },
  {
   "cell_type": "code",
   "execution_count": 29,
   "id": "751c1414-66ef-48a3-8f72-68e856ad283d",
   "metadata": {},
   "outputs": [
    {
     "name": "stdout",
     "output_type": "stream",
     "text": [
      "******\n",
      "*****\n",
      "****\n",
      "***\n",
      "**\n",
      "*\n"
     ]
    }
   ],
   "source": [
    "for i in range (6,0,-1):\n",
    " \n",
    "    print(\"*\"*i)"
   ]
  },
  {
   "cell_type": "markdown",
   "id": "5e5f20c3-8766-44f8-bca4-4b7bc7219102",
   "metadata": {},
   "source": [
    "## Nested for loop"
   ]
  },
  {
   "cell_type": "code",
   "execution_count": 30,
   "id": "02eecbe9-e20a-4511-892e-ff161c24c28b",
   "metadata": {},
   "outputs": [],
   "source": [
    "adj = [\"red\", \"big\", \"tasty\"]\n",
    "fruits =[\"apple\", \"banana\", \"orange\"]"
   ]
  },
  {
   "cell_type": "code",
   "execution_count": 31,
   "id": "90fb936f-4ef3-45c8-a9b9-76b51b6188d2",
   "metadata": {},
   "outputs": [
    {
     "name": "stdout",
     "output_type": "stream",
     "text": [
      "red apple\n",
      "red banana\n",
      "red orange\n",
      "big apple\n",
      "big banana\n",
      "big orange\n",
      "tasty apple\n",
      "tasty banana\n",
      "tasty orange\n"
     ]
    }
   ],
   "source": [
    "for a in adj:\n",
    "    for f in fruits:\n",
    "        print(a,f)"
   ]
  },
  {
   "cell_type": "code",
   "execution_count": null,
   "id": "707fb505-42a1-458a-b81d-1cf135fe2006",
   "metadata": {},
   "outputs": [],
   "source": []
  },
  {
   "cell_type": "code",
   "execution_count": 4,
   "id": "ef70b768-7e1e-4621-9d44-caf6de727a26",
   "metadata": {},
   "outputs": [
    {
     "data": {
      "text/plain": [
       "[('name', 'vince'), ('age', 30), ('gender', 'male')]"
      ]
     },
     "execution_count": 4,
     "metadata": {},
     "output_type": "execute_result"
    }
   ],
   "source": [
    "person = {\n",
    "    \"name\" : \"vince\",\n",
    "    \"age\" : 30,\n",
    "    \"gender\" : \"male\"\n",
    "}\n",
    "person_list = list(person.items())\n",
    "person_list"
   ]
  },
  {
   "cell_type": "code",
   "execution_count": 5,
   "id": "9fb1f3ed-90cd-4458-adad-bbed1a7565a9",
   "metadata": {},
   "outputs": [
    {
     "name": "stdout",
     "output_type": "stream",
     "text": [
      "('name', 'vince')\n",
      "('age', 30)\n",
      "('gender', 'male')\n"
     ]
    }
   ],
   "source": [
    "for each in person_list:\n",
    "    print(each)"
   ]
  },
  {
   "cell_type": "code",
   "execution_count": 7,
   "id": "5cecc830-f833-4a09-a0eb-a99f855c72eb",
   "metadata": {},
   "outputs": [
    {
     "name": "stdout",
     "output_type": "stream",
     "text": [
      " Key :name = vince\n",
      " Key :age = 30\n",
      " Key :gender = male\n"
     ]
    }
   ],
   "source": [
    "for (key, value) in person_list:\n",
    "    print(f\" Key :{key} = {value}\")"
   ]
  },
  {
   "cell_type": "code",
   "execution_count": 8,
   "id": "493f4aa2-f738-4292-bf96-3d67cfc8d164",
   "metadata": {},
   "outputs": [
    {
     "name": "stdout",
     "output_type": "stream",
     "text": [
      "[[1, 2, 3], [4, 5, 6], [7, 8, 9]]\n"
     ]
    }
   ],
   "source": [
    "coord = [[1,2,3],[4,5,6],[7,8,9]]\n",
    "print(coord)"
   ]
  },
  {
   "cell_type": "code",
   "execution_count": 12,
   "id": "0e9a842d-0e05-45f7-b496-fab8d61585f1",
   "metadata": {},
   "outputs": [
    {
     "name": "stdout",
     "output_type": "stream",
     "text": [
      "1 2 3\n",
      "4 5 6\n",
      "7 8 9\n"
     ]
    }
   ],
   "source": [
    "for x ,y, z in coord:\n",
    "    print(x,y,z)"
   ]
  },
  {
   "cell_type": "code",
   "execution_count": 18,
   "id": "44f5fff4-b6fe-4f45-b6e5-1b6104c55be0",
   "metadata": {},
   "outputs": [
    {
     "name": "stdin",
     "output_type": "stream",
     "text": [
      "Enter a number 55\n"
     ]
    },
    {
     "name": "stdout",
     "output_type": "stream",
     "text": [
      "55 x 1 = 55\n",
      "55 x 2 = 110\n",
      "55 x 3 = 165\n",
      "55 x 4 = 220\n",
      "55 x 5 = 275\n",
      "55 x 6 = 330\n",
      "55 x 7 = 385\n",
      "55 x 8 = 440\n",
      "55 x 9 = 495\n",
      "55 x 10 = 550\n"
     ]
    }
   ],
   "source": [
    "number = int(input(\"Enter a number\"))\n",
    "\n",
    "for i in range(1,11):\n",
    "     print(number, 'x', i, '=', number*i)"
   ]
  },
  {
   "cell_type": "code",
   "execution_count": 22,
   "id": "6bcdfe12-4c81-4720-8946-53602b4105b0",
   "metadata": {},
   "outputs": [
    {
     "name": "stdout",
     "output_type": "stream",
     "text": [
      " Given numbers are : [2, 5, 3, 6, 7, 33, 5, 8, 68, 0, 12, 4, 6, 66, 9, 101, 55, 32, 89]\n",
      " Even numbers are : [2, 6, 8, 68, 0, 12, 4, 6, 66, 32]\n",
      " Odd numbers are : [5, 3, 7, 33, 5, 9, 101, 55, 89]\n"
     ]
    }
   ],
   "source": [
    "numbers = [2,5,3,6,7,33,5,8,68,0,12,4,6,66,9,101,55,32,89] \n",
    "\n",
    "even_numbers = []\n",
    "odd_numbers = []\n",
    "\n",
    "for num in numbers:\n",
    "    if num %2 !=0:\n",
    "        odd_numbers.append(num)\n",
    "    else:\n",
    "        even_numbers.append(num)\n",
    "\n",
    "print(f\" Given numbers are : {numbers}\")\n",
    "print(f\" Even numbers are : {even_numbers}\")\n",
    "print(f\" Odd numbers are : {odd_numbers}\")"
   ]
  },
  {
   "cell_type": "code",
   "execution_count": null,
   "id": "2e6931f4-d00c-4caa-a80a-532d0bcdd99a",
   "metadata": {},
   "outputs": [],
   "source": []
  }
 ],
 "metadata": {
  "kernelspec": {
   "display_name": "Python 3 (ipykernel)",
   "language": "python",
   "name": "python3"
  },
  "language_info": {
   "codemirror_mode": {
    "name": "ipython",
    "version": 3
   },
   "file_extension": ".py",
   "mimetype": "text/x-python",
   "name": "python",
   "nbconvert_exporter": "python",
   "pygments_lexer": "ipython3",
   "version": "3.13.5"
  }
 },
 "nbformat": 4,
 "nbformat_minor": 5
}
