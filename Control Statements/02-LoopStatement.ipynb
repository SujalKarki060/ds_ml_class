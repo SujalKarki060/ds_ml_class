{
 "cells": [
  {
   "cell_type": "code",
   "execution_count": 1,
   "id": "adc1e8c1-90ca-45d8-8eae-6463b8457f8d",
   "metadata": {},
   "outputs": [],
   "source": [
    "fruits = [\"apple\",\"banana\",\"orange\"]"
   ]
  },
  {
   "cell_type": "code",
   "execution_count": 2,
   "id": "164199a4-d9aa-4222-847a-b632ca275eac",
   "metadata": {},
   "outputs": [
    {
     "name": "stdout",
     "output_type": "stream",
     "text": [
      "Fruit apple\n",
      "Fruit banana\n",
      "Fruit orange\n",
      "completed\n"
     ]
    }
   ],
   "source": [
    "for each in fruits:\n",
    "    print(f\"Fruit {each}\")\n",
    "\n",
    "print(\"completed\")"
   ]
  },
  {
   "cell_type": "code",
   "execution_count": 3,
   "id": "bc45b521-2dce-43eb-8419-e7894b5e3742",
   "metadata": {},
   "outputs": [
    {
     "name": "stdout",
     "output_type": "stream",
     "text": [
      "H\n",
      "e\n",
      "l\n",
      "l\n",
      "o\n"
     ]
    }
   ],
   "source": [
    "for ch in \"Hello\":\n",
    "    print(ch)"
   ]
  },
  {
   "cell_type": "code",
   "execution_count": 4,
   "id": "28800112-b2cc-4c45-bcb6-29378067fecf",
   "metadata": {},
   "outputs": [
    {
     "data": {
      "text/plain": [
       "[0, 1, 2, 3, 4, 5, 6, 7, 8, 9]"
      ]
     },
     "execution_count": 4,
     "metadata": {},
     "output_type": "execute_result"
    }
   ],
   "source": [
    "list(range(10))"
   ]
  },
  {
   "cell_type": "code",
   "execution_count": 5,
   "id": "dc7b730f-9d58-4196-a499-bdc7ee18c1f8",
   "metadata": {},
   "outputs": [
    {
     "data": {
      "text/plain": [
       "[10, 15, 20, 25, 30, 35, 40, 45, 50, 55, 60, 65, 70, 75, 80, 85, 90, 95]"
      ]
     },
     "execution_count": 5,
     "metadata": {},
     "output_type": "execute_result"
    }
   ],
   "source": [
    "list(range(10,100,5))"
   ]
  },
  {
   "cell_type": "code",
   "execution_count": 6,
   "id": "df7ebc2f-35af-4de9-8d1a-1ef22808c92e",
   "metadata": {},
   "outputs": [
    {
     "name": "stdout",
     "output_type": "stream",
     "text": [
      "0\n",
      "1\n",
      "2\n",
      "3\n",
      "4\n",
      "5\n",
      "6\n",
      "7\n",
      "8\n",
      "9\n"
     ]
    }
   ],
   "source": [
    "for i in range(10):\n",
    "    print(i)"
   ]
  },
  {
   "cell_type": "code",
   "execution_count": 29,
   "id": "751c1414-66ef-48a3-8f72-68e856ad283d",
   "metadata": {},
   "outputs": [
    {
     "name": "stdout",
     "output_type": "stream",
     "text": [
      "******\n",
      "*****\n",
      "****\n",
      "***\n",
      "**\n",
      "*\n"
     ]
    }
   ],
   "source": [
    "for i in range (6,0,-1):\n",
    " \n",
    "    print(\"*\"*i)"
   ]
  },
  {
   "cell_type": "markdown",
   "id": "5e5f20c3-8766-44f8-bca4-4b7bc7219102",
   "metadata": {},
   "source": [
    "## Nested for loop"
   ]
  },
  {
   "cell_type": "code",
   "execution_count": 30,
   "id": "02eecbe9-e20a-4511-892e-ff161c24c28b",
   "metadata": {},
   "outputs": [],
   "source": [
    "adj = [\"red\", \"big\", \"tasty\"]\n",
    "fruits =[\"apple\", \"banana\", \"orange\"]"
   ]
  },
  {
   "cell_type": "code",
   "execution_count": 31,
   "id": "90fb936f-4ef3-45c8-a9b9-76b51b6188d2",
   "metadata": {},
   "outputs": [
    {
     "name": "stdout",
     "output_type": "stream",
     "text": [
      "red apple\n",
      "red banana\n",
      "red orange\n",
      "big apple\n",
      "big banana\n",
      "big orange\n",
      "tasty apple\n",
      "tasty banana\n",
      "tasty orange\n"
     ]
    }
   ],
   "source": [
    "for a in adj:\n",
    "    for f in fruits:\n",
    "        print(a,f)"
   ]
  },
  {
   "cell_type": "code",
   "execution_count": null,
   "id": "707fb505-42a1-458a-b81d-1cf135fe2006",
   "metadata": {},
   "outputs": [],
   "source": []
  }
 ],
 "metadata": {
  "kernelspec": {
   "display_name": "Python 3 (ipykernel)",
   "language": "python",
   "name": "python3"
  },
  "language_info": {
   "codemirror_mode": {
    "name": "ipython",
    "version": 3
   },
   "file_extension": ".py",
   "mimetype": "text/x-python",
   "name": "python",
   "nbconvert_exporter": "python",
   "pygments_lexer": "ipython3",
   "version": "3.13.5"
  }
 },
 "nbformat": 4,
 "nbformat_minor": 5
}
