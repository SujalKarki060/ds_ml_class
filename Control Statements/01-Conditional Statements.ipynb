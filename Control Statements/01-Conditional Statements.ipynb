{
 "cells": [
  {
   "cell_type": "code",
   "execution_count": 9,
   "id": "7f6db777-29bb-49a1-9481-c5972374dc6b",
   "metadata": {},
   "outputs": [
    {
     "name": "stdout",
     "output_type": "stream",
     "text": [
      "Inside if block\n",
      "55 is greater than 0\n",
      "outside if block\n"
     ]
    }
   ],
   "source": [
    "x = 55\n",
    "\n",
    "if x > 0:\n",
    "    print(\"Inside if block\")\n",
    "    print(f\"{x} is greater than 0\")\n",
    "\n",
    "print(\"outside if block\")\n",
    "   "
   ]
  },
  {
   "cell_type": "code",
   "execution_count": 11,
   "id": "cdaa9e2a-9645-472d-9854-621cddae67c8",
   "metadata": {},
   "outputs": [],
   "source": [
    "x = 5\n",
    "y = -5\n",
    "\n",
    "if x > 0 and y > 0:\n",
    "    print(\"Both are positive\")"
   ]
  },
  {
   "cell_type": "code",
   "execution_count": 12,
   "id": "c91069f5-6ec4-4ac7-82a9-44eb1c5e3f3c",
   "metadata": {},
   "outputs": [
    {
     "name": "stdout",
     "output_type": "stream",
     "text": [
      "odd\n"
     ]
    }
   ],
   "source": [
    "x = 33\n",
    "\n",
    "if x%2 == 0:\n",
    "    print(\"even\")\n",
    "\n",
    "else :\n",
    "    print(\"odd\")"
   ]
  },
  {
   "cell_type": "code",
   "execution_count": 14,
   "id": "1767d6e4-61ba-4af0-83c5-508a7e39ed29",
   "metadata": {},
   "outputs": [
    {
     "name": "stdout",
     "output_type": "stream",
     "text": [
      "It is palindrome\n"
     ]
    }
   ],
   "source": [
    "name = \"madam\"\n",
    "\n",
    "if name ==  name[::-1]:\n",
    "    print(\"It is palindrome\")\n",
    "else:\n",
    "    print(\"It is not palindrome\")"
   ]
  },
  {
   "cell_type": "code",
   "execution_count": 15,
   "id": "9e655321-9886-4de3-b072-06db4372a72f",
   "metadata": {},
   "outputs": [
    {
     "name": "stdout",
     "output_type": "stream",
     "text": [
      "x is positive\n"
     ]
    }
   ],
   "source": [
    "x = 6\n",
    "\n",
    "if x<0 :\n",
    "    print(\"x is negative\")\n",
    "elif x==0:\n",
    "    print(\"x is zero\")\n",
    "else:\n",
    "    print(\"x is positive\")"
   ]
  },
  {
   "cell_type": "code",
   "execution_count": 19,
   "id": "7d2938df-0ece-42cc-9457-7391c4de65be",
   "metadata": {},
   "outputs": [
    {
     "name": "stdout",
     "output_type": "stream",
     "text": [
      "Grade B\n"
     ]
    }
   ],
   "source": [
    "grade = 70\n",
    "\n",
    "if grade >= 80: \n",
    "    print(\"Grade A\")\n",
    "\n",
    "elif grade >= 60:\n",
    "    print(\"Grade B\")\n",
    "\n",
    "elif grade >= 40:\n",
    "    print(\"Grade C\")\n",
    "\n",
    "else:\n",
    "    print(\"Grade D\")"
   ]
  },
  {
   "cell_type": "markdown",
   "id": "93c44293-dd2d-4a0d-9e0c-5a9dc55f9736",
   "metadata": {},
   "source": [
    "## Nested If.. else\n"
   ]
  },
  {
   "cell_type": "code",
   "execution_count": 18,
   "id": "1236dfd9-4a66-43e9-a4ad-ae76fd6d7076",
   "metadata": {},
   "outputs": [
    {
     "name": "stdout",
     "output_type": "stream",
     "text": [
      "Other Grade\n"
     ]
    }
   ],
   "source": [
    "if grade > 0:\n",
    "    if grade > 80:\n",
    "        print(\"Grade A\")\n",
    "        \n",
    "\n",
    "    else:\n",
    "        print(\"Other Grade\")\n",
    "\n",
    "else:\n",
    "    print(\"Enter Positive Value\")"
   ]
  },
  {
   "cell_type": "code",
   "execution_count": null,
   "id": "cb072be6-d380-4dab-b0e5-b0b8621b84a8",
   "metadata": {},
   "outputs": [],
   "source": []
  }
 ],
 "metadata": {
  "kernelspec": {
   "display_name": "Python 3 (ipykernel)",
   "language": "python",
   "name": "python3"
  },
  "language_info": {
   "codemirror_mode": {
    "name": "ipython",
    "version": 3
   },
   "file_extension": ".py",
   "mimetype": "text/x-python",
   "name": "python",
   "nbconvert_exporter": "python",
   "pygments_lexer": "ipython3",
   "version": "3.13.5"
  }
 },
 "nbformat": 4,
 "nbformat_minor": 5
}
