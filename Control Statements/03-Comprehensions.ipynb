{
 "cells": [
  {
   "cell_type": "code",
   "execution_count": 1,
   "id": "0d9107a4-9d7c-44ff-93e4-a46436c87274",
   "metadata": {},
   "outputs": [
    {
     "name": "stdout",
     "output_type": "stream",
     "text": [
      "[1, 4, 9, 16, 25, 36, 49, 64, 81]\n"
     ]
    }
   ],
   "source": [
    "#Usual way\n",
    "squared =[]\n",
    "for num in range(1,10):\n",
    "    squared.append(num ** 2)\n",
    "\n",
    "print(squared)"
   ]
  },
  {
   "cell_type": "code",
   "execution_count": 2,
   "id": "8de32e48-6d8c-42a5-bc01-df06de7cb777",
   "metadata": {},
   "outputs": [
    {
     "name": "stdout",
     "output_type": "stream",
     "text": [
      "[1, 4, 9, 16, 25, 36, 49, 64, 81]\n"
     ]
    }
   ],
   "source": [
    "#list comprehension\n",
    "squared = [num ** 2 for num in range(1,10)]\n",
    "print(squared)"
   ]
  },
  {
   "cell_type": "code",
   "execution_count": 4,
   "id": "616a5127-4648-4961-9ef2-266beedf6595",
   "metadata": {},
   "outputs": [
    {
     "name": "stdout",
     "output_type": "stream",
     "text": [
      "[2, 4, 6, 8]\n"
     ]
    }
   ],
   "source": [
    "even = [num for num in range(1,10) if num % 2 == 0 ]\n",
    "print(even)"
   ]
  },
  {
   "cell_type": "code",
   "execution_count": 5,
   "id": "3f2d1457-260a-4668-9a15-f725070de053",
   "metadata": {},
   "outputs": [
    {
     "name": "stdout",
     "output_type": "stream",
     "text": [
      "[1, 9, 25, 49, 81]\n"
     ]
    }
   ],
   "source": [
    "odd_squared = [num ** 2 for num in range(1,10) if num % 2 != 0 ]\n",
    "print(odd_squared)"
   ]
  },
  {
   "cell_type": "code",
   "execution_count": 6,
   "id": "b3ada96e-c08d-4bee-b2db-fe0c801c6770",
   "metadata": {},
   "outputs": [
    {
     "name": "stdout",
     "output_type": "stream",
     "text": [
      "[1, 4, 3, 16, 5, 36, 7, 64, 9]\n"
     ]
    }
   ],
   "source": [
    "res = [num ** 2 if num%2==0 else num for num in range(1,10)]\n",
    "print(res)"
   ]
  },
  {
   "cell_type": "code",
   "execution_count": 7,
   "id": "ad42ad71-e9e3-4048-a47f-7156971dc170",
   "metadata": {},
   "outputs": [
    {
     "name": "stdout",
     "output_type": "stream",
     "text": [
      "[('red', 'apple'), ('red', 'banana'), ('red', 'mango'), ('big', 'apple'), ('big', 'banana'), ('big', 'mango'), ('tasty', 'apple'), ('tasty', 'banana'), ('tasty', 'mango')]\n"
     ]
    }
   ],
   "source": [
    "adjective = [\"red\", \"big\", \"tasty\"]\n",
    "fruits = [\"apple\", \"banana\", \"mango\"]\n",
    "\n",
    "# for a in adjective:\n",
    "#     for f in fruits:\n",
    "#         print(a,f)\n",
    "\n",
    "pair = [(a,f) for a in adjective for f in fruits]\n",
    "print(pair)"
   ]
  },
  {
   "cell_type": "code",
   "execution_count": 13,
   "id": "f6093876-06dc-49df-bc58-ee853cac7e14",
   "metadata": {},
   "outputs": [
    {
     "name": "stdout",
     "output_type": "stream",
     "text": [
      "Words count :  [1, 6, 8, 3, 4, 3, 7, 4, 9, 2, 7, 5, 4, 7, 5, 2, 8, 2, 7, 8, 5, 2, 6, 2, 5, 3, 4, 3, 8, 2, 3, 5, 4]\n"
     ]
    }
   ],
   "source": [
    "sent = \"A single training set that has already been processed is usually split into several types of datasets in machine learning which is needed to check how well the training of the model went\"\n",
    "\n",
    "count = [len(word) for word in sent.split()]\n",
    "print(\"Words count : \", count)"
   ]
  },
  {
   "cell_type": "code",
   "execution_count": null,
   "id": "25f1cbde-1b73-420b-ba89-d2cd4b71ed55",
   "metadata": {},
   "outputs": [],
   "source": []
  }
 ],
 "metadata": {
  "kernelspec": {
   "display_name": "Python 3 (ipykernel)",
   "language": "python",
   "name": "python3"
  },
  "language_info": {
   "codemirror_mode": {
    "name": "ipython",
    "version": 3
   },
   "file_extension": ".py",
   "mimetype": "text/x-python",
   "name": "python",
   "nbconvert_exporter": "python",
   "pygments_lexer": "ipython3",
   "version": "3.13.5"
  }
 },
 "nbformat": 4,
 "nbformat_minor": 5
}
