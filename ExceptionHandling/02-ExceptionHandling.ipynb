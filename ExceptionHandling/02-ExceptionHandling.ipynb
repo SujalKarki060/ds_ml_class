{
 "cells": [
  {
   "cell_type": "code",
   "execution_count": 2,
   "id": "7cd51945-6462-4672-bb20-c91724170187",
   "metadata": {},
   "outputs": [
    {
     "name": "stdin",
     "output_type": "stream",
     "text": [
      "Enter a number kl\n"
     ]
    },
    {
     "name": "stdout",
     "output_type": "stream",
     "text": [
      "Invalid Input, Enter Integer Value\n",
      "0\n"
     ]
    }
   ],
   "source": [
    "try:\n",
    "    num = int(input(\"Enter a number\"))\n",
    "    print(num ** 5)\n",
    "except ValueError:\n",
    "    print(\"Invalid Input, Enter Integer Value\")\n",
    "    print(0)"
   ]
  },
  {
   "cell_type": "code",
   "execution_count": 5,
   "id": "6ef8a2e9-6361-4621-9b64-b76f8b8c8973",
   "metadata": {},
   "outputs": [
    {
     "name": "stdin",
     "output_type": "stream",
     "text": [
      "Enter a number 8\n",
      "Enter another number l\n"
     ]
    },
    {
     "name": "stdout",
     "output_type": "stream",
     "text": [
      "Invalid input invalid literal for int() with base 10: 'l'\n",
      "Final Result: 1\n"
     ]
    }
   ],
   "source": [
    "try:\n",
    "    x = int(input(\"Enter a number\"))\n",
    "    y = int(input(\"Enter another number\"))\n",
    "    result = x/y\n",
    "\n",
    "except ValueError as error:\n",
    "    print(\"Invalid input\",error)\n",
    "    result = 1\n",
    "\n",
    "except ZeroDivisionError:\n",
    "    print(\"Cannot Divide By Zero\")\n",
    "    result = 0\n",
    "\n",
    "print(\"Final Result:\", result)"
   ]
  },
  {
   "cell_type": "code",
   "execution_count": 6,
   "id": "55c563b9-cb1c-4fc2-bbec-9dbcff25f8b1",
   "metadata": {},
   "outputs": [
    {
     "name": "stdout",
     "output_type": "stream",
     "text": [
      "Cannot convert to int\n"
     ]
    }
   ],
   "source": [
    "value = \"abc\"\n",
    "try:\n",
    "    print(int(value))\n",
    "except (ValueError,TypeError):\n",
    "    print(\"Cannot convert to int\")"
   ]
  },
  {
   "cell_type": "code",
   "execution_count": 7,
   "id": "9550a496-2f40-417f-94c0-89e7c1bccb26",
   "metadata": {},
   "outputs": [
    {
     "name": "stdout",
     "output_type": "stream",
     "text": [
      "invalid literal for int() with base 10: 'abc'\n"
     ]
    }
   ],
   "source": [
    "value = \"abc\"\n",
    "try:\n",
    "    print(int(value))\n",
    "except Exception as e:\n",
    "    print(e)"
   ]
  },
  {
   "cell_type": "code",
   "execution_count": 18,
   "id": "98648a51-883b-4ce2-a7a9-b0c5e3dcd461",
   "metadata": {},
   "outputs": [],
   "source": [
    "my_list = [\"a\",\"b\",\"c\",\"d\"]\n",
    "def get_list_item(index):\n",
    "    try:\n",
    "        return my_list[index]\n",
    "    except IndexError:\n",
    "        return my_list[-1]\n",
    "    except Exception as e:\n",
    "        print(f\"Unexpected Error: {e}\")\n",
    "        return my_list"
   ]
  },
  {
   "cell_type": "code",
   "execution_count": 19,
   "id": "4b32c30c-d069-44e3-b541-efa87575d5f1",
   "metadata": {},
   "outputs": [
    {
     "name": "stdout",
     "output_type": "stream",
     "text": [
      "Unexpected Error: list indices must be integers or slices, not str\n",
      "['a', 'b', 'c', 'd']\n"
     ]
    }
   ],
   "source": [
    "print(get_list_item(\"l\")) "
   ]
  },
  {
   "cell_type": "code",
   "execution_count": 21,
   "id": "1229eef0-d0a7-47a5-8bbd-9897c50ff8c2",
   "metadata": {},
   "outputs": [
    {
     "name": "stdin",
     "output_type": "stream",
     "text": [
      "Enter a number 5\n",
      "Enter another number 6\n"
     ]
    },
    {
     "name": "stdout",
     "output_type": "stream",
     "text": [
      "Else Block\n",
      "Final Result: 0.8333333333333334\n"
     ]
    }
   ],
   "source": [
    "try:\n",
    "    x = int(input(\"Enter a number\"))\n",
    "    y = int(input(\"Enter another number\"))\n",
    "    result = x/y\n",
    "\n",
    "except ValueError as error:\n",
    "    print(\"Invalid input\",error)\n",
    "    result = 1\n",
    "\n",
    "except ZeroDivisionError:\n",
    "    print(\"Cannot Divide By Zero\")\n",
    "    result = 0\n",
    "    \n",
    "else:\n",
    "    print(\"Else Block\")\n",
    "    print(\"Final Result:\", result)"
   ]
  },
  {
   "cell_type": "code",
   "execution_count": 23,
   "id": "ae9bee42-746c-475b-82dc-f1f5479475f7",
   "metadata": {},
   "outputs": [
    {
     "name": "stdin",
     "output_type": "stream",
     "text": [
      "Enter a number 5\n",
      "Enter another number 0\n"
     ]
    },
    {
     "name": "stdout",
     "output_type": "stream",
     "text": [
      "Cannot Divide By Zero\n",
      "Final Block\n",
      "Final Result: 0\n"
     ]
    }
   ],
   "source": [
    "try:\n",
    "    x = int(input(\"Enter a number\"))\n",
    "    y = int(input(\"Enter another number\"))\n",
    "    result = x/y\n",
    "\n",
    "except ValueError as error:\n",
    "    print(\"Invalid input\",error)\n",
    "    result = 1\n",
    "\n",
    "except ZeroDivisionError:\n",
    "    print(\"Cannot Divide By Zero\")\n",
    "    result = 0\n",
    "    \n",
    "finally:\n",
    "    print(\"Final Block\")\n",
    "    print(\"Final Result:\", result)\n",
    "    "
   ]
  },
  {
   "cell_type": "code",
   "execution_count": null,
   "id": "19f9577a-0f27-454e-9713-b9b72b2d295e",
   "metadata": {},
   "outputs": [],
   "source": []
  }
 ],
 "metadata": {
  "kernelspec": {
   "display_name": "Python 3 (ipykernel)",
   "language": "python",
   "name": "python3"
  },
  "language_info": {
   "codemirror_mode": {
    "name": "ipython",
    "version": 3
   },
   "file_extension": ".py",
   "mimetype": "text/x-python",
   "name": "python",
   "nbconvert_exporter": "python",
   "pygments_lexer": "ipython3",
   "version": "3.13.5"
  }
 },
 "nbformat": 4,
 "nbformat_minor": 5
}
