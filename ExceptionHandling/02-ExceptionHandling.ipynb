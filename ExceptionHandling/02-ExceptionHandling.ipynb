{
 "cells": [
  {
   "cell_type": "code",
   "execution_count": 2,
   "id": "7cd51945-6462-4672-bb20-c91724170187",
   "metadata": {},
   "outputs": [
    {
     "name": "stdin",
     "output_type": "stream",
     "text": [
      "Enter a number kl\n"
     ]
    },
    {
     "name": "stdout",
     "output_type": "stream",
     "text": [
      "Invalid Input, Enter Integer Value\n",
      "0\n"
     ]
    }
   ],
   "source": [
    "try:\n",
    "    num = int(input(\"Enter a number\"))\n",
    "    print(num ** 5)\n",
    "except ValueError:\n",
    "    print(\"Invalid Input, Enter Integer Value\")\n",
    "    print(0)"
   ]
  },
  {
   "cell_type": "code",
   "execution_count": 5,
   "id": "6ef8a2e9-6361-4621-9b64-b76f8b8c8973",
   "metadata": {},
   "outputs": [
    {
     "name": "stdin",
     "output_type": "stream",
     "text": [
      "Enter a number 8\n",
      "Enter another number l\n"
     ]
    },
    {
     "name": "stdout",
     "output_type": "stream",
     "text": [
      "Invalid input invalid literal for int() with base 10: 'l'\n",
      "Final Result: 1\n"
     ]
    }
   ],
   "source": [
    "try:\n",
    "    x = int(input(\"Enter a number\"))\n",
    "    y = int(input(\"Enter another number\"))\n",
    "    result = x/y\n",
    "\n",
    "except ValueError as error:\n",
    "    print(\"Invalid input\",error)\n",
    "    result = 1\n",
    "\n",
    "except ZeroDivisionError:\n",
    "    print(\"Cannot Divide By Zero\")\n",
    "    result = 0\n",
    "\n",
    "print(\"Final Result:\", result)"
   ]
  },
  {
   "cell_type": "code",
   "execution_count": 6,
   "id": "55c563b9-cb1c-4fc2-bbec-9dbcff25f8b1",
   "metadata": {},
   "outputs": [
    {
     "name": "stdout",
     "output_type": "stream",
     "text": [
      "Cannot convert to int\n"
     ]
    }
   ],
   "source": [
    "value = \"abc\"\n",
    "try:\n",
    "    print(int(value))\n",
    "except (ValueError,TypeError):\n",
    "    print(\"Cannot convert to int\")"
   ]
  },
  {
   "cell_type": "code",
   "execution_count": 7,
   "id": "9550a496-2f40-417f-94c0-89e7c1bccb26",
   "metadata": {},
   "outputs": [
    {
     "name": "stdout",
     "output_type": "stream",
     "text": [
      "invalid literal for int() with base 10: 'abc'\n"
     ]
    }
   ],
   "source": [
    "value = \"abc\"\n",
    "try:\n",
    "    print(int(value))\n",
    "except Exception as e:\n",
    "    print(e)"
   ]
  },
  {
   "cell_type": "code",
   "execution_count": 18,
   "id": "98648a51-883b-4ce2-a7a9-b0c5e3dcd461",
   "metadata": {},
   "outputs": [],
   "source": [
    "my_list = [\"a\",\"b\",\"c\",\"d\"]\n",
    "def get_list_item(index):\n",
    "    try:\n",
    "        return my_list[index]\n",
    "    except IndexError:\n",
    "        return my_list[-1]\n",
    "    except Exception as e:\n",
    "        print(f\"Unexpected Error: {e}\")\n",
    "        return my_list"
   ]
  },
  {
   "cell_type": "code",
   "execution_count": 19,
   "id": "4b32c30c-d069-44e3-b541-efa87575d5f1",
   "metadata": {},
   "outputs": [
    {
     "name": "stdout",
     "output_type": "stream",
     "text": [
      "Unexpected Error: list indices must be integers or slices, not str\n",
      "['a', 'b', 'c', 'd']\n"
     ]
    }
   ],
   "source": [
    "print(get_list_item(\"l\")) "
   ]
  },
  {
   "cell_type": "code",
   "execution_count": 21,
   "id": "1229eef0-d0a7-47a5-8bbd-9897c50ff8c2",
   "metadata": {},
   "outputs": [
    {
     "name": "stdin",
     "output_type": "stream",
     "text": [
      "Enter a number 5\n",
      "Enter another number 6\n"
     ]
    },
    {
     "name": "stdout",
     "output_type": "stream",
     "text": [
      "Else Block\n",
      "Final Result: 0.8333333333333334\n"
     ]
    }
   ],
   "source": [
    "try:\n",
    "    x = int(input(\"Enter a number\"))\n",
    "    y = int(input(\"Enter another number\"))\n",
    "    result = x/y\n",
    "\n",
    "except ValueError as error:\n",
    "    print(\"Invalid input\",error)\n",
    "    result = 1\n",
    "\n",
    "except ZeroDivisionError:\n",
    "    print(\"Cannot Divide By Zero\")\n",
    "    result = 0\n",
    "    \n",
    "else:\n",
    "    print(\"Else Block\")\n",
    "    print(\"Final Result:\", result)"
   ]
  },
  {
   "cell_type": "code",
   "execution_count": 23,
   "id": "ae9bee42-746c-475b-82dc-f1f5479475f7",
   "metadata": {},
   "outputs": [
    {
     "name": "stdin",
     "output_type": "stream",
     "text": [
      "Enter a number 5\n",
      "Enter another number 0\n"
     ]
    },
    {
     "name": "stdout",
     "output_type": "stream",
     "text": [
      "Cannot Divide By Zero\n",
      "Final Block\n",
      "Final Result: 0\n"
     ]
    }
   ],
   "source": [
    "try:\n",
    "    x = int(input(\"Enter a number\"))\n",
    "    y = int(input(\"Enter another number\"))\n",
    "    result = x/y\n",
    "\n",
    "except ValueError as error:\n",
    "    print(\"Invalid input\",error)\n",
    "    result = 1\n",
    "\n",
    "except ZeroDivisionError:\n",
    "    print(\"Cannot Divide By Zero\")\n",
    "    result = 0\n",
    "    \n",
    "finally:\n",
    "    print(\"Final Block\")\n",
    "    print(\"Final Result:\", result)\n",
    "    "
   ]
  },
  {
   "cell_type": "code",
   "execution_count": 34,
   "id": "19f9577a-0f27-454e-9713-b9b72b2d295e",
   "metadata": {},
   "outputs": [
    {
     "name": "stdin",
     "output_type": "stream",
     "text": [
      " Enter the exam duration in seconds:  30\n"
     ]
    },
    {
     "name": "stdout",
     "output_type": "stream",
     "text": [
      " Exam started for 30 seconds. Countdown begins...\n",
      " Time left: 30 seconds\n",
      " Time left: 29 seconds\n",
      " Time left: 28 seconds\n",
      " Time left: 27 seconds\n",
      " Time left: 26 seconds\n",
      " Time left: 25 seconds\n",
      " Time left: 24 seconds\n",
      " Time left: 23 seconds\n",
      " Time left: 22 seconds\n",
      " Time left: 21 seconds\n",
      " Time left: 20 seconds\n",
      " Time left: 19 seconds\n",
      " Time left: 18 seconds\n",
      " Time left: 17 seconds\n",
      " Time left: 16 seconds\n",
      " Time left: 15 seconds\n",
      " Time left: 14 seconds\n",
      " Time left: 13 seconds\n",
      " Time left: 12 seconds\n",
      " Time left: 11 seconds\n",
      " Time left: 10 seconds\n",
      " Time left: 9 seconds\n",
      " Time left: 8 seconds\n",
      " Time left: 7 seconds\n",
      " Time left: 6 seconds\n",
      " Time left: 5 seconds\n",
      " Time left: 4 seconds\n",
      " Time left: 3 seconds\n",
      " Time left: 2 seconds\n",
      " Time left: 1 seconds\n",
      "\n",
      " Time's up! Exam ended.\n"
     ]
    }
   ],
   "source": [
    "import time\n",
    "\n",
    "class NegativeTimeError(Exception):\n",
    "    pass\n",
    "\n",
    "def exam_timer():\n",
    "    try:\n",
    "        raw_input = input(\" Enter the exam duration in seconds: \")\n",
    "        duration = int(raw_input)  \n",
    "\n",
    "        if duration <= 0:\n",
    "            raise NegativeTimeError(\" Duration must be greater than zero.\")\n",
    "\n",
    "        print(f\" Exam started for {duration} seconds. Countdown begins...\")\n",
    "\n",
    "        for remaining in range(duration, 0, -1):\n",
    "            print(f\" Time left: {remaining} seconds\", end='\\r')\n",
    "            time.sleep(1)\n",
    "\n",
    "        print(\"\\n Time's up! Exam ended.\")\n",
    "\n",
    "    except ValueError:\n",
    "        print(\" Invalid input! Please enter a numeric integer value.\")\n",
    "    except NegativeTimeError as e:\n",
    "        print(e)\n",
    "    except Exception as e:\n",
    "        print(f\" Unexpected error: {e}\")\n",
    "\n",
    "exam_timer()\n"
   ]
  },
  {
   "cell_type": "code",
   "execution_count": null,
   "id": "3d061e0d-c56c-4f58-967f-97f43bb04e16",
   "metadata": {},
   "outputs": [],
   "source": []
  },
  {
   "cell_type": "code",
   "execution_count": null,
   "id": "1af3c0c0-bedb-47ae-b117-f66eacde0dc0",
   "metadata": {},
   "outputs": [],
   "source": []
  }
 ],
 "metadata": {
  "kernelspec": {
   "display_name": "Python 3 (ipykernel)",
   "language": "python",
   "name": "python3"
  },
  "language_info": {
   "codemirror_mode": {
    "name": "ipython",
    "version": 3
   },
   "file_extension": ".py",
   "mimetype": "text/x-python",
   "name": "python",
   "nbconvert_exporter": "python",
   "pygments_lexer": "ipython3",
   "version": "3.13.5"
  }
 },
 "nbformat": 4,
 "nbformat_minor": 5
}
