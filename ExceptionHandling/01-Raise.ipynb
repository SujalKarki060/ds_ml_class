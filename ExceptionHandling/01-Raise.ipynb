{
 "cells": [
  {
   "cell_type": "code",
   "execution_count": 3,
   "id": "eaf6d112-53a2-4559-a4b3-e32d963b62d6",
   "metadata": {},
   "outputs": [
    {
     "ename": "TypeError",
     "evalue": "Value should be integer",
     "output_type": "error",
     "traceback": [
      "\u001b[31m---------------------------------------------------------------------------\u001b[39m",
      "\u001b[31mTypeError\u001b[39m                                 Traceback (most recent call last)",
      "\u001b[36mCell\u001b[39m\u001b[36m \u001b[39m\u001b[32mIn[3]\u001b[39m\u001b[32m, line 5\u001b[39m\n\u001b[32m      3\u001b[39m     \u001b[38;5;28mprint\u001b[39m(\u001b[33mf\u001b[39m\u001b[33m\"\u001b[39m\u001b[33mSquare of \u001b[39m\u001b[38;5;132;01m{\u001b[39;00mnumber\u001b[38;5;132;01m}\u001b[39;00m\u001b[33m is \u001b[39m\u001b[38;5;132;01m{\u001b[39;00mnumber\u001b[38;5;250m \u001b[39m**\u001b[38;5;250m \u001b[39m\u001b[32m2\u001b[39m\u001b[38;5;132;01m}\u001b[39;00m\u001b[33m\"\u001b[39m)\n\u001b[32m      4\u001b[39m \u001b[38;5;28;01melse\u001b[39;00m:\n\u001b[32m----> \u001b[39m\u001b[32m5\u001b[39m     \u001b[38;5;28;01mraise\u001b[39;00m \u001b[38;5;167;01mTypeError\u001b[39;00m(\u001b[33m\"\u001b[39m\u001b[33mValue should be integer\u001b[39m\u001b[33m\"\u001b[39m)\n",
      "\u001b[31mTypeError\u001b[39m: Value should be integer"
     ]
    }
   ],
   "source": [
    "number = \"tt\"\n",
    "if isinstance(number, int):\n",
    "    print(f\"Square of {number} is {number ** 2}\")\n",
    "else:\n",
    "    raise TypeError(\"Value should be integer\")"
   ]
  },
  {
   "cell_type": "code",
   "execution_count": 5,
   "id": "d44f0c4b-9850-484c-a8c2-f7db6b466109",
   "metadata": {},
   "outputs": [
    {
     "ename": "ValueError",
     "evalue": "Divisor should not be zero",
     "output_type": "error",
     "traceback": [
      "\u001b[31m---------------------------------------------------------------------------\u001b[39m",
      "\u001b[31mValueError\u001b[39m                                Traceback (most recent call last)",
      "\u001b[36mCell\u001b[39m\u001b[36m \u001b[39m\u001b[32mIn[5]\u001b[39m\u001b[32m, line 5\u001b[39m\n\u001b[32m      2\u001b[39m y = \u001b[32m0\u001b[39m\n\u001b[32m      4\u001b[39m \u001b[38;5;28;01mif\u001b[39;00m y == \u001b[32m0\u001b[39m:\n\u001b[32m----> \u001b[39m\u001b[32m5\u001b[39m     \u001b[38;5;28;01mraise\u001b[39;00m \u001b[38;5;167;01mValueError\u001b[39;00m(\u001b[33m\"\u001b[39m\u001b[33mDivisor should not be zero\u001b[39m\u001b[33m\"\u001b[39m)\n\u001b[32m      7\u001b[39m x/y\n",
      "\u001b[31mValueError\u001b[39m: Divisor should not be zero"
     ]
    }
   ],
   "source": [
    "x = 2\n",
    "y = 0\n",
    "\n",
    "if y == 0:\n",
    "    raise ValueError(\"Divisor should not be zero\")\n",
    "\n",
    "x/y"
   ]
  },
  {
   "cell_type": "code",
   "execution_count": 6,
   "id": "36372d06-9b80-4b17-9fbb-540a0a43aa0e",
   "metadata": {},
   "outputs": [],
   "source": [
    "class UserNotFound(Exception):\n",
    "    pass"
   ]
  },
  {
   "cell_type": "code",
   "execution_count": 8,
   "id": "c5da7942-f181-47c4-99c1-06d3910793db",
   "metadata": {},
   "outputs": [],
   "source": [
    "def get_user(user_id):\n",
    "    \"\"\"\n",
    "    .\n",
    "    .\n",
    "    .\n",
    "    \"\"\"\n",
    "    raise UserNotFound(f\"No User with {user_id} is found\")"
   ]
  },
  {
   "cell_type": "code",
   "execution_count": 9,
   "id": "cf1f70a8-3ccc-490d-b454-4bc5b99f2355",
   "metadata": {},
   "outputs": [
    {
     "ename": "UserNotFound",
     "evalue": "No User with ram is found",
     "output_type": "error",
     "traceback": [
      "\u001b[31m---------------------------------------------------------------------------\u001b[39m",
      "\u001b[31mUserNotFound\u001b[39m                              Traceback (most recent call last)",
      "\u001b[36mCell\u001b[39m\u001b[36m \u001b[39m\u001b[32mIn[9]\u001b[39m\u001b[32m, line 1\u001b[39m\n\u001b[32m----> \u001b[39m\u001b[32m1\u001b[39m \u001b[43mget_user\u001b[49m\u001b[43m(\u001b[49m\u001b[33;43m\"\u001b[39;49m\u001b[33;43mram\u001b[39;49m\u001b[33;43m\"\u001b[39;49m\u001b[43m)\u001b[49m\n",
      "\u001b[36mCell\u001b[39m\u001b[36m \u001b[39m\u001b[32mIn[8]\u001b[39m\u001b[32m, line 7\u001b[39m, in \u001b[36mget_user\u001b[39m\u001b[34m(user_id)\u001b[39m\n\u001b[32m      1\u001b[39m \u001b[38;5;28;01mdef\u001b[39;00m\u001b[38;5;250m \u001b[39m\u001b[34mget_user\u001b[39m(user_id):\n\u001b[32m      2\u001b[39m \u001b[38;5;250m    \u001b[39m\u001b[33;03m\"\"\"\u001b[39;00m\n\u001b[32m      3\u001b[39m \u001b[33;03m    .\u001b[39;00m\n\u001b[32m      4\u001b[39m \u001b[33;03m    .\u001b[39;00m\n\u001b[32m      5\u001b[39m \u001b[33;03m    .\u001b[39;00m\n\u001b[32m      6\u001b[39m \u001b[33;03m    \"\"\"\u001b[39;00m\n\u001b[32m----> \u001b[39m\u001b[32m7\u001b[39m     \u001b[38;5;28;01mraise\u001b[39;00m UserNotFound(\u001b[33mf\u001b[39m\u001b[33m\"\u001b[39m\u001b[33mNo User with \u001b[39m\u001b[38;5;132;01m{\u001b[39;00muser_id\u001b[38;5;132;01m}\u001b[39;00m\u001b[33m is found\u001b[39m\u001b[33m\"\u001b[39m)\n",
      "\u001b[31mUserNotFound\u001b[39m: No User with ram is found"
     ]
    }
   ],
   "source": [
    "get_user(\"ram\")"
   ]
  },
  {
   "cell_type": "code",
   "execution_count": null,
   "id": "69b20723-65f8-48f8-9887-b280b51cd682",
   "metadata": {},
   "outputs": [],
   "source": []
  }
 ],
 "metadata": {
  "kernelspec": {
   "display_name": "Python 3 (ipykernel)",
   "language": "python",
   "name": "python3"
  },
  "language_info": {
   "codemirror_mode": {
    "name": "ipython",
    "version": 3
   },
   "file_extension": ".py",
   "mimetype": "text/x-python",
   "name": "python",
   "nbconvert_exporter": "python",
   "pygments_lexer": "ipython3",
   "version": "3.13.5"
  }
 },
 "nbformat": 4,
 "nbformat_minor": 5
}
