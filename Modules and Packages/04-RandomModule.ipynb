{
 "cells": [
  {
   "cell_type": "code",
   "execution_count": 1,
   "id": "9f9825b0-c120-4500-ad76-be2cf7f48df3",
   "metadata": {},
   "outputs": [],
   "source": [
    "import random"
   ]
  },
  {
   "cell_type": "code",
   "execution_count": 6,
   "id": "f70bd4a9-deb8-4d0e-9ccd-b1bde7a29c2e",
   "metadata": {},
   "outputs": [
    {
     "data": {
      "text/plain": [
       "0.2781409033873228"
      ]
     },
     "execution_count": 6,
     "metadata": {},
     "output_type": "execute_result"
    }
   ],
   "source": [
    "random.random()"
   ]
  },
  {
   "cell_type": "code",
   "execution_count": 19,
   "id": "39b7430a-f67c-494d-abae-91ccdb111706",
   "metadata": {},
   "outputs": [
    {
     "data": {
      "text/plain": [
       "126.74830021816601"
      ]
     },
     "execution_count": 19,
     "metadata": {},
     "output_type": "execute_result"
    }
   ],
   "source": [
    "random.uniform(100,500)"
   ]
  },
  {
   "cell_type": "code",
   "execution_count": 30,
   "id": "18f271fc-327e-4356-8413-c93f6bc2e17c",
   "metadata": {},
   "outputs": [
    {
     "data": {
      "text/plain": [
       "437"
      ]
     },
     "execution_count": 30,
     "metadata": {},
     "output_type": "execute_result"
    }
   ],
   "source": [
    "random.randint(100,500)"
   ]
  },
  {
   "cell_type": "code",
   "execution_count": 31,
   "id": "7bf8525d-da88-433c-8a96-d091a665efeb",
   "metadata": {},
   "outputs": [
    {
     "data": {
      "text/plain": [
       "400"
      ]
     },
     "execution_count": 31,
     "metadata": {},
     "output_type": "execute_result"
    }
   ],
   "source": [
    "random.randrange(100,500,50)"
   ]
  },
  {
   "cell_type": "code",
   "execution_count": 32,
   "id": "a414b82e-b09e-4b26-b37d-c4b34b67816d",
   "metadata": {},
   "outputs": [],
   "source": [
    "cards = [\"ace\",\"king\",\"queen\",\"jack\",\"ten\",\"nine\",\"eight\",\"seven\",\"six\",\"five\",\"four\",\"three\",\"two\",\"one\"]"
   ]
  },
  {
   "cell_type": "code",
   "execution_count": 35,
   "id": "61aec117-8eb0-4c36-b207-03f06ec05788",
   "metadata": {},
   "outputs": [
    {
     "data": {
      "text/plain": [
       "'three'"
      ]
     },
     "execution_count": 35,
     "metadata": {},
     "output_type": "execute_result"
    }
   ],
   "source": [
    "random.choice(cards)"
   ]
  },
  {
   "cell_type": "code",
   "execution_count": 36,
   "id": "92d94c40-fc2a-4a85-9766-143aa0b7a51d",
   "metadata": {},
   "outputs": [],
   "source": [
    "random.shuffle(cards)"
   ]
  },
  {
   "cell_type": "code",
   "execution_count": 38,
   "id": "92517cde-d6ce-4849-a567-2733b2506db8",
   "metadata": {},
   "outputs": [
    {
     "name": "stdout",
     "output_type": "stream",
     "text": [
      "['three', 'six', 'jack', 'four', 'two', 'seven', 'ace', 'one', 'queen', 'ten', 'nine', 'eight', 'five', 'king']\n"
     ]
    }
   ],
   "source": [
    "print(cards)"
   ]
  },
  {
   "cell_type": "code",
   "execution_count": 39,
   "id": "a3bb2846-700e-4fe9-8d24-044ac6dcdffa",
   "metadata": {},
   "outputs": [
    {
     "data": {
      "text/plain": [
       "['queen', 'jack', 'one']"
      ]
     },
     "execution_count": 39,
     "metadata": {},
     "output_type": "execute_result"
    }
   ],
   "source": [
    "random.sample(cards, 3)"
   ]
  },
  {
   "cell_type": "code",
   "execution_count": 48,
   "id": "6649fd68-9b49-4f21-8baf-0d990a525e5f",
   "metadata": {},
   "outputs": [
    {
     "data": {
      "text/plain": [
       "['jack', 'seven', 'three']"
      ]
     },
     "execution_count": 48,
     "metadata": {},
     "output_type": "execute_result"
    }
   ],
   "source": [
    "random.choices(cards,weights =[0.4,0.12,0.3,0.25,0.5,0.6,0.55,1,0.31,0.22,0.21,0.35,0.45,0.95], k = 3)"
   ]
  },
  {
   "cell_type": "code",
   "execution_count": 65,
   "id": "18316777-e05f-4550-8f64-aa2656950fda",
   "metadata": {},
   "outputs": [],
   "source": [
    "random.seed(555)"
   ]
  },
  {
   "cell_type": "code",
   "execution_count": 66,
   "id": "ab082b2e-577f-4ffd-9be6-805a0423b0a6",
   "metadata": {},
   "outputs": [
    {
     "data": {
      "text/plain": [
       "4"
      ]
     },
     "execution_count": 66,
     "metadata": {},
     "output_type": "execute_result"
    }
   ],
   "source": [
    "random.randint(1,10)"
   ]
  },
  {
   "cell_type": "code",
   "execution_count": 54,
   "id": "b7c13f4b-6d24-4007-8110-cf9dfc559daf",
   "metadata": {},
   "outputs": [],
   "source": [
    "import random"
   ]
  },
  {
   "cell_type": "code",
   "execution_count": 61,
   "id": "f96c05af-aff2-4904-8501-5c49011113f8",
   "metadata": {},
   "outputs": [
    {
     "name": "stdout",
     "output_type": "stream",
     "text": [
      "10 1 8\n"
     ]
    }
   ],
   "source": [
    "state = random.getstate()\n",
    "\n",
    "a = random.randint(1,10)\n",
    "b = random.randint(1,10)\n",
    "c = random.randint(1,10)\n",
    "\n",
    "print(a,b,c)"
   ]
  },
  {
   "cell_type": "code",
   "execution_count": 62,
   "id": "eea3cd81-195a-4756-8436-96c9897cd879",
   "metadata": {},
   "outputs": [
    {
     "name": "stdout",
     "output_type": "stream",
     "text": [
      "10 1 8\n"
     ]
    }
   ],
   "source": [
    "state = random.setstate(state)\n",
    "\n",
    "a = random.randint(1,10)\n",
    "b = random.randint(1,10)\n",
    "c = random.randint(1,10)\n",
    "\n",
    "print(a,b,c)"
   ]
  },
  {
   "cell_type": "code",
   "execution_count": null,
   "id": "a57c993f-3ab2-423d-9623-a07eb32aa992",
   "metadata": {},
   "outputs": [],
   "source": []
  }
 ],
 "metadata": {
  "kernelspec": {
   "display_name": "Python 3 (ipykernel)",
   "language": "python",
   "name": "python3"
  },
  "language_info": {
   "codemirror_mode": {
    "name": "ipython",
    "version": 3
   },
   "file_extension": ".py",
   "mimetype": "text/x-python",
   "name": "python",
   "nbconvert_exporter": "python",
   "pygments_lexer": "ipython3",
   "version": "3.13.5"
  }
 },
 "nbformat": 4,
 "nbformat_minor": 5
}
