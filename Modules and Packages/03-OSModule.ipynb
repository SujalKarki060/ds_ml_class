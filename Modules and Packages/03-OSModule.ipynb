{
 "cells": [
  {
   "cell_type": "code",
   "execution_count": 1,
   "id": "427ec6ba-294a-4c91-b641-966934643f51",
   "metadata": {},
   "outputs": [],
   "source": [
    "import os"
   ]
  },
  {
   "cell_type": "code",
   "execution_count": 10,
   "id": "80952ca8-1c85-4a06-a947-532ec8d4f204",
   "metadata": {},
   "outputs": [
    {
     "data": {
      "text/plain": [
       "'C:\\\\Users\\\\ACER\\\\Desktop\\\\ds_ml_class\\\\Modules and Packages\\\\test_folder\\\\test_folder'"
      ]
     },
     "execution_count": 10,
     "metadata": {},
     "output_type": "execute_result"
    }
   ],
   "source": [
    "os.getcwd()"
   ]
  },
  {
   "cell_type": "code",
   "execution_count": 20,
   "id": "07015f89-751a-44bd-87b1-5f60f9ee32cf",
   "metadata": {},
   "outputs": [
    {
     "name": "stdout",
     "output_type": "stream",
     "text": [
      "Path exists\n"
     ]
    }
   ],
   "source": [
    "if not os.path.exists(\"test_folder/\"):\n",
    "    os.mkdir(\"test_folder\")\n",
    "else:\n",
    "    print(\"Path exists\")"
   ]
  },
  {
   "cell_type": "code",
   "execution_count": 21,
   "id": "ec876f76-eb03-4922-8edc-bf37a114bded",
   "metadata": {},
   "outputs": [],
   "source": [
    "os.chdir(\"test_folder/\")"
   ]
  },
  {
   "cell_type": "code",
   "execution_count": 27,
   "id": "669e0394-add1-4114-a93a-8a6bf37256f6",
   "metadata": {},
   "outputs": [
    {
     "data": {
      "text/plain": [
       "'C:\\\\Users\\\\ACER\\\\Desktop\\\\ds_ml_class\\\\Modules and Packages'"
      ]
     },
     "execution_count": 27,
     "metadata": {},
     "output_type": "execute_result"
    }
   ],
   "source": [
    "os.getcwd()"
   ]
  },
  {
   "cell_type": "code",
   "execution_count": 24,
   "id": "594e337b-fd0b-49c5-9dfa-9d8686cab8cf",
   "metadata": {},
   "outputs": [],
   "source": [
    "os.chdir(\"..\")"
   ]
  },
  {
   "cell_type": "code",
   "execution_count": 26,
   "id": "fc5687a6-5c6b-4ad3-b48c-07139301fce8",
   "metadata": {},
   "outputs": [],
   "source": [
    "os.makedirs(\"test_folder/\", exist_ok=True)"
   ]
  },
  {
   "cell_type": "code",
   "execution_count": 28,
   "id": "4f148baf-7f00-4ddc-91a0-0b5a9483a832",
   "metadata": {},
   "outputs": [
    {
     "data": {
      "text/plain": [
       "['.ipynb_checkpoints',\n",
       " '01-DateTimeModule.ipynb',\n",
       " '02-MathModule.ipynb',\n",
       " '03-OSModule.ipynb',\n",
       " 'test_folder']"
      ]
     },
     "execution_count": 28,
     "metadata": {},
     "output_type": "execute_result"
    }
   ],
   "source": [
    "os.listdir(\".\")"
   ]
  },
  {
   "cell_type": "code",
   "execution_count": 30,
   "id": "4a5c92d5-cc2f-4734-85f0-4d726f79bafa",
   "metadata": {},
   "outputs": [],
   "source": [
    "os.rmdir(\"test_folder/\")"
   ]
  },
  {
   "cell_type": "code",
   "execution_count": 31,
   "id": "94a4d800-ef8a-423c-9330-e2db7938a01f",
   "metadata": {},
   "outputs": [],
   "source": [
    "os.rename(\"hello.txt\", \"welcome.txt\")"
   ]
  },
  {
   "cell_type": "code",
   "execution_count": 32,
   "id": "21869788-cf31-4c01-a3ef-44109b538290",
   "metadata": {},
   "outputs": [],
   "source": [
    "os.remove(\"welcome.txt\")"
   ]
  },
  {
   "cell_type": "code",
   "execution_count": 33,
   "id": "e9595110-fe0d-4dd4-9145-805bb98c9db8",
   "metadata": {},
   "outputs": [
    {
     "data": {
      "text/plain": [
       "'C:\\\\Users\\\\ACER'"
      ]
     },
     "execution_count": 33,
     "metadata": {},
     "output_type": "execute_result"
    }
   ],
   "source": [
    "os.getenv(\"HOME\")"
   ]
  },
  {
   "cell_type": "code",
   "execution_count": 34,
   "id": "246f25e9-d8c2-45c5-a310-9aa4b3a8f9b0",
   "metadata": {},
   "outputs": [
    {
     "data": {
      "text/plain": [
       "'C:\\\\Users\\\\ACER\\\\OneDrive'"
      ]
     },
     "execution_count": 34,
     "metadata": {},
     "output_type": "execute_result"
    }
   ],
   "source": [
    "os.getenv(\"oneDrive\")"
   ]
  },
  {
   "cell_type": "code",
   "execution_count": 35,
   "id": "1f3a60dd-7c00-4a0a-b4e8-8cc0114797b6",
   "metadata": {},
   "outputs": [
    {
     "data": {
      "text/plain": [
       "'C:\\\\Users\\\\ACER\\\\Desktop\\\\ds_ml_class\\\\.venv\\\\Scripts;c;C:\\\\Users\\\\ACER\\\\.vscode\\x1bxtensions\\\\ms-python.python-2025.8.1-win32-x64\\\\python_files\\\\deactivate\\\\powershell;C;C:\\\\Users\\\\ACER\\\\Desktop\\\\ds_ml_class\\\\.venv\\\\Scripts;\\\\c\\\\Users\\\\ACER\\\\bin;C:\\\\Program Files\\\\Git\\\\mingw64\\\\bin;C:\\\\Program Files\\\\Git\\\\usr\\\\local\\\\bin;C:\\\\Program Files\\\\Git\\\\usr\\\\bin;C:\\\\Program Files\\\\Git\\\\usr\\\\bin;C:\\\\Program Files\\\\Git\\\\mingw64\\\\bin;C:\\\\Program Files\\\\Git\\\\usr\\\\bin;C:\\\\Users\\\\ACER\\\\bin;C:\\\\Users\\\\ACER\\\\.vscode\\\\extensions\\\\ms-python.python-2025.8.1-win32-x64\\\\python_files\\\\deactivate\\\\powershell;C:\\\\Users\\\\ACER\\\\Desktop\\\\ds_ml_class\\\\.venv\\\\Scripts;C:\\\\Program Files\\\\PostgreSQL\\\\17\\\\bin;C:\\\\oraclexe\\\\app\\\\oracle\\\\product\\\\11.2.0\\\\server\\\\bin;C:\\\\Program Files\\\\Microsoft\\\\jdk-11.0.16.101-hotspot\\\\bin;D:\\\\app\\\\oracle\\\\product\\\\11.2.0\\\\server\\\\bin;C:\\\\WINDOWS\\\\system32;C:\\\\WINDOWS;C:\\\\WINDOWS\\\\System32\\\\Wbem;C:\\\\WINDOWS\\\\System32\\\\WindowsPowerShell\\\\v1.0;C:\\\\WINDOWS\\\\System32\\\\OpenSSH;C:\\\\Program Files\\\\Microsoft SQL Server\\\\150\\\\Tools\\\\Binn;C:\\\\Program Files\\\\Microsoft SQL Server\\\\Client SDK\\\\ODBC\\\\170\\\\Tools\\\\Binn;C:\\\\Program Files\\\\dotnet;C:\\\\Program Files (x86)\\\\Microsoft SQL Server\\\\150\\\\Tools\\\\Binn;C:\\\\Program Files\\\\Microsoft SQL Server\\\\150\\\\DTS\\\\Binn;C:\\\\Program Files\\\\Git\\\\cmd;C:\\\\Program Files\\\\nodejs;C:\\\\Program Files (x86)\\\\Microsoft SQL Server\\\\160\\\\Tools\\\\Binn;C:\\\\Program Files\\\\Microsoft SQL Server\\\\160\\\\Tools\\\\Binn;C:\\\\Program Files\\\\Microsoft SQL Server\\\\160\\\\DTS\\\\Binn;C:\\\\Program Files\\\\MySQL\\\\MySQL Server 8.0\\\\bin;C:\\\\Program Files\\\\MySQL\\\\MySQL Shell 8.0\\\\bin;C:\\\\Program Files\\\\GitHub CLI;C:\\\\Program Files\\\\PostgreSQL\\\\17\\\\bin;C:\\\\Program Files\\\\MySQL\\\\MySQL Shell 8.0\\\\bin;C:\\\\Users\\\\ACER\\\\AppData\\\\Local\\\\Programs\\\\Python\\\\Launcher;C:\\\\Users\\\\ACER\\\\AppData\\\\Local\\\\Microsoft\\\\WindowsApps;D:\\\\Microsoft VS Code\\\\bin;C:\\\\Program Files\\\\Azure Data Studio\\\\bin;C:\\\\Users\\\\ACER\\\\.dotnet\\\\tools;C:\\\\Users\\\\ACER\\\\AppData\\\\Roaming\\\\npm;C:\\\\Program Files\\\\Git\\\\usr\\\\bin\\\\vendor_perl;C:\\\\Program Files\\\\Git\\\\usr\\\\bin\\\\core_perl'"
      ]
     },
     "execution_count": 35,
     "metadata": {},
     "output_type": "execute_result"
    }
   ],
   "source": [
    "os.getenv(\"Path\")"
   ]
  },
  {
   "cell_type": "code",
   "execution_count": 36,
   "id": "276d3e87-30fc-4e4a-aa9a-f3a0fddab66e",
   "metadata": {},
   "outputs": [],
   "source": [
    "os.environ[\"MyPassword\"] = \"secret_password\""
   ]
  },
  {
   "cell_type": "code",
   "execution_count": 37,
   "id": "d556da71-4e5c-4627-8649-f799033472cf",
   "metadata": {},
   "outputs": [
    {
     "data": {
      "text/plain": [
       "'secret_password'"
      ]
     },
     "execution_count": 37,
     "metadata": {},
     "output_type": "execute_result"
    }
   ],
   "source": [
    "os.getenv(\"MyPassword\")"
   ]
  },
  {
   "cell_type": "code",
   "execution_count": 38,
   "id": "a55b6b8d-5ca3-4bff-ace2-81da7ccc8c53",
   "metadata": {},
   "outputs": [
    {
     "data": {
      "text/plain": [
       "environ{'ACLOCAL_PATH': 'C:\\\\Program Files\\\\Git\\\\mingw64\\\\share\\\\aclocal;C:\\\\Program Files\\\\Git\\\\usr\\\\share\\\\aclocal',\n",
       "        'ALLUSERSPROFILE': 'C:\\\\ProgramData',\n",
       "        'APPDATA': 'C:\\\\Users\\\\ACER\\\\AppData\\\\Roaming',\n",
       "        'BUNDLED_DEBUGPY_PATH': 'c:\\\\Users\\\\ACER\\\\.vscode\\\\extensions\\\\ms-python.debugpy-2025.8.0-win32-x64\\\\bundled\\\\libs\\\\debugpy',\n",
       "        'CHROME_CRASHPAD_PIPE_NAME': '\\\\\\\\.\\\\pipe\\\\crashpad_18800_TNKLQFETOJTHCKPV',\n",
       "        'COLORTERM': 'truecolor',\n",
       "        'COMMONPROGRAMFILES': 'C:\\\\Program Files\\\\Common Files',\n",
       "        'COMMONPROGRAMFILES(X86)': 'C:\\\\Program Files (x86)\\\\Common Files',\n",
       "        'COMMONPROGRAMW6432': 'C:\\\\Program Files\\\\Common Files',\n",
       "        'COMPUTERNAME': 'LUFFY',\n",
       "        'COMSPEC': 'C:\\\\WINDOWS\\\\system32\\\\cmd.exe',\n",
       "        'CONFIG_SITE': 'C:/Program Files/Git/etc/config.site',\n",
       "        'DISPLAY': 'needs-to-be-defined',\n",
       "        'DRIVERDATA': 'C:\\\\Windows\\\\System32\\\\Drivers\\\\DriverData',\n",
       "        'EFC_11152_1262719628': '1',\n",
       "        'EFC_11152_1592913036': '1',\n",
       "        'EFC_11152_2775293581': '1',\n",
       "        'EFC_11152_3789132940': '1',\n",
       "        'EXEPATH': 'C:\\\\Program Files\\\\Git\\\\bin',\n",
       "        'GIT_ASKPASS': 'd:\\\\Microsoft VS Code\\\\resources\\\\app\\\\extensions\\\\git\\\\dist\\\\askpass.sh',\n",
       "        'HOME': 'C:\\\\Users\\\\ACER',\n",
       "        'HOMEDRIVE': 'C:',\n",
       "        'HOMEPATH': '\\\\Users\\\\ACER',\n",
       "        'HOSTNAME': 'Luffy',\n",
       "        'INFOPATH': 'C:\\\\Program Files\\\\Git\\\\mingw64\\\\local\\\\info;C:\\\\Program Files\\\\Git\\\\mingw64\\\\share\\\\info;C:\\\\Program Files\\\\Git\\\\usr\\\\local\\\\info;C:\\\\Program Files\\\\Git\\\\usr\\\\share\\\\info;C:\\\\Program Files\\\\Git\\\\usr\\\\info;C:\\\\Program Files\\\\Git\\\\share\\\\info',\n",
       "        'IPY_INTERRUPT_EVENT': '2252',\n",
       "        'JPY_INTERRUPT_EVENT': '2252',\n",
       "        'JPY_PARENT_PID': '2448',\n",
       "        'JPY_SESSION_NAME': 'C:\\\\Users\\\\ACER\\\\Desktop\\\\ds_ml_class\\\\Modules and Packages\\\\Untitled.ipynb',\n",
       "        'LANG': 'en_US.UTF-8',\n",
       "        'LOCALAPPDATA': 'C:\\\\Users\\\\ACER\\\\AppData\\\\Local',\n",
       "        'LOGONSERVER': '\\\\\\\\LUFFY',\n",
       "        'MANPATH': 'C:\\\\Program Files\\\\Git\\\\mingw64\\\\local\\\\man;C:\\\\Program Files\\\\Git\\\\mingw64\\\\share\\\\man;C:\\\\Program Files\\\\Git\\\\usr\\\\local\\\\man;C:\\\\Program Files\\\\Git\\\\usr\\\\share\\\\man;C:\\\\Program Files\\\\Git\\\\usr\\\\man;C:\\\\Program Files\\\\Git\\\\share\\\\man',\n",
       "        'MINGW_CHOST': 'x86_64-w64-mingw32',\n",
       "        'MINGW_PACKAGE_PREFIX': 'mingw-w64-x86_64',\n",
       "        'MINGW_PREFIX': 'C:/Program Files/Git/mingw64',\n",
       "        'MSYSTEM': 'MINGW64',\n",
       "        'MSYSTEM_CARCH': 'x86_64',\n",
       "        'MSYSTEM_CHOST': 'x86_64-w64-mingw32',\n",
       "        'MSYSTEM_PREFIX': 'C:/Program Files/Git/mingw64',\n",
       "        'NUMBER_OF_PROCESSORS': '16',\n",
       "        'ONEDRIVE': 'C:\\\\Users\\\\ACER\\\\OneDrive',\n",
       "        'ONEDRIVECONSUMER': 'C:\\\\Users\\\\ACER\\\\OneDrive',\n",
       "        'ORIGINAL_PATH': 'C:\\\\Program Files\\\\Git\\\\mingw64\\\\bin;C:\\\\Program Files\\\\Git\\\\usr\\\\bin;C:\\\\Users\\\\ACER\\\\bin;C:\\\\Users\\\\ACER\\\\.vscode\\\\extensions\\\\ms-python.python-2025.8.1-win32-x64\\\\python_files\\\\deactivate\\\\powershell;C:\\\\Users\\\\ACER\\\\Desktop\\\\ds_ml_class\\\\.venv\\\\Scripts;C:\\\\Program Files\\\\PostgreSQL\\\\17\\\\bin;C:\\\\oraclexe\\\\app\\\\oracle\\\\product\\\\11.2.0\\\\server\\\\bin;C:\\\\Program Files\\\\Microsoft\\\\jdk-11.0.16.101-hotspot\\\\bin;D:\\\\app\\\\oracle\\\\product\\\\11.2.0\\\\server\\\\bin;C:\\\\WINDOWS\\\\system32;C:\\\\WINDOWS;C:\\\\WINDOWS\\\\System32\\\\Wbem;C:\\\\WINDOWS\\\\System32\\\\WindowsPowerShell\\\\v1.0;C:\\\\WINDOWS\\\\System32\\\\OpenSSH;C:\\\\Program Files\\\\Microsoft SQL Server\\\\150\\\\Tools\\\\Binn;C:\\\\Program Files\\\\Microsoft SQL Server\\\\Client SDK\\\\ODBC\\\\170\\\\Tools\\\\Binn;C:\\\\Program Files\\\\dotnet;C:\\\\Program Files (x86)\\\\Microsoft SQL Server\\\\150\\\\Tools\\\\Binn;C:\\\\Program Files\\\\Microsoft SQL Server\\\\150\\\\DTS\\\\Binn;C:\\\\Program Files\\\\Git\\\\cmd;C:\\\\Program Files\\\\nodejs;C:\\\\Program Files (x86)\\\\Microsoft SQL Server\\\\160\\\\Tools\\\\Binn;C:\\\\Program Files\\\\Microsoft SQL Server\\\\160\\\\Tools\\\\Binn;C:\\\\Program Files\\\\Microsoft SQL Server\\\\160\\\\DTS\\\\Binn;C:\\\\Program Files\\\\MySQL\\\\MySQL Server 8.0\\\\bin;C:\\\\Program Files\\\\MySQL\\\\MySQL Shell 8.0\\\\bin;C:\\\\Program Files\\\\GitHub CLI;C:\\\\Program Files\\\\PostgreSQL\\\\17\\\\bin;C:\\\\Program Files\\\\MySQL\\\\MySQL Shell 8.0\\\\bin;C:\\\\Users\\\\ACER\\\\AppData\\\\Local\\\\Programs\\\\Python\\\\Launcher;C:\\\\Users\\\\ACER\\\\AppData\\\\Local\\\\Microsoft\\\\WindowsApps;D:\\\\Microsoft VS Code\\\\bin;C:\\\\Program Files\\\\Azure Data Studio\\\\bin;C:\\\\Users\\\\ACER\\\\.dotnet\\\\tools;C:\\\\Users\\\\ACER\\\\AppData\\\\Roaming\\\\npm',\n",
       "        'ORIGINAL_TEMP': 'C:/Users/ACER/AppData/Local/Temp',\n",
       "        'ORIGINAL_TMP': 'C:/Users/ACER/AppData/Local/Temp',\n",
       "        'ORIGINAL_XDG_CURRENT_DESKTOP': 'undefined',\n",
       "        'OS': 'Windows_NT',\n",
       "        'PATH': 'C:\\\\Users\\\\ACER\\\\Desktop\\\\ds_ml_class\\\\.venv\\\\Scripts;c;C:\\\\Users\\\\ACER\\\\.vscode\\x1bxtensions\\\\ms-python.python-2025.8.1-win32-x64\\\\python_files\\\\deactivate\\\\powershell;C;C:\\\\Users\\\\ACER\\\\Desktop\\\\ds_ml_class\\\\.venv\\\\Scripts;\\\\c\\\\Users\\\\ACER\\\\bin;C:\\\\Program Files\\\\Git\\\\mingw64\\\\bin;C:\\\\Program Files\\\\Git\\\\usr\\\\local\\\\bin;C:\\\\Program Files\\\\Git\\\\usr\\\\bin;C:\\\\Program Files\\\\Git\\\\usr\\\\bin;C:\\\\Program Files\\\\Git\\\\mingw64\\\\bin;C:\\\\Program Files\\\\Git\\\\usr\\\\bin;C:\\\\Users\\\\ACER\\\\bin;C:\\\\Users\\\\ACER\\\\.vscode\\\\extensions\\\\ms-python.python-2025.8.1-win32-x64\\\\python_files\\\\deactivate\\\\powershell;C:\\\\Users\\\\ACER\\\\Desktop\\\\ds_ml_class\\\\.venv\\\\Scripts;C:\\\\Program Files\\\\PostgreSQL\\\\17\\\\bin;C:\\\\oraclexe\\\\app\\\\oracle\\\\product\\\\11.2.0\\\\server\\\\bin;C:\\\\Program Files\\\\Microsoft\\\\jdk-11.0.16.101-hotspot\\\\bin;D:\\\\app\\\\oracle\\\\product\\\\11.2.0\\\\server\\\\bin;C:\\\\WINDOWS\\\\system32;C:\\\\WINDOWS;C:\\\\WINDOWS\\\\System32\\\\Wbem;C:\\\\WINDOWS\\\\System32\\\\WindowsPowerShell\\\\v1.0;C:\\\\WINDOWS\\\\System32\\\\OpenSSH;C:\\\\Program Files\\\\Microsoft SQL Server\\\\150\\\\Tools\\\\Binn;C:\\\\Program Files\\\\Microsoft SQL Server\\\\Client SDK\\\\ODBC\\\\170\\\\Tools\\\\Binn;C:\\\\Program Files\\\\dotnet;C:\\\\Program Files (x86)\\\\Microsoft SQL Server\\\\150\\\\Tools\\\\Binn;C:\\\\Program Files\\\\Microsoft SQL Server\\\\150\\\\DTS\\\\Binn;C:\\\\Program Files\\\\Git\\\\cmd;C:\\\\Program Files\\\\nodejs;C:\\\\Program Files (x86)\\\\Microsoft SQL Server\\\\160\\\\Tools\\\\Binn;C:\\\\Program Files\\\\Microsoft SQL Server\\\\160\\\\Tools\\\\Binn;C:\\\\Program Files\\\\Microsoft SQL Server\\\\160\\\\DTS\\\\Binn;C:\\\\Program Files\\\\MySQL\\\\MySQL Server 8.0\\\\bin;C:\\\\Program Files\\\\MySQL\\\\MySQL Shell 8.0\\\\bin;C:\\\\Program Files\\\\GitHub CLI;C:\\\\Program Files\\\\PostgreSQL\\\\17\\\\bin;C:\\\\Program Files\\\\MySQL\\\\MySQL Shell 8.0\\\\bin;C:\\\\Users\\\\ACER\\\\AppData\\\\Local\\\\Programs\\\\Python\\\\Launcher;C:\\\\Users\\\\ACER\\\\AppData\\\\Local\\\\Microsoft\\\\WindowsApps;D:\\\\Microsoft VS Code\\\\bin;C:\\\\Program Files\\\\Azure Data Studio\\\\bin;C:\\\\Users\\\\ACER\\\\.dotnet\\\\tools;C:\\\\Users\\\\ACER\\\\AppData\\\\Roaming\\\\npm;C:\\\\Program Files\\\\Git\\\\usr\\\\bin\\\\vendor_perl;C:\\\\Program Files\\\\Git\\\\usr\\\\bin\\\\core_perl',\n",
       "        'PATHEXT': '.COM;.EXE;.BAT;.CMD;.VBS;.VBE;.JS;.JSE;.WSF;.WSH;.MSC;.CPL',\n",
       "        'PKG_CONFIG_PATH': 'C:\\\\Program Files\\\\Git\\\\mingw64\\\\lib\\\\pkgconfig;C:\\\\Program Files\\\\Git\\\\mingw64\\\\share\\\\pkgconfig',\n",
       "        'PKG_CONFIG_SYSTEM_INCLUDE_PATH': 'C:/Program Files/Git/mingw64/include',\n",
       "        'PKG_CONFIG_SYSTEM_LIBRARY_PATH': 'C:/Program Files/Git/mingw64/lib',\n",
       "        'PLINK_PROTOCOL': 'ssh',\n",
       "        'POSTGRESSQL': 'C:\\\\Program Files\\\\PostgreSQL\\\\17\\\\bin',\n",
       "        'PROCESSOR_ARCHITECTURE': 'AMD64',\n",
       "        'PROCESSOR_IDENTIFIER': 'AMD64 Family 23 Model 104 Stepping 1, AuthenticAMD',\n",
       "        'PROCESSOR_LEVEL': '23',\n",
       "        'PROCESSOR_REVISION': '6801',\n",
       "        'PROGRAMDATA': 'C:\\\\ProgramData',\n",
       "        'PROGRAMFILES': 'C:\\\\Program Files',\n",
       "        'PROGRAMFILES(X86)': 'C:\\\\Program Files (x86)',\n",
       "        'PROGRAMW6432': 'C:\\\\Program Files',\n",
       "        'PS1': '\\\\[\\x1b]633;A\\x07\\\\](.venv) \\\\[\\x1b]633;A\\x07\\\\]\\\\[\\\\033]0;$TITLEPREFIX:$PWD\\\\007\\\\]\\\\n\\\\[\\\\033[32m\\\\]\\\\u@\\\\h \\\\[\\\\033[35m\\\\]$MSYSTEM \\\\[\\\\033[33m\\\\]\\\\w\\\\[\\\\033[36m\\\\]`__git_ps1`\\\\[\\\\033[0m\\\\]\\\\n$ \\\\[\\x1b]633;B\\x07\\\\]\\\\[\\x1b]633;B\\x07\\\\]',\n",
       "        'PSMODULEPATH': 'C:\\\\Users\\\\ACER\\\\Documents\\\\WindowsPowerShell\\\\Modules;C:\\\\Program Files\\\\WindowsPowerShell\\\\Modules;C:\\\\WINDOWS\\\\system32\\\\WindowsPowerShell\\\\v1.0\\\\Modules;C:\\\\Program Files (x86)\\\\Microsoft SQL Server\\\\150\\\\Tools\\\\PowerShell\\\\Modules\\\\;C:\\\\Program Files (x86)\\\\Microsoft SQL Server\\\\160\\\\Tools\\\\PowerShell\\\\Modules\\\\',\n",
       "        'PUBLIC': 'C:\\\\Users\\\\Public',\n",
       "        'PWD': 'C:/Users/ACER/Desktop/ds_ml_class',\n",
       "        'PYDEVD_DISABLE_FILE_VALIDATION': '1',\n",
       "        'PYTHONUSERBASE': 'C:\\\\Users\\\\ACER\\\\AppData\\\\Local\\\\Packages\\\\PythonSoftwareFoundation.Python.3.13_qbz5n2kfra8p0\\\\LocalCache\\\\local-packages',\n",
       "        'SESSIONNAME': 'Console',\n",
       "        'SHELL': 'C:\\\\Program Files\\\\Git\\\\usr\\\\bin\\\\bash.exe',\n",
       "        'SHLVL': '1',\n",
       "        'SSH_ASKPASS': 'C:/Program Files/Git/mingw64/bin/git-askpass.exe',\n",
       "        'SYSTEMDRIVE': 'C:',\n",
       "        'SYSTEMROOT': 'C:\\\\WINDOWS',\n",
       "        'TEMP': 'C:\\\\Users\\\\ACER\\\\AppData\\\\Local\\\\Temp',\n",
       "        'TERM': 'xterm-color',\n",
       "        'TERM_PROGRAM': 'vscode',\n",
       "        'TERM_PROGRAM_VERSION': '1.101.2',\n",
       "        'TMP': 'C:\\\\Users\\\\ACER\\\\AppData\\\\Local\\\\Temp',\n",
       "        'TMPDIR': 'C:\\\\Users\\\\ACER\\\\AppData\\\\Local\\\\Temp',\n",
       "        'USERDOMAIN': 'LUFFY',\n",
       "        'USERDOMAIN_ROAMINGPROFILE': 'LUFFY',\n",
       "        'USERNAME': 'ACER',\n",
       "        'USERPROFILE': 'C:\\\\Users\\\\ACER',\n",
       "        'VBOX_HWVIRTEX_IGNORE_SVM_IN_USE': '1',\n",
       "        'VIRTUAL_ENV': 'C:/Users/ACER/Desktop/ds_ml_class/.venv',\n",
       "        'VIRTUAL_ENV_PROMPT': '.venv',\n",
       "        'VSCODE_DEBUGPY_ADAPTER_ENDPOINTS': 'c:\\\\Users\\\\ACER\\\\.vscode\\\\extensions\\\\ms-python.debugpy-2025.8.0-win32-x64\\\\.noConfigDebugAdapterEndpoints\\\\endpoint-ce87609dfd30fb5c.txt',\n",
       "        'VSCODE_GIT_ASKPASS_EXTRA_ARGS': '',\n",
       "        'VSCODE_GIT_ASKPASS_MAIN': 'd:\\\\Microsoft VS Code\\\\resources\\\\app\\\\extensions\\\\git\\\\dist\\\\askpass-main.js',\n",
       "        'VSCODE_GIT_ASKPASS_NODE': 'D:\\\\Microsoft VS Code\\\\Code.exe',\n",
       "        'VSCODE_GIT_IPC_HANDLE': '\\\\\\\\.\\\\pipe\\\\vscode-git-eea21f8ee0-sock',\n",
       "        'WINDIR': 'C:\\\\WINDOWS',\n",
       "        '_': 'C:/Users/ACER/Desktop/ds_ml_class/.venv/Scripts/jupyter',\n",
       "        'PYDEVD_USE_FRAME_EVAL': 'NO',\n",
       "        'CLICOLOR': '1',\n",
       "        'FORCE_COLOR': '1',\n",
       "        'CLICOLOR_FORCE': '1',\n",
       "        'PAGER': 'cat',\n",
       "        'GIT_PAGER': 'cat',\n",
       "        'MPLBACKEND': 'module://matplotlib_inline.backend_inline',\n",
       "        'MYPASSWORD': 'secret_password'}"
      ]
     },
     "execution_count": 38,
     "metadata": {},
     "output_type": "execute_result"
    }
   ],
   "source": [
    "os.environ"
   ]
  },
  {
   "cell_type": "code",
   "execution_count": null,
   "id": "a1d77c81-909d-4619-ac42-ba408bd53eed",
   "metadata": {},
   "outputs": [],
   "source": []
  }
 ],
 "metadata": {
  "kernelspec": {
   "display_name": "Python 3 (ipykernel)",
   "language": "python",
   "name": "python3"
  },
  "language_info": {
   "codemirror_mode": {
    "name": "ipython",
    "version": 3
   },
   "file_extension": ".py",
   "mimetype": "text/x-python",
   "name": "python",
   "nbconvert_exporter": "python",
   "pygments_lexer": "ipython3",
   "version": "3.13.5"
  }
 },
 "nbformat": 4,
 "nbformat_minor": 5
}
