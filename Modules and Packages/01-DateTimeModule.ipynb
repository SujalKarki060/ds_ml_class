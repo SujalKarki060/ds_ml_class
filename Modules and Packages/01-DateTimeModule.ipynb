{
 "cells": [
  {
   "cell_type": "code",
   "execution_count": 1,
   "id": "c28f1cd8-ed8d-49ac-82c3-e2b26a496219",
   "metadata": {},
   "outputs": [],
   "source": [
    "import datetime"
   ]
  },
  {
   "cell_type": "code",
   "execution_count": 2,
   "id": "144b7b9d-3345-41af-ad03-186afce176d9",
   "metadata": {},
   "outputs": [
    {
     "data": {
      "text/plain": [
       "['MAXYEAR',\n",
       " 'MINYEAR',\n",
       " 'UTC',\n",
       " '__all__',\n",
       " '__builtins__',\n",
       " '__cached__',\n",
       " '__doc__',\n",
       " '__file__',\n",
       " '__loader__',\n",
       " '__name__',\n",
       " '__package__',\n",
       " '__spec__',\n",
       " 'date',\n",
       " 'datetime',\n",
       " 'datetime_CAPI',\n",
       " 'time',\n",
       " 'timedelta',\n",
       " 'timezone',\n",
       " 'tzinfo']"
      ]
     },
     "execution_count": 2,
     "metadata": {},
     "output_type": "execute_result"
    }
   ],
   "source": [
    "dir(datetime)"
   ]
  },
  {
   "cell_type": "code",
   "execution_count": 3,
   "id": "8300a521-1a30-4b13-a11f-457e07d33e72",
   "metadata": {},
   "outputs": [
    {
     "data": {
      "text/plain": [
       "1"
      ]
     },
     "execution_count": 3,
     "metadata": {},
     "output_type": "execute_result"
    }
   ],
   "source": [
    "datetime.MINYEAR"
   ]
  },
  {
   "cell_type": "code",
   "execution_count": 4,
   "id": "0c66ab7d-ff7d-48ed-ba7b-d801ff930310",
   "metadata": {},
   "outputs": [
    {
     "data": {
      "text/plain": [
       "9999"
      ]
     },
     "execution_count": 4,
     "metadata": {},
     "output_type": "execute_result"
    }
   ],
   "source": [
    "datetime.MAXYEAR"
   ]
  },
  {
   "cell_type": "code",
   "execution_count": 13,
   "id": "e7838b7a-0632-4168-8678-dff048da9102",
   "metadata": {},
   "outputs": [
    {
     "data": {
      "text/plain": [
       "datetime.date(2025, 8, 14)"
      ]
     },
     "execution_count": 13,
     "metadata": {},
     "output_type": "execute_result"
    }
   ],
   "source": [
    "#'2025/07/14'\n",
    "date1 = datetime.date(2025, 8, 14)\n",
    "date1"
   ]
  },
  {
   "cell_type": "code",
   "execution_count": 14,
   "id": "ebc9383a-052a-4c41-af6e-733ebe91e844",
   "metadata": {},
   "outputs": [
    {
     "name": "stdout",
     "output_type": "stream",
     "text": [
      "2025-07-14\n"
     ]
    }
   ],
   "source": [
    "today = datetime.date.today()\n",
    "print(today)"
   ]
  },
  {
   "cell_type": "code",
   "execution_count": 15,
   "id": "2929a99d-1821-4e72-956f-fb511915bca1",
   "metadata": {},
   "outputs": [
    {
     "data": {
      "text/plain": [
       "True"
      ]
     },
     "execution_count": 15,
     "metadata": {},
     "output_type": "execute_result"
    }
   ],
   "source": [
    "#Compare dates\n",
    "\n",
    "date1 > today"
   ]
  },
  {
   "cell_type": "code",
   "execution_count": 16,
   "id": "2f7ee971-057f-4c17-8ea8-c5554c0b54a5",
   "metadata": {},
   "outputs": [
    {
     "data": {
      "text/plain": [
       "datetime.timedelta(days=31)"
      ]
     },
     "execution_count": 16,
     "metadata": {},
     "output_type": "execute_result"
    }
   ],
   "source": [
    "#Arith. operations\n",
    "\n",
    "date1 - today"
   ]
  },
  {
   "cell_type": "code",
   "execution_count": 17,
   "id": "299bfa2f-63e3-456f-8486-f2c2cb126c3d",
   "metadata": {},
   "outputs": [
    {
     "ename": "TypeError",
     "evalue": "unsupported operand type(s) for +: 'datetime.date' and 'datetime.date'",
     "output_type": "error",
     "traceback": [
      "\u001b[31m---------------------------------------------------------------------------\u001b[39m",
      "\u001b[31mTypeError\u001b[39m                                 Traceback (most recent call last)",
      "\u001b[36mCell\u001b[39m\u001b[36m \u001b[39m\u001b[32mIn[17]\u001b[39m\u001b[32m, line 1\u001b[39m\n\u001b[32m----> \u001b[39m\u001b[32m1\u001b[39m \u001b[43mdate1\u001b[49m\u001b[43m \u001b[49m\u001b[43m+\u001b[49m\u001b[43m \u001b[49m\u001b[43mtoday\u001b[49m\n",
      "\u001b[31mTypeError\u001b[39m: unsupported operand type(s) for +: 'datetime.date' and 'datetime.date'"
     ]
    }
   ],
   "source": [
    "date1 + today"
   ]
  },
  {
   "cell_type": "code",
   "execution_count": 28,
   "id": "147a70bf-a657-45a8-b9f9-6b012176402a",
   "metadata": {},
   "outputs": [
    {
     "data": {
      "text/plain": [
       "datetime.date(2025, 9, 22)"
      ]
     },
     "execution_count": 28,
     "metadata": {},
     "output_type": "execute_result"
    }
   ],
   "source": [
    "import time\n",
    "from datetime import date\n",
    "my_birthday = date(today.year, 9, 22)\n",
    "if my_birthday < today:\n",
    "    my_birthday = my_birthday.replace(year=today.year + 1)\n",
    "my_birthday"
   ]
  },
  {
   "cell_type": "code",
   "execution_count": 29,
   "id": "a38d6f43-4d4f-461a-a5c5-277b7f27d283",
   "metadata": {},
   "outputs": [
    {
     "data": {
      "text/plain": [
       "70"
      ]
     },
     "execution_count": 29,
     "metadata": {},
     "output_type": "execute_result"
    }
   ],
   "source": [
    "time_to_birthday = abs(my_birthday - today)\n",
    "time_to_birthday.days"
   ]
  },
  {
   "cell_type": "code",
   "execution_count": 35,
   "id": "6747c163-5017-4d25-aab7-3e99846bf77f",
   "metadata": {},
   "outputs": [],
   "source": [
    "today_time = datetime.time(8,21,25)"
   ]
  },
  {
   "cell_type": "code",
   "execution_count": 36,
   "id": "03ea01a4-9898-4d61-a8de-855d8c3af18f",
   "metadata": {},
   "outputs": [
    {
     "data": {
      "text/plain": [
       "datetime.time(8, 21, 25)"
      ]
     },
     "execution_count": 36,
     "metadata": {},
     "output_type": "execute_result"
    }
   ],
   "source": [
    "today_time"
   ]
  },
  {
   "cell_type": "code",
   "execution_count": 67,
   "id": "715d8c70-fdfb-4b64-93ba-8b6a572acdc0",
   "metadata": {},
   "outputs": [],
   "source": [
    "now = datetime.datetime.today()"
   ]
  },
  {
   "cell_type": "code",
   "execution_count": 68,
   "id": "50ceb23e-c37a-4976-add3-c3eb7ed334bd",
   "metadata": {},
   "outputs": [
    {
     "data": {
      "text/plain": [
       "datetime.datetime(2025, 7, 14, 8, 33, 48, 944672)"
      ]
     },
     "execution_count": 68,
     "metadata": {},
     "output_type": "execute_result"
    }
   ],
   "source": [
    "now"
   ]
  },
  {
   "cell_type": "code",
   "execution_count": 69,
   "id": "a551d478-2835-4e20-86c7-bb913fd20eea",
   "metadata": {},
   "outputs": [
    {
     "data": {
      "text/plain": [
       "'07/14/2025 08:33:48'"
      ]
     },
     "execution_count": 69,
     "metadata": {},
     "output_type": "execute_result"
    }
   ],
   "source": [
    "now.strftime(\"%m/%d/%Y %H:%M:%S\")"
   ]
  },
  {
   "cell_type": "code",
   "execution_count": 70,
   "id": "c3f70c54-6507-4d8c-9c75-f4229695bb22",
   "metadata": {},
   "outputs": [
    {
     "data": {
      "text/plain": [
       "0"
      ]
     },
     "execution_count": 70,
     "metadata": {},
     "output_type": "execute_result"
    }
   ],
   "source": [
    "now.weekday()"
   ]
  },
  {
   "cell_type": "code",
   "execution_count": 71,
   "id": "be77f9a1-db56-4366-bcdd-9e4039355410",
   "metadata": {},
   "outputs": [
    {
     "data": {
      "text/plain": [
       "2025"
      ]
     },
     "execution_count": 71,
     "metadata": {},
     "output_type": "execute_result"
    }
   ],
   "source": [
    "now.year\n"
   ]
  },
  {
   "cell_type": "code",
   "execution_count": 72,
   "id": "d7e21672-25b5-4f95-8751-9c7a8abf18cc",
   "metadata": {},
   "outputs": [
    {
     "data": {
      "text/plain": [
       "8"
      ]
     },
     "execution_count": 72,
     "metadata": {},
     "output_type": "execute_result"
    }
   ],
   "source": [
    "now.hour"
   ]
  },
  {
   "cell_type": "code",
   "execution_count": 73,
   "id": "a20732d2-7761-4ff5-97c0-538598de3a75",
   "metadata": {},
   "outputs": [
    {
     "data": {
      "text/plain": [
       "33"
      ]
     },
     "execution_count": 73,
     "metadata": {},
     "output_type": "execute_result"
    }
   ],
   "source": [
    "now.minute"
   ]
  },
  {
   "cell_type": "code",
   "execution_count": 74,
   "id": "123d5030-02b0-4eb3-8611-0ba971231122",
   "metadata": {},
   "outputs": [
    {
     "data": {
      "text/plain": [
       "14"
      ]
     },
     "execution_count": 74,
     "metadata": {},
     "output_type": "execute_result"
    }
   ],
   "source": [
    "now.day"
   ]
  },
  {
   "cell_type": "code",
   "execution_count": 83,
   "id": "b1d7c5f3-5ac2-426a-b87a-77384a534956",
   "metadata": {},
   "outputs": [
    {
     "data": {
      "text/plain": [
       "datetime.datetime(2008, 5, 22, 0, 0)"
      ]
     },
     "execution_count": 83,
     "metadata": {},
     "output_type": "execute_result"
    }
   ],
   "source": [
    "#timedelta\n",
    "\n",
    "year_10 = datetime.timedelta(days = 10*365)\n",
    "\n",
    "datetime.datetime(1998,5,25) + year_10"
   ]
  },
  {
   "cell_type": "code",
   "execution_count": 84,
   "id": "cff72619-7cd3-42dc-a295-d6eeabcc3615",
   "metadata": {},
   "outputs": [
    {
     "data": {
      "text/plain": [
       "315360000.0"
      ]
     },
     "execution_count": 84,
     "metadata": {},
     "output_type": "execute_result"
    }
   ],
   "source": [
    "year_10.total_seconds()"
   ]
  },
  {
   "cell_type": "code",
   "execution_count": 88,
   "id": "655d4fbf-d941-47a4-97db-98b43c42ab17",
   "metadata": {},
   "outputs": [],
   "source": [
    "nst = datetime.timezone(datetime.timedelta(hours = 5, minutes = 45))"
   ]
  },
  {
   "cell_type": "code",
   "execution_count": 89,
   "id": "534d70f2-5e22-49ba-9ff0-9b15edfa0dae",
   "metadata": {},
   "outputs": [
    {
     "name": "stdout",
     "output_type": "stream",
     "text": [
      "UTC+05:45\n"
     ]
    }
   ],
   "source": [
    "print(nst)"
   ]
  },
  {
   "cell_type": "code",
   "execution_count": null,
   "id": "51e649f4-3309-4d60-a0ea-85cd153520b1",
   "metadata": {},
   "outputs": [],
   "source": []
  },
  {
   "cell_type": "code",
   "execution_count": null,
   "id": "2f3b67fa-858c-49f6-9200-4fae1a19b0b3",
   "metadata": {},
   "outputs": [],
   "source": []
  },
  {
   "cell_type": "code",
   "execution_count": null,
   "id": "24c420e2-2a48-4d6f-8a6a-6cbd930b9eba",
   "metadata": {},
   "outputs": [],
   "source": []
  },
  {
   "cell_type": "code",
   "execution_count": null,
   "id": "6d14703e-1a98-445a-86b8-26d017c4d0d1",
   "metadata": {},
   "outputs": [],
   "source": []
  },
  {
   "cell_type": "code",
   "execution_count": null,
   "id": "ca518412-7240-49ed-bc08-a601aa46c9bb",
   "metadata": {},
   "outputs": [],
   "source": []
  },
  {
   "cell_type": "code",
   "execution_count": null,
   "id": "b0874b9e-73bd-42b5-ac03-3d83daaa26e9",
   "metadata": {},
   "outputs": [],
   "source": []
  }
 ],
 "metadata": {
  "kernelspec": {
   "display_name": "Python 3 (ipykernel)",
   "language": "python",
   "name": "python3"
  },
  "language_info": {
   "codemirror_mode": {
    "name": "ipython",
    "version": 3
   },
   "file_extension": ".py",
   "mimetype": "text/x-python",
   "name": "python",
   "nbconvert_exporter": "python",
   "pygments_lexer": "ipython3",
   "version": "3.13.5"
  }
 },
 "nbformat": 4,
 "nbformat_minor": 5
}
