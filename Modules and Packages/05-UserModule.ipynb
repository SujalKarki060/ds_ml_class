{
 "cells": [
  {
   "cell_type": "code",
   "execution_count": 1,
   "id": "46188615-2d4c-422f-a85a-032645e20847",
   "metadata": {},
   "outputs": [],
   "source": [
    "import my_calculator"
   ]
  },
  {
   "cell_type": "code",
   "execution_count": 8,
   "id": "d943c5a3-4241-42f4-804f-fe5990f5f5a8",
   "metadata": {},
   "outputs": [
    {
     "data": {
      "text/plain": [
       "8"
      ]
     },
     "execution_count": 8,
     "metadata": {},
     "output_type": "execute_result"
    }
   ],
   "source": [
    "my_calculator.addtion.add(3,5)"
   ]
  },
  {
   "cell_type": "code",
   "execution_count": null,
   "id": "ae1da7c8-4e69-46e6-99b2-b99009d1d7d9",
   "metadata": {},
   "outputs": [],
   "source": []
  },
  {
   "cell_type": "code",
   "execution_count": null,
   "id": "c3c66564-8e3a-46a7-97cb-74dd795de7db",
   "metadata": {},
   "outputs": [],
   "source": []
  }
 ],
 "metadata": {
  "kernelspec": {
   "display_name": "Python 3 (ipykernel)",
   "language": "python",
   "name": "python3"
  },
  "language_info": {
   "codemirror_mode": {
    "name": "ipython",
    "version": 3
   },
   "file_extension": ".py",
   "mimetype": "text/x-python",
   "name": "python",
   "nbconvert_exporter": "python",
   "pygments_lexer": "ipython3",
   "version": "3.13.5"
  }
 },
 "nbformat": 4,
 "nbformat_minor": 5
}
