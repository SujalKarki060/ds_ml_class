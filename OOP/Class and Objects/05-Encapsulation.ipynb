{
 "cells": [
  {
   "cell_type": "code",
   "execution_count": 25,
   "id": "c95e02eb-069b-446b-8720-798c87320fc0",
   "metadata": {},
   "outputs": [],
   "source": [
    "class Example:\n",
    "    def __init__(self):\n",
    "        self.public_var = 1\n",
    "        self.__private_var = 2\n",
    "        self._protected_var =3\n",
    "\n",
    "    def public_method(self):\n",
    "        print(self.__private_var)\n",
    "        print(\"This is public\")\n",
    "\n",
    "    def __private_method(self):\n",
    "        print(\"This is private\")\n",
    "\n",
    "    def _protected_method(self):\n",
    "        print(\"This is protected\")"
   ]
  },
  {
   "cell_type": "code",
   "execution_count": 26,
   "id": "ba6e412e-dfd3-475a-9c38-ba2433ae5eb4",
   "metadata": {},
   "outputs": [],
   "source": [
    "exm = Example()"
   ]
  },
  {
   "cell_type": "code",
   "execution_count": 27,
   "id": "05bd7d24-05c6-40b2-b723-6df41d10cf44",
   "metadata": {},
   "outputs": [
    {
     "name": "stdout",
     "output_type": "stream",
     "text": [
      "2\n",
      "This is public\n"
     ]
    }
   ],
   "source": [
    "exm.public_method()"
   ]
  },
  {
   "cell_type": "code",
   "execution_count": 28,
   "id": "805e32f4-eb0b-45dc-a6e5-719f15148378",
   "metadata": {},
   "outputs": [
    {
     "name": "stdout",
     "output_type": "stream",
     "text": [
      "This is protected\n"
     ]
    }
   ],
   "source": [
    "exm._protected_method()"
   ]
  },
  {
   "cell_type": "code",
   "execution_count": 29,
   "id": "187328cc-cf32-4dab-b4a1-f9fb72c61269",
   "metadata": {},
   "outputs": [
    {
     "data": {
      "text/plain": [
       "1"
      ]
     },
     "execution_count": 29,
     "metadata": {},
     "output_type": "execute_result"
    }
   ],
   "source": [
    "exm.public_var"
   ]
  },
  {
   "cell_type": "code",
   "execution_count": 30,
   "id": "d7e831d7-1e67-465e-9f57-c2cec139590d",
   "metadata": {},
   "outputs": [
    {
     "data": {
      "text/plain": [
       "3"
      ]
     },
     "execution_count": 30,
     "metadata": {},
     "output_type": "execute_result"
    }
   ],
   "source": [
    "exm._protected_var"
   ]
  },
  {
   "cell_type": "code",
   "execution_count": 31,
   "id": "587ebc2c-61bc-4971-b267-a3c960296252",
   "metadata": {},
   "outputs": [
    {
     "ename": "AttributeError",
     "evalue": "'Example' object has no attribute '__private_var'",
     "output_type": "error",
     "traceback": [
      "\u001b[31m---------------------------------------------------------------------------\u001b[39m",
      "\u001b[31mAttributeError\u001b[39m                            Traceback (most recent call last)",
      "\u001b[36mCell\u001b[39m\u001b[36m \u001b[39m\u001b[32mIn[31]\u001b[39m\u001b[32m, line 1\u001b[39m\n\u001b[32m----> \u001b[39m\u001b[32m1\u001b[39m \u001b[43mexm\u001b[49m\u001b[43m.\u001b[49m\u001b[43m__private_var\u001b[49m\n",
      "\u001b[31mAttributeError\u001b[39m: 'Example' object has no attribute '__private_var'"
     ]
    }
   ],
   "source": [
    "exm.__private_var"
   ]
  },
  {
   "cell_type": "code",
   "execution_count": 32,
   "id": "3408e06e-abd8-41c7-9043-ce7461b50a8e",
   "metadata": {},
   "outputs": [
    {
     "ename": "AttributeError",
     "evalue": "'Example' object has no attribute '__private_method'",
     "output_type": "error",
     "traceback": [
      "\u001b[31m---------------------------------------------------------------------------\u001b[39m",
      "\u001b[31mAttributeError\u001b[39m                            Traceback (most recent call last)",
      "\u001b[36mCell\u001b[39m\u001b[36m \u001b[39m\u001b[32mIn[32]\u001b[39m\u001b[32m, line 1\u001b[39m\n\u001b[32m----> \u001b[39m\u001b[32m1\u001b[39m \u001b[43mexm\u001b[49m\u001b[43m.\u001b[49m\u001b[43m__private_method\u001b[49m()\n",
      "\u001b[31mAttributeError\u001b[39m: 'Example' object has no attribute '__private_method'"
     ]
    }
   ],
   "source": [
    "exm.__private_method()"
   ]
  },
  {
   "cell_type": "code",
   "execution_count": 33,
   "id": "131f816a-4ec1-401f-afac-46fd266126b4",
   "metadata": {},
   "outputs": [],
   "source": [
    "class SubClass(Example):\n",
    "    def get_public_member(self):\n",
    "        print(self.public_var)\n",
    "\n",
    "    def get_protected_member(self):\n",
    "        print(self._protected_var)\n",
    "\n",
    "    def get_private_member(self):\n",
    "        print(self.__private_var)"
   ]
  },
  {
   "cell_type": "code",
   "execution_count": 34,
   "id": "f077b62f-ad17-430e-a6b3-3e028caf3b97",
   "metadata": {},
   "outputs": [],
   "source": [
    "obj = SubClass()"
   ]
  },
  {
   "cell_type": "code",
   "execution_count": 35,
   "id": "f08bdee6-2d23-4eaf-ab0d-bb6833249fcb",
   "metadata": {},
   "outputs": [
    {
     "name": "stdout",
     "output_type": "stream",
     "text": [
      "1\n"
     ]
    }
   ],
   "source": [
    "obj.get_public_member()"
   ]
  },
  {
   "cell_type": "code",
   "execution_count": 36,
   "id": "028d89aa-a38b-4055-8682-4079e0129c54",
   "metadata": {},
   "outputs": [
    {
     "name": "stdout",
     "output_type": "stream",
     "text": [
      "3\n"
     ]
    }
   ],
   "source": [
    "obj.get_protected_member()"
   ]
  },
  {
   "cell_type": "code",
   "execution_count": 37,
   "id": "ebfc9363-c6e3-4b76-b773-779047449c7c",
   "metadata": {},
   "outputs": [
    {
     "ename": "AttributeError",
     "evalue": "'SubClass' object has no attribute '_SubClass__private_var'",
     "output_type": "error",
     "traceback": [
      "\u001b[31m---------------------------------------------------------------------------\u001b[39m",
      "\u001b[31mAttributeError\u001b[39m                            Traceback (most recent call last)",
      "\u001b[36mCell\u001b[39m\u001b[36m \u001b[39m\u001b[32mIn[37]\u001b[39m\u001b[32m, line 1\u001b[39m\n\u001b[32m----> \u001b[39m\u001b[32m1\u001b[39m \u001b[43mobj\u001b[49m\u001b[43m.\u001b[49m\u001b[43mget_private_member\u001b[49m\u001b[43m(\u001b[49m\u001b[43m)\u001b[49m\n",
      "\u001b[36mCell\u001b[39m\u001b[36m \u001b[39m\u001b[32mIn[33]\u001b[39m\u001b[32m, line 9\u001b[39m, in \u001b[36mSubClass.get_private_member\u001b[39m\u001b[34m(self)\u001b[39m\n\u001b[32m      8\u001b[39m \u001b[38;5;28;01mdef\u001b[39;00m\u001b[38;5;250m \u001b[39m\u001b[34mget_private_member\u001b[39m(\u001b[38;5;28mself\u001b[39m):\n\u001b[32m----> \u001b[39m\u001b[32m9\u001b[39m     \u001b[38;5;28mprint\u001b[39m(\u001b[38;5;28;43mself\u001b[39;49m\u001b[43m.\u001b[49m\u001b[43m__private_var\u001b[49m)\n",
      "\u001b[31mAttributeError\u001b[39m: 'SubClass' object has no attribute '_SubClass__private_var'"
     ]
    }
   ],
   "source": [
    "obj.get_private_member()"
   ]
  },
  {
   "cell_type": "code",
   "execution_count": 40,
   "id": "d49e7982-d5d0-4c4e-9e47-b52d1638288e",
   "metadata": {},
   "outputs": [
    {
     "name": "stdout",
     "output_type": "stream",
     "text": [
      "2\n",
      "This is public\n"
     ]
    }
   ],
   "source": [
    "obj.public_method()"
   ]
  },
  {
   "cell_type": "code",
   "execution_count": 61,
   "id": "da0aee93-ccce-4211-8155-b3a331db0b39",
   "metadata": {},
   "outputs": [],
   "source": [
    "class BankAccount:\n",
    "    def __init__(self,name, balance):\n",
    "        self.name = name\n",
    "        self.__balance = balance\n",
    "\n",
    "    def deposit(self,amount):\n",
    "        if amount > 0:\n",
    "            self.__balance += amount\n",
    "            print(f\"Deposited amount is {amount}\")\n",
    "        else:\n",
    "            print(\"Deposited amount must be positive\")\n",
    "\n",
    "    def withdraw(self, amount) :\n",
    "        if 0 < amount <= self.__balance:\n",
    "            self.__balance -= amount\n",
    "            print(f\"Withdrew {amount}\")\n",
    "        else:\n",
    "            print(\"Insufficient balance or invalid amount.\")\n",
    "\n",
    "    def check_balance(self):\n",
    "        print(f\"Current balance: {self.__balance}\")\n",
    "        return self.__balance\n",
    "        \n",
    "        \n",
    "        "
   ]
  },
  {
   "cell_type": "code",
   "execution_count": 62,
   "id": "ff4fbfe5-058e-414f-b3e9-b2c6c775c89b",
   "metadata": {},
   "outputs": [],
   "source": [
    "class SavingsAccount(BankAccount):\n",
    "    def __init__(self,name, balance, interest_rate):\n",
    "        super().__init__(name,balance)\n",
    "        self.interest_rate = interest_rate\n",
    "\n",
    "    def apply_interest(self):\n",
    "        current_balance = self.check_balance()\n",
    "        interest = current_balance * (self.interest_rate / 100)\n",
    "        self.deposit(interest)\n",
    "        print(f\"Interest of {interest} applied at interest rate of {self.interest_rate}\")"
   ]
  },
  {
   "cell_type": "code",
   "execution_count": 63,
   "id": "e4ef76b1-e0f9-4a9a-98e8-f1ac1c2a02ee",
   "metadata": {},
   "outputs": [],
   "source": [
    "savings = SavingsAccount(\"Sujal\",22000, 5)"
   ]
  },
  {
   "cell_type": "code",
   "execution_count": 64,
   "id": "63e00516-178b-459f-9887-35af68316067",
   "metadata": {},
   "outputs": [
    {
     "name": "stdout",
     "output_type": "stream",
     "text": [
      "Current balance: 22000\n",
      "Deposited amount is 1100.0\n",
      "Interest of 1100.0 applied at interest rate of 5\n"
     ]
    }
   ],
   "source": [
    "savings.apply_interest()"
   ]
  },
  {
   "cell_type": "code",
   "execution_count": 65,
   "id": "7f72b0a3-f5d8-453f-b9e9-0df114cf5aff",
   "metadata": {},
   "outputs": [
    {
     "name": "stdout",
     "output_type": "stream",
     "text": [
      "Deposited amount is 15000\n"
     ]
    }
   ],
   "source": [
    "savings.deposit(15000)"
   ]
  },
  {
   "cell_type": "code",
   "execution_count": 66,
   "id": "7b791992-c43e-42f5-a665-bdcb7c248c48",
   "metadata": {},
   "outputs": [
    {
     "name": "stdout",
     "output_type": "stream",
     "text": [
      "Current balance: 38100.0\n"
     ]
    },
    {
     "data": {
      "text/plain": [
       "38100.0"
      ]
     },
     "execution_count": 66,
     "metadata": {},
     "output_type": "execute_result"
    }
   ],
   "source": [
    "savings.check_balance()"
   ]
  },
  {
   "cell_type": "code",
   "execution_count": 67,
   "id": "a3af0d07-df83-4c78-8d0b-82d80aac29a8",
   "metadata": {},
   "outputs": [
    {
     "name": "stdout",
     "output_type": "stream",
     "text": [
      "Withdrew 18100\n"
     ]
    }
   ],
   "source": [
    "savings.withdraw(18100)"
   ]
  },
  {
   "cell_type": "code",
   "execution_count": 68,
   "id": "b222693c-b530-4de5-9b48-6fa0cab7b15e",
   "metadata": {},
   "outputs": [
    {
     "name": "stdout",
     "output_type": "stream",
     "text": [
      "Current balance: 20000.0\n"
     ]
    },
    {
     "data": {
      "text/plain": [
       "20000.0"
      ]
     },
     "execution_count": 68,
     "metadata": {},
     "output_type": "execute_result"
    }
   ],
   "source": [
    "savings.check_balance()"
   ]
  },
  {
   "cell_type": "code",
   "execution_count": 69,
   "id": "f9b9ada8-04a4-4df4-a4aa-9892c499d7cc",
   "metadata": {},
   "outputs": [
    {
     "name": "stdout",
     "output_type": "stream",
     "text": [
      "Deposited amount is 21000\n"
     ]
    }
   ],
   "source": [
    "savings.deposit(21000)"
   ]
  },
  {
   "cell_type": "code",
   "execution_count": 70,
   "id": "4db09648-3e8d-42b1-a87a-e5daee887024",
   "metadata": {},
   "outputs": [
    {
     "name": "stdout",
     "output_type": "stream",
     "text": [
      "Current balance: 41000.0\n"
     ]
    },
    {
     "data": {
      "text/plain": [
       "41000.0"
      ]
     },
     "execution_count": 70,
     "metadata": {},
     "output_type": "execute_result"
    }
   ],
   "source": [
    "savings.check_balance()"
   ]
  },
  {
   "cell_type": "code",
   "execution_count": 74,
   "id": "6802f7f5-06e3-4f75-91c0-5362577ca3a3",
   "metadata": {},
   "outputs": [
    {
     "name": "stdout",
     "output_type": "stream",
     "text": [
      "Deposited amount must be positive\n"
     ]
    }
   ],
   "source": [
    "savings.deposit(-4000)"
   ]
  },
  {
   "cell_type": "code",
   "execution_count": null,
   "id": "4de90deb-4395-4e89-aa19-821ce476831e",
   "metadata": {},
   "outputs": [],
   "source": []
  }
 ],
 "metadata": {
  "kernelspec": {
   "display_name": "Python 3 (ipykernel)",
   "language": "python",
   "name": "python3"
  },
  "language_info": {
   "codemirror_mode": {
    "name": "ipython",
    "version": 3
   },
   "file_extension": ".py",
   "mimetype": "text/x-python",
   "name": "python",
   "nbconvert_exporter": "python",
   "pygments_lexer": "ipython3",
   "version": "3.13.5"
  }
 },
 "nbformat": 4,
 "nbformat_minor": 5
}
