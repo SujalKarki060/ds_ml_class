{
 "cells": [
  {
   "cell_type": "markdown",
   "id": "038f2260-b875-48a9-9317-33097ef6ec2e",
   "metadata": {},
   "source": [
    "## Magic Methods\n"
   ]
  },
  {
   "cell_type": "code",
   "execution_count": 40,
   "id": "34d848ca-e119-4fee-9233-5110637ea008",
   "metadata": {},
   "outputs": [],
   "source": [
    "class Person:\n",
    "    def __init__(self,name,age):\n",
    "        self.name = name\n",
    "        self.age = age\n",
    "\n",
    "    def __str__(self): #Overloading print()\n",
    "        return f\"{self.name} of {self.age} years old\"\n",
    "\n",
    "    def __repr__(self):\n",
    "        return f\"Person({self.name},{self.age})\"\n",
    "\n",
    "    def __len__(self):\n",
    "        return self.age\n",
    "\n",
    "    def __call__(self, gender=\"M\"):# object to callable\n",
    "        return f\"{self.name} is a {gender}\"\n",
    "        "
   ]
  },
  {
   "cell_type": "code",
   "execution_count": 41,
   "id": "1e138256-94b5-47d7-b31c-38a0bed788c1",
   "metadata": {},
   "outputs": [],
   "source": [
    "person = Person(\"Harry\", 22)"
   ]
  },
  {
   "cell_type": "code",
   "execution_count": 42,
   "id": "b561fc24-4625-44be-bfd2-757f916f69bf",
   "metadata": {},
   "outputs": [
    {
     "data": {
      "text/plain": [
       "'Harry'"
      ]
     },
     "execution_count": 42,
     "metadata": {},
     "output_type": "execute_result"
    }
   ],
   "source": [
    "person.name"
   ]
  },
  {
   "cell_type": "code",
   "execution_count": 43,
   "id": "32d6898d-a955-4b40-a83d-b007a91d953f",
   "metadata": {},
   "outputs": [
    {
     "name": "stdout",
     "output_type": "stream",
     "text": [
      "Harry of 22 years old\n"
     ]
    }
   ],
   "source": [
    "print(person)"
   ]
  },
  {
   "cell_type": "code",
   "execution_count": 44,
   "id": "2338f6f2-9fd6-47f7-b1f7-d5c34ac9ca62",
   "metadata": {},
   "outputs": [
    {
     "data": {
      "text/plain": [
       "Person(Harry,22)"
      ]
     },
     "execution_count": 44,
     "metadata": {},
     "output_type": "execute_result"
    }
   ],
   "source": [
    "person"
   ]
  },
  {
   "cell_type": "code",
   "execution_count": 45,
   "id": "40767124-756a-486b-9d74-ffe321fd1d9f",
   "metadata": {},
   "outputs": [
    {
     "data": {
      "text/plain": [
       "22"
      ]
     },
     "execution_count": 45,
     "metadata": {},
     "output_type": "execute_result"
    }
   ],
   "source": [
    "len(person)"
   ]
  },
  {
   "cell_type": "code",
   "execution_count": 47,
   "id": "3f156cd0-cec6-42bc-bc43-98454326189a",
   "metadata": {},
   "outputs": [
    {
     "data": {
      "text/plain": [
       "'Harry is a F'"
      ]
     },
     "execution_count": 47,
     "metadata": {},
     "output_type": "execute_result"
    }
   ],
   "source": [
    "person(gender=\"F\")"
   ]
  },
  {
   "cell_type": "code",
   "execution_count": null,
   "id": "6e26bbe2-1fe3-4790-98a6-b33a48e8a9b4",
   "metadata": {},
   "outputs": [],
   "source": []
  }
 ],
 "metadata": {
  "kernelspec": {
   "display_name": "Python 3 (ipykernel)",
   "language": "python",
   "name": "python3"
  },
  "language_info": {
   "codemirror_mode": {
    "name": "ipython",
    "version": 3
   },
   "file_extension": ".py",
   "mimetype": "text/x-python",
   "name": "python",
   "nbconvert_exporter": "python",
   "pygments_lexer": "ipython3",
   "version": "3.13.5"
  }
 },
 "nbformat": 4,
 "nbformat_minor": 5
}
