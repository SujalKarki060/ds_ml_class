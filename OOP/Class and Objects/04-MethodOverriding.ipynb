{
 "cells": [
  {
   "cell_type": "code",
   "execution_count": 1,
   "id": "0ab09184-1921-4e6b-bd8e-667cd8f4d4e1",
   "metadata": {},
   "outputs": [],
   "source": [
    "class Animal:\n",
    "    def sound(self):\n",
    "        print(\"Making animal sound...\")"
   ]
  },
  {
   "cell_type": "code",
   "execution_count": 5,
   "id": "b3993db3-3183-41a5-995c-de35c9067602",
   "metadata": {},
   "outputs": [],
   "source": [
    "class Dog(Animal):\n",
    "    def sound(self):\n",
    "        print(\"Dog Make Woof Sound\")\n",
    "\n",
    "class Cat(Animal):\n",
    "    def sound(self):\n",
    "        print(\"Meow\")"
   ]
  },
  {
   "cell_type": "code",
   "execution_count": 6,
   "id": "dd9a3f0d-555d-4db3-8216-e4c160896357",
   "metadata": {},
   "outputs": [],
   "source": [
    "dog = Dog()"
   ]
  },
  {
   "cell_type": "code",
   "execution_count": 7,
   "id": "b6566900-599e-46cd-8bfe-60e4def25d0b",
   "metadata": {},
   "outputs": [
    {
     "name": "stdout",
     "output_type": "stream",
     "text": [
      "Dog Make Woof Sound\n"
     ]
    }
   ],
   "source": [
    "dog.sound()"
   ]
  },
  {
   "cell_type": "code",
   "execution_count": 8,
   "id": "164f2266-4758-43d1-b63e-061c7e8f41c2",
   "metadata": {},
   "outputs": [
    {
     "name": "stdout",
     "output_type": "stream",
     "text": [
      "Meow\n"
     ]
    }
   ],
   "source": [
    "cat = Cat()\n",
    "cat.sound()"
   ]
  },
  {
   "cell_type": "code",
   "execution_count": 9,
   "id": "7697980c-8a74-4344-b371-092689f927bf",
   "metadata": {},
   "outputs": [],
   "source": [
    "class Parent:\n",
    "    def say_hello(self):\n",
    "        print(\"Hello from parent\")\n",
    "\n",
    "class Child(Parent):\n",
    "    def say_hello(self):\n",
    "        super().say_hello()\n",
    "        print(\"hello from child\")"
   ]
  },
  {
   "cell_type": "code",
   "execution_count": 10,
   "id": "76997553-a804-4a41-ab1c-fe24f974e54b",
   "metadata": {},
   "outputs": [],
   "source": [
    "child = Child()"
   ]
  },
  {
   "cell_type": "code",
   "execution_count": 11,
   "id": "9da7f166-984a-4873-a990-106552c29e44",
   "metadata": {},
   "outputs": [
    {
     "name": "stdout",
     "output_type": "stream",
     "text": [
      "Hello from parent\n",
      "hello from child\n"
     ]
    }
   ],
   "source": [
    "child.say_hello()"
   ]
  },
  {
   "cell_type": "code",
   "execution_count": null,
   "id": "9159cd04-529c-417a-8427-5d99cd89cd4c",
   "metadata": {},
   "outputs": [],
   "source": []
  }
 ],
 "metadata": {
  "kernelspec": {
   "display_name": "Python 3 (ipykernel)",
   "language": "python",
   "name": "python3"
  },
  "language_info": {
   "codemirror_mode": {
    "name": "ipython",
    "version": 3
   },
   "file_extension": ".py",
   "mimetype": "text/x-python",
   "name": "python",
   "nbconvert_exporter": "python",
   "pygments_lexer": "ipython3",
   "version": "3.13.5"
  }
 },
 "nbformat": 4,
 "nbformat_minor": 5
}
