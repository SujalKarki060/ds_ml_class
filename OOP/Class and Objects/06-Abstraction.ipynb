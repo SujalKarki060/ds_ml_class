{
 "cells": [
  {
   "cell_type": "code",
   "execution_count": 2,
   "id": "933ade53-7718-49ef-a15e-e529aa939872",
   "metadata": {},
   "outputs": [],
   "source": [
    "from abc import ABC, abstractmethod\n",
    "\n",
    "class Shape(ABC):\n",
    "\n",
    "    @abstractmethod\n",
    "    def area(self):\n",
    "        pass\n",
    "\n",
    "    def volume(self):\n",
    "        return \"Not Applicable for given shape\""
   ]
  },
  {
   "cell_type": "code",
   "execution_count": 3,
   "id": "5547d867-127e-441e-ba7e-ec9181050472",
   "metadata": {},
   "outputs": [
    {
     "ename": "TypeError",
     "evalue": "Can't instantiate abstract class Shape without an implementation for abstract method 'area'",
     "output_type": "error",
     "traceback": [
      "\u001b[31m---------------------------------------------------------------------------\u001b[39m",
      "\u001b[31mTypeError\u001b[39m                                 Traceback (most recent call last)",
      "\u001b[36mCell\u001b[39m\u001b[36m \u001b[39m\u001b[32mIn[3]\u001b[39m\u001b[32m, line 1\u001b[39m\n\u001b[32m----> \u001b[39m\u001b[32m1\u001b[39m shape = \u001b[43mShape\u001b[49m\u001b[43m(\u001b[49m\u001b[43m)\u001b[49m\n",
      "\u001b[31mTypeError\u001b[39m: Can't instantiate abstract class Shape without an implementation for abstract method 'area'"
     ]
    }
   ],
   "source": [
    "shape = Shape()"
   ]
  },
  {
   "cell_type": "code",
   "execution_count": 6,
   "id": "9df3565b-4e74-4731-afe7-944924a2cfce",
   "metadata": {},
   "outputs": [],
   "source": [
    "class Rectangle(Shape):\n",
    "    def __init__(self,width,length):\n",
    "        self.w = width\n",
    "        self.l = length\n",
    "\n",
    "    def area(self):\n",
    "        return self.w * self.l"
   ]
  },
  {
   "cell_type": "code",
   "execution_count": 7,
   "id": "d25c5169-b4af-4aeb-8278-19f6d9983894",
   "metadata": {},
   "outputs": [],
   "source": [
    "rect = Rectangle(16,44)"
   ]
  },
  {
   "cell_type": "code",
   "execution_count": 8,
   "id": "5c8173c4-2e7a-4757-9356-0582aed14e5a",
   "metadata": {},
   "outputs": [
    {
     "data": {
      "text/plain": [
       "704"
      ]
     },
     "execution_count": 8,
     "metadata": {},
     "output_type": "execute_result"
    }
   ],
   "source": [
    "rect.area()"
   ]
  },
  {
   "cell_type": "code",
   "execution_count": 9,
   "id": "d58831cc-f4fd-4fa2-baf0-ee76aeb3d783",
   "metadata": {},
   "outputs": [
    {
     "data": {
      "text/plain": [
       "'Not Applicable for given shape'"
      ]
     },
     "execution_count": 9,
     "metadata": {},
     "output_type": "execute_result"
    }
   ],
   "source": [
    "rect.volume()"
   ]
  },
  {
   "cell_type": "code",
   "execution_count": 15,
   "id": "d0ebfd23-efeb-4032-904c-cd2c3913d4a9",
   "metadata": {},
   "outputs": [],
   "source": [
    "class Cuboid(Shape):\n",
    "    def __init__(self,width,length,height):\n",
    "        self.w = width\n",
    "        self.l = length\n",
    "        self.h = height\n",
    "\n",
    "    def volume(self):\n",
    "        return self.w * self.l * self.h\n",
    "\n",
    "    def area(self):\n",
    "        return 2 * (self.l * self.w + self.l * self.h + self.w * self.h)"
   ]
  },
  {
   "cell_type": "code",
   "execution_count": 16,
   "id": "11a0dcfd-35e8-4e57-84d7-6fa0f9e1a032",
   "metadata": {},
   "outputs": [],
   "source": [
    "cub = Cuboid(16,44,24)"
   ]
  },
  {
   "cell_type": "code",
   "execution_count": 17,
   "id": "90ce1c20-d470-4772-9850-40b0a65b3221",
   "metadata": {},
   "outputs": [
    {
     "data": {
      "text/plain": [
       "4288"
      ]
     },
     "execution_count": 17,
     "metadata": {},
     "output_type": "execute_result"
    }
   ],
   "source": [
    "cub.area()"
   ]
  },
  {
   "cell_type": "code",
   "execution_count": 18,
   "id": "aa18bddc-1506-4219-8254-b5399857f225",
   "metadata": {},
   "outputs": [
    {
     "data": {
      "text/plain": [
       "16896"
      ]
     },
     "execution_count": 18,
     "metadata": {},
     "output_type": "execute_result"
    }
   ],
   "source": [
    "cub.volume()"
   ]
  },
  {
   "cell_type": "code",
   "execution_count": null,
   "id": "49a615f5-4ccd-4abf-8c0b-f10d5e126425",
   "metadata": {},
   "outputs": [],
   "source": []
  }
 ],
 "metadata": {
  "kernelspec": {
   "display_name": "Python 3 (ipykernel)",
   "language": "python",
   "name": "python3"
  },
  "language_info": {
   "codemirror_mode": {
    "name": "ipython",
    "version": 3
   },
   "file_extension": ".py",
   "mimetype": "text/x-python",
   "name": "python",
   "nbconvert_exporter": "python",
   "pygments_lexer": "ipython3",
   "version": "3.13.5"
  }
 },
 "nbformat": 4,
 "nbformat_minor": 5
}
