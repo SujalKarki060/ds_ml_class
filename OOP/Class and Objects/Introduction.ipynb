{
 "cells": [
  {
   "cell_type": "code",
   "execution_count": 4,
   "id": "f798dcdf-272b-4e12-97cb-a694f2d593c0",
   "metadata": {},
   "outputs": [],
   "source": [
    "class Calculator:\n",
    "    def __init__(self,num1,num2):\n",
    "        self.num1 = num1\n",
    "        self.num2 = num2\n",
    "\n",
    "    def sum(self):\n",
    "        return self.num1 + self.num2\n",
    "\n",
    "    "
   ]
  },
  {
   "cell_type": "code",
   "execution_count": 5,
   "id": "82436ba5-81a2-487a-b1ff-28ef63d125cc",
   "metadata": {},
   "outputs": [],
   "source": [
    "cal_obj = Calculator(10,4)"
   ]
  },
  {
   "cell_type": "code",
   "execution_count": 6,
   "id": "e5dfed43-9211-432e-b70f-3d682fdd83cf",
   "metadata": {},
   "outputs": [
    {
     "data": {
      "text/plain": [
       "__main__.Calculator"
      ]
     },
     "execution_count": 6,
     "metadata": {},
     "output_type": "execute_result"
    }
   ],
   "source": [
    "type(cal_obj)"
   ]
  },
  {
   "cell_type": "code",
   "execution_count": 7,
   "id": "ae841c0d-93e6-4b83-a02d-48648df63e1b",
   "metadata": {},
   "outputs": [
    {
     "data": {
      "text/plain": [
       "14"
      ]
     },
     "execution_count": 7,
     "metadata": {},
     "output_type": "execute_result"
    }
   ],
   "source": [
    "cal_obj.sum()"
   ]
  },
  {
   "cell_type": "code",
   "execution_count": 8,
   "id": "fc2116be-c3fe-4aad-a579-849171d50f92",
   "metadata": {},
   "outputs": [
    {
     "data": {
      "text/plain": [
       "62"
      ]
     },
     "execution_count": 8,
     "metadata": {},
     "output_type": "execute_result"
    }
   ],
   "source": [
    "cal_obj2 = Calculator(55,7)\n",
    "cal_obj2.sum()"
   ]
  },
  {
   "cell_type": "code",
   "execution_count": 10,
   "id": "d67dc06b-3693-4ff2-8a83-c57791dfe78f",
   "metadata": {},
   "outputs": [],
   "source": [
    "class Person:\n",
    "    count = 0 #Class attribute\n",
    "    \n",
    "    def __init__(self, name:str, address:str = \"Kathmandu\"): #Constructor/Initializer\n",
    "        \"\"\"\n",
    "        Creating a Person Class\n",
    "        \"\"\"\n",
    "        self.name = name\n",
    "        self.address = address\n",
    "\n",
    "        Person.count += 1\n",
    "\n",
    "    def get_details(self): #Instance Method/Object\n",
    "        return print(f\"I am {self.name} from {self.address}\")\n",
    "\n",
    "    @classmethod\n",
    "    def get_count(cls):#class method\n",
    "        return cls.count\n",
    "\n",
    "    @staticmethod\n",
    "    def create_fullname(firstname,lastname): #static method\n",
    "        return print(f\"{lastname},{firstname}\")\n",
    "    "
   ]
  },
  {
   "cell_type": "code",
   "execution_count": 12,
   "id": "d95052a4-5864-4ab4-8965-0dc236af70ce",
   "metadata": {},
   "outputs": [],
   "source": [
    "student1 = Person(\"Ram\")"
   ]
  },
  {
   "cell_type": "code",
   "execution_count": 13,
   "id": "4cff4b1d-de6f-4803-a583-1e680126e335",
   "metadata": {},
   "outputs": [],
   "source": [
    "student2 = Person(\"Hari\", \"Jhapa\")"
   ]
  },
  {
   "cell_type": "code",
   "execution_count": 14,
   "id": "ffb8ada2-d4a1-45db-84f5-545365449746",
   "metadata": {},
   "outputs": [
    {
     "name": "stdout",
     "output_type": "stream",
     "text": [
      "I am Ram from Kathmandu\n"
     ]
    }
   ],
   "source": [
    "student1.get_details()"
   ]
  },
  {
   "cell_type": "code",
   "execution_count": 15,
   "id": "7a70861f-7848-4c1a-a914-ee4f321d4951",
   "metadata": {},
   "outputs": [
    {
     "data": {
      "text/plain": [
       "3"
      ]
     },
     "execution_count": 15,
     "metadata": {},
     "output_type": "execute_result"
    }
   ],
   "source": [
    "student1.get_count()"
   ]
  },
  {
   "cell_type": "code",
   "execution_count": 17,
   "id": "b1338fd0-2f31-47cd-a281-aaaf8ee5ec87",
   "metadata": {},
   "outputs": [
    {
     "data": {
      "text/plain": [
       "3"
      ]
     },
     "execution_count": 17,
     "metadata": {},
     "output_type": "execute_result"
    }
   ],
   "source": [
    "student2.get_count()"
   ]
  },
  {
   "cell_type": "code",
   "execution_count": 18,
   "id": "4ba2957a-e070-484a-afbc-8598ddbec554",
   "metadata": {},
   "outputs": [
    {
     "name": "stdout",
     "output_type": "stream",
     "text": [
      "Karki,Ram\n"
     ]
    }
   ],
   "source": [
    "student1.create_fullname(\"Ram\",\"Karki\")"
   ]
  },
  {
   "cell_type": "code",
   "execution_count": 28,
   "id": "db82ceac-cb84-4756-9ddd-c8cbccd5f4df",
   "metadata": {},
   "outputs": [],
   "source": [
    "from typing import List, Tuple\n",
    "\n",
    "class Library:\n",
    "    def __init__(self,student:str, department:str):\n",
    "        \"\"\"\n",
    "        Initializes a Library object for a student in a specific department.\n",
    "        \"\"\"\n",
    "        self.student:str = student\n",
    "        self.department:str = student\n",
    "        self.books: List[Tuple[str,int]] =[\n",
    "            (\"The Alchemist\", 25),\n",
    "            (\"The Da Vinci Code\", 30),\n",
    "            (\"A Brief History of Time\", 15),\n",
    "            (\"Angels & Demons\", 0),\n",
    "            (\"The Grand Design\", 0),\n",
    "            (\"1984\", 19)\n",
    "        ]\n",
    "\n",
    "    def can_borrow(self, book_name: str) -> bool:\n",
    "        \"\"\"\n",
    "        Checks if the given book is available to borrow.\n",
    "        Returns True if available, else False.\n",
    "        \"\"\"\n",
    "        for title, quantity in self.books:\n",
    "            if title.lower() == book_name.lower():\n",
    "                if quantity > 0:\n",
    "                    print(f\"✅ '{book_name}' is available. You can borrow it.\")\n",
    "                    return True\n",
    "                else:\n",
    "                    print(f\"❌ '{book_name}' is currently out of stock.\")\n",
    "                    return False\n",
    "        print(f\"❌ '{book_name}' not found in the library catalog.\")\n",
    "        return False\n",
    "            \n",
    "        \n",
    "        #status =[name for name,amount in sekf.books if name.lower()==book_name and amount>0]\n",
    "        #return \"Can Borrow\" if status else \"Can't Borrow\"\n",
    "\n"
   ]
  },
  {
   "cell_type": "code",
   "execution_count": 29,
   "id": "52129867-39ab-4458-8b2d-b87e4d6c8362",
   "metadata": {},
   "outputs": [],
   "source": [
    "lib = Library(\"Sujal\",\"Computer Science\")"
   ]
  },
  {
   "cell_type": "code",
   "execution_count": 30,
   "id": "58615da1-4886-4735-90e2-eed7e72557c2",
   "metadata": {},
   "outputs": [
    {
     "name": "stdout",
     "output_type": "stream",
     "text": [
      "✅ 'The Alchemist' is available. You can borrow it.\n"
     ]
    },
    {
     "data": {
      "text/plain": [
       "True"
      ]
     },
     "execution_count": 30,
     "metadata": {},
     "output_type": "execute_result"
    }
   ],
   "source": [
    "lib.can_borrow(\"The Alchemist\")"
   ]
  },
  {
   "cell_type": "code",
   "execution_count": 31,
   "id": "3d580f53-a580-4447-b011-b6086a94db1c",
   "metadata": {},
   "outputs": [
    {
     "name": "stdout",
     "output_type": "stream",
     "text": [
      "❌ 'The Grand Design' is currently out of stock.\n"
     ]
    },
    {
     "data": {
      "text/plain": [
       "False"
      ]
     },
     "execution_count": 31,
     "metadata": {},
     "output_type": "execute_result"
    }
   ],
   "source": [
    "lib.can_borrow(\"The Grand Design\")"
   ]
  },
  {
   "cell_type": "code",
   "execution_count": 53,
   "id": "593d227b-ddfd-46c2-86b3-fe506c9d58fd",
   "metadata": {},
   "outputs": [],
   "source": [
    "class StudentResult:\n",
    "    def __init__(self,name:str, marks:List):\n",
    "        self.name= name\n",
    "        self.marks = marks\n",
    "\n",
    "    def total(self):\n",
    "        total_marks = self.marks[0] + self.marks[1] + self.marks[2]\n",
    "        print(f\"{self.name} got a total marks of {total_marks}\")\n",
    "        return total_marks\n",
    "\n",
    "    def average(self, total_marks):\n",
    "        average_marks = total_marks / len(self.marks)\n",
    "        print(f\"{self.name} got average marks of {average_marks}\")\n",
    "        return average_marks\n",
    "\n",
    "\n",
    "    def display(selfname, total_marks,average_marks):\n",
    "        return print(f\"{self.name} got a total marks of {total_marks} and average is {average_marks}\")"
   ]
  },
  {
   "cell_type": "code",
   "execution_count": 54,
   "id": "b81debbf-f0db-4848-8481-ccbfd6b7d483",
   "metadata": {},
   "outputs": [],
   "source": [
    "result = StudentResult(\"Ram\",[25,40,55])"
   ]
  },
  {
   "cell_type": "code",
   "execution_count": 55,
   "id": "eeb3b6bc-eb1d-4efc-a4e7-338ed31495ea",
   "metadata": {},
   "outputs": [
    {
     "name": "stdout",
     "output_type": "stream",
     "text": [
      "Ram got a total marks of 120\n"
     ]
    },
    {
     "data": {
      "text/plain": [
       "120"
      ]
     },
     "execution_count": 55,
     "metadata": {},
     "output_type": "execute_result"
    }
   ],
   "source": [
    "result.total()"
   ]
  },
  {
   "cell_type": "code",
   "execution_count": null,
   "id": "5f6667c9-29ff-4806-8ef5-5efe0b05a426",
   "metadata": {},
   "outputs": [],
   "source": []
  }
 ],
 "metadata": {
  "kernelspec": {
   "display_name": "Python 3 (ipykernel)",
   "language": "python",
   "name": "python3"
  },
  "language_info": {
   "codemirror_mode": {
    "name": "ipython",
    "version": 3
   },
   "file_extension": ".py",
   "mimetype": "text/x-python",
   "name": "python",
   "nbconvert_exporter": "python",
   "pygments_lexer": "ipython3",
   "version": "3.13.5"
  }
 },
 "nbformat": 4,
 "nbformat_minor": 5
}
