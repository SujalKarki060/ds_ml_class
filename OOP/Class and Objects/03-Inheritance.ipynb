{
 "cells": [
  {
   "cell_type": "code",
   "execution_count": 1,
   "id": "ee7a793f-43f9-46ed-a142-260117793da8",
   "metadata": {},
   "outputs": [],
   "source": [
    "class Animal:\n",
    "    def __init__(self,name,age):\n",
    "        self.name = name\n",
    "        self.age = age\n",
    "\n",
    "    def intro(self):\n",
    "        print(f\"My name is {self.name}\")"
   ]
  },
  {
   "cell_type": "code",
   "execution_count": 5,
   "id": "60075840-b710-4c58-817d-1dbe3129c798",
   "metadata": {},
   "outputs": [],
   "source": [
    "class Cat(Animal):\n",
    "    def __init__(self,name,age,color):\n",
    "        super().__init__(name,age)\n",
    "        self.color = color\n",
    "\n",
    "    def speak(self):\n",
    "        print(\"meow\")\n",
    "    "
   ]
  },
  {
   "cell_type": "code",
   "execution_count": 6,
   "id": "2cbfe349-aa84-4592-ba29-39189ce3a6d0",
   "metadata": {},
   "outputs": [],
   "source": [
    "cat = Cat(\"Optimus Prime\",3, \"Grey\")"
   ]
  },
  {
   "cell_type": "code",
   "execution_count": 7,
   "id": "bc83fc43-f623-4cd7-aa0c-fbeac1fc1027",
   "metadata": {},
   "outputs": [
    {
     "data": {
      "text/plain": [
       "'Optimus Prime'"
      ]
     },
     "execution_count": 7,
     "metadata": {},
     "output_type": "execute_result"
    }
   ],
   "source": [
    "cat.name\n"
   ]
  },
  {
   "cell_type": "code",
   "execution_count": 9,
   "id": "d8a1a5be-2f3e-45b4-a6f4-219791c8b9d6",
   "metadata": {},
   "outputs": [
    {
     "name": "stdout",
     "output_type": "stream",
     "text": [
      "meow\n"
     ]
    }
   ],
   "source": [
    "cat.speak()"
   ]
  },
  {
   "cell_type": "code",
   "execution_count": 10,
   "id": "3514f79b-eb5a-47dc-965d-365c150e4c3c",
   "metadata": {},
   "outputs": [
    {
     "name": "stdout",
     "output_type": "stream",
     "text": [
      "My name is Optimus Prime\n"
     ]
    }
   ],
   "source": [
    "cat.intro()"
   ]
  },
  {
   "cell_type": "code",
   "execution_count": 11,
   "id": "3575bfbe-0251-4fe1-a17e-abb364c80456",
   "metadata": {},
   "outputs": [],
   "source": [
    "class Parent1:\n",
    "    def func1(self):\n",
    "        print(\"This is parent 1\")\n",
    "\n",
    "class Parent2:\n",
    "    def func2(self):\n",
    "        print(\"This is parent 2\")\n",
    "\n",
    "class Parent3:\n",
    "    def func2(self):\n",
    "        print(\"This is parent 3\")"
   ]
  },
  {
   "cell_type": "code",
   "execution_count": 15,
   "id": "a4c8104c-e3ef-4cc5-ae31-5c8bded88923",
   "metadata": {},
   "outputs": [],
   "source": [
    "class Child(Parent1,Parent2,Parent3):\n",
    "    def func4(self):\n",
    "         print(\"This is child function 4\")"
   ]
  },
  {
   "cell_type": "code",
   "execution_count": 16,
   "id": "c30ffc1e-41e5-458b-a522-64d3d588ac19",
   "metadata": {},
   "outputs": [],
   "source": [
    "obj = Child()"
   ]
  },
  {
   "cell_type": "code",
   "execution_count": 18,
   "id": "09b7a565-ef4a-48ac-83ee-0ad30088a752",
   "metadata": {},
   "outputs": [
    {
     "name": "stdout",
     "output_type": "stream",
     "text": [
      "This is child function 4\n"
     ]
    }
   ],
   "source": [
    "obj.func4()"
   ]
  },
  {
   "cell_type": "code",
   "execution_count": 19,
   "id": "d75d46a5-4535-4f8e-8ce5-9d938ebecd08",
   "metadata": {},
   "outputs": [
    {
     "name": "stdout",
     "output_type": "stream",
     "text": [
      "This is parent 2\n"
     ]
    }
   ],
   "source": [
    "obj.func2()"
   ]
  },
  {
   "cell_type": "code",
   "execution_count": 20,
   "id": "62f975ab-6ffe-49c5-ab81-4c3231d143a4",
   "metadata": {},
   "outputs": [],
   "source": [
    "class A:\n",
    "    def method_a(self):\n",
    "        print(\"This is method from class A\")\n",
    "\n",
    "class B(A):\n",
    "    def method_b(self):\n",
    "        print(\"This is method from class B\")\n",
    "\n",
    "class C(B):\n",
    "    def method_c(self):\n",
    "        print(\"This is method from class C\")"
   ]
  },
  {
   "cell_type": "code",
   "execution_count": 22,
   "id": "798f317c-6503-49fa-b7f5-d5d0b6abf7fb",
   "metadata": {},
   "outputs": [],
   "source": [
    "C_obj= C()"
   ]
  },
  {
   "cell_type": "code",
   "execution_count": 24,
   "id": "6587c805-d417-4373-9610-f9471e4136e4",
   "metadata": {},
   "outputs": [
    {
     "name": "stdout",
     "output_type": "stream",
     "text": [
      "This is method from class A\n"
     ]
    }
   ],
   "source": [
    "C_obj.method_a()"
   ]
  },
  {
   "cell_type": "code",
   "execution_count": 25,
   "id": "f3ae1723-c30a-45c1-8c18-33062c36097f",
   "metadata": {},
   "outputs": [
    {
     "name": "stdout",
     "output_type": "stream",
     "text": [
      "This is method from class B\n"
     ]
    }
   ],
   "source": [
    "C_obj.method_b()"
   ]
  },
  {
   "cell_type": "code",
   "execution_count": 26,
   "id": "35e557bc-1486-4dd7-b300-c360846b0115",
   "metadata": {},
   "outputs": [
    {
     "name": "stdout",
     "output_type": "stream",
     "text": [
      "This is method from class C\n"
     ]
    }
   ],
   "source": [
    "C_obj.method_c()"
   ]
  },
  {
   "cell_type": "code",
   "execution_count": 30,
   "id": "96074c18-1274-4250-a562-a37a4ab89d55",
   "metadata": {},
   "outputs": [],
   "source": [
    "class Person:\n",
    "    def __init__(self,name,age):\n",
    "        self.name = name\n",
    "        self.age = age\n",
    "\n",
    "    def intro(self):\n",
    "        print(f\"Employee name is {self.name} and age is {self.age}\")\n",
    "\n",
    "class Employee(Person):\n",
    "    def __init__(self, name, age, employee_id):\n",
    "        super().__init__(name,age)\n",
    "        self.employee_id = employee_id\n",
    "        \n",
    "    def employee_id(self):\n",
    "        print(f\"{self.name} id is {self.employee_id}\")\n",
    "\n",
    "class Manager(Employee):\n",
    "    def __init__(self,name,age,employee_id,department):\n",
    "        super().__init__(name,age,employee_id)\n",
    "        self.department = department\n",
    "\n",
    "    def get_details(self):\n",
    "         print(f\"Employee name is {self.name} and age is {self.age} and employee id is {self.employee_id} and department is {self.department}\")"
   ]
  },
  {
   "cell_type": "code",
   "execution_count": 33,
   "id": "b05a2fa0-4e65-4205-b8ab-6ac9bb413598",
   "metadata": {},
   "outputs": [],
   "source": [
    "manager = Manager(\"Sujal\", 21, \"EMP1024\", \"IT\")"
   ]
  },
  {
   "cell_type": "code",
   "execution_count": 34,
   "id": "5337eab5-c1c8-4c63-a8ef-baf843a6c85f",
   "metadata": {},
   "outputs": [
    {
     "name": "stdout",
     "output_type": "stream",
     "text": [
      "Employee name is Sujal and age is 21 and employee id is EMP1024 and department is IT\n"
     ]
    }
   ],
   "source": [
    "manager.get_details()"
   ]
  },
  {
   "cell_type": "code",
   "execution_count": 35,
   "id": "4b07e0e2-b100-40cb-b509-30caadd8cebf",
   "metadata": {},
   "outputs": [],
   "source": [
    "class Animal:\n",
    "    def __init__(self,name,age):\n",
    "        self.name = name\n",
    "        self.age = age\n",
    "\n",
    "    def intro(self):\n",
    "        print(f\"My name is {self.name}\")"
   ]
  },
  {
   "cell_type": "code",
   "execution_count": 36,
   "id": "07aea7a3-5b5a-47dd-8d5c-ccae3ada1b06",
   "metadata": {},
   "outputs": [],
   "source": [
    "class Cat(Animal):\n",
    "    def speak(self):\n",
    "        return \"meow\"\n",
    "\n",
    "class Dog(Animal):\n",
    "    def speak(self):\n",
    "        return \"woof\"\n",
    "\n",
    "class Lion(Animal):\n",
    "    def speak(self):\n",
    "        return \"roar\""
   ]
  },
  {
   "cell_type": "code",
   "execution_count": 38,
   "id": "633ef65c-a95a-4b84-842d-a8818a1abddf",
   "metadata": {},
   "outputs": [],
   "source": [
    "cat = Cat(\"Optimus Prime\", 3)"
   ]
  },
  {
   "cell_type": "code",
   "execution_count": 39,
   "id": "a08ab6ae-b754-43b6-b6a4-8a37da51b77a",
   "metadata": {},
   "outputs": [
    {
     "name": "stdout",
     "output_type": "stream",
     "text": [
      "My name is Optimus Prime\n"
     ]
    }
   ],
   "source": [
    "cat.intro()"
   ]
  },
  {
   "cell_type": "code",
   "execution_count": 41,
   "id": "f5387faf-35b4-49ea-a689-65bcf2b75e97",
   "metadata": {},
   "outputs": [
    {
     "data": {
      "text/plain": [
       "'meow'"
      ]
     },
     "execution_count": 41,
     "metadata": {},
     "output_type": "execute_result"
    }
   ],
   "source": [
    "cat.speak()"
   ]
  },
  {
   "cell_type": "code",
   "execution_count": 50,
   "id": "4352b62a-21d5-4880-b82c-3045cbfb6347",
   "metadata": {},
   "outputs": [],
   "source": [
    "#Hybrid inheritance\n",
    "\n",
    "class Animal:\n",
    "    def __init__(self,name,age =2):\n",
    "        self.name = name\n",
    "        self.age = age\n",
    "\n",
    "    def intro(self):\n",
    "        print(f\"My name is {self.name}\")"
   ]
  },
  {
   "cell_type": "code",
   "execution_count": 51,
   "id": "7e5492ea-87c6-4a1a-81f1-d10145587443",
   "metadata": {},
   "outputs": [],
   "source": [
    "class Mammal(Animal):\n",
    "    def __init__(self, name, fur=False):\n",
    "        super().__init__(name)\n",
    "        self.fur = True\n",
    "\n",
    "    def birth(self):\n",
    "        print(f\"{self.name} give birth to live ones\")\n",
    "\n",
    "class Birds(Animal):\n",
    "    def fly(self):\n",
    "        print(f\"{self.name} can fly!\")"
   ]
  },
  {
   "cell_type": "code",
   "execution_count": 52,
   "id": "58a1142b-0b08-4f44-80e0-52e376f2c49d",
   "metadata": {},
   "outputs": [],
   "source": [
    "class Bat(Mammal, Birds):\n",
    "    pass"
   ]
  },
  {
   "cell_type": "code",
   "execution_count": 53,
   "id": "7b535aae-3bf7-44ad-8ef2-687d1da3a1a6",
   "metadata": {},
   "outputs": [],
   "source": [
    "b= Bat(\"Bruce\")"
   ]
  },
  {
   "cell_type": "code",
   "execution_count": 54,
   "id": "785b6a14-c0f4-45b3-8a6b-8a60027cb404",
   "metadata": {},
   "outputs": [
    {
     "data": {
      "text/plain": [
       "True"
      ]
     },
     "execution_count": 54,
     "metadata": {},
     "output_type": "execute_result"
    }
   ],
   "source": [
    "b.fur"
   ]
  },
  {
   "cell_type": "code",
   "execution_count": 57,
   "id": "d400de78-a318-45f5-9d92-c26712afc098",
   "metadata": {},
   "outputs": [
    {
     "name": "stdout",
     "output_type": "stream",
     "text": [
      "Bruce can fly!\n"
     ]
    }
   ],
   "source": [
    "b.fly()"
   ]
  },
  {
   "cell_type": "code",
   "execution_count": null,
   "id": "4507846d-db30-4b4f-8d30-512ba239ab9e",
   "metadata": {},
   "outputs": [],
   "source": []
  }
 ],
 "metadata": {
  "kernelspec": {
   "display_name": "Python 3 (ipykernel)",
   "language": "python",
   "name": "python3"
  },
  "language_info": {
   "codemirror_mode": {
    "name": "ipython",
    "version": 3
   },
   "file_extension": ".py",
   "mimetype": "text/x-python",
   "name": "python",
   "nbconvert_exporter": "python",
   "pygments_lexer": "ipython3",
   "version": "3.13.5"
  }
 },
 "nbformat": 4,
 "nbformat_minor": 5
}
