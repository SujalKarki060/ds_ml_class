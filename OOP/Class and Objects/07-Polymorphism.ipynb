{
 "cells": [
  {
   "cell_type": "code",
   "execution_count": 49,
   "id": "88e47d66-a130-48b8-b568-6b171abbfa7e",
   "metadata": {},
   "outputs": [],
   "source": [
    "class Point:\n",
    "    \"\"\"\n",
    "    A class to represent a 2D point in Cartesian coordinates.\n",
    "\n",
    "    This class supports basic vector-like operations such as addition, subtraction,\n",
    "    exponentiation (raising coordinates to a power), and comparison using the '>'\n",
    "    operator.\n",
    "\n",
    "    Attributes:\n",
    "        x (int or float): The x-coordinate of the point.\n",
    "        y (int or float): The y-coordinate of the point.\n",
    "\n",
    "    Example usage:\n",
    "        p1 = Point(2, 3)\n",
    "        p2 = Point(1, 4)\n",
    "        print(p1 + p2)       # Point(3, 7)\n",
    "        print(p1 ** 2)       # Point(4, 9)\n",
    "        print(p1 > p2)       # False\n",
    "    \"\"\"\n",
    "\n",
    "    def __init__(self, x, y):\n",
    "        \"\"\"\n",
    "        Initialize a Point with x and y coordinates.\n",
    "\n",
    "        Parameters:\n",
    "            x (int or float): The x-coordinate of the point.\n",
    "            y (int or float): The y-coordinate of the point.\n",
    "        \"\"\"\n",
    "        self.x = x\n",
    "        self.y = y\n",
    "\n",
    "    def __repr__(self):\n",
    "        \"\"\"\n",
    "        Return a string representation of the Point in the form Point(x, y).\n",
    "        Useful for debugging and console output.\n",
    "        \"\"\"\n",
    "        return f\"Point({self.x},{self.y})\"\n",
    "\n",
    "    def __add__(self, other):\n",
    "        \"\"\"\n",
    "        Add two Point objects component-wise.\n",
    "\n",
    "        Parameters:\n",
    "            other (Point): Another Point object.\n",
    "\n",
    "        Returns:\n",
    "            Point: A new Point where x and y are the sums of the respective coordinates.\n",
    "        \"\"\"\n",
    "        x = self.x + other.x\n",
    "        y = self.y + other.y\n",
    "        return Point(x, y)\n",
    "\n",
    "    def __sub__(self, other):\n",
    "        \"\"\"\n",
    "        Subtract one Point from another component-wise.\n",
    "\n",
    "        Parameters:\n",
    "            other (Point): Another Point object.\n",
    "\n",
    "        Returns:\n",
    "            Point: A new Point where x and y are the differences of the respective coordinates.\n",
    "        \"\"\"\n",
    "        x = self.x - other.x\n",
    "        y = self.y - other.y\n",
    "        return Point(x, y)\n",
    "\n",
    "    def __pow__(self, power):\n",
    "        \"\"\"\n",
    "        Raise each coordinate of the Point to the given power.\n",
    "\n",
    "        Parameters:\n",
    "            power (int or float): The exponent to raise x and y to.\n",
    "\n",
    "        Returns:\n",
    "            Point: A new Point with x = self.x ** power and y = self.y ** power.\n",
    "\n",
    "        Example:\n",
    "            Point(2, 3) ** 2 → Point(4, 9)\n",
    "        \"\"\"\n",
    "        x = self.x ** power\n",
    "        y = self.y ** power\n",
    "        return Point(x, y)\n",
    "\n",
    "    def __gt__(self, other):\n",
    "        \"\"\"\n",
    "        Compare two Points using the 'greater than' operator.\n",
    "\n",
    "        Returns True only if both x and y of this Point are greater than the other's.\n",
    "\n",
    "        Parameters:\n",
    "            other (Point): Another Point object.\n",
    "\n",
    "        Returns:\n",
    "            bool: True if self.x > other.x and self.y > other.y, else False.\n",
    "        \"\"\"\n",
    "        return self.x > other.x and self.y > other.y\n"
   ]
  },
  {
   "cell_type": "code",
   "execution_count": 50,
   "id": "7e6544e3-a9d0-4528-99b4-ad5b79b57f4a",
   "metadata": {},
   "outputs": [],
   "source": [
    "A = Point(2,5)\n",
    "B = Point(4,9)"
   ]
  },
  {
   "cell_type": "code",
   "execution_count": 51,
   "id": "21cbd866-25d7-4b4e-a3dd-25086a91f229",
   "metadata": {},
   "outputs": [
    {
     "data": {
      "text/plain": [
       "Point(6,14)"
      ]
     },
     "execution_count": 51,
     "metadata": {},
     "output_type": "execute_result"
    }
   ],
   "source": [
    "A + B"
   ]
  },
  {
   "cell_type": "code",
   "execution_count": 52,
   "id": "b2aa0ab4-a015-47fa-b679-3552b9734f71",
   "metadata": {},
   "outputs": [
    {
     "data": {
      "text/plain": [
       "Point(-2,-4)"
      ]
     },
     "execution_count": 52,
     "metadata": {},
     "output_type": "execute_result"
    }
   ],
   "source": [
    "A - B"
   ]
  },
  {
   "cell_type": "code",
   "execution_count": 53,
   "id": "8c921313-82a5-4466-a9f3-6fceacfc48a0",
   "metadata": {},
   "outputs": [
    {
     "data": {
      "text/plain": [
       "Point(32,3125)"
      ]
     },
     "execution_count": 53,
     "metadata": {},
     "output_type": "execute_result"
    }
   ],
   "source": [
    "A**5"
   ]
  },
  {
   "cell_type": "code",
   "execution_count": 54,
   "id": "cf118fef-9a50-4a30-b0c7-5e220bdecd77",
   "metadata": {},
   "outputs": [
    {
     "data": {
      "text/plain": [
       "False"
      ]
     },
     "execution_count": 54,
     "metadata": {},
     "output_type": "execute_result"
    }
   ],
   "source": [
    "A>B"
   ]
  },
  {
   "cell_type": "code",
   "execution_count": 55,
   "id": "83de57dc-c7b4-49e7-8f60-d79c8b5cbd94",
   "metadata": {},
   "outputs": [
    {
     "data": {
      "text/plain": [
       "True"
      ]
     },
     "execution_count": 55,
     "metadata": {},
     "output_type": "execute_result"
    }
   ],
   "source": [
    "A < B"
   ]
  },
  {
   "cell_type": "code",
   "execution_count": 56,
   "id": "1b78672f-bfd3-4fb0-a527-f0c927dea05a",
   "metadata": {},
   "outputs": [
    {
     "name": "stdout",
     "output_type": "stream",
     "text": [
      "\n",
      "A class to represent a 2D point in Cartesian coordinates.\n",
      "\n",
      "This class supports basic vector-like operations such as addition, subtraction,\n",
      "exponentiation (raising coordinates to a power), and comparison using the '>'\n",
      "operator.\n",
      "\n",
      "Attributes:\n",
      "    x (int or float): The x-coordinate of the point.\n",
      "    y (int or float): The y-coordinate of the point.\n",
      "\n",
      "Example usage:\n",
      "    p1 = Point(2, 3)\n",
      "    p2 = Point(1, 4)\n",
      "    print(p1 + p2)       # Point(3, 7)\n",
      "    print(p1 ** 2)       # Point(4, 9)\n",
      "    print(p1 > p2)       # False\n",
      "\n"
     ]
    }
   ],
   "source": [
    "print(A.__doc__)"
   ]
  },
  {
   "cell_type": "markdown",
   "id": "d33a0f7f-92c9-46cc-ac0b-17fe0bbd7d71",
   "metadata": {},
   "source": [
    "## Ducktyping\n"
   ]
  },
  {
   "cell_type": "code",
   "execution_count": 57,
   "id": "ea5037b8-0cd4-49df-9637-9e0eaaded631",
   "metadata": {},
   "outputs": [],
   "source": [
    "class Car:\n",
    "    def drive(self):\n",
    "        print(\"Driving a car\")\n",
    "\n",
    "class Bike:\n",
    "    def drive(self):\n",
    "        print(\"Driving a bike\")"
   ]
  },
  {
   "cell_type": "code",
   "execution_count": 62,
   "id": "bb276e30-bcae-4d9b-8b77-4d918b273c86",
   "metadata": {},
   "outputs": [],
   "source": [
    "def start_driving(vehicle):\n",
    "    vehicle.drive()"
   ]
  },
  {
   "cell_type": "code",
   "execution_count": 64,
   "id": "8bde9557-743a-40d6-9047-3adbd33b562e",
   "metadata": {},
   "outputs": [],
   "source": [
    "car = Car()\n",
    "bike = Bike()"
   ]
  },
  {
   "cell_type": "code",
   "execution_count": 65,
   "id": "912eee66-1666-45eb-a540-9a77c1f4e728",
   "metadata": {},
   "outputs": [
    {
     "name": "stdout",
     "output_type": "stream",
     "text": [
      "Driving a car\n"
     ]
    }
   ],
   "source": [
    "start_driving(car)"
   ]
  },
  {
   "cell_type": "code",
   "execution_count": 66,
   "id": "282ca649-4561-4923-aad1-92ea0ca80b90",
   "metadata": {},
   "outputs": [
    {
     "name": "stdout",
     "output_type": "stream",
     "text": [
      "Driving a bike\n"
     ]
    }
   ],
   "source": [
    "start_driving(bike)"
   ]
  },
  {
   "cell_type": "code",
   "execution_count": null,
   "id": "b9c4a6c2-ddd5-4093-8759-8f59594e22c6",
   "metadata": {},
   "outputs": [],
   "source": []
  },
  {
   "cell_type": "code",
   "execution_count": null,
   "id": "2f6368f8-7c3e-4373-8406-6c3db5539dc8",
   "metadata": {},
   "outputs": [],
   "source": []
  },
  {
   "cell_type": "code",
   "execution_count": null,
   "id": "1059e7d7-4dea-4702-8d06-0a0459955df9",
   "metadata": {},
   "outputs": [],
   "source": []
  },
  {
   "cell_type": "code",
   "execution_count": null,
   "id": "c3513c51-c4c4-40c5-a2e8-10222638c1ac",
   "metadata": {},
   "outputs": [],
   "source": []
  },
  {
   "cell_type": "code",
   "execution_count": null,
   "id": "3e7a09a8-bb5a-451f-a3d8-61653728db9d",
   "metadata": {},
   "outputs": [],
   "source": []
  }
 ],
 "metadata": {
  "kernelspec": {
   "display_name": "Python 3 (ipykernel)",
   "language": "python",
   "name": "python3"
  },
  "language_info": {
   "codemirror_mode": {
    "name": "ipython",
    "version": 3
   },
   "file_extension": ".py",
   "mimetype": "text/x-python",
   "name": "python",
   "nbconvert_exporter": "python",
   "pygments_lexer": "ipython3",
   "version": "3.13.5"
  }
 },
 "nbformat": 4,
 "nbformat_minor": 5
}
