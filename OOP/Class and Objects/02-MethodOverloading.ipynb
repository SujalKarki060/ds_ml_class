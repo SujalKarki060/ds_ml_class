{
 "cells": [
  {
   "cell_type": "code",
   "execution_count": 15,
   "id": "69b1db3c-1e5c-4577-a370-f8073a274943",
   "metadata": {},
   "outputs": [],
   "source": [
    "class Example:\n",
    "    def add(self, a ,b = 0, c = 0):\n",
    "        return a+b+c\n",
    "   "
   ]
  },
  {
   "cell_type": "code",
   "execution_count": 16,
   "id": "3c3aefc9-4231-4bcd-8b7b-6833611cd2e7",
   "metadata": {},
   "outputs": [],
   "source": [
    "add_obj = Example()"
   ]
  },
  {
   "cell_type": "code",
   "execution_count": 18,
   "id": "1abbf102-6bde-45d8-9025-34791f2bccbf",
   "metadata": {},
   "outputs": [
    {
     "name": "stdout",
     "output_type": "stream",
     "text": [
      "3\n"
     ]
    }
   ],
   "source": [
    "result = add_obj.add(1, 2)\n",
    "print(result)  # Output: 3\n"
   ]
  },
  {
   "cell_type": "code",
   "execution_count": null,
   "id": "840f5139-7ddf-4228-9803-581c8bcbcf5c",
   "metadata": {},
   "outputs": [],
   "source": []
  }
 ],
 "metadata": {
  "kernelspec": {
   "display_name": "Python 3 (ipykernel)",
   "language": "python",
   "name": "python3"
  },
  "language_info": {
   "codemirror_mode": {
    "name": "ipython",
    "version": 3
   },
   "file_extension": ".py",
   "mimetype": "text/x-python",
   "name": "python",
   "nbconvert_exporter": "python",
   "pygments_lexer": "ipython3",
   "version": "3.13.5"
  }
 },
 "nbformat": 4,
 "nbformat_minor": 5
}
