{
 "cells": [
  {
   "cell_type": "code",
   "execution_count": 8,
   "id": "299f2ebb-a893-483c-8982-5ec985d79770",
   "metadata": {},
   "outputs": [],
   "source": [
    "number=5"
   ]
  },
  {
   "cell_type": "code",
   "execution_count": 9,
   "id": "eca1b011-46df-4f9f-9b8f-69bcfacd21eb",
   "metadata": {},
   "outputs": [
    {
     "data": {
      "text/plain": [
       "int"
      ]
     },
     "execution_count": 9,
     "metadata": {},
     "output_type": "execute_result"
    }
   ],
   "source": [
    "type(number)"
   ]
  },
  {
   "cell_type": "code",
   "execution_count": 10,
   "id": "d3d6e62f-5ddf-4f3a-ac61-3d30ad9bdeb4",
   "metadata": {},
   "outputs": [
    {
     "name": "stdout",
     "output_type": "stream",
     "text": [
      "5\n"
     ]
    }
   ],
   "source": [
    "print(number)"
   ]
  },
  {
   "cell_type": "code",
   "execution_count": 11,
   "id": "3ea2be33-f53c-4162-a877-beba71c1cc1d",
   "metadata": {},
   "outputs": [],
   "source": [
    "pie= 22/7"
   ]
  },
  {
   "cell_type": "code",
   "execution_count": 12,
   "id": "8ab71074-c068-4eca-b5bb-47d9991de637",
   "metadata": {},
   "outputs": [
    {
     "name": "stdout",
     "output_type": "stream",
     "text": [
      "3.142857142857143\n"
     ]
    }
   ],
   "source": [
    "print(pie)"
   ]
  },
  {
   "cell_type": "code",
   "execution_count": 14,
   "id": "6764ef0d-9b69-4b4c-ba1f-a6d41450412d",
   "metadata": {},
   "outputs": [
    {
     "data": {
      "text/plain": [
       "float"
      ]
     },
     "execution_count": 14,
     "metadata": {},
     "output_type": "execute_result"
    }
   ],
   "source": [
    "type(pie)"
   ]
  },
  {
   "cell_type": "code",
   "execution_count": 17,
   "id": "26015516-2126-4826-9b8c-b02cca77a620",
   "metadata": {},
   "outputs": [
    {
     "name": "stdout",
     "output_type": "stream",
     "text": [
      "15.714285714285714\n"
     ]
    }
   ],
   "source": [
    "math = number * pie\n",
    "print(math)"
   ]
  },
  {
   "cell_type": "code",
   "execution_count": 18,
   "id": "3e5aa286-e4d7-4686-b6b1-8f2e2c5d56c2",
   "metadata": {},
   "outputs": [],
   "source": [
    "vec = 6-3j"
   ]
  },
  {
   "cell_type": "code",
   "execution_count": 19,
   "id": "841f4d1e-9cb5-4a29-9cba-faaea452b944",
   "metadata": {},
   "outputs": [
    {
     "data": {
      "text/plain": [
       "complex"
      ]
     },
     "execution_count": 19,
     "metadata": {},
     "output_type": "execute_result"
    }
   ],
   "source": [
    "type(vec)"
   ]
  },
  {
   "cell_type": "code",
   "execution_count": 20,
   "id": "e435f53f-7b5a-471f-96d5-0aa217de1acf",
   "metadata": {},
   "outputs": [],
   "source": [
    "x = 22\n",
    "y = 55.6"
   ]
  },
  {
   "cell_type": "code",
   "execution_count": 21,
   "id": "0db2c770-d6bd-4dc5-b584-4bf355ea7b0c",
   "metadata": {},
   "outputs": [
    {
     "data": {
      "text/plain": [
       "77.6"
      ]
     },
     "execution_count": 21,
     "metadata": {},
     "output_type": "execute_result"
    }
   ],
   "source": [
    "x+y"
   ]
  },
  {
   "cell_type": "code",
   "execution_count": 23,
   "id": "bfb3e5fd-bc39-4a18-986c-3c3ebf51abbb",
   "metadata": {},
   "outputs": [
    {
     "data": {
      "text/plain": [
       "-33.6"
      ]
     },
     "execution_count": 23,
     "metadata": {},
     "output_type": "execute_result"
    }
   ],
   "source": [
    "x-y"
   ]
  },
  {
   "cell_type": "code",
   "execution_count": 24,
   "id": "1e3ceae2-797f-4802-933b-b439e4468bfb",
   "metadata": {},
   "outputs": [
    {
     "data": {
      "text/plain": [
       "1223.2"
      ]
     },
     "execution_count": 24,
     "metadata": {},
     "output_type": "execute_result"
    }
   ],
   "source": [
    "x*y"
   ]
  },
  {
   "cell_type": "code",
   "execution_count": 25,
   "id": "ba8b39f6-ce35-46e7-b305-c34ca3da5c69",
   "metadata": {},
   "outputs": [
    {
     "data": {
      "text/plain": [
       "0.39568345323741005"
      ]
     },
     "execution_count": 25,
     "metadata": {},
     "output_type": "execute_result"
    }
   ],
   "source": [
    "x/y"
   ]
  },
  {
   "cell_type": "code",
   "execution_count": 28,
   "id": "2d57355b-d5fd-4700-8dca-07e2702fbea8",
   "metadata": {},
   "outputs": [
    {
     "data": {
      "text/plain": [
       "1"
      ]
     },
     "execution_count": 28,
     "metadata": {},
     "output_type": "execute_result"
    }
   ],
   "source": [
    "10 % 3"
   ]
  },
  {
   "cell_type": "code",
   "execution_count": 29,
   "id": "4addeb3b-0804-4efc-a6c0-9a2eac8e3d36",
   "metadata": {},
   "outputs": [
    {
     "data": {
      "text/plain": [
       "1000"
      ]
     },
     "execution_count": 29,
     "metadata": {},
     "output_type": "execute_result"
    }
   ],
   "source": [
    "10 ** 3"
   ]
  },
  {
   "cell_type": "code",
   "execution_count": 30,
   "id": "f464fc01-7db1-418a-9879-6c1b57ee2c0a",
   "metadata": {},
   "outputs": [
    {
     "data": {
      "text/plain": [
       "3"
      ]
     },
     "execution_count": 30,
     "metadata": {},
     "output_type": "execute_result"
    }
   ],
   "source": [
    "10 // 3"
   ]
  },
  {
   "cell_type": "code",
   "execution_count": 31,
   "id": "f985acf7-44ee-443c-8be1-c488b5353912",
   "metadata": {},
   "outputs": [],
   "source": [
    "eulers = 0.57721566490153286060651209008240243"
   ]
  },
  {
   "cell_type": "code",
   "execution_count": 32,
   "id": "e0c1eb02-de95-4f6d-8a1f-54abe16cc113",
   "metadata": {},
   "outputs": [],
   "source": [
    "number = int(eulers)"
   ]
  },
  {
   "cell_type": "code",
   "execution_count": 33,
   "id": "36e95f15-9387-479e-a07a-18bfd6cb89a6",
   "metadata": {},
   "outputs": [
    {
     "data": {
      "text/plain": [
       "0"
      ]
     },
     "execution_count": 33,
     "metadata": {},
     "output_type": "execute_result"
    }
   ],
   "source": [
    "number"
   ]
  },
  {
   "cell_type": "code",
   "execution_count": 44,
   "id": "a9dfc9c4-7d0e-4445-bcf4-50a3d6ff15da",
   "metadata": {},
   "outputs": [],
   "source": [
    "whole = 90 "
   ]
  },
  {
   "cell_type": "code",
   "execution_count": 45,
   "id": "3fc5a6a3-81c4-4030-9c6f-0505b2b0d91e",
   "metadata": {},
   "outputs": [
    {
     "data": {
      "text/plain": [
       "90.0"
      ]
     },
     "execution_count": 45,
     "metadata": {},
     "output_type": "execute_result"
    }
   ],
   "source": [
    "float(whole)"
   ]
  },
  {
   "cell_type": "code",
   "execution_count": 46,
   "id": "f04832ef-9baa-412e-bcae-c3fddd6335b2",
   "metadata": {},
   "outputs": [
    {
     "data": {
      "text/plain": [
       "(34+66j)"
      ]
     },
     "execution_count": 46,
     "metadata": {},
     "output_type": "execute_result"
    }
   ],
   "source": [
    "complex(34,66)"
   ]
  },
  {
   "cell_type": "code",
   "execution_count": 50,
   "id": "9ff6f318-b52c-469b-ba58-b50e2b0d0de0",
   "metadata": {},
   "outputs": [],
   "source": [
    "num1 = 77\n",
    "num2 = 89"
   ]
  },
  {
   "cell_type": "code",
   "execution_count": 52,
   "id": "686a30ed-cad7-41a0-b0ee-d528d32ee28b",
   "metadata": {},
   "outputs": [
    {
     "data": {
      "text/plain": [
       "False"
      ]
     },
     "execution_count": 52,
     "metadata": {},
     "output_type": "execute_result"
    }
   ],
   "source": [
    "num1 == num2"
   ]
  },
  {
   "cell_type": "code",
   "execution_count": 53,
   "id": "5fa0c9da-3cab-40d9-bc68-c70af553643e",
   "metadata": {},
   "outputs": [
    {
     "data": {
      "text/plain": [
       "True"
      ]
     },
     "execution_count": 53,
     "metadata": {},
     "output_type": "execute_result"
    }
   ],
   "source": [
    "num1 != num2"
   ]
  },
  {
   "cell_type": "code",
   "execution_count": 54,
   "id": "b9cdb4dc-290b-4e80-852e-ea85786a2ad9",
   "metadata": {},
   "outputs": [
    {
     "data": {
      "text/plain": [
       "False"
      ]
     },
     "execution_count": 54,
     "metadata": {},
     "output_type": "execute_result"
    }
   ],
   "source": [
    "num1 > num2"
   ]
  },
  {
   "cell_type": "code",
   "execution_count": 55,
   "id": "ddfc8ada-0528-48f2-a7e2-c32d58dbb69a",
   "metadata": {},
   "outputs": [
    {
     "data": {
      "text/plain": [
       "True"
      ]
     },
     "execution_count": 55,
     "metadata": {},
     "output_type": "execute_result"
    }
   ],
   "source": [
    "num1 < num2"
   ]
  },
  {
   "cell_type": "code",
   "execution_count": 56,
   "id": "6fa8103b-9fc5-494b-ae1f-75bf03d2fbdb",
   "metadata": {},
   "outputs": [
    {
     "data": {
      "text/plain": [
       "False"
      ]
     },
     "execution_count": 56,
     "metadata": {},
     "output_type": "execute_result"
    }
   ],
   "source": [
    "num1 >= num2"
   ]
  },
  {
   "cell_type": "code",
   "execution_count": 57,
   "id": "1b259732-4d89-41e0-840f-ba0f942a926f",
   "metadata": {},
   "outputs": [
    {
     "data": {
      "text/plain": [
       "True"
      ]
     },
     "execution_count": 57,
     "metadata": {},
     "output_type": "execute_result"
    }
   ],
   "source": [
    "num1 <= num2"
   ]
  },
  {
   "cell_type": "code",
   "execution_count": 65,
   "id": "86fcc33a-629f-459d-9060-9f14344e8bdb",
   "metadata": {},
   "outputs": [],
   "source": [
    "import math as math"
   ]
  },
  {
   "cell_type": "code",
   "execution_count": 66,
   "id": "e1a10334-dc13-4b1b-bd27-1827f82301a3",
   "metadata": {},
   "outputs": [],
   "source": [
    "x= -22.5"
   ]
  },
  {
   "cell_type": "code",
   "execution_count": 67,
   "id": "31d484f7-17d2-485d-ab8f-59d911656310",
   "metadata": {},
   "outputs": [
    {
     "data": {
      "text/plain": [
       "22.5"
      ]
     },
     "execution_count": 67,
     "metadata": {},
     "output_type": "execute_result"
    }
   ],
   "source": [
    "math.fabs(x)"
   ]
  },
  {
   "cell_type": "code",
   "execution_count": 70,
   "id": "6e8799e2-81e5-4c12-b7ab-7f3a860d13b0",
   "metadata": {},
   "outputs": [
    {
     "data": {
      "text/plain": [
       "6.341325705384997"
      ]
     },
     "execution_count": 70,
     "metadata": {},
     "output_type": "execute_result"
    }
   ],
   "source": [
    "math.cbrt(255)"
   ]
  },
  {
   "cell_type": "code",
   "execution_count": 73,
   "id": "0f284476-d933-4650-85aa-52a5fccdaa0f",
   "metadata": {},
   "outputs": [
    {
     "data": {
      "text/plain": [
       "3"
      ]
     },
     "execution_count": 73,
     "metadata": {},
     "output_type": "execute_result"
    }
   ],
   "source": [
    "math.gcd(3,6,9,12)"
   ]
  },
  {
   "cell_type": "code",
   "execution_count": 74,
   "id": "2a3b51dd-76c9-49c1-b968-0915288917cb",
   "metadata": {},
   "outputs": [
    {
     "data": {
      "text/plain": [
       "45"
      ]
     },
     "execution_count": 74,
     "metadata": {},
     "output_type": "execute_result"
    }
   ],
   "source": [
    "math.ceil(44.2)"
   ]
  },
  {
   "cell_type": "code",
   "execution_count": 76,
   "id": "7fbc4de6-c161-4758-b441-874c8862b748",
   "metadata": {},
   "outputs": [
    {
     "data": {
      "text/plain": [
       "44"
      ]
     },
     "execution_count": 76,
     "metadata": {},
     "output_type": "execute_result"
    }
   ],
   "source": [
    "math.floor(44.9)"
   ]
  },
  {
   "cell_type": "code",
   "execution_count": 79,
   "id": "fa7abb3a-8c26-4c67-aa3f-4002e8f99088",
   "metadata": {},
   "outputs": [
    {
     "data": {
      "text/plain": [
       "True"
      ]
     },
     "execution_count": 79,
     "metadata": {},
     "output_type": "execute_result"
    }
   ],
   "source": [
    "math.isfinite(33)"
   ]
  },
  {
   "cell_type": "code",
   "execution_count": 80,
   "id": "1245957e-0d30-4fae-a286-fcd1535eda14",
   "metadata": {},
   "outputs": [
    {
     "data": {
      "text/plain": [
       "2.8284271247461903"
      ]
     },
     "execution_count": 80,
     "metadata": {},
     "output_type": "execute_result"
    }
   ],
   "source": [
    "math.dist((3,4),(5,6))"
   ]
  },
  {
   "cell_type": "code",
   "execution_count": 91,
   "id": "825f4939-e5eb-432c-b043-f967071314da",
   "metadata": {},
   "outputs": [],
   "source": [
    "user = 256\n",
    "capacity =128\n"
   ]
  },
  {
   "cell_type": "code",
   "execution_count": 92,
   "id": "9e8ff262-e0e2-4be5-b9f8-696f544b9a11",
   "metadata": {},
   "outputs": [
    {
     "data": {
      "text/plain": [
       "128"
      ]
     },
     "execution_count": 92,
     "metadata": {},
     "output_type": "execute_result"
    }
   ],
   "source": [
    "result = min(user, capacity)\n",
    "result"
   ]
  },
  {
   "cell_type": "code",
   "execution_count": 94,
   "id": "506d85a0-d4f0-4e9c-ac09-25cde0971d62",
   "metadata": {},
   "outputs": [
    {
     "data": {
      "text/plain": [
       "22.5"
      ]
     },
     "execution_count": 94,
     "metadata": {},
     "output_type": "execute_result"
    }
   ],
   "source": [
    "round(22.542,1)"
   ]
  },
  {
   "cell_type": "code",
   "execution_count": null,
   "id": "468c5738-0c00-4a7e-92c8-d7dc42e2cc82",
   "metadata": {},
   "outputs": [],
   "source": []
  },
  {
   "cell_type": "code",
   "execution_count": null,
   "id": "d397a286-dad5-4a1f-8c2e-d5a5b60e26ab",
   "metadata": {},
   "outputs": [],
   "source": []
  }
 ],
 "metadata": {
  "kernelspec": {
   "display_name": "Python 3 (ipykernel)",
   "language": "python",
   "name": "python3"
  },
  "language_info": {
   "codemirror_mode": {
    "name": "ipython",
    "version": 3
   },
   "file_extension": ".py",
   "mimetype": "text/x-python",
   "name": "python",
   "nbconvert_exporter": "python",
   "pygments_lexer": "ipython3",
   "version": "3.13.5"
  }
 },
 "nbformat": 4,
 "nbformat_minor": 5
}
