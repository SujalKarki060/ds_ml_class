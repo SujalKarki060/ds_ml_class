{
 "cells": [
  {
   "cell_type": "code",
   "execution_count": 2,
   "id": "ada78b03-0a57-4db5-ae0a-2584c834c27d",
   "metadata": {},
   "outputs": [
    {
     "data": {
      "text/plain": [
       "bool"
      ]
     },
     "execution_count": 2,
     "metadata": {},
     "output_type": "execute_result"
    }
   ],
   "source": [
    "flag = True\n",
    "type(flag)"
   ]
  },
  {
   "cell_type": "code",
   "execution_count": 3,
   "id": "287b70df-bb67-4751-b4f4-8d083e1f73c6",
   "metadata": {},
   "outputs": [],
   "source": [
    "a = 5\n",
    "b = 10.0\n",
    "c = b > a"
   ]
  },
  {
   "cell_type": "code",
   "execution_count": 4,
   "id": "3ba782e5-4e32-41ba-89b0-19896d6bced9",
   "metadata": {},
   "outputs": [
    {
     "data": {
      "text/plain": [
       "True"
      ]
     },
     "execution_count": 4,
     "metadata": {},
     "output_type": "execute_result"
    }
   ],
   "source": [
    "c"
   ]
  },
  {
   "cell_type": "code",
   "execution_count": 5,
   "id": "e9a855cd-020c-45da-a18d-c0f42c86555f",
   "metadata": {},
   "outputs": [],
   "source": [
    "email = \"s@gmail.com\".endswith(\"gmail.com\")"
   ]
  },
  {
   "cell_type": "code",
   "execution_count": 6,
   "id": "ba63d8bc-fbf9-4861-a272-18c0208c9a1e",
   "metadata": {},
   "outputs": [
    {
     "data": {
      "text/plain": [
       "True"
      ]
     },
     "execution_count": 6,
     "metadata": {},
     "output_type": "execute_result"
    }
   ],
   "source": [
    "email"
   ]
  },
  {
   "cell_type": "code",
   "execution_count": 8,
   "id": "e333486e-36fe-4065-a13d-ca592d98de7f",
   "metadata": {},
   "outputs": [],
   "source": [
    "x = True \n",
    "y = False\n"
   ]
  },
  {
   "cell_type": "code",
   "execution_count": 9,
   "id": "2f3b75d2-4c56-4a3c-afba-7b12a8c5849f",
   "metadata": {},
   "outputs": [
    {
     "data": {
      "text/plain": [
       "False"
      ]
     },
     "execution_count": 9,
     "metadata": {},
     "output_type": "execute_result"
    }
   ],
   "source": [
    "res = x and y\n",
    "res"
   ]
  },
  {
   "cell_type": "code",
   "execution_count": 10,
   "id": "7aad8a29-9294-45f4-afa9-a597fe9b98f6",
   "metadata": {},
   "outputs": [],
   "source": [
    "res = x or y"
   ]
  },
  {
   "cell_type": "code",
   "execution_count": 11,
   "id": "948136e4-1127-4fe2-a081-96cb809ee27f",
   "metadata": {},
   "outputs": [
    {
     "data": {
      "text/plain": [
       "True"
      ]
     },
     "execution_count": 11,
     "metadata": {},
     "output_type": "execute_result"
    }
   ],
   "source": [
    "res\n"
   ]
  },
  {
   "cell_type": "code",
   "execution_count": 12,
   "id": "02a0c91c-26eb-4bf0-8f8b-7fa772f8c4cb",
   "metadata": {},
   "outputs": [
    {
     "data": {
      "text/plain": [
       "True"
      ]
     },
     "execution_count": 12,
     "metadata": {},
     "output_type": "execute_result"
    }
   ],
   "source": [
    "not y"
   ]
  },
  {
   "cell_type": "code",
   "execution_count": 15,
   "id": "b8fc7832-53a1-4a97-99a7-14945e8064b5",
   "metadata": {},
   "outputs": [
    {
     "data": {
      "text/plain": [
       "False"
      ]
     },
     "execution_count": 15,
     "metadata": {},
     "output_type": "execute_result"
    }
   ],
   "source": [
    "number = 0\n",
    "bool(number)"
   ]
  },
  {
   "cell_type": "code",
   "execution_count": 16,
   "id": "d47c4b0d-b153-4d7e-b4d8-6e4b3e9f6ba0",
   "metadata": {},
   "outputs": [
    {
     "data": {
      "text/plain": [
       "False"
      ]
     },
     "execution_count": 16,
     "metadata": {},
     "output_type": "execute_result"
    }
   ],
   "source": [
    "name = \"\"\n",
    "bool(name)"
   ]
  },
  {
   "cell_type": "code",
   "execution_count": 17,
   "id": "aa7559d7-9815-4ad9-9a83-1961c2c6d1e5",
   "metadata": {},
   "outputs": [
    {
     "data": {
      "text/plain": [
       "False"
      ]
     },
     "execution_count": 17,
     "metadata": {},
     "output_type": "execute_result"
    }
   ],
   "source": [
    "lst = []\n",
    "bool(lst)"
   ]
  },
  {
   "cell_type": "code",
   "execution_count": 18,
   "id": "db6c1b0a-6383-4c9a-9d35-e3044348c2cf",
   "metadata": {},
   "outputs": [
    {
     "data": {
      "text/plain": [
       "True"
      ]
     },
     "execution_count": 18,
     "metadata": {},
     "output_type": "execute_result"
    }
   ],
   "source": [
    "dd = {\"a\":1}\n",
    "bool(dd)"
   ]
  },
  {
   "cell_type": "code",
   "execution_count": null,
   "id": "ed29c2aa-b90e-40c3-bf7f-064793c6e766",
   "metadata": {},
   "outputs": [],
   "source": []
  }
 ],
 "metadata": {
  "kernelspec": {
   "display_name": "Python 3 (ipykernel)",
   "language": "python",
   "name": "python3"
  },
  "language_info": {
   "codemirror_mode": {
    "name": "ipython",
    "version": 3
   },
   "file_extension": ".py",
   "mimetype": "text/x-python",
   "name": "python",
   "nbconvert_exporter": "python",
   "pygments_lexer": "ipython3",
   "version": "3.13.5"
  }
 },
 "nbformat": 4,
 "nbformat_minor": 5
}
