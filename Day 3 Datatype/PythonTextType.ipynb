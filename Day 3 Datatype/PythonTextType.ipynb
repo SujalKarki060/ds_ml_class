{
 "cells": [
  {
   "cell_type": "code",
   "execution_count": 7,
   "id": "eace73b0-0db5-4919-8023-ee0e253a9f11",
   "metadata": {},
   "outputs": [],
   "source": [
    "name = \"Harry\""
   ]
  },
  {
   "cell_type": "code",
   "execution_count": 8,
   "id": "885e4d52-f42e-4fbe-804c-dd3f3a465d3a",
   "metadata": {},
   "outputs": [
    {
     "data": {
      "text/plain": [
       "'Harry'"
      ]
     },
     "execution_count": 8,
     "metadata": {},
     "output_type": "execute_result"
    }
   ],
   "source": [
    "name\n"
   ]
  },
  {
   "cell_type": "code",
   "execution_count": 9,
   "id": "22a869b3-6a20-4925-8af2-27f85133e894",
   "metadata": {},
   "outputs": [
    {
     "data": {
      "text/plain": [
       "str"
      ]
     },
     "execution_count": 9,
     "metadata": {},
     "output_type": "execute_result"
    }
   ],
   "source": [
    "type(name)"
   ]
  },
  {
   "cell_type": "code",
   "execution_count": 10,
   "id": "4885baaa-112d-4616-aeb4-f3aba9cd8009",
   "metadata": {},
   "outputs": [],
   "source": [
    "sent = \"\"\"\n",
    "line1\n",
    "line2\n",
    "\"\"\""
   ]
  },
  {
   "cell_type": "code",
   "execution_count": 11,
   "id": "9da5168e-a1ce-4885-b26e-57dc5f94a80b",
   "metadata": {},
   "outputs": [
    {
     "name": "stdout",
     "output_type": "stream",
     "text": [
      "\n",
      "line1\n",
      "line2\n",
      "\n"
     ]
    }
   ],
   "source": [
    "print(sent)"
   ]
  },
  {
   "cell_type": "code",
   "execution_count": 13,
   "id": "2d12faa0-14e2-4044-8493-62f29f98644e",
   "metadata": {},
   "outputs": [
    {
     "data": {
      "text/plain": [
       "str"
      ]
     },
     "execution_count": 13,
     "metadata": {},
     "output_type": "execute_result"
    }
   ],
   "source": [
    "type(str(22))"
   ]
  },
  {
   "cell_type": "code",
   "execution_count": 14,
   "id": "c1354f73-4442-4983-8d27-7da2d4f50149",
   "metadata": {},
   "outputs": [],
   "source": [
    "name =\"pineapple\""
   ]
  },
  {
   "cell_type": "code",
   "execution_count": 15,
   "id": "d2ca9baf-6e19-4451-ad22-f57d9cf7cd70",
   "metadata": {},
   "outputs": [
    {
     "data": {
      "text/plain": [
       "9"
      ]
     },
     "execution_count": 15,
     "metadata": {},
     "output_type": "execute_result"
    }
   ],
   "source": [
    "len(name)"
   ]
  },
  {
   "cell_type": "code",
   "execution_count": 16,
   "id": "2d0ca733-3e38-4ec9-8b55-2c9ab2b8b853",
   "metadata": {},
   "outputs": [],
   "source": [
    "x = \"Welcome\""
   ]
  },
  {
   "cell_type": "code",
   "execution_count": 17,
   "id": "cc5ad3f4-3fa6-4415-8f89-15fe42fcf40c",
   "metadata": {},
   "outputs": [
    {
     "data": {
      "text/plain": [
       "'welcome'"
      ]
     },
     "execution_count": 17,
     "metadata": {},
     "output_type": "execute_result"
    }
   ],
   "source": [
    "x.lower()"
   ]
  },
  {
   "cell_type": "code",
   "execution_count": 18,
   "id": "ca4cca1c-0656-41e2-896d-cfa722d7ae07",
   "metadata": {},
   "outputs": [
    {
     "data": {
      "text/plain": [
       "'WELCOME'"
      ]
     },
     "execution_count": 18,
     "metadata": {},
     "output_type": "execute_result"
    }
   ],
   "source": [
    "x.upper()"
   ]
  },
  {
   "cell_type": "code",
   "execution_count": 19,
   "id": "ee16b08b-a3e0-4a43-901a-79135f2d595c",
   "metadata": {},
   "outputs": [
    {
     "data": {
      "text/plain": [
       "'Welcome'"
      ]
     },
     "execution_count": 19,
     "metadata": {},
     "output_type": "execute_result"
    }
   ],
   "source": [
    "x.strip()"
   ]
  },
  {
   "cell_type": "code",
   "execution_count": 23,
   "id": "04c73222-295e-41a1-9e41-1b5f91d77d3c",
   "metadata": {},
   "outputs": [
    {
     "data": {
      "text/plain": [
       "'Walcoma'"
      ]
     },
     "execution_count": 23,
     "metadata": {},
     "output_type": "execute_result"
    }
   ],
   "source": [
    "x.replace('e', 'a')"
   ]
  },
  {
   "cell_type": "code",
   "execution_count": 24,
   "id": "d01ec1c3-6f0e-4369-a2ad-7ca905f21c7d",
   "metadata": {},
   "outputs": [
    {
     "data": {
      "text/plain": [
       "['W', 'lcom', '']"
      ]
     },
     "execution_count": 24,
     "metadata": {},
     "output_type": "execute_result"
    }
   ],
   "source": [
    "x.split('e')"
   ]
  },
  {
   "cell_type": "code",
   "execution_count": 25,
   "id": "c8f390fc-e364-4d99-beaf-079ff7941e83",
   "metadata": {},
   "outputs": [],
   "source": [
    "email = \"test@gmail.com\""
   ]
  },
  {
   "cell_type": "code",
   "execution_count": 26,
   "id": "974becfe-d70b-4e06-95b3-57114435a80a",
   "metadata": {},
   "outputs": [
    {
     "data": {
      "text/plain": [
       "True"
      ]
     },
     "execution_count": 26,
     "metadata": {},
     "output_type": "execute_result"
    }
   ],
   "source": [
    "email.endswith(\"gmail.com\")"
   ]
  },
  {
   "cell_type": "code",
   "execution_count": 27,
   "id": "93e1c515-2c35-48fb-bea4-f0ab0351bbc4",
   "metadata": {},
   "outputs": [
    {
     "data": {
      "text/plain": [
       "'haridhakal'"
      ]
     },
     "execution_count": 27,
     "metadata": {},
     "output_type": "execute_result"
    }
   ],
   "source": [
    "\"hari\" + \"dhakal\""
   ]
  },
  {
   "cell_type": "code",
   "execution_count": 28,
   "id": "4ba80534-6351-41d0-8b81-9a50bc195573",
   "metadata": {},
   "outputs": [
    {
     "data": {
      "text/plain": [
       "'harihariharihariharihariharihariharihariharihariharihariharihariharihariharihari'"
      ]
     },
     "execution_count": 28,
     "metadata": {},
     "output_type": "execute_result"
    }
   ],
   "source": [
    "\"hari\" *20"
   ]
  },
  {
   "cell_type": "code",
   "execution_count": 29,
   "id": "40af4c6f-b063-4b86-b674-b52066636339",
   "metadata": {},
   "outputs": [],
   "source": [
    "address = \"kathmandu\""
   ]
  },
  {
   "cell_type": "code",
   "execution_count": 31,
   "id": "0177b3d9-63cf-45b3-abb9-0738cf62e1c7",
   "metadata": {},
   "outputs": [
    {
     "data": {
      "text/plain": [
       "'u'"
      ]
     },
     "execution_count": 31,
     "metadata": {},
     "output_type": "execute_result"
    }
   ],
   "source": [
    "address[-1]"
   ]
  },
  {
   "cell_type": "code",
   "execution_count": 32,
   "id": "c8461410-771e-4d45-bb4a-f05d4c862f9b",
   "metadata": {},
   "outputs": [
    {
     "data": {
      "text/plain": [
       "'udnamhtak'"
      ]
     },
     "execution_count": 32,
     "metadata": {},
     "output_type": "execute_result"
    }
   ],
   "source": [
    "address[::-1]"
   ]
  },
  {
   "cell_type": "code",
   "execution_count": null,
   "id": "5acb4231-02c1-4096-9a0f-4e0dd8d59519",
   "metadata": {},
   "outputs": [],
   "source": []
  }
 ],
 "metadata": {
  "kernelspec": {
   "display_name": "Python 3 (ipykernel)",
   "language": "python",
   "name": "python3"
  },
  "language_info": {
   "codemirror_mode": {
    "name": "ipython",
    "version": 3
   },
   "file_extension": ".py",
   "mimetype": "text/x-python",
   "name": "python",
   "nbconvert_exporter": "python",
   "pygments_lexer": "ipython3",
   "version": "3.13.5"
  }
 },
 "nbformat": 4,
 "nbformat_minor": 5
}
