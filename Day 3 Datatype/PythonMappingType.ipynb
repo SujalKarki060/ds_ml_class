{
 "cells": [
  {
   "cell_type": "markdown",
   "id": "b7c388e0-8329-4f42-8daa-c2c3849b55f0",
   "metadata": {},
   "source": [
    "# Creating a dictionary\n",
    "\n",
    "```python\n",
    "dict = {\n",
    "    key:value,\n",
    "    key2:value\n",
    "}"
   ]
  },
  {
   "cell_type": "code",
   "execution_count": 7,
   "id": "db00ad38-ba5e-42ef-98b7-f8f01dc47f4a",
   "metadata": {},
   "outputs": [],
   "source": [
    "person = {\n",
    "    \"Name\" : \"John Doe\",\n",
    "    \"Age\" : 25,\n",
    "    \"Gender\" : \"Male\",\n",
    "    \"Subjects\" : [\"Maths\", \"Science\"]\n",
    "}"
   ]
  },
  {
   "cell_type": "code",
   "execution_count": 8,
   "id": "323ca11a-c760-4913-b09d-c381e7141192",
   "metadata": {},
   "outputs": [
    {
     "data": {
      "text/plain": [
       "dict"
      ]
     },
     "execution_count": 8,
     "metadata": {},
     "output_type": "execute_result"
    }
   ],
   "source": [
    "type(person)"
   ]
  },
  {
   "cell_type": "code",
   "execution_count": 9,
   "id": "3c8204be-9627-4d0a-a4a5-c36888f673d0",
   "metadata": {},
   "outputs": [
    {
     "data": {
      "text/plain": [
       "{'Name': 'John Doe',\n",
       " 'Age': 25,\n",
       " 'Gender': 'Male',\n",
       " 'Subjects': ['Maths', 'Science']}"
      ]
     },
     "execution_count": 9,
     "metadata": {},
     "output_type": "execute_result"
    }
   ],
   "source": [
    "person"
   ]
  },
  {
   "cell_type": "code",
   "execution_count": 10,
   "id": "ad694c08-4e46-4a39-a97d-7efa8d60f9ca",
   "metadata": {},
   "outputs": [],
   "source": [
    "##person =dict(name =\"John\",city=\"NYC\")\n",
    "##person"
   ]
  },
  {
   "cell_type": "code",
   "execution_count": 13,
   "id": "fe8bc0ab-225c-417d-a543-b881035541a9",
   "metadata": {},
   "outputs": [
    {
     "data": {
      "text/plain": [
       "25"
      ]
     },
     "execution_count": 13,
     "metadata": {},
     "output_type": "execute_result"
    }
   ],
   "source": [
    "person[\"Age\"]"
   ]
  },
  {
   "cell_type": "code",
   "execution_count": 15,
   "id": "17f81998-5056-43eb-99eb-38fb232112c8",
   "metadata": {},
   "outputs": [
    {
     "ename": "KeyError",
     "evalue": "'DOB'",
     "output_type": "error",
     "traceback": [
      "\u001b[31m---------------------------------------------------------------------------\u001b[39m",
      "\u001b[31mKeyError\u001b[39m                                  Traceback (most recent call last)",
      "\u001b[36mCell\u001b[39m\u001b[36m \u001b[39m\u001b[32mIn[15]\u001b[39m\u001b[32m, line 1\u001b[39m\n\u001b[32m----> \u001b[39m\u001b[32m1\u001b[39m \u001b[43mperson\u001b[49m\u001b[43m[\u001b[49m\u001b[33;43m\"\u001b[39;49m\u001b[33;43mDOB\u001b[39;49m\u001b[33;43m\"\u001b[39;49m\u001b[43m]\u001b[49m\n",
      "\u001b[31mKeyError\u001b[39m: 'DOB'"
     ]
    }
   ],
   "source": [
    "person[\"DOB\"]"
   ]
  },
  {
   "cell_type": "code",
   "execution_count": 19,
   "id": "e58f9be6-f195-41ab-a505-6f235b05c994",
   "metadata": {},
   "outputs": [
    {
     "data": {
      "text/plain": [
       "1990"
      ]
     },
     "execution_count": 19,
     "metadata": {},
     "output_type": "execute_result"
    }
   ],
   "source": [
    "person.get(\"DOB\", 1990) ## DOB is the key, whereas 1990 is the default set value"
   ]
  },
  {
   "cell_type": "code",
   "execution_count": 20,
   "id": "63f4556c-447c-4ff7-b929-fc604f68750d",
   "metadata": {},
   "outputs": [
    {
     "data": {
      "text/plain": [
       "['Maths', 'Science']"
      ]
     },
     "execution_count": 20,
     "metadata": {},
     "output_type": "execute_result"
    }
   ],
   "source": [
    "person.get(\"Subjects\")"
   ]
  },
  {
   "cell_type": "code",
   "execution_count": 21,
   "id": "cfcfe662-b54d-4d3f-b5da-6cf65b3c11d4",
   "metadata": {},
   "outputs": [
    {
     "data": {
      "text/plain": [
       "{'Name': 'John Doe',\n",
       " 'Age': 60,\n",
       " 'Gender': 'Male',\n",
       " 'Subjects': ['Maths', 'Science']}"
      ]
     },
     "execution_count": 21,
     "metadata": {},
     "output_type": "execute_result"
    }
   ],
   "source": [
    "person[\"Age\"] = 60\n",
    "person"
   ]
  },
  {
   "cell_type": "code",
   "execution_count": 22,
   "id": "6e3bc261-c2a8-4637-b870-9657611fc45c",
   "metadata": {},
   "outputs": [],
   "source": [
    "person[\"City\"] = \"Baltimore\""
   ]
  },
  {
   "cell_type": "code",
   "execution_count": 23,
   "id": "34c28693-d61a-4c38-8845-acc515fcb3d6",
   "metadata": {},
   "outputs": [
    {
     "data": {
      "text/plain": [
       "{'Name': 'John Doe',\n",
       " 'Age': 60,\n",
       " 'Gender': 'Male',\n",
       " 'Subjects': ['Maths', 'Science'],\n",
       " 'City': 'Baltimore'}"
      ]
     },
     "execution_count": 23,
     "metadata": {},
     "output_type": "execute_result"
    }
   ],
   "source": [
    "person"
   ]
  },
  {
   "cell_type": "code",
   "execution_count": 25,
   "id": "826f1bd3-aa67-49a2-a975-46010e0964b1",
   "metadata": {},
   "outputs": [
    {
     "data": {
      "text/plain": [
       "'Baltimore'"
      ]
     },
     "execution_count": 25,
     "metadata": {},
     "output_type": "execute_result"
    }
   ],
   "source": [
    "person.pop(\"City\")"
   ]
  },
  {
   "cell_type": "code",
   "execution_count": 35,
   "id": "7d180bdf-61fb-4d3c-89c5-3633eeeedf9f",
   "metadata": {},
   "outputs": [
    {
     "data": {
      "text/plain": [
       "{'Name': 'John Doe', 'Gender': 'Others', 'Subjects': ['Maths', 'Science']}"
      ]
     },
     "execution_count": 35,
     "metadata": {},
     "output_type": "execute_result"
    }
   ],
   "source": [
    "person"
   ]
  },
  {
   "cell_type": "code",
   "execution_count": 36,
   "id": "3b321b4c-b0ea-42d8-839a-27889a8fcbaa",
   "metadata": {},
   "outputs": [
    {
     "ename": "KeyError",
     "evalue": "'Age'",
     "output_type": "error",
     "traceback": [
      "\u001b[31m---------------------------------------------------------------------------\u001b[39m",
      "\u001b[31mKeyError\u001b[39m                                  Traceback (most recent call last)",
      "\u001b[36mCell\u001b[39m\u001b[36m \u001b[39m\u001b[32mIn[36]\u001b[39m\u001b[32m, line 1\u001b[39m\n\u001b[32m----> \u001b[39m\u001b[32m1\u001b[39m \u001b[38;5;28;01mdel\u001b[39;00m \u001b[43mperson\u001b[49m\u001b[43m[\u001b[49m\u001b[33;43m\"\u001b[39;49m\u001b[33;43mAge\u001b[39;49m\u001b[33;43m\"\u001b[39;49m\u001b[43m]\u001b[49m\n",
      "\u001b[31mKeyError\u001b[39m: 'Age'"
     ]
    }
   ],
   "source": [
    "del person[\"Age\"]"
   ]
  },
  {
   "cell_type": "code",
   "execution_count": null,
   "id": "be03c838-11af-40b4-b044-bf2b6bc97683",
   "metadata": {},
   "outputs": [],
   "source": [
    "person"
   ]
  },
  {
   "cell_type": "code",
   "execution_count": 37,
   "id": "083709b5-6bd2-4e71-8d4c-55715ded5644",
   "metadata": {},
   "outputs": [
    {
     "data": {
      "text/plain": [
       "dict_keys(['Name', 'Gender', 'Subjects'])"
      ]
     },
     "execution_count": 37,
     "metadata": {},
     "output_type": "execute_result"
    }
   ],
   "source": [
    "person.keys()"
   ]
  },
  {
   "cell_type": "code",
   "execution_count": 38,
   "id": "faaf6714-a651-48f1-9cc0-5da9fa4045bc",
   "metadata": {},
   "outputs": [
    {
     "data": {
      "text/plain": [
       "dict_values(['John Doe', 'Others', ['Maths', 'Science']])"
      ]
     },
     "execution_count": 38,
     "metadata": {},
     "output_type": "execute_result"
    }
   ],
   "source": [
    "person.values()"
   ]
  },
  {
   "cell_type": "code",
   "execution_count": 39,
   "id": "5bfb83b1-6796-42e9-91bc-309f3fe0359e",
   "metadata": {},
   "outputs": [
    {
     "data": {
      "text/plain": [
       "dict_items([('Name', 'John Doe'), ('Gender', 'Others'), ('Subjects', ['Maths', 'Science'])])"
      ]
     },
     "execution_count": 39,
     "metadata": {},
     "output_type": "execute_result"
    }
   ],
   "source": [
    "person.items()"
   ]
  },
  {
   "cell_type": "code",
   "execution_count": 40,
   "id": "dae44ce6-4978-42e1-9c15-12443eed3da3",
   "metadata": {},
   "outputs": [
    {
     "data": {
      "text/plain": [
       "{'Name': 'John Doe', 'Gender': 'Others', 'Subjects': ['Maths', 'Science']}"
      ]
     },
     "execution_count": 40,
     "metadata": {},
     "output_type": "execute_result"
    }
   ],
   "source": [
    "person2 = person.copy()\n",
    "person2[\"Gender\"] = \"Others\"\n",
    "person"
   ]
  },
  {
   "cell_type": "code",
   "execution_count": 41,
   "id": "180d159e-45d2-4e0b-978f-a1b29ec60624",
   "metadata": {},
   "outputs": [
    {
     "data": {
      "text/plain": [
       "{'Name': 'John Doe', 'Gender': 'Others', 'Subjects': ['Maths', 'Science']}"
      ]
     },
     "execution_count": 41,
     "metadata": {},
     "output_type": "execute_result"
    }
   ],
   "source": [
    "person2"
   ]
  },
  {
   "cell_type": "code",
   "execution_count": 42,
   "id": "d341b8f3-2f3a-420c-91e7-1d24b6f3fc41",
   "metadata": {},
   "outputs": [],
   "source": [
    "dict1 = {\n",
    "    \"Name\" : \"Sam\",\n",
    "    \"Age\" :65\n",
    "}\n",
    "dict2 = {\n",
    "    \"Regno\" : 456,\n",
    "    \"Subjects\" : [\"maths\"]\n",
    "}"
   ]
  },
  {
   "cell_type": "code",
   "execution_count": 43,
   "id": "22f0aee9-8f26-4260-a047-6b3bcc89b9a6",
   "metadata": {},
   "outputs": [
    {
     "data": {
      "text/plain": [
       "{'Name': 'Sam', 'Age': 65, 'Regno': 456, 'Subjects': ['maths']}"
      ]
     },
     "execution_count": 43,
     "metadata": {},
     "output_type": "execute_result"
    }
   ],
   "source": [
    "dict1 | dict2"
   ]
  },
  {
   "cell_type": "code",
   "execution_count": 48,
   "id": "cce45b1f-66b5-4bd1-bde5-16c6b91902a5",
   "metadata": {},
   "outputs": [
    {
     "data": {
      "text/plain": [
       "{'Name': 'Sam', 'Age': 65, 'Regno': 456, 'Subjects': ['maths']}"
      ]
     },
     "execution_count": 48,
     "metadata": {},
     "output_type": "execute_result"
    }
   ],
   "source": [
    "{**dict1, **dict2} ##old way of merging dictionary"
   ]
  },
  {
   "cell_type": "code",
   "execution_count": 49,
   "id": "2bb2a907-3b59-4146-a4ca-e0c525bc44e2",
   "metadata": {},
   "outputs": [],
   "source": [
    "person = {\n",
    "    \"Name\" : \"John Doe\",\n",
    "    \"Age\" : 25,\n",
    "    \"Gender\" : \"Male\",\n",
    "    \"Subjects\" : [\"Maths\", \"Science\"]\n",
    "}"
   ]
  },
  {
   "cell_type": "code",
   "execution_count": 54,
   "id": "5c161900-9342-475a-9bb5-eaca436d0057",
   "metadata": {},
   "outputs": [
    {
     "data": {
      "text/plain": [
       "{'Age': 25,\n",
       " 'Gender': 'Male',\n",
       " 'Name': 'John Doe',\n",
       " 'Subjects': ['Maths', 'Science']}"
      ]
     },
     "execution_count": 54,
     "metadata": {},
     "output_type": "execute_result"
    }
   ],
   "source": [
    "dict(\n",
    "    sorted(\n",
    "        person.items(),\n",
    "        key = lambda item: item[0] \n",
    "    )\n",
    ")"
   ]
  },
  {
   "cell_type": "code",
   "execution_count": null,
   "id": "c453ac97-3b53-409d-9c49-a9882b1e2b8d",
   "metadata": {},
   "outputs": [],
   "source": []
  }
 ],
 "metadata": {
  "kernelspec": {
   "display_name": "Python 3 (ipykernel)",
   "language": "python",
   "name": "python3"
  },
  "language_info": {
   "codemirror_mode": {
    "name": "ipython",
    "version": 3
   },
   "file_extension": ".py",
   "mimetype": "text/x-python",
   "name": "python",
   "nbconvert_exporter": "python",
   "pygments_lexer": "ipython3",
   "version": "3.13.5"
  }
 },
 "nbformat": 4,
 "nbformat_minor": 5
}
