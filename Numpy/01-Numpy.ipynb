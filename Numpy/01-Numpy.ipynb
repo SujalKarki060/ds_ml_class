{
 "cells": [
  {
   "cell_type": "code",
   "execution_count": 29,
   "id": "d5ab7b49-323d-4295-811e-2ddfa2762071",
   "metadata": {},
   "outputs": [
    {
     "name": "stdout",
     "output_type": "stream",
     "text": [
      "Requirement already satisfied: numpy in c:\\users\\acer\\desktop\\ds_ml_class\\.venv\\lib\\site-packages (2.3.1)\n"
     ]
    }
   ],
   "source": [
    "!pip install numpy"
   ]
  },
  {
   "cell_type": "code",
   "execution_count": 30,
   "id": "c035c0c8-3e63-42e5-b215-5f7454cddde0",
   "metadata": {},
   "outputs": [],
   "source": [
    "import numpy as np"
   ]
  },
  {
   "cell_type": "code",
   "execution_count": 31,
   "id": "8f0b8c34-9291-4eda-b46d-6245b4b1433d",
   "metadata": {},
   "outputs": [
    {
     "data": {
      "text/plain": [
       "'2.3.1'"
      ]
     },
     "execution_count": 31,
     "metadata": {},
     "output_type": "execute_result"
    }
   ],
   "source": [
    "np.__version__"
   ]
  },
  {
   "cell_type": "code",
   "execution_count": 32,
   "id": "3ff8ed87-db0a-4cf0-ae0d-0555a0d0530f",
   "metadata": {},
   "outputs": [],
   "source": [
    "list1 = [1,2,3]"
   ]
  },
  {
   "cell_type": "code",
   "execution_count": 33,
   "id": "94d445cf-be85-48aa-bf07-a2ac5cefbacb",
   "metadata": {},
   "outputs": [],
   "source": [
    "arr1 = np.array(list1)"
   ]
  },
  {
   "cell_type": "code",
   "execution_count": 34,
   "id": "081f87bd-52de-48fb-910d-a06f7b12b002",
   "metadata": {},
   "outputs": [
    {
     "data": {
      "text/plain": [
       "array([1, 2, 3])"
      ]
     },
     "execution_count": 34,
     "metadata": {},
     "output_type": "execute_result"
    }
   ],
   "source": [
    "arr1"
   ]
  },
  {
   "cell_type": "code",
   "execution_count": 35,
   "id": "a1eda330-140d-48e1-b83e-59b2ff9ca9f1",
   "metadata": {},
   "outputs": [
    {
     "data": {
      "text/plain": [
       "(3,)"
      ]
     },
     "execution_count": 35,
     "metadata": {},
     "output_type": "execute_result"
    }
   ],
   "source": [
    "arr1.shape"
   ]
  },
  {
   "cell_type": "code",
   "execution_count": 36,
   "id": "a96f5851-7e81-404d-bd32-403a6ff0149b",
   "metadata": {},
   "outputs": [
    {
     "data": {
      "text/plain": [
       "1"
      ]
     },
     "execution_count": 36,
     "metadata": {},
     "output_type": "execute_result"
    }
   ],
   "source": [
    "arr1.ndim"
   ]
  },
  {
   "cell_type": "code",
   "execution_count": 37,
   "id": "f260edb4-2e73-40bf-9d06-b499353335c4",
   "metadata": {},
   "outputs": [],
   "source": [
    "list2= [[1,2,3],\n",
    "        [6,7,8],\n",
    "        [3,4,5]]"
   ]
  },
  {
   "cell_type": "code",
   "execution_count": 38,
   "id": "5a2ad07d-d252-4e6c-b96e-ebe373576971",
   "metadata": {},
   "outputs": [],
   "source": [
    "arr2 = np.array(list2)"
   ]
  },
  {
   "cell_type": "code",
   "execution_count": 39,
   "id": "042b0e08-86c0-4884-aecf-d2c6da947f0d",
   "metadata": {},
   "outputs": [
    {
     "data": {
      "text/plain": [
       "(3, 3)"
      ]
     },
     "execution_count": 39,
     "metadata": {},
     "output_type": "execute_result"
    }
   ],
   "source": [
    "arr2.shape"
   ]
  },
  {
   "cell_type": "code",
   "execution_count": 40,
   "id": "c4deff1a-ea90-40ef-957e-3f24e59abf59",
   "metadata": {},
   "outputs": [
    {
     "data": {
      "text/plain": [
       "2"
      ]
     },
     "execution_count": 40,
     "metadata": {},
     "output_type": "execute_result"
    }
   ],
   "source": [
    "arr2.ndim"
   ]
  },
  {
   "cell_type": "code",
   "execution_count": 41,
   "id": "74b5e1d5-be39-4720-9986-58936ea1ad1b",
   "metadata": {},
   "outputs": [
    {
     "data": {
      "text/plain": [
       "array([[0, 0, 0, 0],\n",
       "       [0, 0, 0, 0],\n",
       "       [0, 0, 0, 0],\n",
       "       [0, 0, 0, 0]])"
      ]
     },
     "execution_count": 41,
     "metadata": {},
     "output_type": "execute_result"
    }
   ],
   "source": [
    "np.zeros((4,4),dtype=\"int\")"
   ]
  },
  {
   "cell_type": "code",
   "execution_count": 42,
   "id": "85852716-158f-4cd0-b2fa-dc8c599eac0f",
   "metadata": {},
   "outputs": [],
   "source": [
    "arr3 = np.ones((2,3,3), dtype=\"int8\")"
   ]
  },
  {
   "cell_type": "code",
   "execution_count": 43,
   "id": "14a4f7ce-d5d3-49df-af9d-06653fffbc36",
   "metadata": {},
   "outputs": [
    {
     "data": {
      "text/plain": [
       "array([[[1, 1, 1],\n",
       "        [1, 1, 1],\n",
       "        [1, 1, 1]],\n",
       "\n",
       "       [[1, 1, 1],\n",
       "        [1, 1, 1],\n",
       "        [1, 1, 1]]], dtype=int8)"
      ]
     },
     "execution_count": 43,
     "metadata": {},
     "output_type": "execute_result"
    }
   ],
   "source": [
    "arr3"
   ]
  },
  {
   "cell_type": "code",
   "execution_count": 44,
   "id": "3a9bfef2-0868-4a66-bd8a-6cf970192062",
   "metadata": {},
   "outputs": [
    {
     "data": {
      "text/plain": [
       "(2, 3, 3)"
      ]
     },
     "execution_count": 44,
     "metadata": {},
     "output_type": "execute_result"
    }
   ],
   "source": [
    "arr3.shape"
   ]
  },
  {
   "cell_type": "code",
   "execution_count": 45,
   "id": "88674885-6ff2-40ca-9efa-c202fc6143f8",
   "metadata": {},
   "outputs": [
    {
     "data": {
      "text/plain": [
       "3"
      ]
     },
     "execution_count": 45,
     "metadata": {},
     "output_type": "execute_result"
    }
   ],
   "source": [
    "arr3.ndim"
   ]
  },
  {
   "cell_type": "code",
   "execution_count": 46,
   "id": "4fb7a25b-d503-4544-8b46-3aebe847e5b3",
   "metadata": {},
   "outputs": [
    {
     "data": {
      "text/plain": [
       "array([[6.7, 6.7, 6.7, 6.7],\n",
       "       [6.7, 6.7, 6.7, 6.7],\n",
       "       [6.7, 6.7, 6.7, 6.7]])"
      ]
     },
     "execution_count": 46,
     "metadata": {},
     "output_type": "execute_result"
    }
   ],
   "source": [
    "np.full((3,4), fill_value=6.7)"
   ]
  },
  {
   "cell_type": "code",
   "execution_count": 47,
   "id": "27b2cd4a-fb29-44b2-830e-1b41215f1cf9",
   "metadata": {},
   "outputs": [
    {
     "data": {
      "text/plain": [
       "array([ 1,  6, 11, 16, 21, 26, 31, 36, 41, 46, 51, 56, 61, 66, 71, 76, 81,\n",
       "       86])"
      ]
     },
     "execution_count": 47,
     "metadata": {},
     "output_type": "execute_result"
    }
   ],
   "source": [
    "np.arange(1,90,5)"
   ]
  },
  {
   "cell_type": "code",
   "execution_count": 48,
   "id": "14c49b57-55cf-4065-b1f8-2fe972a336ab",
   "metadata": {},
   "outputs": [
    {
     "data": {
      "text/plain": [
       "array([ 1.        ,  1.47368421,  1.94736842,  2.42105263,  2.89473684,\n",
       "        3.36842105,  3.84210526,  4.31578947,  4.78947368,  5.26315789,\n",
       "        5.73684211,  6.21052632,  6.68421053,  7.15789474,  7.63157895,\n",
       "        8.10526316,  8.57894737,  9.05263158,  9.52631579, 10.        ])"
      ]
     },
     "execution_count": 48,
     "metadata": {},
     "output_type": "execute_result"
    }
   ],
   "source": [
    "np.linspace(1,10,num=20)"
   ]
  },
  {
   "cell_type": "code",
   "execution_count": 49,
   "id": "dec59033-494e-4315-94a2-eb593a9c3b8b",
   "metadata": {},
   "outputs": [
    {
     "data": {
      "text/plain": [
       "array([[9, 4],\n",
       "       [1, 9]], dtype=int32)"
      ]
     },
     "execution_count": 49,
     "metadata": {},
     "output_type": "execute_result"
    }
   ],
   "source": [
    "np.random.randint(0,10,size=(2,2))"
   ]
  },
  {
   "cell_type": "code",
   "execution_count": 50,
   "id": "82f0c884-a8b2-4e53-b399-51468b246e45",
   "metadata": {},
   "outputs": [
    {
     "data": {
      "text/plain": [
       "array([[[[1, 1, 1]],\n",
       "\n",
       "        [[1, 1, 1]]],\n",
       "\n",
       "\n",
       "       [[[1, 1, 1]],\n",
       "\n",
       "        [[1, 1, 1]]]], dtype=int8)"
      ]
     },
     "execution_count": 50,
     "metadata": {},
     "output_type": "execute_result"
    }
   ],
   "source": [
    "np.ones((2,2,1,3), dtype=\"int8\")"
   ]
  },
  {
   "cell_type": "code",
   "execution_count": 51,
   "id": "fdfc6180-9f98-4006-8a52-20b3b5bf2505",
   "metadata": {},
   "outputs": [],
   "source": [
    "a = np.array([1,2,3,4,5])"
   ]
  },
  {
   "cell_type": "code",
   "execution_count": 52,
   "id": "78cb17c5-60c8-4122-9f98-db0ac750c597",
   "metadata": {},
   "outputs": [
    {
     "data": {
      "text/plain": [
       "np.int64(3)"
      ]
     },
     "execution_count": 52,
     "metadata": {},
     "output_type": "execute_result"
    }
   ],
   "source": [
    "a[-3]"
   ]
  },
  {
   "cell_type": "code",
   "execution_count": 55,
   "id": "6cd987ef-46ad-4491-b23a-9a23cb2c9795",
   "metadata": {},
   "outputs": [
    {
     "data": {
      "text/plain": [
       "array([5, 4, 3, 2, 1])"
      ]
     },
     "execution_count": 55,
     "metadata": {},
     "output_type": "execute_result"
    }
   ],
   "source": [
    "a[::-1]"
   ]
  },
  {
   "cell_type": "code",
   "execution_count": 57,
   "id": "cd8056ea-e2c9-4e1e-9723-62a661c37dfc",
   "metadata": {},
   "outputs": [
    {
     "data": {
      "text/plain": [
       "array([[1, 3, 4],\n",
       "       [0, 0, 5],\n",
       "       [1, 5, 5]], dtype=int32)"
      ]
     },
     "execution_count": 57,
     "metadata": {},
     "output_type": "execute_result"
    }
   ],
   "source": [
    "#2d\n",
    "b = np.random.randint(0,10,(3,3))\n",
    "b"
   ]
  },
  {
   "cell_type": "code",
   "execution_count": 58,
   "id": "33b308cf-586f-40d1-b4e2-ace9f1642146",
   "metadata": {},
   "outputs": [
    {
     "data": {
      "text/plain": [
       "np.int32(0)"
      ]
     },
     "execution_count": 58,
     "metadata": {},
     "output_type": "execute_result"
    }
   ],
   "source": [
    "b[1,1]"
   ]
  },
  {
   "cell_type": "code",
   "execution_count": 59,
   "id": "dc34dddd-5ffa-4feb-ae94-c7abf9996c1a",
   "metadata": {},
   "outputs": [
    {
     "data": {
      "text/plain": [
       "np.int32(5)"
      ]
     },
     "execution_count": 59,
     "metadata": {},
     "output_type": "execute_result"
    }
   ],
   "source": [
    "b[2,2]"
   ]
  },
  {
   "cell_type": "code",
   "execution_count": 61,
   "id": "e9428535-591e-458f-a75a-0907f2aeb70a",
   "metadata": {},
   "outputs": [
    {
     "data": {
      "text/plain": [
       "np.int32(1)"
      ]
     },
     "execution_count": 61,
     "metadata": {},
     "output_type": "execute_result"
    }
   ],
   "source": [
    "b[-1,0]"
   ]
  },
  {
   "cell_type": "code",
   "execution_count": 62,
   "id": "ce7ce01c-8ceb-4132-be20-2821f28ae9d2",
   "metadata": {},
   "outputs": [
    {
     "data": {
      "text/plain": [
       "array([[0, 0],\n",
       "       [1, 5]], dtype=int32)"
      ]
     },
     "execution_count": 62,
     "metadata": {},
     "output_type": "execute_result"
    }
   ],
   "source": [
    "b[1:4,:2]"
   ]
  },
  {
   "cell_type": "code",
   "execution_count": 64,
   "id": "fbbf57e9-86ff-4d59-975d-cc6f58f76399",
   "metadata": {},
   "outputs": [
    {
     "data": {
      "text/plain": [
       "array([[[ 3, 19],\n",
       "        [ 9, 21],\n",
       "        [11,  7]],\n",
       "\n",
       "       [[ 6,  0],\n",
       "        [ 6, 17],\n",
       "        [11, 21]],\n",
       "\n",
       "       [[ 2, 18],\n",
       "        [17, 15],\n",
       "        [ 6, 14]]], dtype=int32)"
      ]
     },
     "execution_count": 64,
     "metadata": {},
     "output_type": "execute_result"
    }
   ],
   "source": [
    "c = np.random.randint(0,25,(3,3,2))\n",
    "c"
   ]
  },
  {
   "cell_type": "code",
   "execution_count": 66,
   "id": "9d00962a-3926-4de9-b701-e54c168b27b9",
   "metadata": {},
   "outputs": [
    {
     "data": {
      "text/plain": [
       "np.int32(17)"
      ]
     },
     "execution_count": 66,
     "metadata": {},
     "output_type": "execute_result"
    }
   ],
   "source": [
    "c[1,1,1]"
   ]
  },
  {
   "cell_type": "code",
   "execution_count": 67,
   "id": "bcee8628-69c0-412c-b3ed-4392bfb5a610",
   "metadata": {},
   "outputs": [
    {
     "data": {
      "text/plain": [
       "np.int32(17)"
      ]
     },
     "execution_count": 67,
     "metadata": {},
     "output_type": "execute_result"
    }
   ],
   "source": [
    "c[1][1][1]"
   ]
  },
  {
   "cell_type": "code",
   "execution_count": 68,
   "id": "dbc7409a-1388-4457-8c68-659fb5fa3c4c",
   "metadata": {},
   "outputs": [
    {
     "data": {
      "text/plain": [
       "array([[11,  7],\n",
       "       [11, 21],\n",
       "       [ 6, 14]], dtype=int32)"
      ]
     },
     "execution_count": 68,
     "metadata": {},
     "output_type": "execute_result"
    }
   ],
   "source": [
    "c[:,2,:]"
   ]
  },
  {
   "cell_type": "code",
   "execution_count": 75,
   "id": "1562ed6b-3ba0-4019-96f9-89ff71ff4d4a",
   "metadata": {},
   "outputs": [
    {
     "data": {
      "text/plain": [
       "array([[22, 68, 17, ..., 70, 45, 16],\n",
       "       [38,  3, 79, ..., 86, 27, 39],\n",
       "       [63, 59, 95, ..., 14, 79, 58],\n",
       "       ...,\n",
       "       [81, 78, 95, ..., 60, 62,  9],\n",
       "       [72, 13, 32, ..., 95,  1, 92],\n",
       "       [12, 56, 94, ..., 28, 61, 83]], shape=(16000, 25), dtype=int32)"
      ]
     },
     "execution_count": 75,
     "metadata": {},
     "output_type": "execute_result"
    }
   ],
   "source": [
    "dataset = np.random.randint(0,100,(16000,25))\n",
    "dataset"
   ]
  },
  {
   "cell_type": "code",
   "execution_count": 76,
   "id": "73a869af-5fdc-4704-8ab1-6923a45637ad",
   "metadata": {},
   "outputs": [
    {
     "data": {
      "text/plain": [
       "array([22, 38, 63, ..., 81, 72, 12], shape=(16000,), dtype=int32)"
      ]
     },
     "execution_count": 76,
     "metadata": {},
     "output_type": "execute_result"
    }
   ],
   "source": [
    "dataset[:,0]"
   ]
  },
  {
   "cell_type": "code",
   "execution_count": 79,
   "id": "1dc312fb-a983-44b5-97bd-a35e3dd80df5",
   "metadata": {},
   "outputs": [
    {
     "data": {
      "text/plain": [
       "array([[9, 9, 7, 3, 8],\n",
       "       [8, 2, 1, 6, 9],\n",
       "       [7, 4, 1, 4, 7],\n",
       "       [9, 6, 1, 6, 3],\n",
       "       [9, 8, 6, 9, 3]], dtype=int32)"
      ]
     },
     "execution_count": 79,
     "metadata": {},
     "output_type": "execute_result"
    }
   ],
   "source": [
    "a = np.random.randint(1,10,(5,5))\n",
    "a"
   ]
  },
  {
   "cell_type": "code",
   "execution_count": 80,
   "id": "a3ef4654-d493-45e2-8f0f-95ce95f20037",
   "metadata": {},
   "outputs": [],
   "source": [
    "mask = a > 5"
   ]
  },
  {
   "cell_type": "code",
   "execution_count": 81,
   "id": "5eaf8286-caca-40db-a767-4be238af1f46",
   "metadata": {},
   "outputs": [
    {
     "data": {
      "text/plain": [
       "array([[ True,  True,  True, False,  True],\n",
       "       [ True, False, False,  True,  True],\n",
       "       [ True, False, False, False,  True],\n",
       "       [ True,  True, False,  True, False],\n",
       "       [ True,  True,  True,  True, False]])"
      ]
     },
     "execution_count": 81,
     "metadata": {},
     "output_type": "execute_result"
    }
   ],
   "source": [
    "mask"
   ]
  },
  {
   "cell_type": "code",
   "execution_count": 86,
   "id": "c82e0f42-b3ff-4b9d-9a84-f564fcd78eed",
   "metadata": {},
   "outputs": [
    {
     "data": {
      "text/plain": [
       "array([[9, 9, 7, 3, 8],\n",
       "       [9, 6, 1, 6, 3],\n",
       "       [9, 8, 6, 9, 3]], dtype=int32)"
      ]
     },
     "execution_count": 86,
     "metadata": {},
     "output_type": "execute_result"
    }
   ],
   "source": [
    "a[ mask]"
   ]
  },
  {
   "cell_type": "code",
   "execution_count": 83,
   "id": "0b63fbb8-093d-47ad-94e2-2bed3779ba51",
   "metadata": {},
   "outputs": [],
   "source": [
    "mask = [True, False, False, True, True]"
   ]
  },
  {
   "cell_type": "code",
   "execution_count": 88,
   "id": "28a1ba71-4f4c-4174-8d51-1b93d2f981cc",
   "metadata": {},
   "outputs": [
    {
     "data": {
      "text/plain": [
       "array([[9, 3, 8],\n",
       "       [8, 6, 9],\n",
       "       [7, 4, 7],\n",
       "       [9, 6, 3],\n",
       "       [9, 9, 3]], dtype=int32)"
      ]
     },
     "execution_count": 88,
     "metadata": {},
     "output_type": "execute_result"
    }
   ],
   "source": [
    "a[:,mask]"
   ]
  },
  {
   "cell_type": "code",
   "execution_count": null,
   "id": "01e06336-0b59-45b7-b02b-8052a24b4535",
   "metadata": {},
   "outputs": [],
   "source": []
  }
 ],
 "metadata": {
  "kernelspec": {
   "display_name": "Python 3 (ipykernel)",
   "language": "python",
   "name": "python3"
  },
  "language_info": {
   "codemirror_mode": {
    "name": "ipython",
    "version": 3
   },
   "file_extension": ".py",
   "mimetype": "text/x-python",
   "name": "python",
   "nbconvert_exporter": "python",
   "pygments_lexer": "ipython3",
   "version": "3.13.5"
  }
 },
 "nbformat": 4,
 "nbformat_minor": 5
}
