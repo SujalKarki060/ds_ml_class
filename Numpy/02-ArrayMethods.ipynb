{
 "cells": [
  {
   "cell_type": "code",
   "execution_count": 1,
   "id": "fe7eb6dc-31fb-4b00-af78-5437710c5ae0",
   "metadata": {},
   "outputs": [],
   "source": [
    "import numpy as np"
   ]
  },
  {
   "cell_type": "code",
   "execution_count": 2,
   "id": "da1de2bb-05e9-417d-9ba8-304ff0545e53",
   "metadata": {},
   "outputs": [
    {
     "data": {
      "text/plain": [
       "array([[[13, 29, 46],\n",
       "        [38, 21, 38]],\n",
       "\n",
       "       [[33, 30, 23],\n",
       "        [27, 33, 12]],\n",
       "\n",
       "       [[32, 44, 17],\n",
       "        [39, 10, 19]],\n",
       "\n",
       "       [[39, 46, 35],\n",
       "        [24, 28, 46]],\n",
       "\n",
       "       [[14, 36, 48],\n",
       "        [13, 32, 22]]], dtype=int32)"
      ]
     },
     "execution_count": 2,
     "metadata": {},
     "output_type": "execute_result"
    }
   ],
   "source": [
    "a = np.random.randint(10,50,(5,2,3))\n",
    "a"
   ]
  },
  {
   "cell_type": "code",
   "execution_count": 3,
   "id": "1a5c0730-4eb3-452d-b905-f151615bd0fc",
   "metadata": {},
   "outputs": [
    {
     "data": {
      "text/plain": [
       "(5, 2, 3)"
      ]
     },
     "execution_count": 3,
     "metadata": {},
     "output_type": "execute_result"
    }
   ],
   "source": [
    "a.shape"
   ]
  },
  {
   "cell_type": "code",
   "execution_count": 4,
   "id": "d06c4d49-e4da-4efb-a0fe-9a4242d28e5b",
   "metadata": {},
   "outputs": [
    {
     "data": {
      "text/plain": [
       "3"
      ]
     },
     "execution_count": 4,
     "metadata": {},
     "output_type": "execute_result"
    }
   ],
   "source": [
    "a.ndim"
   ]
  },
  {
   "cell_type": "code",
   "execution_count": 5,
   "id": "007c7de8-e6d3-43e7-8253-3b99012c21a4",
   "metadata": {},
   "outputs": [
    {
     "data": {
      "text/plain": [
       "dtype('int32')"
      ]
     },
     "execution_count": 5,
     "metadata": {},
     "output_type": "execute_result"
    }
   ],
   "source": [
    "a.dtype"
   ]
  },
  {
   "cell_type": "code",
   "execution_count": 6,
   "id": "9eebd21c-2f7a-45a7-82de-56ad3017221c",
   "metadata": {},
   "outputs": [
    {
     "data": {
      "text/plain": [
       "30"
      ]
     },
     "execution_count": 6,
     "metadata": {},
     "output_type": "execute_result"
    }
   ],
   "source": [
    "a.size"
   ]
  },
  {
   "cell_type": "code",
   "execution_count": 7,
   "id": "5c00f539-0485-4b43-bda8-6e4142b50e09",
   "metadata": {},
   "outputs": [
    {
     "data": {
      "text/plain": [
       "array([[[13, 33, 32, 39, 14],\n",
       "        [38, 27, 39, 24, 13]],\n",
       "\n",
       "       [[29, 30, 44, 46, 36],\n",
       "        [21, 33, 10, 28, 32]],\n",
       "\n",
       "       [[46, 23, 17, 35, 48],\n",
       "        [38, 12, 19, 46, 22]]], dtype=int32)"
      ]
     },
     "execution_count": 7,
     "metadata": {},
     "output_type": "execute_result"
    }
   ],
   "source": [
    "a.T"
   ]
  },
  {
   "cell_type": "code",
   "execution_count": 8,
   "id": "20c96af9-2da5-49f0-8e81-a938ad653ed5",
   "metadata": {},
   "outputs": [
    {
     "data": {
      "text/plain": [
       "array([[[13, 29],\n",
       "        [46, 38],\n",
       "        [21, 38],\n",
       "        [33, 30],\n",
       "        [23, 27]],\n",
       "\n",
       "       [[33, 12],\n",
       "        [32, 44],\n",
       "        [17, 39],\n",
       "        [10, 19],\n",
       "        [39, 46]],\n",
       "\n",
       "       [[35, 24],\n",
       "        [28, 46],\n",
       "        [14, 36],\n",
       "        [48, 13],\n",
       "        [32, 22]]], dtype=int32)"
      ]
     },
     "execution_count": 8,
     "metadata": {},
     "output_type": "execute_result"
    }
   ],
   "source": [
    "a.reshape(3,5,2)"
   ]
  },
  {
   "cell_type": "code",
   "execution_count": 9,
   "id": "e95b369e-aadd-48ce-bfb9-14d686dfd8e7",
   "metadata": {},
   "outputs": [
    {
     "data": {
      "text/plain": [
       "array([[[13, 29],\n",
       "        [46, 38],\n",
       "        [21, 38],\n",
       "        [33, 30],\n",
       "        [23, 27]],\n",
       "\n",
       "       [[33, 12],\n",
       "        [32, 44],\n",
       "        [17, 39],\n",
       "        [10, 19],\n",
       "        [39, 46]],\n",
       "\n",
       "       [[35, 24],\n",
       "        [28, 46],\n",
       "        [14, 36],\n",
       "        [48, 13],\n",
       "        [32, 22]]], dtype=int32)"
      ]
     },
     "execution_count": 9,
     "metadata": {},
     "output_type": "execute_result"
    }
   ],
   "source": [
    "a.reshape(3,-1,2)"
   ]
  },
  {
   "cell_type": "code",
   "execution_count": 10,
   "id": "97b8285f-ff42-471b-b347-a321af7d702d",
   "metadata": {},
   "outputs": [
    {
     "data": {
      "text/plain": [
       "array([13, 29, 46, 38, 21, 38, 33, 30, 23, 27, 33, 12, 32, 44, 17, 39, 10,\n",
       "       19, 39, 46, 35, 24, 28, 46, 14, 36, 48, 13, 32, 22], dtype=int32)"
      ]
     },
     "execution_count": 10,
     "metadata": {},
     "output_type": "execute_result"
    }
   ],
   "source": [
    "a.ravel()"
   ]
  },
  {
   "cell_type": "code",
   "execution_count": 11,
   "id": "0dfb5a16-9af7-4c1e-9ba7-e9b639983b31",
   "metadata": {},
   "outputs": [
    {
     "data": {
      "text/plain": [
       "array([13, 29, 46, 38, 21, 38, 33, 30, 23, 27, 33, 12, 32, 44, 17, 39, 10,\n",
       "       19, 39, 46, 35, 24, 28, 46, 14, 36, 48, 13, 32, 22], dtype=int32)"
      ]
     },
     "execution_count": 11,
     "metadata": {},
     "output_type": "execute_result"
    }
   ],
   "source": [
    "a.flatten()"
   ]
  },
  {
   "cell_type": "code",
   "execution_count": 12,
   "id": "993e7c14-4ece-4a95-ade3-78945b117045",
   "metadata": {},
   "outputs": [
    {
     "data": {
      "text/plain": [
       "(array([[5, 6, 6],\n",
       "        [6, 6, 3]], dtype=int32),\n",
       " array([[2, 2, 1, 9],\n",
       "        [2, 4, 9, 1]], dtype=int32))"
      ]
     },
     "execution_count": 12,
     "metadata": {},
     "output_type": "execute_result"
    }
   ],
   "source": [
    "b = np.random.randint(1,10,(2,3))\n",
    "c = np.random.randint(1,10,(2,4))\n",
    "b, c"
   ]
  },
  {
   "cell_type": "code",
   "execution_count": 13,
   "id": "3f4833dd-6dcb-4d0f-b952-afca3c349e43",
   "metadata": {},
   "outputs": [
    {
     "data": {
      "text/plain": [
       "array([[5, 6, 6, 2, 2, 1, 9],\n",
       "       [6, 6, 3, 2, 4, 9, 1]], dtype=int32)"
      ]
     },
     "execution_count": 13,
     "metadata": {},
     "output_type": "execute_result"
    }
   ],
   "source": [
    "d = np.concatenate([b,c], axis=1)\n",
    "d"
   ]
  },
  {
   "cell_type": "code",
   "execution_count": 14,
   "id": "28b565d3-3735-4bff-bfb2-286b338d1875",
   "metadata": {},
   "outputs": [
    {
     "data": {
      "text/plain": [
       "array([[5, 6, 6, 2, 2, 1, 9],\n",
       "       [6, 6, 3, 2, 4, 9, 1]], dtype=int32)"
      ]
     },
     "execution_count": 14,
     "metadata": {},
     "output_type": "execute_result"
    }
   ],
   "source": [
    "np.hstack((b,c))"
   ]
  },
  {
   "cell_type": "code",
   "execution_count": 15,
   "id": "086fb672-489a-4e78-a375-2683e6b40626",
   "metadata": {},
   "outputs": [
    {
     "data": {
      "text/plain": [
       "[array([[5, 6, 6, 2, 2, 1, 9]], dtype=int32),\n",
       " array([[6, 6, 3, 2, 4, 9, 1]], dtype=int32)]"
      ]
     },
     "execution_count": 15,
     "metadata": {},
     "output_type": "execute_result"
    }
   ],
   "source": [
    "np.split(d,2,axis=0)"
   ]
  },
  {
   "cell_type": "code",
   "execution_count": 16,
   "id": "1552e5d6-298c-4c49-b9e9-367adde70bb3",
   "metadata": {},
   "outputs": [
    {
     "data": {
      "text/plain": [
       "array([[7, 2, 4, 9, 4, 4],\n",
       "       [1, 7, 8, 2, 5, 7],\n",
       "       [6, 7, 9, 2, 9, 8],\n",
       "       [2, 7, 1, 8, 6, 8]], dtype=int32)"
      ]
     },
     "execution_count": 16,
     "metadata": {},
     "output_type": "execute_result"
    }
   ],
   "source": [
    "z = np.random.randint(1,10,(4,6))\n",
    "z"
   ]
  },
  {
   "cell_type": "code",
   "execution_count": 18,
   "id": "c407a0b0-1271-4f0f-96e7-a07b881130cf",
   "metadata": {},
   "outputs": [
    {
     "data": {
      "text/plain": [
       "array([16, 23, 22, 21, 24, 27])"
      ]
     },
     "execution_count": 18,
     "metadata": {},
     "output_type": "execute_result"
    }
   ],
   "source": [
    "z.sum(axis = 0)"
   ]
  },
  {
   "cell_type": "code",
   "execution_count": 20,
   "id": "4e8fff62-0869-4ae8-ba60-08735221fc8a",
   "metadata": {},
   "outputs": [
    {
     "data": {
      "text/plain": [
       "array([  84,  686,  288,  288, 1080, 1792])"
      ]
     },
     "execution_count": 20,
     "metadata": {},
     "output_type": "execute_result"
    }
   ],
   "source": [
    "z.prod(axis = 0)"
   ]
  },
  {
   "cell_type": "code",
   "execution_count": 21,
   "id": "9901c785-9d01-4f9d-8d72-5aeb511d2294",
   "metadata": {},
   "outputs": [
    {
     "data": {
      "text/plain": [
       "array([ 8064,  3920, 54432,  5376])"
      ]
     },
     "execution_count": 21,
     "metadata": {},
     "output_type": "execute_result"
    }
   ],
   "source": [
    "z.prod(axis = 1)"
   ]
  },
  {
   "cell_type": "code",
   "execution_count": 23,
   "id": "62ae2887-f6c7-4db0-8aac-3560ac61f482",
   "metadata": {},
   "outputs": [
    {
     "data": {
      "text/plain": [
       "array([[ 7,  2,  4,  9,  4,  4],\n",
       "       [ 8,  9, 12, 11,  9, 11],\n",
       "       [14, 16, 21, 13, 18, 19],\n",
       "       [16, 23, 22, 21, 24, 27]])"
      ]
     },
     "execution_count": 23,
     "metadata": {},
     "output_type": "execute_result"
    }
   ],
   "source": [
    "z.cumsum(axis = 0)"
   ]
  },
  {
   "cell_type": "code",
   "execution_count": 24,
   "id": "9935bd6e-923a-4c9d-afe7-53d9f0f98607",
   "metadata": {},
   "outputs": [
    {
     "data": {
      "text/plain": [
       "array([[ 7,  2,  4,  9,  4,  4],\n",
       "       [ 8,  9, 12, 11,  9, 11],\n",
       "       [14, 16, 21, 13, 18, 19],\n",
       "       [16, 23, 22, 21, 24, 27]])"
      ]
     },
     "execution_count": 24,
     "metadata": {},
     "output_type": "execute_result"
    }
   ],
   "source": [
    "z.cumsum(axis = 0)"
   ]
  },
  {
   "cell_type": "code",
   "execution_count": 25,
   "id": "521ced0f-3db3-4d1a-952e-4063eb40e138",
   "metadata": {},
   "outputs": [
    {
     "data": {
      "text/plain": [
       "np.int32(1)"
      ]
     },
     "execution_count": 25,
     "metadata": {},
     "output_type": "execute_result"
    }
   ],
   "source": [
    "z.min()"
   ]
  },
  {
   "cell_type": "code",
   "execution_count": 26,
   "id": "1ad5622d-f597-4d7d-a551-2ff02ea21700",
   "metadata": {},
   "outputs": [
    {
     "data": {
      "text/plain": [
       "array([2, 1, 2, 1], dtype=int32)"
      ]
     },
     "execution_count": 26,
     "metadata": {},
     "output_type": "execute_result"
    }
   ],
   "source": [
    "z.min(axis=1)"
   ]
  },
  {
   "cell_type": "code",
   "execution_count": 27,
   "id": "7271f0db-8421-4fda-a7c6-26b75d4d1bda",
   "metadata": {},
   "outputs": [
    {
     "data": {
      "text/plain": [
       "array([7, 7, 9, 9, 9, 8], dtype=int32)"
      ]
     },
     "execution_count": 27,
     "metadata": {},
     "output_type": "execute_result"
    }
   ],
   "source": [
    "z.max(axis=0)"
   ]
  },
  {
   "cell_type": "code",
   "execution_count": 29,
   "id": "3180288b-df41-45bb-b467-2d512205c054",
   "metadata": {},
   "outputs": [
    {
     "data": {
      "text/plain": [
       "array([3, 2, 2, 3])"
      ]
     },
     "execution_count": 29,
     "metadata": {},
     "output_type": "execute_result"
    }
   ],
   "source": [
    "z.argmax(axis=1)"
   ]
  },
  {
   "cell_type": "code",
   "execution_count": 30,
   "id": "37590ee2-4d15-46e5-9304-05e00084c3d8",
   "metadata": {},
   "outputs": [
    {
     "data": {
      "text/plain": [
       "array([1, 0, 3, 2])"
      ]
     },
     "execution_count": 30,
     "metadata": {},
     "output_type": "execute_result"
    }
   ],
   "source": [
    "z.argmin(axis=1)"
   ]
  },
  {
   "cell_type": "code",
   "execution_count": 31,
   "id": "dc95f325-abc5-4fd7-bce8-b7b1e930dfe9",
   "metadata": {},
   "outputs": [
    {
     "data": {
      "text/plain": [
       "array([[7, 2, 4, 9, 4, 4],\n",
       "       [1, 7, 8, 2, 5, 7],\n",
       "       [6, 7, 9, 2, 9, 8],\n",
       "       [2, 7, 1, 8, 6, 8]], dtype=int32)"
      ]
     },
     "execution_count": 31,
     "metadata": {},
     "output_type": "execute_result"
    }
   ],
   "source": [
    "z"
   ]
  },
  {
   "cell_type": "code",
   "execution_count": 32,
   "id": "a2175a47-69e0-41cb-8508-7d4aa0018cb5",
   "metadata": {},
   "outputs": [
    {
     "data": {
      "text/plain": [
       "array([[7, 5, 5, 9, 5, 5],\n",
       "       [5, 7, 8, 5, 5, 7],\n",
       "       [6, 7, 9, 5, 9, 8],\n",
       "       [5, 7, 5, 8, 6, 8]], dtype=int32)"
      ]
     },
     "execution_count": 32,
     "metadata": {},
     "output_type": "execute_result"
    }
   ],
   "source": [
    "z.clip(5,10)"
   ]
  },
  {
   "cell_type": "code",
   "execution_count": null,
   "id": "94b3edd4-3c1a-4fb1-bed0-591ea139e99d",
   "metadata": {},
   "outputs": [],
   "source": []
  }
 ],
 "metadata": {
  "kernelspec": {
   "display_name": "Python 3 (ipykernel)",
   "language": "python",
   "name": "python3"
  },
  "language_info": {
   "codemirror_mode": {
    "name": "ipython",
    "version": 3
   },
   "file_extension": ".py",
   "mimetype": "text/x-python",
   "name": "python",
   "nbconvert_exporter": "python",
   "pygments_lexer": "ipython3",
   "version": "3.13.5"
  }
 },
 "nbformat": 4,
 "nbformat_minor": 5
}
