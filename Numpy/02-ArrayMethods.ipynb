{
 "cells": [
  {
   "cell_type": "code",
   "execution_count": 1,
   "id": "fe7eb6dc-31fb-4b00-af78-5437710c5ae0",
   "metadata": {},
   "outputs": [],
   "source": [
    "import numpy as np"
   ]
  },
  {
   "cell_type": "code",
   "execution_count": 3,
   "id": "da1de2bb-05e9-417d-9ba8-304ff0545e53",
   "metadata": {},
   "outputs": [
    {
     "data": {
      "text/plain": [
       "array([[[25, 30, 19],\n",
       "        [23, 24, 14]],\n",
       "\n",
       "       [[19, 11, 10],\n",
       "        [14, 32, 28]],\n",
       "\n",
       "       [[16, 38, 41],\n",
       "        [36, 45, 44]],\n",
       "\n",
       "       [[11, 39, 17],\n",
       "        [21, 11, 42]],\n",
       "\n",
       "       [[38, 19, 41],\n",
       "        [11, 44, 13]]], dtype=int32)"
      ]
     },
     "execution_count": 3,
     "metadata": {},
     "output_type": "execute_result"
    }
   ],
   "source": [
    "a = np.random.randint(10,50,(5,2,3))\n",
    "a"
   ]
  },
  {
   "cell_type": "code",
   "execution_count": 4,
   "id": "1a5c0730-4eb3-452d-b905-f151615bd0fc",
   "metadata": {},
   "outputs": [
    {
     "data": {
      "text/plain": [
       "(5, 2, 3)"
      ]
     },
     "execution_count": 4,
     "metadata": {},
     "output_type": "execute_result"
    }
   ],
   "source": [
    "a.shape"
   ]
  },
  {
   "cell_type": "code",
   "execution_count": 5,
   "id": "d06c4d49-e4da-4efb-a0fe-9a4242d28e5b",
   "metadata": {},
   "outputs": [
    {
     "data": {
      "text/plain": [
       "3"
      ]
     },
     "execution_count": 5,
     "metadata": {},
     "output_type": "execute_result"
    }
   ],
   "source": [
    "a.ndim"
   ]
  },
  {
   "cell_type": "code",
   "execution_count": 6,
   "id": "007c7de8-e6d3-43e7-8253-3b99012c21a4",
   "metadata": {},
   "outputs": [
    {
     "data": {
      "text/plain": [
       "dtype('int32')"
      ]
     },
     "execution_count": 6,
     "metadata": {},
     "output_type": "execute_result"
    }
   ],
   "source": [
    "a.dtype"
   ]
  },
  {
   "cell_type": "code",
   "execution_count": 7,
   "id": "9eebd21c-2f7a-45a7-82de-56ad3017221c",
   "metadata": {},
   "outputs": [
    {
     "data": {
      "text/plain": [
       "30"
      ]
     },
     "execution_count": 7,
     "metadata": {},
     "output_type": "execute_result"
    }
   ],
   "source": [
    "a.size"
   ]
  },
  {
   "cell_type": "code",
   "execution_count": 8,
   "id": "5c00f539-0485-4b43-bda8-6e4142b50e09",
   "metadata": {},
   "outputs": [
    {
     "data": {
      "text/plain": [
       "array([[[25, 19, 16, 11, 38],\n",
       "        [23, 14, 36, 21, 11]],\n",
       "\n",
       "       [[30, 11, 38, 39, 19],\n",
       "        [24, 32, 45, 11, 44]],\n",
       "\n",
       "       [[19, 10, 41, 17, 41],\n",
       "        [14, 28, 44, 42, 13]]], dtype=int32)"
      ]
     },
     "execution_count": 8,
     "metadata": {},
     "output_type": "execute_result"
    }
   ],
   "source": [
    "a.T"
   ]
  },
  {
   "cell_type": "code",
   "execution_count": 9,
   "id": "20c96af9-2da5-49f0-8e81-a938ad653ed5",
   "metadata": {},
   "outputs": [
    {
     "data": {
      "text/plain": [
       "array([[[25, 30],\n",
       "        [19, 23],\n",
       "        [24, 14],\n",
       "        [19, 11],\n",
       "        [10, 14]],\n",
       "\n",
       "       [[32, 28],\n",
       "        [16, 38],\n",
       "        [41, 36],\n",
       "        [45, 44],\n",
       "        [11, 39]],\n",
       "\n",
       "       [[17, 21],\n",
       "        [11, 42],\n",
       "        [38, 19],\n",
       "        [41, 11],\n",
       "        [44, 13]]], dtype=int32)"
      ]
     },
     "execution_count": 9,
     "metadata": {},
     "output_type": "execute_result"
    }
   ],
   "source": [
    "a.reshape(3,5,2)"
   ]
  },
  {
   "cell_type": "code",
   "execution_count": 10,
   "id": "e95b369e-aadd-48ce-bfb9-14d686dfd8e7",
   "metadata": {},
   "outputs": [
    {
     "data": {
      "text/plain": [
       "array([[[25, 30],\n",
       "        [19, 23],\n",
       "        [24, 14],\n",
       "        [19, 11],\n",
       "        [10, 14]],\n",
       "\n",
       "       [[32, 28],\n",
       "        [16, 38],\n",
       "        [41, 36],\n",
       "        [45, 44],\n",
       "        [11, 39]],\n",
       "\n",
       "       [[17, 21],\n",
       "        [11, 42],\n",
       "        [38, 19],\n",
       "        [41, 11],\n",
       "        [44, 13]]], dtype=int32)"
      ]
     },
     "execution_count": 10,
     "metadata": {},
     "output_type": "execute_result"
    }
   ],
   "source": [
    "a.reshape(3,-1,2)"
   ]
  },
  {
   "cell_type": "code",
   "execution_count": 11,
   "id": "97b8285f-ff42-471b-b347-a321af7d702d",
   "metadata": {},
   "outputs": [
    {
     "data": {
      "text/plain": [
       "array([25, 30, 19, 23, 24, 14, 19, 11, 10, 14, 32, 28, 16, 38, 41, 36, 45,\n",
       "       44, 11, 39, 17, 21, 11, 42, 38, 19, 41, 11, 44, 13], dtype=int32)"
      ]
     },
     "execution_count": 11,
     "metadata": {},
     "output_type": "execute_result"
    }
   ],
   "source": [
    "a.ravel()"
   ]
  },
  {
   "cell_type": "code",
   "execution_count": 12,
   "id": "0dfb5a16-9af7-4c1e-9ba7-e9b639983b31",
   "metadata": {},
   "outputs": [
    {
     "data": {
      "text/plain": [
       "array([25, 30, 19, 23, 24, 14, 19, 11, 10, 14, 32, 28, 16, 38, 41, 36, 45,\n",
       "       44, 11, 39, 17, 21, 11, 42, 38, 19, 41, 11, 44, 13], dtype=int32)"
      ]
     },
     "execution_count": 12,
     "metadata": {},
     "output_type": "execute_result"
    }
   ],
   "source": [
    "a.flatten()"
   ]
  },
  {
   "cell_type": "code",
   "execution_count": 16,
   "id": "993e7c14-4ece-4a95-ade3-78945b117045",
   "metadata": {},
   "outputs": [
    {
     "data": {
      "text/plain": [
       "(array([[8, 1, 8],\n",
       "        [1, 2, 5]], dtype=int32),\n",
       " array([[3, 9, 9, 4],\n",
       "        [1, 8, 6, 7]], dtype=int32))"
      ]
     },
     "execution_count": 16,
     "metadata": {},
     "output_type": "execute_result"
    }
   ],
   "source": [
    "b = np.random.randint(1,10,(2,3))\n",
    "c = np.random.randint(1,10,(2,4))\n",
    "b, c"
   ]
  },
  {
   "cell_type": "code",
   "execution_count": 23,
   "id": "3f4833dd-6dcb-4d0f-b952-afca3c349e43",
   "metadata": {},
   "outputs": [
    {
     "data": {
      "text/plain": [
       "array([[8, 1, 8, 3, 9, 9, 4],\n",
       "       [1, 2, 5, 1, 8, 6, 7]], dtype=int32)"
      ]
     },
     "execution_count": 23,
     "metadata": {},
     "output_type": "execute_result"
    }
   ],
   "source": [
    "d = np.concatenate([b,c], axis=1)\n",
    "d"
   ]
  },
  {
   "cell_type": "code",
   "execution_count": 24,
   "id": "28b565d3-3735-4bff-bfb2-286b338d1875",
   "metadata": {},
   "outputs": [
    {
     "data": {
      "text/plain": [
       "array([[8, 1, 8, 3, 9, 9, 4],\n",
       "       [1, 2, 5, 1, 8, 6, 7]], dtype=int32)"
      ]
     },
     "execution_count": 24,
     "metadata": {},
     "output_type": "execute_result"
    }
   ],
   "source": [
    "np.hstack((b,c))"
   ]
  },
  {
   "cell_type": "code",
   "execution_count": 31,
   "id": "086fb672-489a-4e78-a375-2683e6b40626",
   "metadata": {},
   "outputs": [
    {
     "data": {
      "text/plain": [
       "[array([[8, 1, 8, 3, 9, 9, 4]], dtype=int32),\n",
       " array([[1, 2, 5, 1, 8, 6, 7]], dtype=int32)]"
      ]
     },
     "execution_count": 31,
     "metadata": {},
     "output_type": "execute_result"
    }
   ],
   "source": [
    "np.split(d,2,axis=0)"
   ]
  },
  {
   "cell_type": "code",
   "execution_count": null,
   "id": "1552e5d6-298c-4c49-b9e9-367adde70bb3",
   "metadata": {},
   "outputs": [],
   "source": []
  },
  {
   "cell_type": "code",
   "execution_count": null,
   "id": "c407a0b0-1271-4f0f-96e7-a07b881130cf",
   "metadata": {},
   "outputs": [],
   "source": []
  },
  {
   "cell_type": "code",
   "execution_count": null,
   "id": "4e8fff62-0869-4ae8-ba60-08735221fc8a",
   "metadata": {},
   "outputs": [],
   "source": []
  }
 ],
 "metadata": {
  "kernelspec": {
   "display_name": "Python 3 (ipykernel)",
   "language": "python",
   "name": "python3"
  },
  "language_info": {
   "codemirror_mode": {
    "name": "ipython",
    "version": 3
   },
   "file_extension": ".py",
   "mimetype": "text/x-python",
   "name": "python",
   "nbconvert_exporter": "python",
   "pygments_lexer": "ipython3",
   "version": "3.13.5"
  }
 },
 "nbformat": 4,
 "nbformat_minor": 5
}
