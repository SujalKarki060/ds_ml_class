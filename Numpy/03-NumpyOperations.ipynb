{
 "cells": [
  {
   "cell_type": "code",
   "execution_count": 1,
   "id": "c7023600-2f05-4fdb-a5fc-d440fd8b0a6e",
   "metadata": {},
   "outputs": [],
   "source": [
    "import numpy as np"
   ]
  },
  {
   "cell_type": "code",
   "execution_count": 15,
   "id": "05121fd6-0f24-49e7-96bf-7ffd69293d89",
   "metadata": {},
   "outputs": [
    {
     "data": {
      "text/plain": [
       "(array([[4, 5, 6],\n",
       "        [5, 7, 9]]),\n",
       " array([[3, 2, 1],\n",
       "        [9, 8, 1]]))"
      ]
     },
     "execution_count": 15,
     "metadata": {},
     "output_type": "execute_result"
    }
   ],
   "source": [
    "a = np.array([[4,5,6],\n",
    "             [5,7,9]])\n",
    "b = np.array([[3,2,1],\n",
    "             [9,8,1]])\n",
    "a,b"
   ]
  },
  {
   "cell_type": "code",
   "execution_count": 16,
   "id": "d0dfcb51-9b23-4fa9-91e4-d5711e6d950b",
   "metadata": {},
   "outputs": [
    {
     "data": {
      "text/plain": [
       "array([[ 7,  7,  7],\n",
       "       [14, 15, 10]])"
      ]
     },
     "execution_count": 16,
     "metadata": {},
     "output_type": "execute_result"
    }
   ],
   "source": [
    "np.add(a,b)"
   ]
  },
  {
   "cell_type": "code",
   "execution_count": 17,
   "id": "eaf8a5b2-4e2a-43e6-b7f0-3cf9b2ac9611",
   "metadata": {},
   "outputs": [
    {
     "data": {
      "text/plain": [
       "array([[ 1,  3,  5],\n",
       "       [-4, -1,  8]])"
      ]
     },
     "execution_count": 17,
     "metadata": {},
     "output_type": "execute_result"
    }
   ],
   "source": [
    "np.subtract(a,b)"
   ]
  },
  {
   "cell_type": "code",
   "execution_count": 18,
   "id": "f7190998-2427-4671-91af-875328c9e442",
   "metadata": {},
   "outputs": [
    {
     "data": {
      "text/plain": [
       "array([[12, 10,  6],\n",
       "       [45, 56,  9]])"
      ]
     },
     "execution_count": 18,
     "metadata": {},
     "output_type": "execute_result"
    }
   ],
   "source": [
    "np.multiply(a,b)"
   ]
  },
  {
   "cell_type": "code",
   "execution_count": 19,
   "id": "696f054b-d7fb-461e-9a6b-8f13b206c43c",
   "metadata": {},
   "outputs": [
    {
     "data": {
      "text/plain": [
       "array([[16, 25, 36],\n",
       "       [25, 49, 81]])"
      ]
     },
     "execution_count": 19,
     "metadata": {},
     "output_type": "execute_result"
    }
   ],
   "source": [
    "np.square(a)"
   ]
  },
  {
   "cell_type": "code",
   "execution_count": 20,
   "id": "cde0e15a-6bc1-49c5-8b67-59dd2bd06f3c",
   "metadata": {},
   "outputs": [
    {
     "data": {
      "text/plain": [
       "array([[16, 25, 36],\n",
       "       [25, 49, 81]])"
      ]
     },
     "execution_count": 20,
     "metadata": {},
     "output_type": "execute_result"
    }
   ],
   "source": [
    "np.power(a,2)"
   ]
  },
  {
   "cell_type": "code",
   "execution_count": 23,
   "id": "e2b9f7e8-0756-4b19-bb98-9779fb6c31aa",
   "metadata": {},
   "outputs": [],
   "source": [
    "quo,rem = np.divmod(a,b)"
   ]
  },
  {
   "cell_type": "code",
   "execution_count": 24,
   "id": "6eabde54-ae9c-4cff-bb4a-2fa4f1e2de5a",
   "metadata": {},
   "outputs": [
    {
     "data": {
      "text/plain": [
       "array([[1, 2, 6],\n",
       "       [0, 0, 9]])"
      ]
     },
     "execution_count": 24,
     "metadata": {},
     "output_type": "execute_result"
    }
   ],
   "source": [
    "quo"
   ]
  },
  {
   "cell_type": "code",
   "execution_count": 25,
   "id": "e00ced47-39bc-46f0-aed9-d4ddaf43e380",
   "metadata": {},
   "outputs": [
    {
     "data": {
      "text/plain": [
       "array([[1, 1, 0],\n",
       "       [5, 7, 0]])"
      ]
     },
     "execution_count": 25,
     "metadata": {},
     "output_type": "execute_result"
    }
   ],
   "source": [
    "rem"
   ]
  },
  {
   "cell_type": "code",
   "execution_count": 28,
   "id": "6df6a09d-171a-41e2-9e85-94ec2f24cfd3",
   "metadata": {},
   "outputs": [],
   "source": [
    "c = np.sqrt(a)"
   ]
  },
  {
   "cell_type": "code",
   "execution_count": 29,
   "id": "cf722ee2-516a-4e1a-ba77-513bd8b377f8",
   "metadata": {},
   "outputs": [
    {
     "data": {
      "text/plain": [
       "array([[2.        , 2.23606798, 2.44948974],\n",
       "       [2.23606798, 2.64575131, 3.        ]])"
      ]
     },
     "execution_count": 29,
     "metadata": {},
     "output_type": "execute_result"
    }
   ],
   "source": [
    "c"
   ]
  },
  {
   "cell_type": "code",
   "execution_count": 30,
   "id": "e19c1035-715b-4520-ba8f-1af6663c5deb",
   "metadata": {},
   "outputs": [
    {
     "data": {
      "text/plain": [
       "array([[2., 3., 3.],\n",
       "       [3., 3., 3.]])"
      ]
     },
     "execution_count": 30,
     "metadata": {},
     "output_type": "execute_result"
    }
   ],
   "source": [
    "np.ceil(c)"
   ]
  },
  {
   "cell_type": "code",
   "execution_count": 31,
   "id": "7de77b0f-68e1-49ac-8c5d-0767c153b9bc",
   "metadata": {},
   "outputs": [
    {
     "data": {
      "text/plain": [
       "array([[2., 2., 2.],\n",
       "       [2., 2., 3.]])"
      ]
     },
     "execution_count": 31,
     "metadata": {},
     "output_type": "execute_result"
    }
   ],
   "source": [
    "np.floor(c)"
   ]
  },
  {
   "cell_type": "code",
   "execution_count": 32,
   "id": "8ff15a2b-f1b5-49bd-81d8-c2e409a7bdbb",
   "metadata": {},
   "outputs": [
    {
     "data": {
      "text/plain": [
       "array([[-0.7568025 , -0.95892427, -0.2794155 ],\n",
       "       [-0.95892427,  0.6569866 ,  0.41211849]])"
      ]
     },
     "execution_count": 32,
     "metadata": {},
     "output_type": "execute_result"
    }
   ],
   "source": [
    "np.sin(a)"
   ]
  },
  {
   "cell_type": "code",
   "execution_count": 41,
   "id": "7f39e091-1ef6-458b-b9fc-a10eaaf7fab2",
   "metadata": {},
   "outputs": [
    {
     "data": {
      "text/plain": [
       "array([[-7.01525255, -0.45765755,  0.64209262],\n",
       "       [-2.21084541, -0.14706506,  0.64209262]])"
      ]
     },
     "execution_count": 41,
     "metadata": {},
     "output_type": "execute_result"
    }
   ],
   "source": [
    "d = 1/np.tan(b)\n",
    "d"
   ]
  },
  {
   "cell_type": "code",
   "execution_count": 38,
   "id": "8d8b4ad8-b935-48da-9a60-36cfa9846d7c",
   "metadata": {},
   "outputs": [
    {
     "data": {
      "text/plain": [
       "array([[-7.015, -0.458,  0.642],\n",
       "       [-2.211, -0.147,  0.642]])"
      ]
     },
     "execution_count": 38,
     "metadata": {},
     "output_type": "execute_result"
    }
   ],
   "source": [
    "np.round(d, decimals=3)"
   ]
  },
  {
   "cell_type": "code",
   "execution_count": 39,
   "id": "d293a3eb-a3a4-4b56-92fa-9875558dae7e",
   "metadata": {},
   "outputs": [
    {
     "data": {
      "text/plain": [
       "array([[-7.015, -0.458,  0.642],\n",
       "       [-2.211, -0.147,  0.642]])"
      ]
     },
     "execution_count": 39,
     "metadata": {},
     "output_type": "execute_result"
    }
   ],
   "source": [
    "np.around(d,decimals=3)"
   ]
  },
  {
   "cell_type": "code",
   "execution_count": 40,
   "id": "78a21a3a-e478-49e7-9542-aa5b62584779",
   "metadata": {},
   "outputs": [
    {
     "data": {
      "text/plain": [
       "array([[-7., -0.,  0.],\n",
       "       [-2., -0.,  0.]])"
      ]
     },
     "execution_count": 40,
     "metadata": {},
     "output_type": "execute_result"
    }
   ],
   "source": [
    "np.fix(d)"
   ]
  },
  {
   "cell_type": "code",
   "execution_count": null,
   "id": "a8d0dd04-54c2-4473-97a2-fcb33c045348",
   "metadata": {},
   "outputs": [],
   "source": []
  }
 ],
 "metadata": {
  "kernelspec": {
   "display_name": "Python 3 (ipykernel)",
   "language": "python",
   "name": "python3"
  },
  "language_info": {
   "codemirror_mode": {
    "name": "ipython",
    "version": 3
   },
   "file_extension": ".py",
   "mimetype": "text/x-python",
   "name": "python",
   "nbconvert_exporter": "python",
   "pygments_lexer": "ipython3",
   "version": "3.13.5"
  }
 },
 "nbformat": 4,
 "nbformat_minor": 5
}
