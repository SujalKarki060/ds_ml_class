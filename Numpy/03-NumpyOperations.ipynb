{
 "cells": [
  {
   "cell_type": "code",
   "execution_count": 1,
   "id": "c7023600-2f05-4fdb-a5fc-d440fd8b0a6e",
   "metadata": {},
   "outputs": [],
   "source": [
    "import numpy as np"
   ]
  },
  {
   "cell_type": "code",
   "execution_count": 2,
   "id": "05121fd6-0f24-49e7-96bf-7ffd69293d89",
   "metadata": {},
   "outputs": [
    {
     "data": {
      "text/plain": [
       "(array([[4, 5, 6],\n",
       "        [5, 7, 9]]),\n",
       " array([[3, 2, 1],\n",
       "        [9, 8, 1]]))"
      ]
     },
     "execution_count": 2,
     "metadata": {},
     "output_type": "execute_result"
    }
   ],
   "source": [
    "a = np.array([[4,5,6],\n",
    "             [5,7,9]])\n",
    "b = np.array([[3,2,1],\n",
    "             [9,8,1]])\n",
    "a,b"
   ]
  },
  {
   "cell_type": "code",
   "execution_count": 3,
   "id": "d0dfcb51-9b23-4fa9-91e4-d5711e6d950b",
   "metadata": {},
   "outputs": [
    {
     "data": {
      "text/plain": [
       "array([[ 7,  7,  7],\n",
       "       [14, 15, 10]])"
      ]
     },
     "execution_count": 3,
     "metadata": {},
     "output_type": "execute_result"
    }
   ],
   "source": [
    "np.add(a,b)"
   ]
  },
  {
   "cell_type": "code",
   "execution_count": 4,
   "id": "eaf8a5b2-4e2a-43e6-b7f0-3cf9b2ac9611",
   "metadata": {},
   "outputs": [
    {
     "data": {
      "text/plain": [
       "array([[ 1,  3,  5],\n",
       "       [-4, -1,  8]])"
      ]
     },
     "execution_count": 4,
     "metadata": {},
     "output_type": "execute_result"
    }
   ],
   "source": [
    "np.subtract(a,b)"
   ]
  },
  {
   "cell_type": "code",
   "execution_count": 5,
   "id": "f7190998-2427-4671-91af-875328c9e442",
   "metadata": {},
   "outputs": [
    {
     "data": {
      "text/plain": [
       "array([[12, 10,  6],\n",
       "       [45, 56,  9]])"
      ]
     },
     "execution_count": 5,
     "metadata": {},
     "output_type": "execute_result"
    }
   ],
   "source": [
    "np.multiply(a,b)"
   ]
  },
  {
   "cell_type": "code",
   "execution_count": 6,
   "id": "696f054b-d7fb-461e-9a6b-8f13b206c43c",
   "metadata": {},
   "outputs": [
    {
     "data": {
      "text/plain": [
       "array([[16, 25, 36],\n",
       "       [25, 49, 81]])"
      ]
     },
     "execution_count": 6,
     "metadata": {},
     "output_type": "execute_result"
    }
   ],
   "source": [
    "np.square(a)"
   ]
  },
  {
   "cell_type": "code",
   "execution_count": 7,
   "id": "cde0e15a-6bc1-49c5-8b67-59dd2bd06f3c",
   "metadata": {},
   "outputs": [
    {
     "data": {
      "text/plain": [
       "array([[16, 25, 36],\n",
       "       [25, 49, 81]])"
      ]
     },
     "execution_count": 7,
     "metadata": {},
     "output_type": "execute_result"
    }
   ],
   "source": [
    "np.power(a,2)"
   ]
  },
  {
   "cell_type": "code",
   "execution_count": 8,
   "id": "e2b9f7e8-0756-4b19-bb98-9779fb6c31aa",
   "metadata": {},
   "outputs": [],
   "source": [
    "quo,rem = np.divmod(a,b)"
   ]
  },
  {
   "cell_type": "code",
   "execution_count": 9,
   "id": "6eabde54-ae9c-4cff-bb4a-2fa4f1e2de5a",
   "metadata": {},
   "outputs": [
    {
     "data": {
      "text/plain": [
       "array([[1, 2, 6],\n",
       "       [0, 0, 9]])"
      ]
     },
     "execution_count": 9,
     "metadata": {},
     "output_type": "execute_result"
    }
   ],
   "source": [
    "quo"
   ]
  },
  {
   "cell_type": "code",
   "execution_count": 10,
   "id": "e00ced47-39bc-46f0-aed9-d4ddaf43e380",
   "metadata": {},
   "outputs": [
    {
     "data": {
      "text/plain": [
       "array([[1, 1, 0],\n",
       "       [5, 7, 0]])"
      ]
     },
     "execution_count": 10,
     "metadata": {},
     "output_type": "execute_result"
    }
   ],
   "source": [
    "rem"
   ]
  },
  {
   "cell_type": "code",
   "execution_count": 11,
   "id": "6df6a09d-171a-41e2-9e85-94ec2f24cfd3",
   "metadata": {},
   "outputs": [],
   "source": [
    "c = np.sqrt(a)"
   ]
  },
  {
   "cell_type": "code",
   "execution_count": 12,
   "id": "cf722ee2-516a-4e1a-ba77-513bd8b377f8",
   "metadata": {},
   "outputs": [
    {
     "data": {
      "text/plain": [
       "array([[2.        , 2.23606798, 2.44948974],\n",
       "       [2.23606798, 2.64575131, 3.        ]])"
      ]
     },
     "execution_count": 12,
     "metadata": {},
     "output_type": "execute_result"
    }
   ],
   "source": [
    "c"
   ]
  },
  {
   "cell_type": "code",
   "execution_count": 13,
   "id": "e19c1035-715b-4520-ba8f-1af6663c5deb",
   "metadata": {},
   "outputs": [
    {
     "data": {
      "text/plain": [
       "array([[2., 3., 3.],\n",
       "       [3., 3., 3.]])"
      ]
     },
     "execution_count": 13,
     "metadata": {},
     "output_type": "execute_result"
    }
   ],
   "source": [
    "np.ceil(c)"
   ]
  },
  {
   "cell_type": "code",
   "execution_count": 14,
   "id": "7de77b0f-68e1-49ac-8c5d-0767c153b9bc",
   "metadata": {},
   "outputs": [
    {
     "data": {
      "text/plain": [
       "array([[2., 2., 2.],\n",
       "       [2., 2., 3.]])"
      ]
     },
     "execution_count": 14,
     "metadata": {},
     "output_type": "execute_result"
    }
   ],
   "source": [
    "np.floor(c)"
   ]
  },
  {
   "cell_type": "code",
   "execution_count": 15,
   "id": "8ff15a2b-f1b5-49bd-81d8-c2e409a7bdbb",
   "metadata": {},
   "outputs": [
    {
     "data": {
      "text/plain": [
       "array([[-0.7568025 , -0.95892427, -0.2794155 ],\n",
       "       [-0.95892427,  0.6569866 ,  0.41211849]])"
      ]
     },
     "execution_count": 15,
     "metadata": {},
     "output_type": "execute_result"
    }
   ],
   "source": [
    "np.sin(a)"
   ]
  },
  {
   "cell_type": "code",
   "execution_count": 16,
   "id": "7f39e091-1ef6-458b-b9fc-a10eaaf7fab2",
   "metadata": {},
   "outputs": [
    {
     "data": {
      "text/plain": [
       "array([[-7.01525255, -0.45765755,  0.64209262],\n",
       "       [-2.21084541, -0.14706506,  0.64209262]])"
      ]
     },
     "execution_count": 16,
     "metadata": {},
     "output_type": "execute_result"
    }
   ],
   "source": [
    "d = 1/np.tan(b)\n",
    "d"
   ]
  },
  {
   "cell_type": "code",
   "execution_count": 17,
   "id": "8d8b4ad8-b935-48da-9a60-36cfa9846d7c",
   "metadata": {},
   "outputs": [
    {
     "data": {
      "text/plain": [
       "array([[-7.015, -0.458,  0.642],\n",
       "       [-2.211, -0.147,  0.642]])"
      ]
     },
     "execution_count": 17,
     "metadata": {},
     "output_type": "execute_result"
    }
   ],
   "source": [
    "np.round(d, decimals=3)"
   ]
  },
  {
   "cell_type": "code",
   "execution_count": 18,
   "id": "d293a3eb-a3a4-4b56-92fa-9875558dae7e",
   "metadata": {},
   "outputs": [
    {
     "data": {
      "text/plain": [
       "array([[-7.015, -0.458,  0.642],\n",
       "       [-2.211, -0.147,  0.642]])"
      ]
     },
     "execution_count": 18,
     "metadata": {},
     "output_type": "execute_result"
    }
   ],
   "source": [
    "np.around(d,decimals=3)"
   ]
  },
  {
   "cell_type": "code",
   "execution_count": 19,
   "id": "78a21a3a-e478-49e7-9542-aa5b62584779",
   "metadata": {},
   "outputs": [
    {
     "data": {
      "text/plain": [
       "array([[-7., -0.,  0.],\n",
       "       [-2., -0.,  0.]])"
      ]
     },
     "execution_count": 19,
     "metadata": {},
     "output_type": "execute_result"
    }
   ],
   "source": [
    "np.fix(d)"
   ]
  },
  {
   "cell_type": "code",
   "execution_count": 25,
   "id": "a8d0dd04-54c2-4473-97a2-fcb33c045348",
   "metadata": {},
   "outputs": [
    {
     "data": {
      "text/plain": [
       "(array([[1, 2, 3],\n",
       "        [4, 5, 6]]),\n",
       " array([[[3, 1, 8],\n",
       "         [7, 1, 9],\n",
       "         [0, 7, 9]],\n",
       " \n",
       "        [[3, 7, 2],\n",
       "         [7, 0, 9],\n",
       "         [9, 6, 3]]], dtype=int32))"
      ]
     },
     "execution_count": 25,
     "metadata": {},
     "output_type": "execute_result"
    }
   ],
   "source": [
    "a = np.array([[1,2,3],\n",
    "             [4,5,6]])\n",
    "b=np.random.randint(0,10,(2,3,3))\n",
    "a,b"
   ]
  },
  {
   "cell_type": "code",
   "execution_count": 26,
   "id": "55a186ea-351c-47fa-a8eb-493ec58e6069",
   "metadata": {},
   "outputs": [
    {
     "data": {
      "text/plain": [
       "array([[[ 17,  24,  53],\n",
       "        [ 44,  25,  29]],\n",
       "\n",
       "       [[ 47,  51, 131],\n",
       "        [101,  64,  71]]])"
      ]
     },
     "execution_count": 26,
     "metadata": {},
     "output_type": "execute_result"
    }
   ],
   "source": [
    "np.dot(a,b)"
   ]
  },
  {
   "cell_type": "code",
   "execution_count": 27,
   "id": "a153de24-498a-470a-b544-099f03056f05",
   "metadata": {},
   "outputs": [
    {
     "data": {
      "text/plain": [
       "array([[1, 4],\n",
       "       [2, 5],\n",
       "       [3, 6]])"
      ]
     },
     "execution_count": 27,
     "metadata": {},
     "output_type": "execute_result"
    }
   ],
   "source": [
    "np.transpose(a)"
   ]
  },
  {
   "cell_type": "code",
   "execution_count": 29,
   "id": "0f4c253f-e789-4bd8-a5f2-ff87333e0982",
   "metadata": {},
   "outputs": [
    {
     "data": {
      "text/plain": [
       "array([10,  1, 17])"
      ]
     },
     "execution_count": 29,
     "metadata": {},
     "output_type": "execute_result"
    }
   ],
   "source": [
    "np.trace(b)"
   ]
  },
  {
   "cell_type": "code",
   "execution_count": 31,
   "id": "54f87039-98cf-4360-b740-aa19125b9b93",
   "metadata": {},
   "outputs": [
    {
     "data": {
      "text/plain": [
       "array([167., 342.])"
      ]
     },
     "execution_count": 31,
     "metadata": {},
     "output_type": "execute_result"
    }
   ],
   "source": [
    "np.linalg.det(b)"
   ]
  },
  {
   "cell_type": "code",
   "execution_count": 32,
   "id": "ab9fe7be-75bd-4b91-b20e-9a26be200e36",
   "metadata": {},
   "outputs": [
    {
     "data": {
      "text/plain": [
       "array([[[-0.32335329,  0.28143713,  0.00598802],\n",
       "        [-0.37724551,  0.16167665,  0.17365269],\n",
       "        [ 0.29341317, -0.1257485 , -0.0239521 ]],\n",
       "\n",
       "       [[-0.15789474, -0.02631579,  0.18421053],\n",
       "        [ 0.1754386 , -0.02631579, -0.0380117 ],\n",
       "        [ 0.12280702,  0.13157895, -0.14327485]]])"
      ]
     },
     "execution_count": 32,
     "metadata": {},
     "output_type": "execute_result"
    }
   ],
   "source": [
    "np.linalg.inv(b)"
   ]
  },
  {
   "cell_type": "code",
   "execution_count": 33,
   "id": "aac85389-819e-4d7f-801a-c8560c996bbb",
   "metadata": {},
   "outputs": [
    {
     "data": {
      "text/plain": [
       "array([[[[ 1.,  0.,  0.],\n",
       "         [ 1.,  1., -1.]],\n",
       "\n",
       "        [[ 0.,  1.,  0.],\n",
       "         [ 0.,  1., -0.]],\n",
       "\n",
       "        [[ 0., -0.,  1.],\n",
       "         [ 2.,  1., -2.]]],\n",
       "\n",
       "\n",
       "       [[[-3.,  2.,  1.],\n",
       "         [ 1.,  0., -0.]],\n",
       "\n",
       "        [[ 0.,  1., -0.],\n",
       "         [ 0.,  1.,  0.]],\n",
       "\n",
       "        [[-4.,  3.,  1.],\n",
       "         [ 0.,  0.,  1.]]]])"
      ]
     },
     "execution_count": 33,
     "metadata": {},
     "output_type": "execute_result"
    }
   ],
   "source": [
    "np.dot(b, np.linalg.inv(b)).round()"
   ]
  },
  {
   "cell_type": "code",
   "execution_count": 41,
   "id": "a5fab682-a809-4adb-8075-5b1a36614742",
   "metadata": {},
   "outputs": [],
   "source": [
    "a=np.array([[1,2],[3,5]])\n",
    "b= np.array([1,2])"
   ]
  },
  {
   "cell_type": "code",
   "execution_count": 42,
   "id": "12bb1ad7-2d1d-4474-a3c3-4dfc471f0cc6",
   "metadata": {},
   "outputs": [
    {
     "data": {
      "text/plain": [
       "array([-1.,  1.])"
      ]
     },
     "execution_count": 42,
     "metadata": {},
     "output_type": "execute_result"
    }
   ],
   "source": [
    "x = np.linalg.solve(a,b)\n",
    "x"
   ]
  },
  {
   "cell_type": "code",
   "execution_count": 43,
   "id": "3f82cf9a-9179-4fc4-b455-450fd7fa76ab",
   "metadata": {},
   "outputs": [
    {
     "data": {
      "text/plain": [
       "array([1., 2.])"
      ]
     },
     "execution_count": 43,
     "metadata": {},
     "output_type": "execute_result"
    }
   ],
   "source": [
    "np.dot(a,x)"
   ]
  },
  {
   "cell_type": "code",
   "execution_count": null,
   "id": "3c6949f9-1b7e-403c-ae46-97490f3a1afd",
   "metadata": {},
   "outputs": [],
   "source": []
  },
  {
   "cell_type": "code",
   "execution_count": null,
   "id": "2af6a1fe-c804-40fd-bb7d-e240cdd96214",
   "metadata": {},
   "outputs": [],
   "source": []
  },
  {
   "cell_type": "code",
   "execution_count": null,
   "id": "fcdbc0d5-585e-4c07-bc39-0aa88c1537db",
   "metadata": {},
   "outputs": [],
   "source": []
  },
  {
   "cell_type": "code",
   "execution_count": null,
   "id": "f4af84e9-1cf9-404d-9cbd-faeab5e139a6",
   "metadata": {},
   "outputs": [],
   "source": []
  }
 ],
 "metadata": {
  "kernelspec": {
   "display_name": "Python 3 (ipykernel)",
   "language": "python",
   "name": "python3"
  },
  "language_info": {
   "codemirror_mode": {
    "name": "ipython",
    "version": 3
   },
   "file_extension": ".py",
   "mimetype": "text/x-python",
   "name": "python",
   "nbconvert_exporter": "python",
   "pygments_lexer": "ipython3",
   "version": "3.13.5"
  }
 },
 "nbformat": 4,
 "nbformat_minor": 5
}
