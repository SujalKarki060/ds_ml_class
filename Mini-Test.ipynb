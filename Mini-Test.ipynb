{
 "cells": [
  {
   "cell_type": "code",
   "execution_count": 4,
   "id": "ffea4bb4-5a17-4d0b-b618-ab0ca57a3b32",
   "metadata": {},
   "outputs": [
    {
     "name": "stdout",
     "output_type": "stream",
     "text": [
      "[2, 4, 6]\n"
     ]
    }
   ],
   "source": [
    "def filter_even_numbers(numbers):\n",
    "    return [num for num in numbers if num % 2 == 0]\n",
    "\n",
    "print(filter_even_numbers([1, 2, 3, 4, 5, 6]))\n"
   ]
  },
  {
   "cell_type": "code",
   "execution_count": 6,
   "id": "ff845627-eb9c-4971-9370-b2af0428a507",
   "metadata": {},
   "outputs": [
    {
     "name": "stdout",
     "output_type": "stream",
     "text": [
      "{'a': 3, 'e': 0, 'i': 4, 'o': 0, 'u': 0}\n"
     ]
    }
   ],
   "source": [
    "def count_vowels(sentence):\n",
    "    return {vowel: sentence.lower().count(vowel) for vowel in 'aeiou'}\n",
    "\n",
    "print(count_vowels(\"Skill Shikshya is amazing\"))\n"
   ]
  },
  {
   "cell_type": "code",
   "execution_count": 30,
   "id": "8a343989-ec64-48b1-8f26-03a05e26407d",
   "metadata": {},
   "outputs": [
    {
     "name": "stdout",
     "output_type": "stream",
     "text": [
      "Deposited: 5000\n"
     ]
    },
    {
     "ename": "ValueError",
     "evalue": "Insufficient Funds",
     "output_type": "error",
     "traceback": [
      "\u001b[31m---------------------------------------------------------------------------\u001b[39m",
      "\u001b[31mValueError\u001b[39m                                Traceback (most recent call last)",
      "\u001b[36mCell\u001b[39m\u001b[36m \u001b[39m\u001b[32mIn[30]\u001b[39m\u001b[32m, line 27\u001b[39m\n\u001b[32m     25\u001b[39m account = BankAccount()\n\u001b[32m     26\u001b[39m account.deposit(\u001b[32m5000\u001b[39m)\n\u001b[32m---> \u001b[39m\u001b[32m27\u001b[39m \u001b[43maccount\u001b[49m\u001b[43m.\u001b[49m\u001b[43mwithdraw\u001b[49m\u001b[43m(\u001b[49m\u001b[32;43m8000\u001b[39;49m\u001b[43m)\u001b[49m\n\u001b[32m     28\u001b[39m \u001b[38;5;28mprint\u001b[39m(\u001b[33m\"\u001b[39m\u001b[33mCurrent balance:\u001b[39m\u001b[33m\"\u001b[39m, account.balance)\n",
      "\u001b[36mCell\u001b[39m\u001b[36m \u001b[39m\u001b[32mIn[30]\u001b[39m\u001b[32m, line 18\u001b[39m, in \u001b[36mBankAccount.withdraw\u001b[39m\u001b[34m(self, amount)\u001b[39m\n\u001b[32m     16\u001b[39m     \u001b[38;5;28;01mreturn\u001b[39;00m \u001b[38;5;28mself\u001b[39m\n\u001b[32m     17\u001b[39m \u001b[38;5;28;01mif\u001b[39;00m amount > \u001b[38;5;28mself\u001b[39m.balance:\n\u001b[32m---> \u001b[39m\u001b[32m18\u001b[39m     \u001b[38;5;28;01mraise\u001b[39;00m \u001b[38;5;167;01mValueError\u001b[39;00m(\u001b[33m\"\u001b[39m\u001b[33mInsufficient Funds\u001b[39m\u001b[33m\"\u001b[39m)\n\u001b[32m     19\u001b[39m     \u001b[38;5;28;01mreturn\u001b[39;00m \u001b[38;5;28mself\u001b[39m\n\u001b[32m     20\u001b[39m \u001b[38;5;28mself\u001b[39m.balance -= amount\n",
      "\u001b[31mValueError\u001b[39m: Insufficient Funds"
     ]
    }
   ],
   "source": [
    "class BankAccount:\n",
    "    def __init__(self, balance=0):\n",
    "        self.balance = balance\n",
    "\n",
    "    def deposit(self, amount):\n",
    "        if amount <= 0:\n",
    "            print(\"Deposit amount must be positive.\")\n",
    "            return self\n",
    "        self.balance += amount\n",
    "        print(f\"Deposited: {amount}\")\n",
    "        return self\n",
    "\n",
    "    def withdraw(self, amount):\n",
    "        if amount <= 0:\n",
    "            print(\"Withdrawal amount must be positive.\")\n",
    "            return self\n",
    "        if amount > self.balance:\n",
    "            raise ValueError(\"Insufficient Funds\")\n",
    "            return self\n",
    "        self.balance -= amount\n",
    "        print(f\"Withdrawn: {amount}\")\n",
    "        return self\n",
    "\n",
    "\n",
    "account = BankAccount()\n",
    "account.deposit(5000)\n",
    "account.withdraw(8000)\n",
    "print(\"Current balance:\", account.balance)\n"
   ]
  },
  {
   "cell_type": "code",
   "execution_count": 17,
   "id": "a77e2272-818b-4201-9c85-36de1bbea29b",
   "metadata": {},
   "outputs": [
    {
     "name": "stdout",
     "output_type": "stream",
     "text": [
      "10\n",
      "12\n"
     ]
    }
   ],
   "source": [
    "def custom_sum(*args, **kwargs):\n",
    "    total = sum(args)\n",
    "    if kwargs.get('double', False):\n",
    "        return 2 * total\n",
    "    return total\n",
    "\n",
    "print(custom_sum(1, 2, 3, 4))           \n",
    "print(custom_sum(1, 2, 3, double=True)) \n"
   ]
  },
  {
   "cell_type": "code",
   "execution_count": 9,
   "id": "c0239c44-e334-470b-8957-d590bc1b4ab1",
   "metadata": {},
   "outputs": [],
   "source": []
  },
  {
   "cell_type": "code",
   "execution_count": null,
   "id": "9debd99a-b996-4ebe-b589-f0229298e674",
   "metadata": {},
   "outputs": [],
   "source": []
  }
 ],
 "metadata": {
  "kernelspec": {
   "display_name": "Python 3 (ipykernel)",
   "language": "python",
   "name": "python3"
  },
  "language_info": {
   "codemirror_mode": {
    "name": "ipython",
    "version": 3
   },
   "file_extension": ".py",
   "mimetype": "text/x-python",
   "name": "python",
   "nbconvert_exporter": "python",
   "pygments_lexer": "ipython3",
   "version": "3.13.5"
  }
 },
 "nbformat": 4,
 "nbformat_minor": 5
}
