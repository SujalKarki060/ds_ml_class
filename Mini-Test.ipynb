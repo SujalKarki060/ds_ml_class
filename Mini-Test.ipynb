{
 "cells": [
  {
   "cell_type": "code",
   "execution_count": 4,
   "id": "ffea4bb4-5a17-4d0b-b618-ab0ca57a3b32",
   "metadata": {},
   "outputs": [
    {
     "name": "stdout",
     "output_type": "stream",
     "text": [
      "[2, 4, 6]\n"
     ]
    }
   ],
   "source": [
    "def filter_even_numbers(numbers):\n",
    "    return [num for num in numbers if num % 2 == 0]\n",
    "\n",
    "print(filter_even_numbers([1, 2, 3, 4, 5, 6]))\n"
   ]
  },
  {
   "cell_type": "code",
   "execution_count": 6,
   "id": "ff845627-eb9c-4971-9370-b2af0428a507",
   "metadata": {},
   "outputs": [
    {
     "name": "stdout",
     "output_type": "stream",
     "text": [
      "{'a': 3, 'e': 0, 'i': 4, 'o': 0, 'u': 0}\n"
     ]
    }
   ],
   "source": [
    "def count_vowels(sentence):\n",
    "    return {vowel: sentence.lower().count(vowel) for vowel in 'aeiou'}\n",
    "\n",
    "print(count_vowels(\"Skill Shikshya is amazing\"))\n"
   ]
  },
  {
   "cell_type": "code",
   "execution_count": 31,
   "id": "8a343989-ec64-48b1-8f26-03a05e26407d",
   "metadata": {},
   "outputs": [
    {
     "name": "stdout",
     "output_type": "stream",
     "text": [
      "Deposited: 5000\n",
      "Error: Insufficient funds.\n",
      "Current balance: 5000\n"
     ]
    }
   ],
   "source": [
    "class BankAccount:\n",
    "    def __init__(self, balance=0):\n",
    "        self.balance = balance\n",
    "\n",
    "    def deposit(self, amount):\n",
    "        if amount <= 0:\n",
    "            raise ValueError(\"Deposit amount must be positive.\")\n",
    "        self.balance += amount\n",
    "        print(f\"Deposited: {amount}\")\n",
    "        return self\n",
    "\n",
    "    def withdraw(self, amount):\n",
    "        if amount <= 0:\n",
    "            raise ValueError(\"Withdrawal amount must be positive.\")\n",
    "        if amount > self.balance:\n",
    "            raise ValueError(\"Insufficient funds.\")\n",
    "        self.balance -= amount\n",
    "        print(f\"Withdrawn: {amount}\")\n",
    "        return self\n",
    "\n",
    "\n",
    "account = BankAccount()\n",
    "try:\n",
    "    account.deposit(5000).withdraw(8000)\n",
    "except ValueError as e:\n",
    "    print(\"Error:\", e)\n",
    "\n",
    "print(\"Current balance:\", account.balance)\n"
   ]
  },
  {
   "cell_type": "code",
   "execution_count": 17,
   "id": "a77e2272-818b-4201-9c85-36de1bbea29b",
   "metadata": {},
   "outputs": [
    {
     "name": "stdout",
     "output_type": "stream",
     "text": [
      "10\n",
      "12\n"
     ]
    }
   ],
   "source": [
    "def custom_sum(*args, **kwargs):\n",
    "    total = sum(args)\n",
    "    if kwargs.get('double', False):\n",
    "        return 2 * total\n",
    "    return total\n",
    "\n",
    "print(custom_sum(1, 2, 3, 4))           \n",
    "print(custom_sum(1, 2, 3, double=True)) \n"
   ]
  },
  {
   "cell_type": "code",
   "execution_count": 9,
   "id": "c0239c44-e334-470b-8957-d590bc1b4ab1",
   "metadata": {},
   "outputs": [],
   "source": []
  },
  {
   "cell_type": "code",
   "execution_count": null,
   "id": "9debd99a-b996-4ebe-b589-f0229298e674",
   "metadata": {},
   "outputs": [],
   "source": []
  }
 ],
 "metadata": {
  "kernelspec": {
   "display_name": "Python 3 (ipykernel)",
   "language": "python",
   "name": "python3"
  },
  "language_info": {
   "codemirror_mode": {
    "name": "ipython",
    "version": 3
   },
   "file_extension": ".py",
   "mimetype": "text/x-python",
   "name": "python",
   "nbconvert_exporter": "python",
   "pygments_lexer": "ipython3",
   "version": "3.13.5"
  }
 },
 "nbformat": 4,
 "nbformat_minor": 5
}
